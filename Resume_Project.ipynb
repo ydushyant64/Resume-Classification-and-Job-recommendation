{
 "cells": [
  {
   "cell_type": "code",
   "execution_count": 1,
   "id": "dd4001d1",
   "metadata": {},
   "outputs": [],
   "source": [
    "import numpy as np\n",
    "import pandas as pd\n",
    "import matplotlib.pyplot as plt\n",
    "import seaborn as sns"
   ]
  },
  {
   "cell_type": "code",
   "execution_count": 2,
   "id": "7f5bc96c",
   "metadata": {},
   "outputs": [
    {
     "data": {
      "text/html": [
       "<div>\n",
       "<style scoped>\n",
       "    .dataframe tbody tr th:only-of-type {\n",
       "        vertical-align: middle;\n",
       "    }\n",
       "\n",
       "    .dataframe tbody tr th {\n",
       "        vertical-align: top;\n",
       "    }\n",
       "\n",
       "    .dataframe thead th {\n",
       "        text-align: right;\n",
       "    }\n",
       "</style>\n",
       "<table border=\"1\" class=\"dataframe\">\n",
       "  <thead>\n",
       "    <tr style=\"text-align: right;\">\n",
       "      <th></th>\n",
       "      <th>Category</th>\n",
       "      <th>Resume</th>\n",
       "    </tr>\n",
       "  </thead>\n",
       "  <tbody>\n",
       "    <tr>\n",
       "      <th>0</th>\n",
       "      <td>Data Science</td>\n",
       "      <td>Skills * Programming Languages: Python (pandas...</td>\n",
       "    </tr>\n",
       "    <tr>\n",
       "      <th>1</th>\n",
       "      <td>Data Science</td>\n",
       "      <td>Education Details \\r\\nMay 2013 to May 2017 B.E...</td>\n",
       "    </tr>\n",
       "    <tr>\n",
       "      <th>2</th>\n",
       "      <td>Data Science</td>\n",
       "      <td>Areas of Interest Deep Learning, Control Syste...</td>\n",
       "    </tr>\n",
       "    <tr>\n",
       "      <th>3</th>\n",
       "      <td>Data Science</td>\n",
       "      <td>Skills â¢ R â¢ Python â¢ SAP HANA â¢ Table...</td>\n",
       "    </tr>\n",
       "    <tr>\n",
       "      <th>4</th>\n",
       "      <td>Data Science</td>\n",
       "      <td>Education Details \\r\\n MCA   YMCAUST,  Faridab...</td>\n",
       "    </tr>\n",
       "  </tbody>\n",
       "</table>\n",
       "</div>"
      ],
      "text/plain": [
       "       Category                                             Resume\n",
       "0  Data Science  Skills * Programming Languages: Python (pandas...\n",
       "1  Data Science  Education Details \\r\\nMay 2013 to May 2017 B.E...\n",
       "2  Data Science  Areas of Interest Deep Learning, Control Syste...\n",
       "3  Data Science  Skills â¢ R â¢ Python â¢ SAP HANA â¢ Table...\n",
       "4  Data Science  Education Details \\r\\n MCA   YMCAUST,  Faridab..."
      ]
     },
     "execution_count": 2,
     "metadata": {},
     "output_type": "execute_result"
    }
   ],
   "source": [
    "df = pd.read_csv('ResumeDataSet.csv')\n",
    "df.head()"
   ]
  },
  {
   "cell_type": "markdown",
   "metadata": {},
   "source": [
    "## Data Exploration"
   ]
  },
  {
   "cell_type": "code",
   "execution_count": 3,
   "id": "5cff7568",
   "metadata": {},
   "outputs": [
    {
     "data": {
      "text/plain": [
       "Category    0\n",
       "Resume      0\n",
       "dtype: int64"
      ]
     },
     "execution_count": 3,
     "metadata": {},
     "output_type": "execute_result"
    }
   ],
   "source": [
    "df.isnull().sum()"
   ]
  },
  {
   "cell_type": "code",
   "execution_count": 4,
   "id": "f95a6d9d",
   "metadata": {},
   "outputs": [
    {
     "name": "stdout",
     "output_type": "stream",
     "text": [
      "Shape of the dataset :  (962, 2) \n",
      "\n",
      "<class 'pandas.core.frame.DataFrame'>\n",
      "RangeIndex: 962 entries, 0 to 961\n",
      "Data columns (total 2 columns):\n",
      " #   Column    Non-Null Count  Dtype \n",
      "---  ------    --------------  ----- \n",
      " 0   Category  962 non-null    object\n",
      " 1   Resume    962 non-null    object\n",
      "dtypes: object(2)\n",
      "memory usage: 15.2+ KB\n",
      "None\n"
     ]
    }
   ],
   "source": [
    "print(\"Shape of the dataset : \",df.shape,\"\\n\")\n",
    "print(df.info())"
   ]
  },
  {
   "cell_type": "code",
   "execution_count": 10,
   "metadata": {},
   "outputs": [
    {
     "name": "stdout",
     "output_type": "stream",
     "text": [
      "Unique Categories in the data set are \n",
      "\n",
      " ['Data Science' 'HR' 'Advocate' 'Arts' 'Web Designing'\n",
      " 'Mechanical Engineer' 'Sales' 'Health and fitness' 'Civil Engineer'\n",
      " 'Java Developer' 'Business Analyst' 'SAP Developer' 'Automation Testing'\n",
      " 'Electrical Engineering' 'Operations Manager' 'Python Developer'\n",
      " 'DevOps Engineer' 'Network Security Engineer' 'PMO' 'Database' 'Hadoop'\n",
      " 'ETL Developer' 'DotNet Developer' 'Blockchain' 'Testing']\n"
     ]
    }
   ],
   "source": [
    "unique_categories = df['Category'].unique()\n",
    "print(\"Unique Categories in the data set are \\n\\n\",unique_categories)"
   ]
  },
  {
   "cell_type": "code",
   "execution_count": 11,
   "id": "7ededc57",
   "metadata": {},
   "outputs": [
    {
     "data": {
      "text/plain": [
       "Category\n",
       "Java Developer               84\n",
       "Testing                      70\n",
       "DevOps Engineer              55\n",
       "Python Developer             48\n",
       "Web Designing                45\n",
       "HR                           44\n",
       "Hadoop                       42\n",
       "Blockchain                   40\n",
       "ETL Developer                40\n",
       "Operations Manager           40\n",
       "Data Science                 40\n",
       "Sales                        40\n",
       "Mechanical Engineer          40\n",
       "Arts                         36\n",
       "Database                     33\n",
       "Electrical Engineering       30\n",
       "Health and fitness           30\n",
       "PMO                          30\n",
       "Business Analyst             28\n",
       "DotNet Developer             28\n",
       "Automation Testing           26\n",
       "Network Security Engineer    25\n",
       "SAP Developer                24\n",
       "Civil Engineer               24\n",
       "Advocate                     20\n",
       "Name: count, dtype: int64"
      ]
     },
     "execution_count": 11,
     "metadata": {},
     "output_type": "execute_result"
    }
   ],
   "source": [
    "df['Category'].value_counts()"
   ]
  },
  {
   "cell_type": "markdown",
   "metadata": {},
   "source": [
    "# Data Visualization"
   ]
  },
  {
   "cell_type": "code",
   "execution_count": 12,
   "id": "c185808b",
   "metadata": {},
   "outputs": [
    {
     "data": {
      "text/html": [
       "<div>\n",
       "<style scoped>\n",
       "    .dataframe tbody tr th:only-of-type {\n",
       "        vertical-align: middle;\n",
       "    }\n",
       "\n",
       "    .dataframe tbody tr th {\n",
       "        vertical-align: top;\n",
       "    }\n",
       "\n",
       "    .dataframe thead th {\n",
       "        text-align: right;\n",
       "    }\n",
       "</style>\n",
       "<table border=\"1\" class=\"dataframe\">\n",
       "  <thead>\n",
       "    <tr style=\"text-align: right;\">\n",
       "      <th></th>\n",
       "      <th>Category</th>\n",
       "      <th>Count</th>\n",
       "    </tr>\n",
       "  </thead>\n",
       "  <tbody>\n",
       "    <tr>\n",
       "      <th>0</th>\n",
       "      <td>Java Developer</td>\n",
       "      <td>84</td>\n",
       "    </tr>\n",
       "    <tr>\n",
       "      <th>1</th>\n",
       "      <td>Testing</td>\n",
       "      <td>70</td>\n",
       "    </tr>\n",
       "    <tr>\n",
       "      <th>2</th>\n",
       "      <td>DevOps Engineer</td>\n",
       "      <td>55</td>\n",
       "    </tr>\n",
       "    <tr>\n",
       "      <th>3</th>\n",
       "      <td>Python Developer</td>\n",
       "      <td>48</td>\n",
       "    </tr>\n",
       "    <tr>\n",
       "      <th>4</th>\n",
       "      <td>Web Designing</td>\n",
       "      <td>45</td>\n",
       "    </tr>\n",
       "  </tbody>\n",
       "</table>\n",
       "</div>"
      ],
      "text/plain": [
       "           Category  Count\n",
       "0    Java Developer     84\n",
       "1           Testing     70\n",
       "2   DevOps Engineer     55\n",
       "3  Python Developer     48\n",
       "4     Web Designing     45"
      ]
     },
     "execution_count": 12,
     "metadata": {},
     "output_type": "execute_result"
    }
   ],
   "source": [
    "# Bar Chart\n",
    "\n",
    "import plotly.express as px\n",
    "import plotly.graph_objects as go\n",
    "\n",
    "plot_data = pd.DataFrame({\n",
    "    'Category': df['Category'].value_counts().index,\n",
    "    'Count': df['Category'].value_counts().values\n",
    "})\n",
    "\n",
    "plot_data.head()"
   ]
  },
  {
   "cell_type": "code",
   "execution_count": 16,
   "id": "930cd304",
   "metadata": {},
   "outputs": [
    {
     "data": {
      "application/vnd.plotly.v1+json": {
       "config": {
        "plotlyServerURL": "https://plot.ly"
       },
       "data": [
        {
         "hovertemplate": "Job=%{x}<br>Count=%{y}<extra></extra>",
         "legendgroup": "Java Developer",
         "marker": {
          "color": "rgb(141,211,199)",
          "pattern": {
           "shape": ""
          }
         },
         "name": "Java Developer",
         "orientation": "v",
         "showlegend": true,
         "textposition": "auto",
         "type": "bar",
         "x": [
          "Java Developer"
         ],
         "xaxis": "x",
         "y": {
          "bdata": "VA==",
          "dtype": "i1"
         },
         "yaxis": "y"
        },
        {
         "hovertemplate": "Job=%{x}<br>Count=%{y}<extra></extra>",
         "legendgroup": "Testing",
         "marker": {
          "color": "rgb(255,255,179)",
          "pattern": {
           "shape": ""
          }
         },
         "name": "Testing",
         "orientation": "v",
         "showlegend": true,
         "textposition": "auto",
         "type": "bar",
         "x": [
          "Testing"
         ],
         "xaxis": "x",
         "y": {
          "bdata": "Rg==",
          "dtype": "i1"
         },
         "yaxis": "y"
        },
        {
         "hovertemplate": "Job=%{x}<br>Count=%{y}<extra></extra>",
         "legendgroup": "DevOps Engineer",
         "marker": {
          "color": "rgb(190,186,218)",
          "pattern": {
           "shape": ""
          }
         },
         "name": "DevOps Engineer",
         "orientation": "v",
         "showlegend": true,
         "textposition": "auto",
         "type": "bar",
         "x": [
          "DevOps Engineer"
         ],
         "xaxis": "x",
         "y": {
          "bdata": "Nw==",
          "dtype": "i1"
         },
         "yaxis": "y"
        },
        {
         "hovertemplate": "Job=%{x}<br>Count=%{y}<extra></extra>",
         "legendgroup": "Python Developer",
         "marker": {
          "color": "rgb(251,128,114)",
          "pattern": {
           "shape": ""
          }
         },
         "name": "Python Developer",
         "orientation": "v",
         "showlegend": true,
         "textposition": "auto",
         "type": "bar",
         "x": [
          "Python Developer"
         ],
         "xaxis": "x",
         "y": {
          "bdata": "MA==",
          "dtype": "i1"
         },
         "yaxis": "y"
        },
        {
         "hovertemplate": "Job=%{x}<br>Count=%{y}<extra></extra>",
         "legendgroup": "Web Designing",
         "marker": {
          "color": "rgb(128,177,211)",
          "pattern": {
           "shape": ""
          }
         },
         "name": "Web Designing",
         "orientation": "v",
         "showlegend": true,
         "textposition": "auto",
         "type": "bar",
         "x": [
          "Web Designing"
         ],
         "xaxis": "x",
         "y": {
          "bdata": "LQ==",
          "dtype": "i1"
         },
         "yaxis": "y"
        },
        {
         "hovertemplate": "Job=%{x}<br>Count=%{y}<extra></extra>",
         "legendgroup": "HR",
         "marker": {
          "color": "rgb(253,180,98)",
          "pattern": {
           "shape": ""
          }
         },
         "name": "HR",
         "orientation": "v",
         "showlegend": true,
         "textposition": "auto",
         "type": "bar",
         "x": [
          "HR"
         ],
         "xaxis": "x",
         "y": {
          "bdata": "LA==",
          "dtype": "i1"
         },
         "yaxis": "y"
        },
        {
         "hovertemplate": "Job=%{x}<br>Count=%{y}<extra></extra>",
         "legendgroup": "Hadoop",
         "marker": {
          "color": "rgb(179,222,105)",
          "pattern": {
           "shape": ""
          }
         },
         "name": "Hadoop",
         "orientation": "v",
         "showlegend": true,
         "textposition": "auto",
         "type": "bar",
         "x": [
          "Hadoop"
         ],
         "xaxis": "x",
         "y": {
          "bdata": "Kg==",
          "dtype": "i1"
         },
         "yaxis": "y"
        },
        {
         "hovertemplate": "Job=%{x}<br>Count=%{y}<extra></extra>",
         "legendgroup": "Blockchain",
         "marker": {
          "color": "rgb(252,205,229)",
          "pattern": {
           "shape": ""
          }
         },
         "name": "Blockchain",
         "orientation": "v",
         "showlegend": true,
         "textposition": "auto",
         "type": "bar",
         "x": [
          "Blockchain"
         ],
         "xaxis": "x",
         "y": {
          "bdata": "KA==",
          "dtype": "i1"
         },
         "yaxis": "y"
        },
        {
         "hovertemplate": "Job=%{x}<br>Count=%{y}<extra></extra>",
         "legendgroup": "ETL Developer",
         "marker": {
          "color": "rgb(217,217,217)",
          "pattern": {
           "shape": ""
          }
         },
         "name": "ETL Developer",
         "orientation": "v",
         "showlegend": true,
         "textposition": "auto",
         "type": "bar",
         "x": [
          "ETL Developer"
         ],
         "xaxis": "x",
         "y": {
          "bdata": "KA==",
          "dtype": "i1"
         },
         "yaxis": "y"
        },
        {
         "hovertemplate": "Job=%{x}<br>Count=%{y}<extra></extra>",
         "legendgroup": "Operations Manager",
         "marker": {
          "color": "rgb(188,128,189)",
          "pattern": {
           "shape": ""
          }
         },
         "name": "Operations Manager",
         "orientation": "v",
         "showlegend": true,
         "textposition": "auto",
         "type": "bar",
         "x": [
          "Operations Manager"
         ],
         "xaxis": "x",
         "y": {
          "bdata": "KA==",
          "dtype": "i1"
         },
         "yaxis": "y"
        },
        {
         "hovertemplate": "Job=%{x}<br>Count=%{y}<extra></extra>",
         "legendgroup": "Data Science",
         "marker": {
          "color": "rgb(204,235,197)",
          "pattern": {
           "shape": ""
          }
         },
         "name": "Data Science",
         "orientation": "v",
         "showlegend": true,
         "textposition": "auto",
         "type": "bar",
         "x": [
          "Data Science"
         ],
         "xaxis": "x",
         "y": {
          "bdata": "KA==",
          "dtype": "i1"
         },
         "yaxis": "y"
        },
        {
         "hovertemplate": "Job=%{x}<br>Count=%{y}<extra></extra>",
         "legendgroup": "Sales",
         "marker": {
          "color": "rgb(255,237,111)",
          "pattern": {
           "shape": ""
          }
         },
         "name": "Sales",
         "orientation": "v",
         "showlegend": true,
         "textposition": "auto",
         "type": "bar",
         "x": [
          "Sales"
         ],
         "xaxis": "x",
         "y": {
          "bdata": "KA==",
          "dtype": "i1"
         },
         "yaxis": "y"
        },
        {
         "hovertemplate": "Job=%{x}<br>Count=%{y}<extra></extra>",
         "legendgroup": "Mechanical Engineer",
         "marker": {
          "color": "rgb(141,211,199)",
          "pattern": {
           "shape": ""
          }
         },
         "name": "Mechanical Engineer",
         "orientation": "v",
         "showlegend": true,
         "textposition": "auto",
         "type": "bar",
         "x": [
          "Mechanical Engineer"
         ],
         "xaxis": "x",
         "y": {
          "bdata": "KA==",
          "dtype": "i1"
         },
         "yaxis": "y"
        },
        {
         "hovertemplate": "Job=%{x}<br>Count=%{y}<extra></extra>",
         "legendgroup": "Arts",
         "marker": {
          "color": "rgb(255,255,179)",
          "pattern": {
           "shape": ""
          }
         },
         "name": "Arts",
         "orientation": "v",
         "showlegend": true,
         "textposition": "auto",
         "type": "bar",
         "x": [
          "Arts"
         ],
         "xaxis": "x",
         "y": {
          "bdata": "JA==",
          "dtype": "i1"
         },
         "yaxis": "y"
        },
        {
         "hovertemplate": "Job=%{x}<br>Count=%{y}<extra></extra>",
         "legendgroup": "Database",
         "marker": {
          "color": "rgb(190,186,218)",
          "pattern": {
           "shape": ""
          }
         },
         "name": "Database",
         "orientation": "v",
         "showlegend": true,
         "textposition": "auto",
         "type": "bar",
         "x": [
          "Database"
         ],
         "xaxis": "x",
         "y": {
          "bdata": "IQ==",
          "dtype": "i1"
         },
         "yaxis": "y"
        },
        {
         "hovertemplate": "Job=%{x}<br>Count=%{y}<extra></extra>",
         "legendgroup": "Electrical Engineering",
         "marker": {
          "color": "rgb(251,128,114)",
          "pattern": {
           "shape": ""
          }
         },
         "name": "Electrical Engineering",
         "orientation": "v",
         "showlegend": true,
         "textposition": "auto",
         "type": "bar",
         "x": [
          "Electrical Engineering"
         ],
         "xaxis": "x",
         "y": {
          "bdata": "Hg==",
          "dtype": "i1"
         },
         "yaxis": "y"
        },
        {
         "hovertemplate": "Job=%{x}<br>Count=%{y}<extra></extra>",
         "legendgroup": "Health and fitness",
         "marker": {
          "color": "rgb(128,177,211)",
          "pattern": {
           "shape": ""
          }
         },
         "name": "Health and fitness",
         "orientation": "v",
         "showlegend": true,
         "textposition": "auto",
         "type": "bar",
         "x": [
          "Health and fitness"
         ],
         "xaxis": "x",
         "y": {
          "bdata": "Hg==",
          "dtype": "i1"
         },
         "yaxis": "y"
        },
        {
         "hovertemplate": "Job=%{x}<br>Count=%{y}<extra></extra>",
         "legendgroup": "PMO",
         "marker": {
          "color": "rgb(253,180,98)",
          "pattern": {
           "shape": ""
          }
         },
         "name": "PMO",
         "orientation": "v",
         "showlegend": true,
         "textposition": "auto",
         "type": "bar",
         "x": [
          "PMO"
         ],
         "xaxis": "x",
         "y": {
          "bdata": "Hg==",
          "dtype": "i1"
         },
         "yaxis": "y"
        },
        {
         "hovertemplate": "Job=%{x}<br>Count=%{y}<extra></extra>",
         "legendgroup": "Business Analyst",
         "marker": {
          "color": "rgb(179,222,105)",
          "pattern": {
           "shape": ""
          }
         },
         "name": "Business Analyst",
         "orientation": "v",
         "showlegend": true,
         "textposition": "auto",
         "type": "bar",
         "x": [
          "Business Analyst"
         ],
         "xaxis": "x",
         "y": {
          "bdata": "HA==",
          "dtype": "i1"
         },
         "yaxis": "y"
        },
        {
         "hovertemplate": "Job=%{x}<br>Count=%{y}<extra></extra>",
         "legendgroup": "DotNet Developer",
         "marker": {
          "color": "rgb(252,205,229)",
          "pattern": {
           "shape": ""
          }
         },
         "name": "DotNet Developer",
         "orientation": "v",
         "showlegend": true,
         "textposition": "auto",
         "type": "bar",
         "x": [
          "DotNet Developer"
         ],
         "xaxis": "x",
         "y": {
          "bdata": "HA==",
          "dtype": "i1"
         },
         "yaxis": "y"
        },
        {
         "hovertemplate": "Job=%{x}<br>Count=%{y}<extra></extra>",
         "legendgroup": "Automation Testing",
         "marker": {
          "color": "rgb(217,217,217)",
          "pattern": {
           "shape": ""
          }
         },
         "name": "Automation Testing",
         "orientation": "v",
         "showlegend": true,
         "textposition": "auto",
         "type": "bar",
         "x": [
          "Automation Testing"
         ],
         "xaxis": "x",
         "y": {
          "bdata": "Gg==",
          "dtype": "i1"
         },
         "yaxis": "y"
        },
        {
         "hovertemplate": "Job=%{x}<br>Count=%{y}<extra></extra>",
         "legendgroup": "Network Security Engineer",
         "marker": {
          "color": "rgb(188,128,189)",
          "pattern": {
           "shape": ""
          }
         },
         "name": "Network Security Engineer",
         "orientation": "v",
         "showlegend": true,
         "textposition": "auto",
         "type": "bar",
         "x": [
          "Network Security Engineer"
         ],
         "xaxis": "x",
         "y": {
          "bdata": "GQ==",
          "dtype": "i1"
         },
         "yaxis": "y"
        },
        {
         "hovertemplate": "Job=%{x}<br>Count=%{y}<extra></extra>",
         "legendgroup": "SAP Developer",
         "marker": {
          "color": "rgb(204,235,197)",
          "pattern": {
           "shape": ""
          }
         },
         "name": "SAP Developer",
         "orientation": "v",
         "showlegend": true,
         "textposition": "auto",
         "type": "bar",
         "x": [
          "SAP Developer"
         ],
         "xaxis": "x",
         "y": {
          "bdata": "GA==",
          "dtype": "i1"
         },
         "yaxis": "y"
        },
        {
         "hovertemplate": "Job=%{x}<br>Count=%{y}<extra></extra>",
         "legendgroup": "Civil Engineer",
         "marker": {
          "color": "rgb(255,237,111)",
          "pattern": {
           "shape": ""
          }
         },
         "name": "Civil Engineer",
         "orientation": "v",
         "showlegend": true,
         "textposition": "auto",
         "type": "bar",
         "x": [
          "Civil Engineer"
         ],
         "xaxis": "x",
         "y": {
          "bdata": "GA==",
          "dtype": "i1"
         },
         "yaxis": "y"
        },
        {
         "hovertemplate": "Job=%{x}<br>Count=%{y}<extra></extra>",
         "legendgroup": "Advocate",
         "marker": {
          "color": "rgb(141,211,199)",
          "pattern": {
           "shape": ""
          }
         },
         "name": "Advocate",
         "orientation": "v",
         "showlegend": true,
         "textposition": "auto",
         "type": "bar",
         "x": [
          "Advocate"
         ],
         "xaxis": "x",
         "y": {
          "bdata": "FA==",
          "dtype": "i1"
         },
         "yaxis": "y"
        }
       ],
       "layout": {
        "barmode": "relative",
        "font": {
         "family": "Times New Roman",
         "size": 12
        },
        "legend": {
         "title": {
          "text": "Job Categories"
         },
         "tracegroupgap": 0
        },
        "margin": {
         "t": 60
        },
        "plot_bgcolor": "white",
        "showlegend": true,
        "template": {
         "data": {
          "bar": [
           {
            "error_x": {
             "color": "#2a3f5f"
            },
            "error_y": {
             "color": "#2a3f5f"
            },
            "marker": {
             "line": {
              "color": "#E5ECF6",
              "width": 0.5
             },
             "pattern": {
              "fillmode": "overlay",
              "size": 10,
              "solidity": 0.2
             }
            },
            "type": "bar"
           }
          ],
          "barpolar": [
           {
            "marker": {
             "line": {
              "color": "#E5ECF6",
              "width": 0.5
             },
             "pattern": {
              "fillmode": "overlay",
              "size": 10,
              "solidity": 0.2
             }
            },
            "type": "barpolar"
           }
          ],
          "carpet": [
           {
            "aaxis": {
             "endlinecolor": "#2a3f5f",
             "gridcolor": "white",
             "linecolor": "white",
             "minorgridcolor": "white",
             "startlinecolor": "#2a3f5f"
            },
            "baxis": {
             "endlinecolor": "#2a3f5f",
             "gridcolor": "white",
             "linecolor": "white",
             "minorgridcolor": "white",
             "startlinecolor": "#2a3f5f"
            },
            "type": "carpet"
           }
          ],
          "choropleth": [
           {
            "colorbar": {
             "outlinewidth": 0,
             "ticks": ""
            },
            "type": "choropleth"
           }
          ],
          "contour": [
           {
            "colorbar": {
             "outlinewidth": 0,
             "ticks": ""
            },
            "colorscale": [
             [
              0,
              "#0d0887"
             ],
             [
              0.1111111111111111,
              "#46039f"
             ],
             [
              0.2222222222222222,
              "#7201a8"
             ],
             [
              0.3333333333333333,
              "#9c179e"
             ],
             [
              0.4444444444444444,
              "#bd3786"
             ],
             [
              0.5555555555555556,
              "#d8576b"
             ],
             [
              0.6666666666666666,
              "#ed7953"
             ],
             [
              0.7777777777777778,
              "#fb9f3a"
             ],
             [
              0.8888888888888888,
              "#fdca26"
             ],
             [
              1,
              "#f0f921"
             ]
            ],
            "type": "contour"
           }
          ],
          "contourcarpet": [
           {
            "colorbar": {
             "outlinewidth": 0,
             "ticks": ""
            },
            "type": "contourcarpet"
           }
          ],
          "heatmap": [
           {
            "colorbar": {
             "outlinewidth": 0,
             "ticks": ""
            },
            "colorscale": [
             [
              0,
              "#0d0887"
             ],
             [
              0.1111111111111111,
              "#46039f"
             ],
             [
              0.2222222222222222,
              "#7201a8"
             ],
             [
              0.3333333333333333,
              "#9c179e"
             ],
             [
              0.4444444444444444,
              "#bd3786"
             ],
             [
              0.5555555555555556,
              "#d8576b"
             ],
             [
              0.6666666666666666,
              "#ed7953"
             ],
             [
              0.7777777777777778,
              "#fb9f3a"
             ],
             [
              0.8888888888888888,
              "#fdca26"
             ],
             [
              1,
              "#f0f921"
             ]
            ],
            "type": "heatmap"
           }
          ],
          "histogram": [
           {
            "marker": {
             "pattern": {
              "fillmode": "overlay",
              "size": 10,
              "solidity": 0.2
             }
            },
            "type": "histogram"
           }
          ],
          "histogram2d": [
           {
            "colorbar": {
             "outlinewidth": 0,
             "ticks": ""
            },
            "colorscale": [
             [
              0,
              "#0d0887"
             ],
             [
              0.1111111111111111,
              "#46039f"
             ],
             [
              0.2222222222222222,
              "#7201a8"
             ],
             [
              0.3333333333333333,
              "#9c179e"
             ],
             [
              0.4444444444444444,
              "#bd3786"
             ],
             [
              0.5555555555555556,
              "#d8576b"
             ],
             [
              0.6666666666666666,
              "#ed7953"
             ],
             [
              0.7777777777777778,
              "#fb9f3a"
             ],
             [
              0.8888888888888888,
              "#fdca26"
             ],
             [
              1,
              "#f0f921"
             ]
            ],
            "type": "histogram2d"
           }
          ],
          "histogram2dcontour": [
           {
            "colorbar": {
             "outlinewidth": 0,
             "ticks": ""
            },
            "colorscale": [
             [
              0,
              "#0d0887"
             ],
             [
              0.1111111111111111,
              "#46039f"
             ],
             [
              0.2222222222222222,
              "#7201a8"
             ],
             [
              0.3333333333333333,
              "#9c179e"
             ],
             [
              0.4444444444444444,
              "#bd3786"
             ],
             [
              0.5555555555555556,
              "#d8576b"
             ],
             [
              0.6666666666666666,
              "#ed7953"
             ],
             [
              0.7777777777777778,
              "#fb9f3a"
             ],
             [
              0.8888888888888888,
              "#fdca26"
             ],
             [
              1,
              "#f0f921"
             ]
            ],
            "type": "histogram2dcontour"
           }
          ],
          "mesh3d": [
           {
            "colorbar": {
             "outlinewidth": 0,
             "ticks": ""
            },
            "type": "mesh3d"
           }
          ],
          "parcoords": [
           {
            "line": {
             "colorbar": {
              "outlinewidth": 0,
              "ticks": ""
             }
            },
            "type": "parcoords"
           }
          ],
          "pie": [
           {
            "automargin": true,
            "type": "pie"
           }
          ],
          "scatter": [
           {
            "fillpattern": {
             "fillmode": "overlay",
             "size": 10,
             "solidity": 0.2
            },
            "type": "scatter"
           }
          ],
          "scatter3d": [
           {
            "line": {
             "colorbar": {
              "outlinewidth": 0,
              "ticks": ""
             }
            },
            "marker": {
             "colorbar": {
              "outlinewidth": 0,
              "ticks": ""
             }
            },
            "type": "scatter3d"
           }
          ],
          "scattercarpet": [
           {
            "marker": {
             "colorbar": {
              "outlinewidth": 0,
              "ticks": ""
             }
            },
            "type": "scattercarpet"
           }
          ],
          "scattergeo": [
           {
            "marker": {
             "colorbar": {
              "outlinewidth": 0,
              "ticks": ""
             }
            },
            "type": "scattergeo"
           }
          ],
          "scattergl": [
           {
            "marker": {
             "colorbar": {
              "outlinewidth": 0,
              "ticks": ""
             }
            },
            "type": "scattergl"
           }
          ],
          "scattermap": [
           {
            "marker": {
             "colorbar": {
              "outlinewidth": 0,
              "ticks": ""
             }
            },
            "type": "scattermap"
           }
          ],
          "scattermapbox": [
           {
            "marker": {
             "colorbar": {
              "outlinewidth": 0,
              "ticks": ""
             }
            },
            "type": "scattermapbox"
           }
          ],
          "scatterpolar": [
           {
            "marker": {
             "colorbar": {
              "outlinewidth": 0,
              "ticks": ""
             }
            },
            "type": "scatterpolar"
           }
          ],
          "scatterpolargl": [
           {
            "marker": {
             "colorbar": {
              "outlinewidth": 0,
              "ticks": ""
             }
            },
            "type": "scatterpolargl"
           }
          ],
          "scatterternary": [
           {
            "marker": {
             "colorbar": {
              "outlinewidth": 0,
              "ticks": ""
             }
            },
            "type": "scatterternary"
           }
          ],
          "surface": [
           {
            "colorbar": {
             "outlinewidth": 0,
             "ticks": ""
            },
            "colorscale": [
             [
              0,
              "#0d0887"
             ],
             [
              0.1111111111111111,
              "#46039f"
             ],
             [
              0.2222222222222222,
              "#7201a8"
             ],
             [
              0.3333333333333333,
              "#9c179e"
             ],
             [
              0.4444444444444444,
              "#bd3786"
             ],
             [
              0.5555555555555556,
              "#d8576b"
             ],
             [
              0.6666666666666666,
              "#ed7953"
             ],
             [
              0.7777777777777778,
              "#fb9f3a"
             ],
             [
              0.8888888888888888,
              "#fdca26"
             ],
             [
              1,
              "#f0f921"
             ]
            ],
            "type": "surface"
           }
          ],
          "table": [
           {
            "cells": {
             "fill": {
              "color": "#EBF0F8"
             },
             "line": {
              "color": "white"
             }
            },
            "header": {
             "fill": {
              "color": "#C8D4E3"
             },
             "line": {
              "color": "white"
             }
            },
            "type": "table"
           }
          ]
         },
         "layout": {
          "annotationdefaults": {
           "arrowcolor": "#2a3f5f",
           "arrowhead": 0,
           "arrowwidth": 1
          },
          "autotypenumbers": "strict",
          "coloraxis": {
           "colorbar": {
            "outlinewidth": 0,
            "ticks": ""
           }
          },
          "colorscale": {
           "diverging": [
            [
             0,
             "#8e0152"
            ],
            [
             0.1,
             "#c51b7d"
            ],
            [
             0.2,
             "#de77ae"
            ],
            [
             0.3,
             "#f1b6da"
            ],
            [
             0.4,
             "#fde0ef"
            ],
            [
             0.5,
             "#f7f7f7"
            ],
            [
             0.6,
             "#e6f5d0"
            ],
            [
             0.7,
             "#b8e186"
            ],
            [
             0.8,
             "#7fbc41"
            ],
            [
             0.9,
             "#4d9221"
            ],
            [
             1,
             "#276419"
            ]
           ],
           "sequential": [
            [
             0,
             "#0d0887"
            ],
            [
             0.1111111111111111,
             "#46039f"
            ],
            [
             0.2222222222222222,
             "#7201a8"
            ],
            [
             0.3333333333333333,
             "#9c179e"
            ],
            [
             0.4444444444444444,
             "#bd3786"
            ],
            [
             0.5555555555555556,
             "#d8576b"
            ],
            [
             0.6666666666666666,
             "#ed7953"
            ],
            [
             0.7777777777777778,
             "#fb9f3a"
            ],
            [
             0.8888888888888888,
             "#fdca26"
            ],
            [
             1,
             "#f0f921"
            ]
           ],
           "sequentialminus": [
            [
             0,
             "#0d0887"
            ],
            [
             0.1111111111111111,
             "#46039f"
            ],
            [
             0.2222222222222222,
             "#7201a8"
            ],
            [
             0.3333333333333333,
             "#9c179e"
            ],
            [
             0.4444444444444444,
             "#bd3786"
            ],
            [
             0.5555555555555556,
             "#d8576b"
            ],
            [
             0.6666666666666666,
             "#ed7953"
            ],
            [
             0.7777777777777778,
             "#fb9f3a"
            ],
            [
             0.8888888888888888,
             "#fdca26"
            ],
            [
             1,
             "#f0f921"
            ]
           ]
          },
          "colorway": [
           "#636efa",
           "#EF553B",
           "#00cc96",
           "#ab63fa",
           "#FFA15A",
           "#19d3f3",
           "#FF6692",
           "#B6E880",
           "#FF97FF",
           "#FECB52"
          ],
          "font": {
           "color": "#2a3f5f"
          },
          "geo": {
           "bgcolor": "white",
           "lakecolor": "white",
           "landcolor": "#E5ECF6",
           "showlakes": true,
           "showland": true,
           "subunitcolor": "white"
          },
          "hoverlabel": {
           "align": "left"
          },
          "hovermode": "closest",
          "mapbox": {
           "style": "light"
          },
          "paper_bgcolor": "white",
          "plot_bgcolor": "#E5ECF6",
          "polar": {
           "angularaxis": {
            "gridcolor": "white",
            "linecolor": "white",
            "ticks": ""
           },
           "bgcolor": "#E5ECF6",
           "radialaxis": {
            "gridcolor": "white",
            "linecolor": "white",
            "ticks": ""
           }
          },
          "scene": {
           "xaxis": {
            "backgroundcolor": "#E5ECF6",
            "gridcolor": "white",
            "gridwidth": 2,
            "linecolor": "white",
            "showbackground": true,
            "ticks": "",
            "zerolinecolor": "white"
           },
           "yaxis": {
            "backgroundcolor": "#E5ECF6",
            "gridcolor": "white",
            "gridwidth": 2,
            "linecolor": "white",
            "showbackground": true,
            "ticks": "",
            "zerolinecolor": "white"
           },
           "zaxis": {
            "backgroundcolor": "#E5ECF6",
            "gridcolor": "white",
            "gridwidth": 2,
            "linecolor": "white",
            "showbackground": true,
            "ticks": "",
            "zerolinecolor": "white"
           }
          },
          "shapedefaults": {
           "line": {
            "color": "#2a3f5f"
           }
          },
          "ternary": {
           "aaxis": {
            "gridcolor": "white",
            "linecolor": "white",
            "ticks": ""
           },
           "baxis": {
            "gridcolor": "white",
            "linecolor": "white",
            "ticks": ""
           },
           "bgcolor": "#E5ECF6",
           "caxis": {
            "gridcolor": "white",
            "linecolor": "white",
            "ticks": ""
           }
          },
          "title": {
           "x": 0.05
          },
          "xaxis": {
           "automargin": true,
           "gridcolor": "white",
           "linecolor": "white",
           "ticks": "",
           "title": {
            "standoff": 15
           },
           "zerolinecolor": "white",
           "zerolinewidth": 2
          },
          "yaxis": {
           "automargin": true,
           "gridcolor": "white",
           "linecolor": "white",
           "ticks": "",
           "title": {
            "standoff": 15
           },
           "zerolinecolor": "white",
           "zerolinewidth": 2
          }
         }
        },
        "title": {
         "text": "Count of a particular Job"
        },
        "xaxis": {
         "anchor": "y",
         "categoryarray": [
          "Java Developer",
          "Testing",
          "DevOps Engineer",
          "Python Developer",
          "Web Designing",
          "HR",
          "Hadoop",
          "Blockchain",
          "ETL Developer",
          "Operations Manager",
          "Data Science",
          "Sales",
          "Mechanical Engineer",
          "Arts",
          "Database",
          "Electrical Engineering",
          "Health and fitness",
          "PMO",
          "Business Analyst",
          "DotNet Developer",
          "Automation Testing",
          "Network Security Engineer",
          "SAP Developer",
          "Civil Engineer",
          "Advocate"
         ],
         "categoryorder": "array",
         "domain": [
          0,
          1
         ],
         "tickangle": -30,
         "title": {
          "text": "Job Type"
         }
        },
        "yaxis": {
         "anchor": "x",
         "domain": [
          0,
          1
         ],
         "title": {
          "text": "Count"
         }
        }
       }
      }
     },
     "metadata": {},
     "output_type": "display_data"
    }
   ],
   "source": [
    "fig = px.bar(plot_data, x='Category', y='Count',\n",
    "             color='Category', \n",
    "             labels={'Category': 'Job', 'Count': 'Count'},\n",
    "             color_discrete_sequence=px.colors.qualitative.Set3)\n",
    "\n",
    "fig.update_layout(\n",
    "    title='Count of a particular Job',\n",
    "    xaxis_title='Job Type',\n",
    "    yaxis_title='Count',\n",
    "    legend_title='Job Categories',\n",
    "    showlegend=True,\n",
    "    xaxis=dict(tickangle=-30),\n",
    "    font=dict(family='Times New Roman', size=12),\n",
    "    plot_bgcolor='white'\n",
    ")\n",
    "\n",
    "fig.show()"
   ]
  },
  {
   "cell_type": "code",
   "execution_count": 22,
   "id": "765869e9",
   "metadata": {},
   "outputs": [
    {
     "data": {
      "application/vnd.plotly.v1+json": {
       "config": {
        "plotlyServerURL": "https://plot.ly"
       },
       "data": [
        {
         "hovertemplate": "Job Type=%{x}<br>Count=%{y}<extra></extra>",
         "legendgroup": "Java Developer",
         "marker": {
          "color": "#636efa",
          "pattern": {
           "shape": ""
          }
         },
         "name": "Java Developer",
         "orientation": "v",
         "showlegend": true,
         "textposition": "auto",
         "type": "bar",
         "x": [
          "Java Developer"
         ],
         "xaxis": "x",
         "y": {
          "bdata": "VA==",
          "dtype": "i1"
         },
         "yaxis": "y"
        },
        {
         "hovertemplate": "Job Type=%{x}<br>Count=%{y}<extra></extra>",
         "legendgroup": "Testing",
         "marker": {
          "color": "#EF553B",
          "pattern": {
           "shape": ""
          }
         },
         "name": "Testing",
         "orientation": "v",
         "showlegend": true,
         "textposition": "auto",
         "type": "bar",
         "x": [
          "Testing"
         ],
         "xaxis": "x",
         "y": {
          "bdata": "Rg==",
          "dtype": "i1"
         },
         "yaxis": "y"
        },
        {
         "hovertemplate": "Job Type=%{x}<br>Count=%{y}<extra></extra>",
         "legendgroup": "DevOps Engineer",
         "marker": {
          "color": "#00cc96",
          "pattern": {
           "shape": ""
          }
         },
         "name": "DevOps Engineer",
         "orientation": "v",
         "showlegend": true,
         "textposition": "auto",
         "type": "bar",
         "x": [
          "DevOps Engineer"
         ],
         "xaxis": "x",
         "y": {
          "bdata": "Nw==",
          "dtype": "i1"
         },
         "yaxis": "y"
        },
        {
         "hovertemplate": "Job Type=%{x}<br>Count=%{y}<extra></extra>",
         "legendgroup": "Python Developer",
         "marker": {
          "color": "#ab63fa",
          "pattern": {
           "shape": ""
          }
         },
         "name": "Python Developer",
         "orientation": "v",
         "showlegend": true,
         "textposition": "auto",
         "type": "bar",
         "x": [
          "Python Developer"
         ],
         "xaxis": "x",
         "y": {
          "bdata": "MA==",
          "dtype": "i1"
         },
         "yaxis": "y"
        },
        {
         "hovertemplate": "Job Type=%{x}<br>Count=%{y}<extra></extra>",
         "legendgroup": "Web Designing",
         "marker": {
          "color": "#FFA15A",
          "pattern": {
           "shape": ""
          }
         },
         "name": "Web Designing",
         "orientation": "v",
         "showlegend": true,
         "textposition": "auto",
         "type": "bar",
         "x": [
          "Web Designing"
         ],
         "xaxis": "x",
         "y": {
          "bdata": "LQ==",
          "dtype": "i1"
         },
         "yaxis": "y"
        },
        {
         "hovertemplate": "Job Type=%{x}<br>Count=%{y}<extra></extra>",
         "legendgroup": "HR",
         "marker": {
          "color": "#19d3f3",
          "pattern": {
           "shape": ""
          }
         },
         "name": "HR",
         "orientation": "v",
         "showlegend": true,
         "textposition": "auto",
         "type": "bar",
         "x": [
          "HR"
         ],
         "xaxis": "x",
         "y": {
          "bdata": "LA==",
          "dtype": "i1"
         },
         "yaxis": "y"
        },
        {
         "hovertemplate": "Job Type=%{x}<br>Count=%{y}<extra></extra>",
         "legendgroup": "Hadoop",
         "marker": {
          "color": "#FF6692",
          "pattern": {
           "shape": ""
          }
         },
         "name": "Hadoop",
         "orientation": "v",
         "showlegend": true,
         "textposition": "auto",
         "type": "bar",
         "x": [
          "Hadoop"
         ],
         "xaxis": "x",
         "y": {
          "bdata": "Kg==",
          "dtype": "i1"
         },
         "yaxis": "y"
        },
        {
         "hovertemplate": "Job Type=%{x}<br>Count=%{y}<extra></extra>",
         "legendgroup": "Blockchain",
         "marker": {
          "color": "#B6E880",
          "pattern": {
           "shape": ""
          }
         },
         "name": "Blockchain",
         "orientation": "v",
         "showlegend": true,
         "textposition": "auto",
         "type": "bar",
         "x": [
          "Blockchain"
         ],
         "xaxis": "x",
         "y": {
          "bdata": "KA==",
          "dtype": "i1"
         },
         "yaxis": "y"
        },
        {
         "hovertemplate": "Job Type=%{x}<br>Count=%{y}<extra></extra>",
         "legendgroup": "ETL Developer",
         "marker": {
          "color": "#FF97FF",
          "pattern": {
           "shape": ""
          }
         },
         "name": "ETL Developer",
         "orientation": "v",
         "showlegend": true,
         "textposition": "auto",
         "type": "bar",
         "x": [
          "ETL Developer"
         ],
         "xaxis": "x",
         "y": {
          "bdata": "KA==",
          "dtype": "i1"
         },
         "yaxis": "y"
        },
        {
         "hovertemplate": "Job Type=%{x}<br>Count=%{y}<extra></extra>",
         "legendgroup": "Operations Manager",
         "marker": {
          "color": "#FECB52",
          "pattern": {
           "shape": ""
          }
         },
         "name": "Operations Manager",
         "orientation": "v",
         "showlegend": true,
         "textposition": "auto",
         "type": "bar",
         "x": [
          "Operations Manager"
         ],
         "xaxis": "x",
         "y": {
          "bdata": "KA==",
          "dtype": "i1"
         },
         "yaxis": "y"
        },
        {
         "hovertemplate": "Job Type=%{x}<br>Count=%{y}<extra></extra>",
         "legendgroup": "Data Science",
         "marker": {
          "color": "#636efa",
          "pattern": {
           "shape": ""
          }
         },
         "name": "Data Science",
         "orientation": "v",
         "showlegend": true,
         "textposition": "auto",
         "type": "bar",
         "x": [
          "Data Science"
         ],
         "xaxis": "x",
         "y": {
          "bdata": "KA==",
          "dtype": "i1"
         },
         "yaxis": "y"
        },
        {
         "hovertemplate": "Job Type=%{x}<br>Count=%{y}<extra></extra>",
         "legendgroup": "Sales",
         "marker": {
          "color": "#EF553B",
          "pattern": {
           "shape": ""
          }
         },
         "name": "Sales",
         "orientation": "v",
         "showlegend": true,
         "textposition": "auto",
         "type": "bar",
         "x": [
          "Sales"
         ],
         "xaxis": "x",
         "y": {
          "bdata": "KA==",
          "dtype": "i1"
         },
         "yaxis": "y"
        },
        {
         "hovertemplate": "Job Type=%{x}<br>Count=%{y}<extra></extra>",
         "legendgroup": "Mechanical Engineer",
         "marker": {
          "color": "#00cc96",
          "pattern": {
           "shape": ""
          }
         },
         "name": "Mechanical Engineer",
         "orientation": "v",
         "showlegend": true,
         "textposition": "auto",
         "type": "bar",
         "x": [
          "Mechanical Engineer"
         ],
         "xaxis": "x",
         "y": {
          "bdata": "KA==",
          "dtype": "i1"
         },
         "yaxis": "y"
        },
        {
         "hovertemplate": "Job Type=%{x}<br>Count=%{y}<extra></extra>",
         "legendgroup": "Arts",
         "marker": {
          "color": "#ab63fa",
          "pattern": {
           "shape": ""
          }
         },
         "name": "Arts",
         "orientation": "v",
         "showlegend": true,
         "textposition": "auto",
         "type": "bar",
         "x": [
          "Arts"
         ],
         "xaxis": "x",
         "y": {
          "bdata": "JA==",
          "dtype": "i1"
         },
         "yaxis": "y"
        },
        {
         "hovertemplate": "Job Type=%{x}<br>Count=%{y}<extra></extra>",
         "legendgroup": "Database",
         "marker": {
          "color": "#FFA15A",
          "pattern": {
           "shape": ""
          }
         },
         "name": "Database",
         "orientation": "v",
         "showlegend": true,
         "textposition": "auto",
         "type": "bar",
         "x": [
          "Database"
         ],
         "xaxis": "x",
         "y": {
          "bdata": "IQ==",
          "dtype": "i1"
         },
         "yaxis": "y"
        },
        {
         "hovertemplate": "Job Type=%{x}<br>Count=%{y}<extra></extra>",
         "legendgroup": "Electrical Engineering",
         "marker": {
          "color": "#19d3f3",
          "pattern": {
           "shape": ""
          }
         },
         "name": "Electrical Engineering",
         "orientation": "v",
         "showlegend": true,
         "textposition": "auto",
         "type": "bar",
         "x": [
          "Electrical Engineering"
         ],
         "xaxis": "x",
         "y": {
          "bdata": "Hg==",
          "dtype": "i1"
         },
         "yaxis": "y"
        },
        {
         "hovertemplate": "Job Type=%{x}<br>Count=%{y}<extra></extra>",
         "legendgroup": "Health and fitness",
         "marker": {
          "color": "#FF6692",
          "pattern": {
           "shape": ""
          }
         },
         "name": "Health and fitness",
         "orientation": "v",
         "showlegend": true,
         "textposition": "auto",
         "type": "bar",
         "x": [
          "Health and fitness"
         ],
         "xaxis": "x",
         "y": {
          "bdata": "Hg==",
          "dtype": "i1"
         },
         "yaxis": "y"
        },
        {
         "hovertemplate": "Job Type=%{x}<br>Count=%{y}<extra></extra>",
         "legendgroup": "PMO",
         "marker": {
          "color": "#B6E880",
          "pattern": {
           "shape": ""
          }
         },
         "name": "PMO",
         "orientation": "v",
         "showlegend": true,
         "textposition": "auto",
         "type": "bar",
         "x": [
          "PMO"
         ],
         "xaxis": "x",
         "y": {
          "bdata": "Hg==",
          "dtype": "i1"
         },
         "yaxis": "y"
        },
        {
         "hovertemplate": "Job Type=%{x}<br>Count=%{y}<extra></extra>",
         "legendgroup": "Business Analyst",
         "marker": {
          "color": "#FF97FF",
          "pattern": {
           "shape": ""
          }
         },
         "name": "Business Analyst",
         "orientation": "v",
         "showlegend": true,
         "textposition": "auto",
         "type": "bar",
         "x": [
          "Business Analyst"
         ],
         "xaxis": "x",
         "y": {
          "bdata": "HA==",
          "dtype": "i1"
         },
         "yaxis": "y"
        },
        {
         "hovertemplate": "Job Type=%{x}<br>Count=%{y}<extra></extra>",
         "legendgroup": "DotNet Developer",
         "marker": {
          "color": "#FECB52",
          "pattern": {
           "shape": ""
          }
         },
         "name": "DotNet Developer",
         "orientation": "v",
         "showlegend": true,
         "textposition": "auto",
         "type": "bar",
         "x": [
          "DotNet Developer"
         ],
         "xaxis": "x",
         "y": {
          "bdata": "HA==",
          "dtype": "i1"
         },
         "yaxis": "y"
        },
        {
         "hovertemplate": "Job Type=%{x}<br>Count=%{y}<extra></extra>",
         "legendgroup": "Automation Testing",
         "marker": {
          "color": "#636efa",
          "pattern": {
           "shape": ""
          }
         },
         "name": "Automation Testing",
         "orientation": "v",
         "showlegend": true,
         "textposition": "auto",
         "type": "bar",
         "x": [
          "Automation Testing"
         ],
         "xaxis": "x",
         "y": {
          "bdata": "Gg==",
          "dtype": "i1"
         },
         "yaxis": "y"
        },
        {
         "hovertemplate": "Job Type=%{x}<br>Count=%{y}<extra></extra>",
         "legendgroup": "Network Security Engineer",
         "marker": {
          "color": "#EF553B",
          "pattern": {
           "shape": ""
          }
         },
         "name": "Network Security Engineer",
         "orientation": "v",
         "showlegend": true,
         "textposition": "auto",
         "type": "bar",
         "x": [
          "Network Security Engineer"
         ],
         "xaxis": "x",
         "y": {
          "bdata": "GQ==",
          "dtype": "i1"
         },
         "yaxis": "y"
        },
        {
         "hovertemplate": "Job Type=%{x}<br>Count=%{y}<extra></extra>",
         "legendgroup": "SAP Developer",
         "marker": {
          "color": "#00cc96",
          "pattern": {
           "shape": ""
          }
         },
         "name": "SAP Developer",
         "orientation": "v",
         "showlegend": true,
         "textposition": "auto",
         "type": "bar",
         "x": [
          "SAP Developer"
         ],
         "xaxis": "x",
         "y": {
          "bdata": "GA==",
          "dtype": "i1"
         },
         "yaxis": "y"
        },
        {
         "hovertemplate": "Job Type=%{x}<br>Count=%{y}<extra></extra>",
         "legendgroup": "Civil Engineer",
         "marker": {
          "color": "#ab63fa",
          "pattern": {
           "shape": ""
          }
         },
         "name": "Civil Engineer",
         "orientation": "v",
         "showlegend": true,
         "textposition": "auto",
         "type": "bar",
         "x": [
          "Civil Engineer"
         ],
         "xaxis": "x",
         "y": {
          "bdata": "GA==",
          "dtype": "i1"
         },
         "yaxis": "y"
        },
        {
         "hovertemplate": "Job Type=%{x}<br>Count=%{y}<extra></extra>",
         "legendgroup": "Advocate",
         "marker": {
          "color": "#FFA15A",
          "pattern": {
           "shape": ""
          }
         },
         "name": "Advocate",
         "orientation": "v",
         "showlegend": true,
         "textposition": "auto",
         "type": "bar",
         "x": [
          "Advocate"
         ],
         "xaxis": "x",
         "y": {
          "bdata": "FA==",
          "dtype": "i1"
         },
         "yaxis": "y"
        }
       ],
       "layout": {
        "barmode": "relative",
        "legend": {
         "title": {
          "text": "Job Type"
         },
         "tracegroupgap": 0
        },
        "template": {
         "data": {
          "bar": [
           {
            "error_x": {
             "color": "#2a3f5f"
            },
            "error_y": {
             "color": "#2a3f5f"
            },
            "marker": {
             "line": {
              "color": "#E5ECF6",
              "width": 0.5
             },
             "pattern": {
              "fillmode": "overlay",
              "size": 10,
              "solidity": 0.2
             }
            },
            "type": "bar"
           }
          ],
          "barpolar": [
           {
            "marker": {
             "line": {
              "color": "#E5ECF6",
              "width": 0.5
             },
             "pattern": {
              "fillmode": "overlay",
              "size": 10,
              "solidity": 0.2
             }
            },
            "type": "barpolar"
           }
          ],
          "carpet": [
           {
            "aaxis": {
             "endlinecolor": "#2a3f5f",
             "gridcolor": "white",
             "linecolor": "white",
             "minorgridcolor": "white",
             "startlinecolor": "#2a3f5f"
            },
            "baxis": {
             "endlinecolor": "#2a3f5f",
             "gridcolor": "white",
             "linecolor": "white",
             "minorgridcolor": "white",
             "startlinecolor": "#2a3f5f"
            },
            "type": "carpet"
           }
          ],
          "choropleth": [
           {
            "colorbar": {
             "outlinewidth": 0,
             "ticks": ""
            },
            "type": "choropleth"
           }
          ],
          "contour": [
           {
            "colorbar": {
             "outlinewidth": 0,
             "ticks": ""
            },
            "colorscale": [
             [
              0,
              "#0d0887"
             ],
             [
              0.1111111111111111,
              "#46039f"
             ],
             [
              0.2222222222222222,
              "#7201a8"
             ],
             [
              0.3333333333333333,
              "#9c179e"
             ],
             [
              0.4444444444444444,
              "#bd3786"
             ],
             [
              0.5555555555555556,
              "#d8576b"
             ],
             [
              0.6666666666666666,
              "#ed7953"
             ],
             [
              0.7777777777777778,
              "#fb9f3a"
             ],
             [
              0.8888888888888888,
              "#fdca26"
             ],
             [
              1,
              "#f0f921"
             ]
            ],
            "type": "contour"
           }
          ],
          "contourcarpet": [
           {
            "colorbar": {
             "outlinewidth": 0,
             "ticks": ""
            },
            "type": "contourcarpet"
           }
          ],
          "heatmap": [
           {
            "colorbar": {
             "outlinewidth": 0,
             "ticks": ""
            },
            "colorscale": [
             [
              0,
              "#0d0887"
             ],
             [
              0.1111111111111111,
              "#46039f"
             ],
             [
              0.2222222222222222,
              "#7201a8"
             ],
             [
              0.3333333333333333,
              "#9c179e"
             ],
             [
              0.4444444444444444,
              "#bd3786"
             ],
             [
              0.5555555555555556,
              "#d8576b"
             ],
             [
              0.6666666666666666,
              "#ed7953"
             ],
             [
              0.7777777777777778,
              "#fb9f3a"
             ],
             [
              0.8888888888888888,
              "#fdca26"
             ],
             [
              1,
              "#f0f921"
             ]
            ],
            "type": "heatmap"
           }
          ],
          "histogram": [
           {
            "marker": {
             "pattern": {
              "fillmode": "overlay",
              "size": 10,
              "solidity": 0.2
             }
            },
            "type": "histogram"
           }
          ],
          "histogram2d": [
           {
            "colorbar": {
             "outlinewidth": 0,
             "ticks": ""
            },
            "colorscale": [
             [
              0,
              "#0d0887"
             ],
             [
              0.1111111111111111,
              "#46039f"
             ],
             [
              0.2222222222222222,
              "#7201a8"
             ],
             [
              0.3333333333333333,
              "#9c179e"
             ],
             [
              0.4444444444444444,
              "#bd3786"
             ],
             [
              0.5555555555555556,
              "#d8576b"
             ],
             [
              0.6666666666666666,
              "#ed7953"
             ],
             [
              0.7777777777777778,
              "#fb9f3a"
             ],
             [
              0.8888888888888888,
              "#fdca26"
             ],
             [
              1,
              "#f0f921"
             ]
            ],
            "type": "histogram2d"
           }
          ],
          "histogram2dcontour": [
           {
            "colorbar": {
             "outlinewidth": 0,
             "ticks": ""
            },
            "colorscale": [
             [
              0,
              "#0d0887"
             ],
             [
              0.1111111111111111,
              "#46039f"
             ],
             [
              0.2222222222222222,
              "#7201a8"
             ],
             [
              0.3333333333333333,
              "#9c179e"
             ],
             [
              0.4444444444444444,
              "#bd3786"
             ],
             [
              0.5555555555555556,
              "#d8576b"
             ],
             [
              0.6666666666666666,
              "#ed7953"
             ],
             [
              0.7777777777777778,
              "#fb9f3a"
             ],
             [
              0.8888888888888888,
              "#fdca26"
             ],
             [
              1,
              "#f0f921"
             ]
            ],
            "type": "histogram2dcontour"
           }
          ],
          "mesh3d": [
           {
            "colorbar": {
             "outlinewidth": 0,
             "ticks": ""
            },
            "type": "mesh3d"
           }
          ],
          "parcoords": [
           {
            "line": {
             "colorbar": {
              "outlinewidth": 0,
              "ticks": ""
             }
            },
            "type": "parcoords"
           }
          ],
          "pie": [
           {
            "automargin": true,
            "type": "pie"
           }
          ],
          "scatter": [
           {
            "fillpattern": {
             "fillmode": "overlay",
             "size": 10,
             "solidity": 0.2
            },
            "type": "scatter"
           }
          ],
          "scatter3d": [
           {
            "line": {
             "colorbar": {
              "outlinewidth": 0,
              "ticks": ""
             }
            },
            "marker": {
             "colorbar": {
              "outlinewidth": 0,
              "ticks": ""
             }
            },
            "type": "scatter3d"
           }
          ],
          "scattercarpet": [
           {
            "marker": {
             "colorbar": {
              "outlinewidth": 0,
              "ticks": ""
             }
            },
            "type": "scattercarpet"
           }
          ],
          "scattergeo": [
           {
            "marker": {
             "colorbar": {
              "outlinewidth": 0,
              "ticks": ""
             }
            },
            "type": "scattergeo"
           }
          ],
          "scattergl": [
           {
            "marker": {
             "colorbar": {
              "outlinewidth": 0,
              "ticks": ""
             }
            },
            "type": "scattergl"
           }
          ],
          "scattermap": [
           {
            "marker": {
             "colorbar": {
              "outlinewidth": 0,
              "ticks": ""
             }
            },
            "type": "scattermap"
           }
          ],
          "scattermapbox": [
           {
            "marker": {
             "colorbar": {
              "outlinewidth": 0,
              "ticks": ""
             }
            },
            "type": "scattermapbox"
           }
          ],
          "scatterpolar": [
           {
            "marker": {
             "colorbar": {
              "outlinewidth": 0,
              "ticks": ""
             }
            },
            "type": "scatterpolar"
           }
          ],
          "scatterpolargl": [
           {
            "marker": {
             "colorbar": {
              "outlinewidth": 0,
              "ticks": ""
             }
            },
            "type": "scatterpolargl"
           }
          ],
          "scatterternary": [
           {
            "marker": {
             "colorbar": {
              "outlinewidth": 0,
              "ticks": ""
             }
            },
            "type": "scatterternary"
           }
          ],
          "surface": [
           {
            "colorbar": {
             "outlinewidth": 0,
             "ticks": ""
            },
            "colorscale": [
             [
              0,
              "#0d0887"
             ],
             [
              0.1111111111111111,
              "#46039f"
             ],
             [
              0.2222222222222222,
              "#7201a8"
             ],
             [
              0.3333333333333333,
              "#9c179e"
             ],
             [
              0.4444444444444444,
              "#bd3786"
             ],
             [
              0.5555555555555556,
              "#d8576b"
             ],
             [
              0.6666666666666666,
              "#ed7953"
             ],
             [
              0.7777777777777778,
              "#fb9f3a"
             ],
             [
              0.8888888888888888,
              "#fdca26"
             ],
             [
              1,
              "#f0f921"
             ]
            ],
            "type": "surface"
           }
          ],
          "table": [
           {
            "cells": {
             "fill": {
              "color": "#EBF0F8"
             },
             "line": {
              "color": "white"
             }
            },
            "header": {
             "fill": {
              "color": "#C8D4E3"
             },
             "line": {
              "color": "white"
             }
            },
            "type": "table"
           }
          ]
         },
         "layout": {
          "annotationdefaults": {
           "arrowcolor": "#2a3f5f",
           "arrowhead": 0,
           "arrowwidth": 1
          },
          "autotypenumbers": "strict",
          "coloraxis": {
           "colorbar": {
            "outlinewidth": 0,
            "ticks": ""
           }
          },
          "colorscale": {
           "diverging": [
            [
             0,
             "#8e0152"
            ],
            [
             0.1,
             "#c51b7d"
            ],
            [
             0.2,
             "#de77ae"
            ],
            [
             0.3,
             "#f1b6da"
            ],
            [
             0.4,
             "#fde0ef"
            ],
            [
             0.5,
             "#f7f7f7"
            ],
            [
             0.6,
             "#e6f5d0"
            ],
            [
             0.7,
             "#b8e186"
            ],
            [
             0.8,
             "#7fbc41"
            ],
            [
             0.9,
             "#4d9221"
            ],
            [
             1,
             "#276419"
            ]
           ],
           "sequential": [
            [
             0,
             "#0d0887"
            ],
            [
             0.1111111111111111,
             "#46039f"
            ],
            [
             0.2222222222222222,
             "#7201a8"
            ],
            [
             0.3333333333333333,
             "#9c179e"
            ],
            [
             0.4444444444444444,
             "#bd3786"
            ],
            [
             0.5555555555555556,
             "#d8576b"
            ],
            [
             0.6666666666666666,
             "#ed7953"
            ],
            [
             0.7777777777777778,
             "#fb9f3a"
            ],
            [
             0.8888888888888888,
             "#fdca26"
            ],
            [
             1,
             "#f0f921"
            ]
           ],
           "sequentialminus": [
            [
             0,
             "#0d0887"
            ],
            [
             0.1111111111111111,
             "#46039f"
            ],
            [
             0.2222222222222222,
             "#7201a8"
            ],
            [
             0.3333333333333333,
             "#9c179e"
            ],
            [
             0.4444444444444444,
             "#bd3786"
            ],
            [
             0.5555555555555556,
             "#d8576b"
            ],
            [
             0.6666666666666666,
             "#ed7953"
            ],
            [
             0.7777777777777778,
             "#fb9f3a"
            ],
            [
             0.8888888888888888,
             "#fdca26"
            ],
            [
             1,
             "#f0f921"
            ]
           ]
          },
          "colorway": [
           "#636efa",
           "#EF553B",
           "#00cc96",
           "#ab63fa",
           "#FFA15A",
           "#19d3f3",
           "#FF6692",
           "#B6E880",
           "#FF97FF",
           "#FECB52"
          ],
          "font": {
           "color": "#2a3f5f"
          },
          "geo": {
           "bgcolor": "white",
           "lakecolor": "white",
           "landcolor": "#E5ECF6",
           "showlakes": true,
           "showland": true,
           "subunitcolor": "white"
          },
          "hoverlabel": {
           "align": "left"
          },
          "hovermode": "closest",
          "mapbox": {
           "style": "light"
          },
          "paper_bgcolor": "white",
          "plot_bgcolor": "#E5ECF6",
          "polar": {
           "angularaxis": {
            "gridcolor": "white",
            "linecolor": "white",
            "ticks": ""
           },
           "bgcolor": "#E5ECF6",
           "radialaxis": {
            "gridcolor": "white",
            "linecolor": "white",
            "ticks": ""
           }
          },
          "scene": {
           "xaxis": {
            "backgroundcolor": "#E5ECF6",
            "gridcolor": "white",
            "gridwidth": 2,
            "linecolor": "white",
            "showbackground": true,
            "ticks": "",
            "zerolinecolor": "white"
           },
           "yaxis": {
            "backgroundcolor": "#E5ECF6",
            "gridcolor": "white",
            "gridwidth": 2,
            "linecolor": "white",
            "showbackground": true,
            "ticks": "",
            "zerolinecolor": "white"
           },
           "zaxis": {
            "backgroundcolor": "#E5ECF6",
            "gridcolor": "white",
            "gridwidth": 2,
            "linecolor": "white",
            "showbackground": true,
            "ticks": "",
            "zerolinecolor": "white"
           }
          },
          "shapedefaults": {
           "line": {
            "color": "#2a3f5f"
           }
          },
          "ternary": {
           "aaxis": {
            "gridcolor": "white",
            "linecolor": "white",
            "ticks": ""
           },
           "baxis": {
            "gridcolor": "white",
            "linecolor": "white",
            "ticks": ""
           },
           "bgcolor": "#E5ECF6",
           "caxis": {
            "gridcolor": "white",
            "linecolor": "white",
            "ticks": ""
           }
          },
          "title": {
           "x": 0.05
          },
          "xaxis": {
           "automargin": true,
           "gridcolor": "white",
           "linecolor": "white",
           "ticks": "",
           "title": {
            "standoff": 15
           },
           "zerolinecolor": "white",
           "zerolinewidth": 2
          },
          "yaxis": {
           "automargin": true,
           "gridcolor": "white",
           "linecolor": "white",
           "ticks": "",
           "title": {
            "standoff": 15
           },
           "zerolinecolor": "white",
           "zerolinewidth": 2
          }
         }
        },
        "title": {
         "text": "Job Category Count"
        },
        "xaxis": {
         "anchor": "y",
         "categoryarray": [
          "Java Developer",
          "Testing",
          "DevOps Engineer",
          "Python Developer",
          "Web Designing",
          "HR",
          "Hadoop",
          "Blockchain",
          "ETL Developer",
          "Operations Manager",
          "Data Science",
          "Sales",
          "Mechanical Engineer",
          "Arts",
          "Database",
          "Electrical Engineering",
          "Health and fitness",
          "PMO",
          "Business Analyst",
          "DotNet Developer",
          "Automation Testing",
          "Network Security Engineer",
          "SAP Developer",
          "Civil Engineer",
          "Advocate"
         ],
         "categoryorder": "array",
         "domain": [
          0,
          1
         ],
         "tickangle": -45,
         "title": {
          "text": "Job Type"
         }
        },
        "yaxis": {
         "anchor": "x",
         "domain": [
          0,
          1
         ],
         "title": {
          "text": "Count"
         }
        }
       }
      }
     },
     "metadata": {},
     "output_type": "display_data"
    }
   ],
   "source": [
    "fig = px.bar(\n",
    "    plot_data, \n",
    "    x='Category', \n",
    "    y='Count',\n",
    "    color='Category',\n",
    "    title='Job Category Count',\n",
    "    labels={'Category': 'Job Type', 'Count': 'Count'} \n",
    ")\n",
    "\n",
    "fig.update_xaxes(tickangle=-45)\n",
    "\n",
    "fig.show()"
   ]
  },
  {
   "cell_type": "code",
   "execution_count": 28,
   "metadata": {},
   "outputs": [
    {
     "data": {
      "application/vnd.plotly.v1+json": {
       "config": {
        "plotlyServerURL": "https://plot.ly"
       },
       "data": [
        {
         "domain": {
          "x": [
           0,
           1
          ],
          "y": [
           0,
           1
          ]
         },
         "hole": 0.4,
         "hovertemplate": "Job Type=%{label}<br>Count=%{value}<extra></extra>",
         "labels": [
          "Java Developer",
          "Testing",
          "DevOps Engineer",
          "Python Developer",
          "Web Designing",
          "HR",
          "Hadoop",
          "Blockchain",
          "ETL Developer",
          "Operations Manager",
          "Data Science",
          "Sales",
          "Mechanical Engineer",
          "Arts",
          "Database",
          "Electrical Engineering",
          "Health and fitness",
          "PMO",
          "Business Analyst",
          "DotNet Developer",
          "Automation Testing",
          "Network Security Engineer",
          "SAP Developer",
          "Civil Engineer",
          "Advocate"
         ],
         "legendgroup": "",
         "name": "",
         "opacity": 0.8,
         "showlegend": true,
         "type": "pie",
         "values": {
          "bdata": "VEY3MC0sKigoKCgoKCQhHh4eHBwaGRgYFA==",
          "dtype": "i1"
         }
        }
       ],
       "layout": {
        "font": {
         "color": "black",
         "family": "Times New Roman",
         "size": 16
        },
        "legend": {
         "title": {
          "text": "Categories"
         },
         "tracegroupgap": 0
        },
        "margin": {
         "b": 50,
         "l": 50,
         "r": 50,
         "t": 50
        },
        "piecolorway": [
         "rgb(103,0,31)",
         "rgb(178,24,43)",
         "rgb(214,96,77)",
         "rgb(244,165,130)",
         "rgb(253,219,199)",
         "rgb(247,247,247)",
         "rgb(209,229,240)",
         "rgb(146,197,222)",
         "rgb(67,147,195)",
         "rgb(33,102,172)",
         "rgb(5,48,97)"
        ],
        "plot_bgcolor": "white",
        "template": {
         "data": {
          "bar": [
           {
            "error_x": {
             "color": "#2a3f5f"
            },
            "error_y": {
             "color": "#2a3f5f"
            },
            "marker": {
             "line": {
              "color": "#E5ECF6",
              "width": 0.5
             },
             "pattern": {
              "fillmode": "overlay",
              "size": 10,
              "solidity": 0.2
             }
            },
            "type": "bar"
           }
          ],
          "barpolar": [
           {
            "marker": {
             "line": {
              "color": "#E5ECF6",
              "width": 0.5
             },
             "pattern": {
              "fillmode": "overlay",
              "size": 10,
              "solidity": 0.2
             }
            },
            "type": "barpolar"
           }
          ],
          "carpet": [
           {
            "aaxis": {
             "endlinecolor": "#2a3f5f",
             "gridcolor": "white",
             "linecolor": "white",
             "minorgridcolor": "white",
             "startlinecolor": "#2a3f5f"
            },
            "baxis": {
             "endlinecolor": "#2a3f5f",
             "gridcolor": "white",
             "linecolor": "white",
             "minorgridcolor": "white",
             "startlinecolor": "#2a3f5f"
            },
            "type": "carpet"
           }
          ],
          "choropleth": [
           {
            "colorbar": {
             "outlinewidth": 0,
             "ticks": ""
            },
            "type": "choropleth"
           }
          ],
          "contour": [
           {
            "colorbar": {
             "outlinewidth": 0,
             "ticks": ""
            },
            "colorscale": [
             [
              0,
              "#0d0887"
             ],
             [
              0.1111111111111111,
              "#46039f"
             ],
             [
              0.2222222222222222,
              "#7201a8"
             ],
             [
              0.3333333333333333,
              "#9c179e"
             ],
             [
              0.4444444444444444,
              "#bd3786"
             ],
             [
              0.5555555555555556,
              "#d8576b"
             ],
             [
              0.6666666666666666,
              "#ed7953"
             ],
             [
              0.7777777777777778,
              "#fb9f3a"
             ],
             [
              0.8888888888888888,
              "#fdca26"
             ],
             [
              1,
              "#f0f921"
             ]
            ],
            "type": "contour"
           }
          ],
          "contourcarpet": [
           {
            "colorbar": {
             "outlinewidth": 0,
             "ticks": ""
            },
            "type": "contourcarpet"
           }
          ],
          "heatmap": [
           {
            "colorbar": {
             "outlinewidth": 0,
             "ticks": ""
            },
            "colorscale": [
             [
              0,
              "#0d0887"
             ],
             [
              0.1111111111111111,
              "#46039f"
             ],
             [
              0.2222222222222222,
              "#7201a8"
             ],
             [
              0.3333333333333333,
              "#9c179e"
             ],
             [
              0.4444444444444444,
              "#bd3786"
             ],
             [
              0.5555555555555556,
              "#d8576b"
             ],
             [
              0.6666666666666666,
              "#ed7953"
             ],
             [
              0.7777777777777778,
              "#fb9f3a"
             ],
             [
              0.8888888888888888,
              "#fdca26"
             ],
             [
              1,
              "#f0f921"
             ]
            ],
            "type": "heatmap"
           }
          ],
          "histogram": [
           {
            "marker": {
             "pattern": {
              "fillmode": "overlay",
              "size": 10,
              "solidity": 0.2
             }
            },
            "type": "histogram"
           }
          ],
          "histogram2d": [
           {
            "colorbar": {
             "outlinewidth": 0,
             "ticks": ""
            },
            "colorscale": [
             [
              0,
              "#0d0887"
             ],
             [
              0.1111111111111111,
              "#46039f"
             ],
             [
              0.2222222222222222,
              "#7201a8"
             ],
             [
              0.3333333333333333,
              "#9c179e"
             ],
             [
              0.4444444444444444,
              "#bd3786"
             ],
             [
              0.5555555555555556,
              "#d8576b"
             ],
             [
              0.6666666666666666,
              "#ed7953"
             ],
             [
              0.7777777777777778,
              "#fb9f3a"
             ],
             [
              0.8888888888888888,
              "#fdca26"
             ],
             [
              1,
              "#f0f921"
             ]
            ],
            "type": "histogram2d"
           }
          ],
          "histogram2dcontour": [
           {
            "colorbar": {
             "outlinewidth": 0,
             "ticks": ""
            },
            "colorscale": [
             [
              0,
              "#0d0887"
             ],
             [
              0.1111111111111111,
              "#46039f"
             ],
             [
              0.2222222222222222,
              "#7201a8"
             ],
             [
              0.3333333333333333,
              "#9c179e"
             ],
             [
              0.4444444444444444,
              "#bd3786"
             ],
             [
              0.5555555555555556,
              "#d8576b"
             ],
             [
              0.6666666666666666,
              "#ed7953"
             ],
             [
              0.7777777777777778,
              "#fb9f3a"
             ],
             [
              0.8888888888888888,
              "#fdca26"
             ],
             [
              1,
              "#f0f921"
             ]
            ],
            "type": "histogram2dcontour"
           }
          ],
          "mesh3d": [
           {
            "colorbar": {
             "outlinewidth": 0,
             "ticks": ""
            },
            "type": "mesh3d"
           }
          ],
          "parcoords": [
           {
            "line": {
             "colorbar": {
              "outlinewidth": 0,
              "ticks": ""
             }
            },
            "type": "parcoords"
           }
          ],
          "pie": [
           {
            "automargin": true,
            "type": "pie"
           }
          ],
          "scatter": [
           {
            "fillpattern": {
             "fillmode": "overlay",
             "size": 10,
             "solidity": 0.2
            },
            "type": "scatter"
           }
          ],
          "scatter3d": [
           {
            "line": {
             "colorbar": {
              "outlinewidth": 0,
              "ticks": ""
             }
            },
            "marker": {
             "colorbar": {
              "outlinewidth": 0,
              "ticks": ""
             }
            },
            "type": "scatter3d"
           }
          ],
          "scattercarpet": [
           {
            "marker": {
             "colorbar": {
              "outlinewidth": 0,
              "ticks": ""
             }
            },
            "type": "scattercarpet"
           }
          ],
          "scattergeo": [
           {
            "marker": {
             "colorbar": {
              "outlinewidth": 0,
              "ticks": ""
             }
            },
            "type": "scattergeo"
           }
          ],
          "scattergl": [
           {
            "marker": {
             "colorbar": {
              "outlinewidth": 0,
              "ticks": ""
             }
            },
            "type": "scattergl"
           }
          ],
          "scattermap": [
           {
            "marker": {
             "colorbar": {
              "outlinewidth": 0,
              "ticks": ""
             }
            },
            "type": "scattermap"
           }
          ],
          "scattermapbox": [
           {
            "marker": {
             "colorbar": {
              "outlinewidth": 0,
              "ticks": ""
             }
            },
            "type": "scattermapbox"
           }
          ],
          "scatterpolar": [
           {
            "marker": {
             "colorbar": {
              "outlinewidth": 0,
              "ticks": ""
             }
            },
            "type": "scatterpolar"
           }
          ],
          "scatterpolargl": [
           {
            "marker": {
             "colorbar": {
              "outlinewidth": 0,
              "ticks": ""
             }
            },
            "type": "scatterpolargl"
           }
          ],
          "scatterternary": [
           {
            "marker": {
             "colorbar": {
              "outlinewidth": 0,
              "ticks": ""
             }
            },
            "type": "scatterternary"
           }
          ],
          "surface": [
           {
            "colorbar": {
             "outlinewidth": 0,
             "ticks": ""
            },
            "colorscale": [
             [
              0,
              "#0d0887"
             ],
             [
              0.1111111111111111,
              "#46039f"
             ],
             [
              0.2222222222222222,
              "#7201a8"
             ],
             [
              0.3333333333333333,
              "#9c179e"
             ],
             [
              0.4444444444444444,
              "#bd3786"
             ],
             [
              0.5555555555555556,
              "#d8576b"
             ],
             [
              0.6666666666666666,
              "#ed7953"
             ],
             [
              0.7777777777777778,
              "#fb9f3a"
             ],
             [
              0.8888888888888888,
              "#fdca26"
             ],
             [
              1,
              "#f0f921"
             ]
            ],
            "type": "surface"
           }
          ],
          "table": [
           {
            "cells": {
             "fill": {
              "color": "#EBF0F8"
             },
             "line": {
              "color": "white"
             }
            },
            "header": {
             "fill": {
              "color": "#C8D4E3"
             },
             "line": {
              "color": "white"
             }
            },
            "type": "table"
           }
          ]
         },
         "layout": {
          "annotationdefaults": {
           "arrowcolor": "#2a3f5f",
           "arrowhead": 0,
           "arrowwidth": 1
          },
          "autotypenumbers": "strict",
          "coloraxis": {
           "colorbar": {
            "outlinewidth": 0,
            "ticks": ""
           }
          },
          "colorscale": {
           "diverging": [
            [
             0,
             "#8e0152"
            ],
            [
             0.1,
             "#c51b7d"
            ],
            [
             0.2,
             "#de77ae"
            ],
            [
             0.3,
             "#f1b6da"
            ],
            [
             0.4,
             "#fde0ef"
            ],
            [
             0.5,
             "#f7f7f7"
            ],
            [
             0.6,
             "#e6f5d0"
            ],
            [
             0.7,
             "#b8e186"
            ],
            [
             0.8,
             "#7fbc41"
            ],
            [
             0.9,
             "#4d9221"
            ],
            [
             1,
             "#276419"
            ]
           ],
           "sequential": [
            [
             0,
             "#0d0887"
            ],
            [
             0.1111111111111111,
             "#46039f"
            ],
            [
             0.2222222222222222,
             "#7201a8"
            ],
            [
             0.3333333333333333,
             "#9c179e"
            ],
            [
             0.4444444444444444,
             "#bd3786"
            ],
            [
             0.5555555555555556,
             "#d8576b"
            ],
            [
             0.6666666666666666,
             "#ed7953"
            ],
            [
             0.7777777777777778,
             "#fb9f3a"
            ],
            [
             0.8888888888888888,
             "#fdca26"
            ],
            [
             1,
             "#f0f921"
            ]
           ],
           "sequentialminus": [
            [
             0,
             "#0d0887"
            ],
            [
             0.1111111111111111,
             "#46039f"
            ],
            [
             0.2222222222222222,
             "#7201a8"
            ],
            [
             0.3333333333333333,
             "#9c179e"
            ],
            [
             0.4444444444444444,
             "#bd3786"
            ],
            [
             0.5555555555555556,
             "#d8576b"
            ],
            [
             0.6666666666666666,
             "#ed7953"
            ],
            [
             0.7777777777777778,
             "#fb9f3a"
            ],
            [
             0.8888888888888888,
             "#fdca26"
            ],
            [
             1,
             "#f0f921"
            ]
           ]
          },
          "colorway": [
           "#636efa",
           "#EF553B",
           "#00cc96",
           "#ab63fa",
           "#FFA15A",
           "#19d3f3",
           "#FF6692",
           "#B6E880",
           "#FF97FF",
           "#FECB52"
          ],
          "font": {
           "color": "#2a3f5f"
          },
          "geo": {
           "bgcolor": "white",
           "lakecolor": "white",
           "landcolor": "#E5ECF6",
           "showlakes": true,
           "showland": true,
           "subunitcolor": "white"
          },
          "hoverlabel": {
           "align": "left"
          },
          "hovermode": "closest",
          "mapbox": {
           "style": "light"
          },
          "paper_bgcolor": "white",
          "plot_bgcolor": "#E5ECF6",
          "polar": {
           "angularaxis": {
            "gridcolor": "white",
            "linecolor": "white",
            "ticks": ""
           },
           "bgcolor": "#E5ECF6",
           "radialaxis": {
            "gridcolor": "white",
            "linecolor": "white",
            "ticks": ""
           }
          },
          "scene": {
           "xaxis": {
            "backgroundcolor": "#E5ECF6",
            "gridcolor": "white",
            "gridwidth": 2,
            "linecolor": "white",
            "showbackground": true,
            "ticks": "",
            "zerolinecolor": "white"
           },
           "yaxis": {
            "backgroundcolor": "#E5ECF6",
            "gridcolor": "white",
            "gridwidth": 2,
            "linecolor": "white",
            "showbackground": true,
            "ticks": "",
            "zerolinecolor": "white"
           },
           "zaxis": {
            "backgroundcolor": "#E5ECF6",
            "gridcolor": "white",
            "gridwidth": 2,
            "linecolor": "white",
            "showbackground": true,
            "ticks": "",
            "zerolinecolor": "white"
           }
          },
          "shapedefaults": {
           "line": {
            "color": "#2a3f5f"
           }
          },
          "ternary": {
           "aaxis": {
            "gridcolor": "white",
            "linecolor": "white",
            "ticks": ""
           },
           "baxis": {
            "gridcolor": "white",
            "linecolor": "white",
            "ticks": ""
           },
           "bgcolor": "#E5ECF6",
           "caxis": {
            "gridcolor": "white",
            "linecolor": "white",
            "ticks": ""
           }
          },
          "title": {
           "x": 0.05
          },
          "xaxis": {
           "automargin": true,
           "gridcolor": "white",
           "linecolor": "white",
           "ticks": "",
           "title": {
            "standoff": 15
           },
           "zerolinecolor": "white",
           "zerolinewidth": 2
          },
          "yaxis": {
           "automargin": true,
           "gridcolor": "white",
           "linecolor": "white",
           "ticks": "",
           "title": {
            "standoff": 15
           },
           "zerolinecolor": "white",
           "zerolinewidth": 2
          }
         }
        },
        "title": {
         "text": "Job Category Count"
        }
       }
      }
     },
     "metadata": {},
     "output_type": "display_data"
    }
   ],
   "source": [
    "# Pie Plot\n",
    "\n",
    "fig = px.pie(plot_data, values='Count', names='Category',\n",
    "             title='Job Category Count',\n",
    "             color_discrete_sequence=px.colors.sequential.RdBu,\n",
    "             hole=0.4,\n",
    "             labels={'Category': 'Job Type', 'Count': 'Count'} ,\n",
    "             opacity=0.8,\n",
    "             )\n",
    "\n",
    "fig.update_layout(\n",
    "    legend_title='Categories',\n",
    "    font=dict(family='Times New Roman', size=16, color='black'),\n",
    "    plot_bgcolor='white',\n",
    "    margin=dict(t=50, b=50, l=50, r=50)\n",
    ")\n",
    "\n",
    "fig.show()"
   ]
  },
  {
   "cell_type": "markdown",
   "id": "639b4549",
   "metadata": {},
   "source": [
    "# Data Processing"
   ]
  },
  {
   "cell_type": "code",
   "execution_count": 36,
   "metadata": {},
   "outputs": [
    {
     "name": "stderr",
     "output_type": "stream",
     "text": [
      "[nltk_data] Downloading package stopwords to\n",
      "[nltk_data]     C:\\Users\\ydush\\AppData\\Roaming\\nltk_data...\n",
      "[nltk_data]   Package stopwords is already up-to-date!\n",
      "[nltk_data] Downloading package wordnet to\n",
      "[nltk_data]     C:\\Users\\ydush\\AppData\\Roaming\\nltk_data...\n",
      "[nltk_data]   Package wordnet is already up-to-date!\n"
     ]
    }
   ],
   "source": [
    "import re\n",
    "from sklearn.preprocessing import LabelEncoder\n",
    "import nltk\n",
    "from nltk.corpus import stopwords\n",
    "nltk.download('stopwords')\n",
    "nltk.download('wordnet')\n",
    "from nltk.stem import WordNetLemmatizer \n",
    "import string\n",
    "from sklearn.feature_extraction.text import TfidfVectorizer"
   ]
  },
  {
   "cell_type": "markdown",
   "metadata": {},
   "source": [
    "# Data Cleaning                                  \n",
    "1 Removing (URLs, hashtags, mentions, special letters, punctuations)\n",
    "\n",
    "2 Tokenizing the cleaned text\n",
    "\n",
    "3 Removing Stop Words\n",
    "\n",
    "4 Performing Lemmatization on final text    \n",
    "\n",
    "- The resumeKeywords function removes URLs, hashtags, mentions, special characters, non-ASCII characters, multiple spaces, and stop words from the input text while also performing tokenization, lowercasing, and lemmatization to provide cleaned and processed text as output.\n",
    "\n",
    "- <b>Tokenization:</b> Tokenization is the process of breaking a text into individual words or tokens. In this step, the text is split into its constituent words, which makes it easier to analyze and process. For example, the sentence \"I love coding\" would be tokenized into three tokens: \"I,\" \"love,\" and \"coding.\"\n",
    "\n",
    "- <b> StopWords: </b> Stopwords are common words that are typically removed from text during natural language processing to improve text analysis and reduce noise in the data.Examples of common stopwords in English include \"the,\" \"and,\" \"in,\" \"is,\" \"of,\" \"it,\" \"to,\" and many others. Removing stopwords from text helps reduce the dimensionality of the data and focuses the analysis on more meaningful words\n",
    "\n",
    "- <b>Lemmatization:</b> Lemmatization is the process of reducing words to their base or root form. This step is essential for text analysis because it reduces different forms of a word to a common base form. For example, the words \"running\" and \"ran\" would both be lemmatized to \"run.\" This simplifies the text and ensures that similar words are treated as the same, which is crucial for accurate analysis and modeling."
   ]
  },
  {
   "cell_type": "code",
   "execution_count": 42,
   "id": "16656511",
   "metadata": {},
   "outputs": [],
   "source": [
    "\n",
    "def resumeKeywords(text):   \n",
    "    cleantext = re.sub('http\\S+\\s', ' ', text) # Removes URLs\n",
    "    cleantext = re.sub('#\\S+\\s', ' ', cleantext) # Removes hashtags\n",
    "    cleantext = re.sub('@\\S+', '  ', cleantext)  # Removes mentions\n",
    "    cleantext = re.sub('[%s]' % re.escape(\"\"\"!\"#$%&'()*+,-./:;<=>?@[\\]^_`{|}~\"\"\"), ' ', cleantext) # Removes punctuations\n",
    "    cleantext = re.sub(r'[^\\x00-\\x7f]', ' ', cleantext) # Removes non-ASCII characters\n",
    "    cleantext = re.sub('\\s+', ' ', cleantext) # Replace multiple spaces with a single space\n",
    "    cleantext = cleantext.strip() # Removes leading and trailing whitespaces\n",
    "    \n",
    "\n",
    "    # Tokenizing our cleaned text\n",
    "    tokenizer = nltk.tokenize.RegexpTokenizer('\\w+')\n",
    "    tokens = tokenizer.tokenize(cleantext)\n",
    "    \n",
    "    words = []\n",
    "    for word in tokens:\n",
    "        words.append(word.lower())\n",
    "\n",
    "\n",
    "    # Removing Stop Words\n",
    "    stopwords = nltk.corpus.stopwords.words('english')\n",
    "    words_new = []\n",
    "    for word in words:\n",
    "        if word not in stopwords:\n",
    "            words_new.append(word)\n",
    "\n",
    "    # Performing Lemmatization\n",
    "    wn = WordNetLemmatizer() \n",
    "    lemm_text = [wn.lemmatize(word) for word in words_new]\n",
    "    \n",
    "    # Converting List into String\n",
    "    processed_text = ' '.join(lemm_text)\n",
    "    \n",
    "    return processed_text"
   ]
  },
  {
   "cell_type": "markdown",
   "metadata": {},
   "source": [
    "<b>- Testing the above custom function to remove certain details from Resume</b>"
   ]
  },
  {
   "cell_type": "code",
   "execution_count": 43,
   "id": "8b2c86ba",
   "metadata": {},
   "outputs": [
    {
     "data": {
      "text/plain": [
       "'technology service 2 vidarbha merchant urban co op bank 3 gisss 4 softtrust usa role responsibility communicated client understand requirement made mock website designed developed complete website hosted stipulated time company www jalloshband com description project name 1 jallosh band www jalloshband com 2 endeavor foundation role responsibility communicated client understand requirement made mock website designed developed complete website hosted stipulated time company 10magicalfingers description national international client interaction management digital data web designing education detail b c bachelor computer application pune maharashtra pune university h c pune maharashtra pune university c pune maharashtra pune university web designing developer'"
      ]
     },
     "execution_count": 43,
     "metadata": {},
     "output_type": "execute_result"
    }
   ],
   "source": [
    "# Testing the function resumeKeywords\n",
    "\n",
    "resumeKeywords(''' Technology Services - http://tsrtechnologyservices.com\n",
    "2. Vidarbha Merchants Urban Co-Op Bank - http://vmcbank.com\n",
    "3. GISSS - http://gisss.co.in\n",
    "4. Softtrust USA - http://softtrustusa.com\n",
    "Roles and Responsibility\n",
    "â Communicated with clients to understand their requirement\n",
    "â Made mocks for the website\n",
    "â Designed and developed complete website and hosted them in stipulated time.\n",
    "company - www.jalloshband.com\n",
    "description - Project Name:\n",
    "1. Jallosh Band - www.jalloshband.com\n",
    "2. An Endeavor Foundation\n",
    "Roles and Responsibility:\n",
    "â Communicated with clients to understand their requirement\n",
    "â Made mocks for the website\n",
    "â Designed and developed complete website and hosted them in stipulated time.\n",
    "company - 10MagicalFingers\n",
    "description - National and international client interaction.\n",
    "â Management of digital data\"\n",
    "Web Designing,\"Education Details \n",
    " B.C.A Bachelor Computer Application Pune, Maharashtra Pune University\n",
    " H.S.C.  Pune, Maharashtra Pune University\n",
    " S.S.C.  Pune, Maharashtra Pune University\n",
    "Web Designing and Developer ''')"
   ]
  },
  {
   "cell_type": "code",
   "execution_count": 44,
   "id": "e752795a",
   "metadata": {},
   "outputs": [
    {
     "data": {
      "text/html": [
       "<div>\n",
       "<style scoped>\n",
       "    .dataframe tbody tr th:only-of-type {\n",
       "        vertical-align: middle;\n",
       "    }\n",
       "\n",
       "    .dataframe tbody tr th {\n",
       "        vertical-align: top;\n",
       "    }\n",
       "\n",
       "    .dataframe thead th {\n",
       "        text-align: right;\n",
       "    }\n",
       "</style>\n",
       "<table border=\"1\" class=\"dataframe\">\n",
       "  <thead>\n",
       "    <tr style=\"text-align: right;\">\n",
       "      <th></th>\n",
       "      <th>Category</th>\n",
       "      <th>Resume</th>\n",
       "      <th>Clean_Resume</th>\n",
       "    </tr>\n",
       "  </thead>\n",
       "  <tbody>\n",
       "    <tr>\n",
       "      <th>0</th>\n",
       "      <td>Data Science</td>\n",
       "      <td>Skills * Programming Languages: Python (pandas...</td>\n",
       "      <td>skill programming language python panda numpy ...</td>\n",
       "    </tr>\n",
       "    <tr>\n",
       "      <th>1</th>\n",
       "      <td>Data Science</td>\n",
       "      <td>Education Details \\r\\nMay 2013 to May 2017 B.E...</td>\n",
       "      <td>education detail may 2013 may 2017 b e uit rgp...</td>\n",
       "    </tr>\n",
       "    <tr>\n",
       "      <th>2</th>\n",
       "      <td>Data Science</td>\n",
       "      <td>Areas of Interest Deep Learning, Control Syste...</td>\n",
       "      <td>area interest deep learning control system des...</td>\n",
       "    </tr>\n",
       "    <tr>\n",
       "      <th>3</th>\n",
       "      <td>Data Science</td>\n",
       "      <td>Skills â¢ R â¢ Python â¢ SAP HANA â¢ Table...</td>\n",
       "      <td>skill r python sap hana tableau sap hana sql s...</td>\n",
       "    </tr>\n",
       "    <tr>\n",
       "      <th>4</th>\n",
       "      <td>Data Science</td>\n",
       "      <td>Education Details \\r\\n MCA   YMCAUST,  Faridab...</td>\n",
       "      <td>education detail mca ymcaust faridabad haryana...</td>\n",
       "    </tr>\n",
       "  </tbody>\n",
       "</table>\n",
       "</div>"
      ],
      "text/plain": [
       "       Category                                             Resume  \\\n",
       "0  Data Science  Skills * Programming Languages: Python (pandas...   \n",
       "1  Data Science  Education Details \\r\\nMay 2013 to May 2017 B.E...   \n",
       "2  Data Science  Areas of Interest Deep Learning, Control Syste...   \n",
       "3  Data Science  Skills â¢ R â¢ Python â¢ SAP HANA â¢ Table...   \n",
       "4  Data Science  Education Details \\r\\n MCA   YMCAUST,  Faridab...   \n",
       "\n",
       "                                        Clean_Resume  \n",
       "0  skill programming language python panda numpy ...  \n",
       "1  education detail may 2013 may 2017 b e uit rgp...  \n",
       "2  area interest deep learning control system des...  \n",
       "3  skill r python sap hana tableau sap hana sql s...  \n",
       "4  education detail mca ymcaust faridabad haryana...  "
      ]
     },
     "execution_count": 44,
     "metadata": {},
     "output_type": "execute_result"
    }
   ],
   "source": [
    "# Creating a new column named Clean_Resume\n",
    "\n",
    "df['Clean_Resume'] = df['Resume'].apply(lambda x: resumeKeywords(x))\n",
    "df.head()"
   ]
  },
  {
   "cell_type": "markdown",
   "metadata": {},
   "source": [
    "## Visualizing the cleaned text through wordcloud"
   ]
  },
  {
   "cell_type": "code",
   "execution_count": 46,
   "metadata": {},
   "outputs": [
    {
     "data": {
      "application/vnd.plotly.v1+json": {
       "config": {
        "plotlyServerURL": "https://plot.ly"
       },
       "data": [
        {
         "hovertemplate": "x: %{x}<br>y: %{y}<br>color: [%{z[0]}, %{z[1]}, %{z[2]}]<extra></extra>",
         "name": "0",
         "source": "data:image/png;base64,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",
         "type": "image",
         "xaxis": "x",
         "yaxis": "y"
        }
       ],
       "layout": {
        "margin": {
         "t": 60
        },
        "plot_bgcolor": "white",
        "template": {
         "data": {
          "bar": [
           {
            "error_x": {
             "color": "#2a3f5f"
            },
            "error_y": {
             "color": "#2a3f5f"
            },
            "marker": {
             "line": {
              "color": "#E5ECF6",
              "width": 0.5
             },
             "pattern": {
              "fillmode": "overlay",
              "size": 10,
              "solidity": 0.2
             }
            },
            "type": "bar"
           }
          ],
          "barpolar": [
           {
            "marker": {
             "line": {
              "color": "#E5ECF6",
              "width": 0.5
             },
             "pattern": {
              "fillmode": "overlay",
              "size": 10,
              "solidity": 0.2
             }
            },
            "type": "barpolar"
           }
          ],
          "carpet": [
           {
            "aaxis": {
             "endlinecolor": "#2a3f5f",
             "gridcolor": "white",
             "linecolor": "white",
             "minorgridcolor": "white",
             "startlinecolor": "#2a3f5f"
            },
            "baxis": {
             "endlinecolor": "#2a3f5f",
             "gridcolor": "white",
             "linecolor": "white",
             "minorgridcolor": "white",
             "startlinecolor": "#2a3f5f"
            },
            "type": "carpet"
           }
          ],
          "choropleth": [
           {
            "colorbar": {
             "outlinewidth": 0,
             "ticks": ""
            },
            "type": "choropleth"
           }
          ],
          "contour": [
           {
            "colorbar": {
             "outlinewidth": 0,
             "ticks": ""
            },
            "colorscale": [
             [
              0,
              "#0d0887"
             ],
             [
              0.1111111111111111,
              "#46039f"
             ],
             [
              0.2222222222222222,
              "#7201a8"
             ],
             [
              0.3333333333333333,
              "#9c179e"
             ],
             [
              0.4444444444444444,
              "#bd3786"
             ],
             [
              0.5555555555555556,
              "#d8576b"
             ],
             [
              0.6666666666666666,
              "#ed7953"
             ],
             [
              0.7777777777777778,
              "#fb9f3a"
             ],
             [
              0.8888888888888888,
              "#fdca26"
             ],
             [
              1,
              "#f0f921"
             ]
            ],
            "type": "contour"
           }
          ],
          "contourcarpet": [
           {
            "colorbar": {
             "outlinewidth": 0,
             "ticks": ""
            },
            "type": "contourcarpet"
           }
          ],
          "heatmap": [
           {
            "colorbar": {
             "outlinewidth": 0,
             "ticks": ""
            },
            "colorscale": [
             [
              0,
              "#0d0887"
             ],
             [
              0.1111111111111111,
              "#46039f"
             ],
             [
              0.2222222222222222,
              "#7201a8"
             ],
             [
              0.3333333333333333,
              "#9c179e"
             ],
             [
              0.4444444444444444,
              "#bd3786"
             ],
             [
              0.5555555555555556,
              "#d8576b"
             ],
             [
              0.6666666666666666,
              "#ed7953"
             ],
             [
              0.7777777777777778,
              "#fb9f3a"
             ],
             [
              0.8888888888888888,
              "#fdca26"
             ],
             [
              1,
              "#f0f921"
             ]
            ],
            "type": "heatmap"
           }
          ],
          "histogram": [
           {
            "marker": {
             "pattern": {
              "fillmode": "overlay",
              "size": 10,
              "solidity": 0.2
             }
            },
            "type": "histogram"
           }
          ],
          "histogram2d": [
           {
            "colorbar": {
             "outlinewidth": 0,
             "ticks": ""
            },
            "colorscale": [
             [
              0,
              "#0d0887"
             ],
             [
              0.1111111111111111,
              "#46039f"
             ],
             [
              0.2222222222222222,
              "#7201a8"
             ],
             [
              0.3333333333333333,
              "#9c179e"
             ],
             [
              0.4444444444444444,
              "#bd3786"
             ],
             [
              0.5555555555555556,
              "#d8576b"
             ],
             [
              0.6666666666666666,
              "#ed7953"
             ],
             [
              0.7777777777777778,
              "#fb9f3a"
             ],
             [
              0.8888888888888888,
              "#fdca26"
             ],
             [
              1,
              "#f0f921"
             ]
            ],
            "type": "histogram2d"
           }
          ],
          "histogram2dcontour": [
           {
            "colorbar": {
             "outlinewidth": 0,
             "ticks": ""
            },
            "colorscale": [
             [
              0,
              "#0d0887"
             ],
             [
              0.1111111111111111,
              "#46039f"
             ],
             [
              0.2222222222222222,
              "#7201a8"
             ],
             [
              0.3333333333333333,
              "#9c179e"
             ],
             [
              0.4444444444444444,
              "#bd3786"
             ],
             [
              0.5555555555555556,
              "#d8576b"
             ],
             [
              0.6666666666666666,
              "#ed7953"
             ],
             [
              0.7777777777777778,
              "#fb9f3a"
             ],
             [
              0.8888888888888888,
              "#fdca26"
             ],
             [
              1,
              "#f0f921"
             ]
            ],
            "type": "histogram2dcontour"
           }
          ],
          "mesh3d": [
           {
            "colorbar": {
             "outlinewidth": 0,
             "ticks": ""
            },
            "type": "mesh3d"
           }
          ],
          "parcoords": [
           {
            "line": {
             "colorbar": {
              "outlinewidth": 0,
              "ticks": ""
             }
            },
            "type": "parcoords"
           }
          ],
          "pie": [
           {
            "automargin": true,
            "type": "pie"
           }
          ],
          "scatter": [
           {
            "fillpattern": {
             "fillmode": "overlay",
             "size": 10,
             "solidity": 0.2
            },
            "type": "scatter"
           }
          ],
          "scatter3d": [
           {
            "line": {
             "colorbar": {
              "outlinewidth": 0,
              "ticks": ""
             }
            },
            "marker": {
             "colorbar": {
              "outlinewidth": 0,
              "ticks": ""
             }
            },
            "type": "scatter3d"
           }
          ],
          "scattercarpet": [
           {
            "marker": {
             "colorbar": {
              "outlinewidth": 0,
              "ticks": ""
             }
            },
            "type": "scattercarpet"
           }
          ],
          "scattergeo": [
           {
            "marker": {
             "colorbar": {
              "outlinewidth": 0,
              "ticks": ""
             }
            },
            "type": "scattergeo"
           }
          ],
          "scattergl": [
           {
            "marker": {
             "colorbar": {
              "outlinewidth": 0,
              "ticks": ""
             }
            },
            "type": "scattergl"
           }
          ],
          "scattermap": [
           {
            "marker": {
             "colorbar": {
              "outlinewidth": 0,
              "ticks": ""
             }
            },
            "type": "scattermap"
           }
          ],
          "scattermapbox": [
           {
            "marker": {
             "colorbar": {
              "outlinewidth": 0,
              "ticks": ""
             }
            },
            "type": "scattermapbox"
           }
          ],
          "scatterpolar": [
           {
            "marker": {
             "colorbar": {
              "outlinewidth": 0,
              "ticks": ""
             }
            },
            "type": "scatterpolar"
           }
          ],
          "scatterpolargl": [
           {
            "marker": {
             "colorbar": {
              "outlinewidth": 0,
              "ticks": ""
             }
            },
            "type": "scatterpolargl"
           }
          ],
          "scatterternary": [
           {
            "marker": {
             "colorbar": {
              "outlinewidth": 0,
              "ticks": ""
             }
            },
            "type": "scatterternary"
           }
          ],
          "surface": [
           {
            "colorbar": {
             "outlinewidth": 0,
             "ticks": ""
            },
            "colorscale": [
             [
              0,
              "#0d0887"
             ],
             [
              0.1111111111111111,
              "#46039f"
             ],
             [
              0.2222222222222222,
              "#7201a8"
             ],
             [
              0.3333333333333333,
              "#9c179e"
             ],
             [
              0.4444444444444444,
              "#bd3786"
             ],
             [
              0.5555555555555556,
              "#d8576b"
             ],
             [
              0.6666666666666666,
              "#ed7953"
             ],
             [
              0.7777777777777778,
              "#fb9f3a"
             ],
             [
              0.8888888888888888,
              "#fdca26"
             ],
             [
              1,
              "#f0f921"
             ]
            ],
            "type": "surface"
           }
          ],
          "table": [
           {
            "cells": {
             "fill": {
              "color": "#EBF0F8"
             },
             "line": {
              "color": "white"
             }
            },
            "header": {
             "fill": {
              "color": "#C8D4E3"
             },
             "line": {
              "color": "white"
             }
            },
            "type": "table"
           }
          ]
         },
         "layout": {
          "annotationdefaults": {
           "arrowcolor": "#2a3f5f",
           "arrowhead": 0,
           "arrowwidth": 1
          },
          "autotypenumbers": "strict",
          "coloraxis": {
           "colorbar": {
            "outlinewidth": 0,
            "ticks": ""
           }
          },
          "colorscale": {
           "diverging": [
            [
             0,
             "#8e0152"
            ],
            [
             0.1,
             "#c51b7d"
            ],
            [
             0.2,
             "#de77ae"
            ],
            [
             0.3,
             "#f1b6da"
            ],
            [
             0.4,
             "#fde0ef"
            ],
            [
             0.5,
             "#f7f7f7"
            ],
            [
             0.6,
             "#e6f5d0"
            ],
            [
             0.7,
             "#b8e186"
            ],
            [
             0.8,
             "#7fbc41"
            ],
            [
             0.9,
             "#4d9221"
            ],
            [
             1,
             "#276419"
            ]
           ],
           "sequential": [
            [
             0,
             "#0d0887"
            ],
            [
             0.1111111111111111,
             "#46039f"
            ],
            [
             0.2222222222222222,
             "#7201a8"
            ],
            [
             0.3333333333333333,
             "#9c179e"
            ],
            [
             0.4444444444444444,
             "#bd3786"
            ],
            [
             0.5555555555555556,
             "#d8576b"
            ],
            [
             0.6666666666666666,
             "#ed7953"
            ],
            [
             0.7777777777777778,
             "#fb9f3a"
            ],
            [
             0.8888888888888888,
             "#fdca26"
            ],
            [
             1,
             "#f0f921"
            ]
           ],
           "sequentialminus": [
            [
             0,
             "#0d0887"
            ],
            [
             0.1111111111111111,
             "#46039f"
            ],
            [
             0.2222222222222222,
             "#7201a8"
            ],
            [
             0.3333333333333333,
             "#9c179e"
            ],
            [
             0.4444444444444444,
             "#bd3786"
            ],
            [
             0.5555555555555556,
             "#d8576b"
            ],
            [
             0.6666666666666666,
             "#ed7953"
            ],
            [
             0.7777777777777778,
             "#fb9f3a"
            ],
            [
             0.8888888888888888,
             "#fdca26"
            ],
            [
             1,
             "#f0f921"
            ]
           ]
          },
          "colorway": [
           "#636efa",
           "#EF553B",
           "#00cc96",
           "#ab63fa",
           "#FFA15A",
           "#19d3f3",
           "#FF6692",
           "#B6E880",
           "#FF97FF",
           "#FECB52"
          ],
          "font": {
           "color": "#2a3f5f"
          },
          "geo": {
           "bgcolor": "white",
           "lakecolor": "white",
           "landcolor": "#E5ECF6",
           "showlakes": true,
           "showland": true,
           "subunitcolor": "white"
          },
          "hoverlabel": {
           "align": "left"
          },
          "hovermode": "closest",
          "mapbox": {
           "style": "light"
          },
          "paper_bgcolor": "white",
          "plot_bgcolor": "#E5ECF6",
          "polar": {
           "angularaxis": {
            "gridcolor": "white",
            "linecolor": "white",
            "ticks": ""
           },
           "bgcolor": "#E5ECF6",
           "radialaxis": {
            "gridcolor": "white",
            "linecolor": "white",
            "ticks": ""
           }
          },
          "scene": {
           "xaxis": {
            "backgroundcolor": "#E5ECF6",
            "gridcolor": "white",
            "gridwidth": 2,
            "linecolor": "white",
            "showbackground": true,
            "ticks": "",
            "zerolinecolor": "white"
           },
           "yaxis": {
            "backgroundcolor": "#E5ECF6",
            "gridcolor": "white",
            "gridwidth": 2,
            "linecolor": "white",
            "showbackground": true,
            "ticks": "",
            "zerolinecolor": "white"
           },
           "zaxis": {
            "backgroundcolor": "#E5ECF6",
            "gridcolor": "white",
            "gridwidth": 2,
            "linecolor": "white",
            "showbackground": true,
            "ticks": "",
            "zerolinecolor": "white"
           }
          },
          "shapedefaults": {
           "line": {
            "color": "#2a3f5f"
           }
          },
          "ternary": {
           "aaxis": {
            "gridcolor": "white",
            "linecolor": "white",
            "ticks": ""
           },
           "baxis": {
            "gridcolor": "white",
            "linecolor": "white",
            "ticks": ""
           },
           "bgcolor": "#E5ECF6",
           "caxis": {
            "gridcolor": "white",
            "linecolor": "white",
            "ticks": ""
           }
          },
          "title": {
           "x": 0.05
          },
          "xaxis": {
           "automargin": true,
           "gridcolor": "white",
           "linecolor": "white",
           "ticks": "",
           "title": {
            "standoff": 15
           },
           "zerolinecolor": "white",
           "zerolinewidth": 2
          },
          "yaxis": {
           "automargin": true,
           "gridcolor": "white",
           "linecolor": "white",
           "ticks": "",
           "title": {
            "standoff": 15
           },
           "zerolinecolor": "white",
           "zerolinewidth": 2
          }
         }
        },
        "title": {
         "text": "Word Cloud of Cleaned Text"
        },
        "xaxis": {
         "anchor": "y",
         "domain": [
          0,
          1
         ],
         "showticklabels": false
        },
        "yaxis": {
         "anchor": "x",
         "domain": [
          0,
          1
         ],
         "showticklabels": false
        }
       }
      }
     },
     "metadata": {},
     "output_type": "display_data"
    }
   ],
   "source": [
    "from wordcloud import WordCloud\n",
    "\n",
    "text = ' '.join(df['Clean_Resume'])\n",
    "\n",
    "wordcloud = WordCloud(background_color='white',\n",
    "                      width=800,\n",
    "                      height=600,\n",
    "                      max_words=100,\n",
    "                      colormap='viridis'\n",
    "                      ).generate(text)\n",
    "\n",
    "wordcloud_image = wordcloud.to_image()\n",
    "\n",
    "\n",
    "fig = px.imshow(wordcloud_image)\n",
    "fig.update_layout(\n",
    "    title='Word Cloud of Cleaned Text',\n",
    "    xaxis_showticklabels=False,\n",
    "    yaxis_showticklabels=False,\n",
    "    plot_bgcolor='white'\n",
    ")\n",
    "fig.show()"
   ]
  },
  {
   "cell_type": "code",
   "execution_count": 47,
   "metadata": {},
   "outputs": [
    {
     "data": {
      "text/html": [
       "<div>\n",
       "<style scoped>\n",
       "    .dataframe tbody tr th:only-of-type {\n",
       "        vertical-align: middle;\n",
       "    }\n",
       "\n",
       "    .dataframe tbody tr th {\n",
       "        vertical-align: top;\n",
       "    }\n",
       "\n",
       "    .dataframe thead th {\n",
       "        text-align: right;\n",
       "    }\n",
       "</style>\n",
       "<table border=\"1\" class=\"dataframe\">\n",
       "  <thead>\n",
       "    <tr style=\"text-align: right;\">\n",
       "      <th></th>\n",
       "      <th>Category</th>\n",
       "      <th>Resume</th>\n",
       "      <th>Clean_Resume</th>\n",
       "      <th>Encoded_Category</th>\n",
       "    </tr>\n",
       "  </thead>\n",
       "  <tbody>\n",
       "    <tr>\n",
       "      <th>0</th>\n",
       "      <td>Data Science</td>\n",
       "      <td>Skills * Programming Languages: Python (pandas...</td>\n",
       "      <td>skill programming language python panda numpy ...</td>\n",
       "      <td>6</td>\n",
       "    </tr>\n",
       "    <tr>\n",
       "      <th>1</th>\n",
       "      <td>Data Science</td>\n",
       "      <td>Education Details \\r\\nMay 2013 to May 2017 B.E...</td>\n",
       "      <td>education detail may 2013 may 2017 b e uit rgp...</td>\n",
       "      <td>6</td>\n",
       "    </tr>\n",
       "    <tr>\n",
       "      <th>2</th>\n",
       "      <td>Data Science</td>\n",
       "      <td>Areas of Interest Deep Learning, Control Syste...</td>\n",
       "      <td>area interest deep learning control system des...</td>\n",
       "      <td>6</td>\n",
       "    </tr>\n",
       "    <tr>\n",
       "      <th>3</th>\n",
       "      <td>Data Science</td>\n",
       "      <td>Skills â¢ R â¢ Python â¢ SAP HANA â¢ Table...</td>\n",
       "      <td>skill r python sap hana tableau sap hana sql s...</td>\n",
       "      <td>6</td>\n",
       "    </tr>\n",
       "    <tr>\n",
       "      <th>4</th>\n",
       "      <td>Data Science</td>\n",
       "      <td>Education Details \\r\\n MCA   YMCAUST,  Faridab...</td>\n",
       "      <td>education detail mca ymcaust faridabad haryana...</td>\n",
       "      <td>6</td>\n",
       "    </tr>\n",
       "  </tbody>\n",
       "</table>\n",
       "</div>"
      ],
      "text/plain": [
       "       Category                                             Resume  \\\n",
       "0  Data Science  Skills * Programming Languages: Python (pandas...   \n",
       "1  Data Science  Education Details \\r\\nMay 2013 to May 2017 B.E...   \n",
       "2  Data Science  Areas of Interest Deep Learning, Control Syste...   \n",
       "3  Data Science  Skills â¢ R â¢ Python â¢ SAP HANA â¢ Table...   \n",
       "4  Data Science  Education Details \\r\\n MCA   YMCAUST,  Faridab...   \n",
       "\n",
       "                                        Clean_Resume  Encoded_Category  \n",
       "0  skill programming language python panda numpy ...                 6  \n",
       "1  education detail may 2013 may 2017 b e uit rgp...                 6  \n",
       "2  area interest deep learning control system des...                 6  \n",
       "3  skill r python sap hana tableau sap hana sql s...                 6  \n",
       "4  education detail mca ymcaust faridabad haryana...                 6  "
      ]
     },
     "execution_count": 47,
     "metadata": {},
     "output_type": "execute_result"
    }
   ],
   "source": [
    "# Label encoding our Category\n",
    "\n",
    "label = LabelEncoder()\n",
    "df['Encoded_Category'] = label.fit_transform(df['Category'])\n",
    "df.head()"
   ]
  },
  {
   "cell_type": "code",
   "execution_count": 48,
   "metadata": {},
   "outputs": [
    {
     "data": {
      "image/png": "[encoded data removed]",
      "text/plain": [
       "<Figure size 640x480 with 1 Axes>"
      ]
     },
     "metadata": {},
     "output_type": "display_data"
    },
    {
     "data": {
      "image/png": "[encoded data removed]",
      "text/plain": [
       "<Figure size 640x480 with 1 Axes>"
      ]
     },
     "metadata": {},
     "output_type": "display_data"
    }
   ],
   "source": [
    "# Creating the bar plot\n",
    "df['Encoded_Category'].value_counts().plot(kind = 'bar', title='Encoded Category counts', xlabel='Category', ylabel='counts')\n",
    "plt.show()\n",
    "df['Category'].value_counts().plot(kind = 'bar', title='Category counts', xlabel='Category', ylabel='Counts')\n",
    "plt.show()"
   ]
  },
  {
   "cell_type": "code",
   "execution_count": 50,
   "id": "19bb064f",
   "metadata": {},
   "outputs": [
    {
     "name": "stdout",
     "output_type": "stream",
     "text": [
      "Created Category Mapping:\n",
      "{0: 'Advocate', 1: 'Arts', 2: 'Automation Testing', 3: 'Blockchain', 4: 'Business Analyst', 5: 'Civil Engineer', 6: 'Data Science', 7: 'Database', 8: 'DevOps Engineer', 9: 'DotNet Developer', 10: 'ETL Developer', 11: 'Electrical Engineering', 12: 'HR', 13: 'Hadoop', 14: 'Health and fitness', 15: 'Java Developer', 16: 'Mechanical Engineer', 17: 'Network Security Engineer', 18: 'Operations Manager', 19: 'PMO', 20: 'Python Developer', 21: 'SAP Developer', 22: 'Sales', 23: 'Testing', 24: 'Web Designing'}\n"
     ]
    }
   ],
   "source": [
    "# Create the mapping\n",
    "category_mapping = df.groupby('Encoded_Category')['Category'].first().to_dict()\n",
    "\n",
    "# Print the created mapping\n",
    "print(\"Created Category Mapping:\")\n",
    "print(category_mapping)"
   ]
  },
  {
   "cell_type": "markdown",
   "id": "2a65059b",
   "metadata": {},
   "source": [
    "# Vectorization"
   ]
  },
  {
   "cell_type": "code",
   "execution_count": 51,
   "id": "d0e3603a",
   "metadata": {},
   "outputs": [
    {
     "name": "stdout",
     "output_type": "stream",
     "text": [
      "<Compressed Sparse Row sparse matrix of dtype 'float64'\n",
      "\twith 155341 stored elements and shape (962, 6562)>\n",
      "  Coords\tValues\n",
      "  (0, 118)\t0.06453783899846323\n",
      "  (0, 268)\t0.04632697838273315\n",
      "  (0, 298)\t0.031126979945512483\n",
      "  (0, 317)\t0.025361912989866155\n",
      "  (0, 340)\t0.033319272390464866\n",
      "  (0, 370)\t0.029288428444891598\n",
      "  (0, 495)\t0.13903194496767213\n",
      "  (0, 497)\t0.07851286854091813\n",
      "  (0, 500)\t0.15656008367123686\n",
      "  (0, 505)\t0.02096423266463051\n",
      "  (0, 512)\t0.026190077390818307\n",
      "  (0, 523)\t0.04632697838273315\n",
      "  (0, 526)\t0.03727134831379874\n",
      "  (0, 622)\t0.04632697838273315\n",
      "  (0, 640)\t0.053810183291968954\n",
      "  (0, 643)\t0.08098518487138881\n",
      "  (0, 645)\t0.02899820504264113\n",
      "  (0, 646)\t0.06518168127424176\n",
      "  (0, 650)\t0.10712314267369262\n",
      "  (0, 667)\t0.03771995525102985\n",
      "  (0, 700)\t0.027461726023211917\n",
      "  (0, 703)\t0.03503454597093106\n",
      "  (0, 786)\t0.015483241225769256\n",
      "  (0, 796)\t0.08098518487138881\n",
      "  (0, 829)\t0.024012779374943182\n",
      "  :\t:\n",
      "  (961, 5265)\t0.040106642718727006\n",
      "  (961, 5313)\t0.034685407248807254\n",
      "  (961, 5323)\t0.04300525885009774\n",
      "  (961, 5413)\t0.029083167838973283\n",
      "  (961, 5473)\t0.08173539261801048\n",
      "  (961, 5566)\t0.03150101062479427\n",
      "  (961, 5581)\t0.041292506952808554\n",
      "  (961, 5719)\t0.056708709092727225\n",
      "  (961, 5723)\t0.07957384679896679\n",
      "  (961, 5790)\t0.07957384679896679\n",
      "  (961, 5855)\t0.0913986709054804\n",
      "  (961, 5865)\t0.02436657631243554\n",
      "  (961, 5896)\t0.1862621097482243\n",
      "  (961, 5900)\t0.38035443121688484\n",
      "  (961, 5964)\t0.06521703489339466\n",
      "  (961, 6029)\t0.13484105040549949\n",
      "  (961, 6222)\t0.03260851744669733\n",
      "  (961, 6260)\t0.07957384679896679\n",
      "  (961, 6283)\t0.07162623562714822\n",
      "  (961, 6349)\t0.17266809393032662\n",
      "  (961, 6352)\t0.07324363253410175\n",
      "  (961, 6398)\t0.07957384679896679\n",
      "  (961, 6427)\t0.17433779453582576\n",
      "  (961, 6465)\t0.4376490775067628\n",
      "  (961, 6526)\t0.22233129749407932\n"
     ]
    }
   ],
   "source": [
    "# Vectorization through TfidfVectorizer\n",
    "\n",
    "from sklearn.feature_extraction.text import TfidfVectorizer\n",
    "tfidf = TfidfVectorizer(stop_words='english')\n",
    "\n",
    "tfidf.fit(df['Clean_Resume'])\n",
    "requiredText  = tfidf.transform(df['Clean_Resume'])\n",
    "print(requiredText)"
   ]
  },
  {
   "cell_type": "markdown",
   "metadata": {},
   "source": [
    "# Model Creation"
   ]
  },
  {
   "cell_type": "code",
   "execution_count": 52,
   "id": "0f67afa8",
   "metadata": {},
   "outputs": [
    {
     "name": "stdout",
     "output_type": "stream",
     "text": [
      "(769, 6562)\n",
      "(193, 6562)\n"
     ]
    }
   ],
   "source": [
    "from sklearn.model_selection import train_test_split\n",
    "\n",
    "X_train, X_test, y_train, y_test = train_test_split(requiredText, df['Encoded_Category'], test_size=0.2, random_state=1)\n",
    "print(X_train.shape)\n",
    "\n",
    "print(X_test.shape)"
   ]
  },
  {
   "cell_type": "code",
   "execution_count": 54,
   "id": "d24938b1",
   "metadata": {},
   "outputs": [],
   "source": [
    "from sklearn.neighbors import KNeighborsClassifier\n",
    "from sklearn.multiclass import OneVsRestClassifier\n",
    "from sklearn.naive_bayes import MultinomialNB\n",
    "from sklearn.metrics import accuracy_score, classification_report"
   ]
  },
  {
   "cell_type": "code",
   "execution_count": 55,
   "id": "034fc534",
   "metadata": {},
   "outputs": [
    {
     "name": "stdout",
     "output_type": "stream",
     "text": [
      "Accuracy:  93.78238341968913  % \n",
      "\n",
      "              precision    recall  f1-score   support\n",
      "\n",
      "           0       1.00      0.25      0.40         4\n",
      "           1       1.00      1.00      1.00         6\n",
      "           2       1.00      0.60      0.75         5\n",
      "           3       1.00      1.00      1.00        13\n",
      "           4       1.00      1.00      1.00         6\n",
      "           5       1.00      1.00      1.00         7\n",
      "           6       1.00      0.89      0.94         9\n",
      "           7       1.00      1.00      1.00         5\n",
      "           8       1.00      0.90      0.95        10\n",
      "           9       1.00      1.00      1.00         4\n",
      "          10       1.00      1.00      1.00         9\n",
      "          11       1.00      1.00      1.00         7\n",
      "          12       1.00      0.90      0.95        10\n",
      "          13       1.00      1.00      1.00         3\n",
      "          14       1.00      1.00      1.00         4\n",
      "          15       0.70      1.00      0.82        14\n",
      "          16       1.00      1.00      1.00         9\n",
      "          17       1.00      1.00      1.00         8\n",
      "          18       1.00      1.00      1.00         8\n",
      "          19       1.00      1.00      1.00         5\n",
      "          20       1.00      1.00      1.00        11\n",
      "          21       1.00      0.33      0.50         6\n",
      "          22       1.00      1.00      1.00        11\n",
      "          23       0.67      1.00      0.80        12\n",
      "          24       1.00      1.00      1.00         7\n",
      "\n",
      "    accuracy                           0.94       193\n",
      "   macro avg       0.97      0.91      0.92       193\n",
      "weighted avg       0.96      0.94      0.93       193\n",
      "\n"
     ]
    }
   ],
   "source": [
    "# Multinomial Classifier\n",
    "\n",
    "mnb = MultinomialNB()\n",
    "mnb.fit(X_train,y_train)\n",
    "y_pred1 = mnb.predict(X_test)\n",
    "print('Accuracy: ', accuracy_score(y_test,y_pred1)*100, ' % \\n')\n",
    "print(classification_report(y_test, y_pred1))"
   ]
  },
  {
   "cell_type": "code",
   "execution_count": 56,
   "metadata": {},
   "outputs": [
    {
     "name": "stdout",
     "output_type": "stream",
     "text": [
      "Accuracy:  98.44559585492227  %\n",
      "              precision    recall  f1-score   support\n",
      "\n",
      "           0       1.00      1.00      1.00         4\n",
      "           1       1.00      1.00      1.00         6\n",
      "           2       0.83      1.00      0.91         5\n",
      "           3       1.00      1.00      1.00        13\n",
      "           4       1.00      1.00      1.00         6\n",
      "           5       1.00      1.00      1.00         7\n",
      "           6       1.00      0.78      0.88         9\n",
      "           7       1.00      1.00      1.00         5\n",
      "           8       1.00      0.90      0.95        10\n",
      "           9       1.00      1.00      1.00         4\n",
      "          10       1.00      1.00      1.00         9\n",
      "          11       1.00      1.00      1.00         7\n",
      "          12       1.00      1.00      1.00        10\n",
      "          13       1.00      1.00      1.00         3\n",
      "          14       1.00      1.00      1.00         4\n",
      "          15       1.00      1.00      1.00        14\n",
      "          16       1.00      1.00      1.00         9\n",
      "          17       1.00      1.00      1.00         8\n",
      "          18       1.00      1.00      1.00         8\n",
      "          19       1.00      1.00      1.00         5\n",
      "          20       1.00      1.00      1.00        11\n",
      "          21       0.75      1.00      0.86         6\n",
      "          22       1.00      1.00      1.00        11\n",
      "          23       1.00      1.00      1.00        12\n",
      "          24       1.00      1.00      1.00         7\n",
      "\n",
      "    accuracy                           0.98       193\n",
      "   macro avg       0.98      0.99      0.98       193\n",
      "weighted avg       0.99      0.98      0.98       193\n",
      "\n"
     ]
    }
   ],
   "source": [
    "# KNeighborsClassifier\n",
    "\n",
    "knc = OneVsRestClassifier(KNeighborsClassifier())\n",
    "knc.fit(X_train,y_train)\n",
    "y_pred2 = knc.predict(X_test)\n",
    "print('Accuracy: ', accuracy_score(y_test,y_pred2)*100, ' %')\n",
    "print(classification_report(y_test, y_pred2))"
   ]
  },
  {
   "cell_type": "markdown",
   "id": "fda5056e",
   "metadata": {},
   "source": [
    "# RNN"
   ]
  },
  {
   "cell_type": "code",
   "execution_count": 60,
   "metadata": {},
   "outputs": [],
   "source": [
    "from keras.models import Sequential\n",
    "from keras.layers import Embedding, LSTM, Dense, SpatialDropout1D\n",
    "from keras.preprocessing.text import Tokenizer\n",
    "from keras.utils import pad_sequences"
   ]
  },
  {
   "cell_type": "code",
   "execution_count": 59,
   "id": "bce2e53a",
   "metadata": {},
   "outputs": [
    {
     "name": "stdout",
     "output_type": "stream",
     "text": [
      "Epoch 1/50\n",
      "13/13 [==============================] - 5s 167ms/step - loss: 3.1987 - accuracy: 0.1743 - val_loss: 3.1616 - val_accuracy: 0.1917\n",
      "Epoch 2/50\n",
      "13/13 [==============================] - 2s 140ms/step - loss: 3.0390 - accuracy: 0.1977 - val_loss: 2.9309 - val_accuracy: 0.0829\n",
      "Epoch 3/50\n",
      "13/13 [==============================] - 2s 127ms/step - loss: 2.5819 - accuracy: 0.1990 - val_loss: 2.5593 - val_accuracy: 0.1399\n",
      "Epoch 4/50\n",
      "13/13 [==============================] - 2s 124ms/step - loss: 2.4281 - accuracy: 0.1730 - val_loss: 2.3902 - val_accuracy: 0.2953\n",
      "Epoch 5/50\n",
      "13/13 [==============================] - 2s 140ms/step - loss: 2.1608 - accuracy: 0.3823 - val_loss: 2.1654 - val_accuracy: 0.3316\n",
      "Epoch 6/50\n",
      "13/13 [==============================] - 2s 129ms/step - loss: 1.8951 - accuracy: 0.4083 - val_loss: 1.9481 - val_accuracy: 0.4508\n",
      "Epoch 7/50\n",
      "13/13 [==============================] - 2s 125ms/step - loss: 1.6506 - accuracy: 0.5072 - val_loss: 1.7058 - val_accuracy: 0.4767\n",
      "Epoch 8/50\n",
      "13/13 [==============================] - 2s 126ms/step - loss: 1.3884 - accuracy: 0.6255 - val_loss: 1.4064 - val_accuracy: 0.6321\n",
      "Epoch 9/50\n",
      "13/13 [==============================] - 2s 123ms/step - loss: 1.1534 - accuracy: 0.6853 - val_loss: 1.1399 - val_accuracy: 0.6632\n",
      "Epoch 10/50\n",
      "13/13 [==============================] - 2s 143ms/step - loss: 0.9244 - accuracy: 0.7230 - val_loss: 1.0355 - val_accuracy: 0.6477\n",
      "Epoch 11/50\n",
      "13/13 [==============================] - 2s 130ms/step - loss: 0.8138 - accuracy: 0.7919 - val_loss: 0.7720 - val_accuracy: 0.7513\n",
      "Epoch 12/50\n",
      "13/13 [==============================] - 2s 134ms/step - loss: 0.6247 - accuracy: 0.8414 - val_loss: 0.6176 - val_accuracy: 0.8601\n",
      "Epoch 13/50\n",
      "13/13 [==============================] - 2s 119ms/step - loss: 0.4518 - accuracy: 0.8986 - val_loss: 0.4854 - val_accuracy: 0.9378\n",
      "Epoch 14/50\n",
      "13/13 [==============================] - 1s 111ms/step - loss: 0.3354 - accuracy: 0.9532 - val_loss: 0.3832 - val_accuracy: 0.9430\n",
      "Epoch 15/50\n",
      "13/13 [==============================] - 1s 109ms/step - loss: 0.2633 - accuracy: 0.9441 - val_loss: 0.4197 - val_accuracy: 0.9378\n",
      "Epoch 16/50\n",
      "13/13 [==============================] - 2s 117ms/step - loss: 0.2462 - accuracy: 0.9818 - val_loss: 0.2922 - val_accuracy: 0.9793\n",
      "Epoch 17/50\n",
      "13/13 [==============================] - 1s 107ms/step - loss: 0.1406 - accuracy: 0.9961 - val_loss: 0.2403 - val_accuracy: 0.9793\n",
      "Epoch 18/50\n",
      "13/13 [==============================] - 1s 107ms/step - loss: 0.1366 - accuracy: 0.9896 - val_loss: 0.2497 - val_accuracy: 0.9637\n",
      "Epoch 19/50\n",
      "13/13 [==============================] - 1s 113ms/step - loss: 0.1765 - accuracy: 0.9779 - val_loss: 0.3950 - val_accuracy: 0.9378\n",
      "Epoch 20/50\n",
      "13/13 [==============================] - 1s 111ms/step - loss: 0.1542 - accuracy: 0.9844 - val_loss: 0.2225 - val_accuracy: 0.9741\n",
      "Epoch 21/50\n",
      "13/13 [==============================] - 1s 113ms/step - loss: 0.0887 - accuracy: 0.9961 - val_loss: 0.2092 - val_accuracy: 0.9845\n",
      "Epoch 22/50\n",
      "13/13 [==============================] - 1s 115ms/step - loss: 0.0481 - accuracy: 1.0000 - val_loss: 0.1908 - val_accuracy: 0.9845\n",
      "Epoch 23/50\n",
      "13/13 [==============================] - 2s 114ms/step - loss: 0.0352 - accuracy: 0.9987 - val_loss: 0.1771 - val_accuracy: 0.9845\n",
      "Epoch 24/50\n",
      "13/13 [==============================] - 1s 113ms/step - loss: 0.0272 - accuracy: 1.0000 - val_loss: 0.1994 - val_accuracy: 0.9845\n",
      "Epoch 25/50\n",
      "13/13 [==============================] - 1s 111ms/step - loss: 0.0210 - accuracy: 1.0000 - val_loss: 0.2050 - val_accuracy: 0.9845\n",
      "Epoch 26/50\n",
      "13/13 [==============================] - 1s 116ms/step - loss: 0.0202 - accuracy: 0.9987 - val_loss: 0.2064 - val_accuracy: 0.9845\n",
      "Epoch 27/50\n",
      "13/13 [==============================] - 2s 117ms/step - loss: 0.0167 - accuracy: 1.0000 - val_loss: 0.2024 - val_accuracy: 0.9845\n",
      "Epoch 28/50\n",
      "13/13 [==============================] - 2s 120ms/step - loss: 0.0141 - accuracy: 1.0000 - val_loss: 0.1999 - val_accuracy: 0.9845\n",
      "Epoch 29/50\n",
      "13/13 [==============================] - 1s 111ms/step - loss: 0.0127 - accuracy: 1.0000 - val_loss: 0.1966 - val_accuracy: 0.9845\n",
      "Epoch 30/50\n",
      "13/13 [==============================] - 2s 117ms/step - loss: 0.0110 - accuracy: 1.0000 - val_loss: 0.2024 - val_accuracy: 0.9845\n",
      "Epoch 31/50\n",
      "13/13 [==============================] - 2s 118ms/step - loss: 0.0112 - accuracy: 1.0000 - val_loss: 0.1375 - val_accuracy: 0.9845\n",
      "Epoch 32/50\n",
      "13/13 [==============================] - 1s 114ms/step - loss: 0.0106 - accuracy: 1.0000 - val_loss: 0.1639 - val_accuracy: 0.9845\n",
      "Epoch 33/50\n",
      "13/13 [==============================] - 2s 137ms/step - loss: 0.0101 - accuracy: 1.0000 - val_loss: 0.1988 - val_accuracy: 0.9845\n",
      "Epoch 34/50\n",
      "13/13 [==============================] - 2s 151ms/step - loss: 0.0093 - accuracy: 1.0000 - val_loss: 0.1611 - val_accuracy: 0.9845\n",
      "Epoch 35/50\n",
      "13/13 [==============================] - 2s 122ms/step - loss: 0.0087 - accuracy: 1.0000 - val_loss: 0.1530 - val_accuracy: 0.9845\n",
      "Epoch 36/50\n",
      "13/13 [==============================] - 2s 123ms/step - loss: 0.0072 - accuracy: 1.0000 - val_loss: 0.1649 - val_accuracy: 0.9845\n",
      "Epoch 37/50\n",
      "13/13 [==============================] - 2s 119ms/step - loss: 0.0067 - accuracy: 1.0000 - val_loss: 0.1947 - val_accuracy: 0.9845\n",
      "Epoch 38/50\n",
      "13/13 [==============================] - 1s 110ms/step - loss: 0.0061 - accuracy: 1.0000 - val_loss: 0.2041 - val_accuracy: 0.9845\n",
      "Epoch 39/50\n",
      "13/13 [==============================] - 1s 112ms/step - loss: 0.0057 - accuracy: 1.0000 - val_loss: 0.2044 - val_accuracy: 0.9845\n",
      "Epoch 40/50\n",
      "13/13 [==============================] - 1s 111ms/step - loss: 0.0053 - accuracy: 1.0000 - val_loss: 0.2072 - val_accuracy: 0.9845\n",
      "Epoch 41/50\n",
      "13/13 [==============================] - 1s 116ms/step - loss: 0.0049 - accuracy: 1.0000 - val_loss: 0.2090 - val_accuracy: 0.9845\n",
      "Epoch 42/50\n",
      "13/13 [==============================] - 1s 110ms/step - loss: 0.0046 - accuracy: 1.0000 - val_loss: 0.2066 - val_accuracy: 0.9845\n",
      "Epoch 43/50\n",
      "13/13 [==============================] - 2s 115ms/step - loss: 0.0044 - accuracy: 1.0000 - val_loss: 0.2057 - val_accuracy: 0.9845\n",
      "Epoch 44/50\n",
      "13/13 [==============================] - 2s 120ms/step - loss: 0.0043 - accuracy: 1.0000 - val_loss: 0.2165 - val_accuracy: 0.9845\n",
      "Epoch 45/50\n",
      "13/13 [==============================] - 1s 111ms/step - loss: 0.0043 - accuracy: 1.0000 - val_loss: 0.2168 - val_accuracy: 0.9845\n",
      "Epoch 46/50\n",
      "13/13 [==============================] - 1s 114ms/step - loss: 0.0040 - accuracy: 1.0000 - val_loss: 0.2201 - val_accuracy: 0.9845\n",
      "Epoch 47/50\n",
      "13/13 [==============================] - 1s 111ms/step - loss: 0.0037 - accuracy: 1.0000 - val_loss: 0.2202 - val_accuracy: 0.9845\n",
      "Epoch 48/50\n",
      "13/13 [==============================] - 1s 114ms/step - loss: 0.0035 - accuracy: 1.0000 - val_loss: 0.2179 - val_accuracy: 0.9845\n",
      "Epoch 49/50\n",
      "13/13 [==============================] - 2s 119ms/step - loss: 0.0034 - accuracy: 1.0000 - val_loss: 0.2160 - val_accuracy: 0.9845\n",
      "Epoch 50/50\n",
      "13/13 [==============================] - 2s 112ms/step - loss: 0.0032 - accuracy: 1.0000 - val_loss: 0.2155 - val_accuracy: 0.9845\n"
     ]
    }
   ],
   "source": [
    "# maximum number of words to consider\n",
    "max_words = 5000\n",
    "\n",
    "tokenizer = Tokenizer(num_words=max_words, split=' ')\n",
    "tokenizer.fit_on_texts(df['Clean_Resume'])\n",
    "X = tokenizer.texts_to_sequences(df['Clean_Resume'])\n",
    "X = pad_sequences(X, maxlen=100)\n",
    "\n",
    "\n",
    "X_train, X_test, y_train, y_test = train_test_split(X, df['Encoded_Category'], test_size=0.20, random_state=1)\n",
    "\n",
    "model = Sequential()\n",
    "model.add(Embedding(input_dim=max_words, output_dim=128, input_length=100))\n",
    "model.add(SpatialDropout1D(0.2))\n",
    "model.add(LSTM(100))\n",
    "model.add(Dense(32, activation='relu'))\n",
    "model.add(Dense(len(label.classes_), activation='softmax'))\n",
    "model.compile(loss='sparse_categorical_crossentropy', optimizer='adam', metrics=['accuracy'])\n",
    "\n",
    "history = model.fit(X_train, y_train, validation_data=(X_test, y_test), epochs=50, batch_size=64)"
   ]
  },
  {
   "cell_type": "code",
   "execution_count": 61,
   "id": "52fb48e5",
   "metadata": {},
   "outputs": [
    {
     "name": "stdout",
     "output_type": "stream",
     "text": [
      "7/7 [==============================] - 1s 19ms/step\n",
      "RNN Model Accuracy: 98.45%\n",
      "              precision    recall  f1-score   support\n",
      "\n",
      "           0       1.00      0.50      0.67         4\n",
      "           1       1.00      1.00      1.00         6\n",
      "           2       1.00      1.00      1.00         5\n",
      "           3       1.00      1.00      1.00        13\n",
      "           4       1.00      1.00      1.00         6\n",
      "           5       1.00      1.00      1.00         7\n",
      "           6       0.90      1.00      0.95         9\n",
      "           7       1.00      1.00      1.00         5\n",
      "           8       1.00      0.90      0.95        10\n",
      "           9       1.00      1.00      1.00         4\n",
      "          10       1.00      1.00      1.00         9\n",
      "          11       1.00      1.00      1.00         7\n",
      "          12       1.00      1.00      1.00        10\n",
      "          13       1.00      1.00      1.00         3\n",
      "          14       1.00      1.00      1.00         4\n",
      "          15       1.00      1.00      1.00        14\n",
      "          16       1.00      1.00      1.00         9\n",
      "          17       1.00      1.00      1.00         8\n",
      "          18       1.00      1.00      1.00         8\n",
      "          19       1.00      1.00      1.00         5\n",
      "          20       1.00      1.00      1.00        11\n",
      "          21       1.00      1.00      1.00         6\n",
      "          22       1.00      1.00      1.00        11\n",
      "          23       1.00      1.00      1.00        12\n",
      "          24       0.78      1.00      0.88         7\n",
      "\n",
      "    accuracy                           0.98       193\n",
      "   macro avg       0.99      0.98      0.98       193\n",
      "weighted avg       0.99      0.98      0.98       193\n",
      "\n"
     ]
    }
   ],
   "source": [
    "y_pred_rnn_prob = model.predict(X_test)\n",
    "y_pred3 = y_pred_rnn_prob.argmax(axis=-1)\n",
    "accuracy_rnn = accuracy_score(y_test, y_pred3)\n",
    "print('RNN Model Accuracy: {:.2f}%'.format(accuracy_rnn * 100))\n",
    "print(classification_report(y_test, y_pred3))"
   ]
  },
  {
   "cell_type": "markdown",
   "id": "7594d627",
   "metadata": {},
   "source": [
    "# <b>Prediction System</b>"
   ]
  },
  {
   "cell_type": "markdown",
   "metadata": {},
   "source": [
    "#### <b>Saving the created models</b>"
   ]
  },
  {
   "cell_type": "code",
   "execution_count": 78,
   "id": "716d3471",
   "metadata": {},
   "outputs": [
    {
     "name": "stderr",
     "output_type": "stream",
     "text": [
      "WARNING:absl:Found untraced functions such as lstm_cell_1_layer_call_fn, lstm_cell_1_layer_call_and_return_conditional_losses while saving (showing 2 of 2). These functions will not be directly callable after loading.\n"
     ]
    },
    {
     "name": "stdout",
     "output_type": "stream",
     "text": [
      "INFO:tensorflow:Assets written to: ram://b4acce27-fe58-47aa-b4fd-6698486a9e24/assets\n"
     ]
    },
    {
     "name": "stderr",
     "output_type": "stream",
     "text": [
      "INFO:tensorflow:Assets written to: ram://b4acce27-fe58-47aa-b4fd-6698486a9e24/assets\n"
     ]
    }
   ],
   "source": [
    "import pickle\n",
    "pickle.dump(tfidf,open('tfidf.pkl','wb'))\n",
    "pickle.dump(mnb, open('mnb.pkl', 'wb'))\n",
    "pickle.dump(tokenizer, open('rnn_tokenizer.pkl','wb'))\n",
    "pickle.dump(model, open('rnn.pkl', 'wb'))\n",
    "model.save('rnn.h5')"
   ]
  },
  {
   "cell_type": "code",
   "execution_count": 79,
   "id": "06b1805c",
   "metadata": {},
   "outputs": [],
   "source": [
    "resume_1 = \"\"\"\"SKILLS: â¢ Knowledge of software / computer: Auto CAD (Included Diploma Academic Syllabus) â¢ MSCIT â¢ CNC Programming (Fanuc Series) - milling STRENGTHS: â¢ Strong Dedication towards work. â¢ Quick Learner. â¢ Positive thinking and self-confidence. â¢ Honest, discipline and hardworking. INDUSTRIAL EXPERIENCE: â¢ 10 Day's Industrial Training at Nagpur agro Components, Hingna Road, Nagpur. â¢ 10 Day's Industrial Training at METAL FAB High-tech Pvt. Ltd, Hingna Road, Nagpur. EXTRA CRICULUM ACTIVITY: Education Details \n",
    " B.E   RTMNU\n",
    "Mechanical engineering \n",
    "\n",
    "\n",
    "Skill Details \n",
    "AUTO CAD- Exprience - 6 months\n",
    "AUTOMOTIVE- Exprience - 6 months\n",
    "AUTOMOTIVE CNC- Exprience - 6 months\n",
    "CAD- Exprience - 6 months\n",
    "CNC- Exprience - 6 monthsCompany Details \n",
    "company - Tata motors, adani, maruti suzuki,jet airways. Air india.\n",
    "description - 1. I am student of mechanical engineering in the final year. I'm fresher so don't have any experiance in industry.\n",
    "2. But in 3 rd year the industrial training program conducted by the so 10 days training experiance in the industry.\n",
    "3. In the 5 th semister the 10 days working in Nagpur Agro Components. While the working all the machine and CNC machine i have seen in industry.\n",
    "4. In 6 th semister another training program in Metal fab company.\n",
    "company - No\n",
    "description - English, Hindi, Marathi\n",
    "\n",
    "â¢ Participate in JSW Urja Project Competition 2017-2018\n",
    "â¢ Machine Assembly Disassembly and Functioning of parts (1 Weeks)\n",
    "\n",
    "FINAL YEAR PROJECT:\n",
    "\n",
    "â¢ Design nd fabrication of Pneumatic Punching Machine - in BE\n",
    "â¢ Paddle operated Sugarcane Juicer machine - in Diploma Engineering.\"\n",
    "\"\"\""
   ]
  },
  {
   "cell_type": "markdown",
   "metadata": {},
   "source": [
    "#### <b> Predicting Resume-1 by KNearestClassifier model</b>"
   ]
  },
  {
   "cell_type": "code",
   "execution_count": 80,
   "id": "6ccfb164",
   "metadata": {},
   "outputs": [
    {
     "name": "stdout",
     "output_type": "stream",
     "text": [
      "Predicted Category: Mechanical Engineer\n",
      "16\n"
     ]
    }
   ],
   "source": [
    "import pickle\n",
    "\n",
    "# Load the trained KNearest classifier model\n",
    "clf = pickle.load(open('knc.pkl', 'rb'))\n",
    "\n",
    "# Clean the input resume\n",
    "cleaned_resume = resumeKeywords(resume_1)\n",
    "\n",
    "# Transform the cleaned resume using the trained TfidfVectorizer\n",
    "input_features = tfidf.transform([cleaned_resume])\n",
    "\n",
    "# Make the prediction using the loaded classifier\n",
    "prediction_id = clf.predict(input_features)[0]\n",
    "\n",
    "category_name = category_mapping.get(prediction_id, \"Unknown\")\n",
    "\n",
    "print(\"Predicted Category:\", category_name)\n",
    "print(prediction_id)\n"
   ]
  },
  {
   "cell_type": "markdown",
   "id": "94f2f88f",
   "metadata": {},
   "source": [
    "#### <b> Predicting Resume-1 by Multinomial Naive Bayes model</b>"
   ]
  },
  {
   "cell_type": "code",
   "execution_count": 81,
   "metadata": {},
   "outputs": [
    {
     "name": "stdout",
     "output_type": "stream",
     "text": [
      "Predicted Category: Mechanical Engineer\n",
      "16\n"
     ]
    }
   ],
   "source": [
    "import pickle\n",
    "\n",
    "# Load the trained  Multinomial Naive Bayes model\n",
    "mnb = pickle.load(open('mnb.pkl', 'rb'))\n",
    "\n",
    "# Clean the input resume\n",
    "cleaned_resume = resumeKeywords(resume_1)\n",
    "\n",
    "# Transform the cleaned resume using the trained TfidfVectorizer\n",
    "input_features = tfidf.transform([cleaned_resume])\n",
    "\n",
    "# Make the prediction using the loaded classifier\n",
    "prediction_id = mnb.predict(input_features)[0]\n",
    "\n",
    "category_name = category_mapping.get(prediction_id, \"Unknown\")\n",
    "\n",
    "print(\"Predicted Category:\", category_name)\n",
    "print(prediction_id)"
   ]
  },
  {
   "cell_type": "markdown",
   "metadata": {},
   "source": [
    "#### <b> Predicting Resume-1 by RNN model</b>"
   ]
  },
  {
   "cell_type": "code",
   "execution_count": 82,
   "metadata": {},
   "outputs": [
    {
     "name": "stdout",
     "output_type": "stream",
     "text": [
      "1/1 [==============================] - 0s 496ms/step\n",
      "Predicted Category: Mechanical Engineer\n",
      "Predicted Category ID: 16\n"
     ]
    }
   ],
   "source": [
    "import pickle\n",
    "from tensorflow import keras\n",
    "from keras.utils import pad_sequences\n",
    "\n",
    "# rnn = pickle.load(open('rnn.pkl', 'rb'))\n",
    "rnn = keras.models.load_model('rnn.h5')\n",
    "rnn_tokenizer = pickle.load(open('rnn_tokenizer.pkl', 'rb'))\n",
    "# Define the maximum number of words to consider\n",
    "max_words = 5000\n",
    "cleaned_resume = resumeKeywords(resume_1)  # Clean the input resume\n",
    "\n",
    "# Tokenize the cleaned input resume\n",
    "input_sequence = rnn_tokenizer.texts_to_sequences([cleaned_resume])\n",
    "# Padding the sequences\n",
    "input_sequence = pad_sequences(input_sequence, maxlen=100)\n",
    "\n",
    "# Make the prediction using the loaded RNN model\n",
    "predicted_probabilities = rnn.predict(input_sequence)\n",
    "\n",
    "prediction_id = predicted_probabilities.argmax(axis=-1)\n",
    "# Map the category ID to the category name using category_mapping\n",
    "category_name = category_mapping.get(prediction_id[0], \"Unknown\")\n",
    "\n",
    "print(\"Predicted Category:\", category_name)\n",
    "print(\"Predicted Category ID:\", prediction_id[0])\n"
   ]
  },
  {
   "cell_type": "code",
   "execution_count": 83,
   "id": "0f5f922f",
   "metadata": {},
   "outputs": [],
   "source": [
    "job_description_1=\"\"\"\n",
    "About the job\n",
    "Join a top employer and advance your career. Aplin has partnered with an Edmonton-based company to hire a Data Scientist. \n",
    "\n",
    "In this exciting role, you will serve as the catalyst for data-driven decision-making, guiding our client toward unparalleled success in lead conversion, customer loyalty, predictive innovation, and inventory optimization. \n",
    "\n",
    "Responsibilities:\n",
    "Dive deep into datasets to unveil the untapped potential in enhancing lead conversion rates.\n",
    "Develop cutting-edge algorithms that predict customer preferences.\n",
    "Pioneer loyalty programs that exert a magnetic influence, guaranteeing a continuous stream of returning customers.\n",
    "Optimize inventory with precision, ensuring the right products are available at the right time.\n",
    "Qualifications:\n",
    "Bachelor's degree in Computer Science, Statistics, Applied Math, or related fields; a Master's or PhD will give your credentials an extra boost.\n",
    "Proficiency in SQL, Python, R, or any other data manipulation language.\n",
    "Hands-on experience in machine learning, predictive analytics, and various statistical modeling techniques.\n",
    "Exceptional attention to detail, capable of identifying outliers in datasets with precision.\n",
    "A passion for storytelling through data, recognizing the importance of context in making impactful decisions.\n",
    "Outstanding collaboration skills to navigate seamlessly within teams, ensuring smooth progress on your journey.\n",
    "\n",
    "\"\"\""
   ]
  },
  {
   "cell_type": "code",
   "execution_count": 84,
   "id": "9eecab8b",
   "metadata": {},
   "outputs": [],
   "source": [
    "job_description_1=\"\"\"\n",
    "My technical skills include proficiency in\n",
    "Python, Sklearn, TensorFlow, and PyTorch.\n",
    "What sets me apart is my ability to effectively\n",
    "communicate complex concepts to diverse\n",
    "audiences. I excel in translating technical insights\n",
    "into actionable recommendations that drive\n",
    "informed decision-making.\n",
    "\n",
    "ABOUT ME\n",
    "WORK EXPERIENCE\n",
    "SKILLES\n",
    "NOOR SAEED\n",
    "LANGUAGES\n",
    "English\n",
    "Urdu\n",
    "Hindi\n",
    "I am a versatile data scientist with expertise in a wide\n",
    "range of projects, including machine learning,\n",
    "recommendation systems, deep learning, and computer\n",
    "vision. Throughout my career, I have successfully\n",
    "developed and deployed various machine learning models\n",
    "to solve complex problems and drive data-driven\n",
    "decision-making\n",
    "Machine Learnine\n",
    "Deep Learning\n",
    "Computer Vision\n",
    "Recommendation Systems\n",
    "Data Visualization\n",
    "Programming Languages (Python, SQL)\n",
    "Data Preprocessing and Feature Engineering\n",
    "Model Evaluation and Deployment\n",
    "Statistical Analysis\n",
    "Communication and Collaboration\n",
    "\"\"\""
   ]
  },
  {
   "cell_type": "code",
   "execution_count": 85,
   "id": "d750ea4a",
   "metadata": {},
   "outputs": [],
   "source": [
    "job_description_1 = \"\"\"\n",
    "LMI is seeking a Software Developer or computer science graduate with 7+ years of proven experience in computer vision who has the desire and skill set to design machine vision sensors. You will work in a multi-disciplinary, multi-platform, engineering team (software, electrical, mechanical/optical) that develops new sensor products and supporting infrastructure (manufacturing and test equipment). The ideal candidate will have a passion for leading-edge technology, extensive experience developing production-ready software, strong critical thinking and problem-solving skills, and can work well autonomously yet still communicate effectively with a close-knit group of about 10 engineers. Previous leadership or project management experience is an asset as there is an opportunity to lead a team in this role.\n",
    "\n",
    "This Senior Software Developer will work in the R&D team and report to the Software Engineering Manager.\n",
    "\n",
    "Design and develop 3D acquisition algorithms for our sensors to produce 3D data from images\n",
    "Develop components of our calibration and acquisition pipeline\n",
    "Characterize and validate prototype sensor performance and integrate final designs with customers\n",
    "Investigate solutions for challenging acquisition problems. Investigate improvements to our algorithms to enhance the performance of our sensors\n",
    "Design and develop manufacturing software tools required to build the sensors and control key component performance (e.g. software tasks for focusing and aligning cameras/lasers/projectors, quantifying and adjusting sensor sensitivity, etc.)\n",
    "Lead technical investigations and produce reports and documentation for senior management\n",
    "Demonstrate leadership and ownership. Drive projects to completion, participate in frequent peer design and code reviews, and use your expertise to oversee and mentor others in the team\n",
    "Proactively contribute to and implement continuous improvement initiatives\n",
    "What do you need to be successful?\n",
    "\n",
    "Degree / Diploma in Computer Science, Electrical/Computer Engineering or equivalent\n",
    "5+ years work experience in a disciplined software development environment producing deliverable code\n",
    "Solid knowledge of C/C++ and C# programming using Microsoft Visual Studio\n",
    "Expertise in 3D metrology or computer vision (object detection, image restoration, scene reconstruction, signal processing, etc., but excluding machine learning) is required\n",
    "Experience independently planning and completing complex projects/deliverables in a reliable time frame\n",
    "Proficient with commonly used scripting languages like Python\n",
    "Excellent understanding of object-oriented programming\n",
    "Excellent understanding of commonly used data structures and algorithms (lists, trees, sorting, binning, etc.)\n",
    "Excellent understanding of math and statistics\n",
    "Excellent written and verbal communication\n",
    "Solid understanding of memory management, threading/synchronization, networking\n",
    "Previous scrum master experience or experience overseeing a small team is an asset\n",
    "Experience developing for a manufacturing automation environment is an asset\n",
    "Salary Range: $106,000 - $132,500 - $151,000\n",
    "\n",
    "Expected Salary: Our typical hiring range will be +/- 10% of the midpoint listed above. Factors influencing this decision include qualifications and market conditions for the role.\n",
    "\"\"\""
   ]
  },
  {
   "cell_type": "markdown",
   "id": "f81101be",
   "metadata": {},
   "source": [
    "# Keywords extraction from provided Job Description and Resume"
   ]
  },
  {
   "cell_type": "code",
   "execution_count": 86,
   "id": "b14ea54c",
   "metadata": {},
   "outputs": [
    {
     "name": "stdout",
     "output_type": "stream",
     "text": [
      "Similarity Score: [[0.08925483]]\n"
     ]
    }
   ],
   "source": [
    "from sklearn.metrics.pairwise import cosine_similarity\n",
    "cleaned_resume = resumeKeywords(resume_1)\n",
    "cleaned_job_description = resumeKeywords(job_description_1)\n",
    "vectors_1  = tfidf.transform([cleaned_resume])\n",
    "vectors_2 = tfidf.transform([cleaned_job_description])\n",
    "similarity_score = cosine_similarity(vectors_1,vectors_2)\n",
    "print(\"Similarity Score:\", similarity_score)\n"
   ]
  },
  {
   "cell_type": "markdown",
   "id": "01ada0f1",
   "metadata": {},
   "source": [
    "# Bulding Job Category Recommendation System for this dataset"
   ]
  },
  {
   "cell_type": "code",
   "execution_count": 87,
   "id": "ad2eb658",
   "metadata": {},
   "outputs": [
    {
     "name": "stdout",
     "output_type": "stream",
     "text": [
      "<Compressed Sparse Row sparse matrix of dtype 'float64'\n",
      "\twith 74987 stored elements and shape (962, 500)>\n",
      "  Coords\tValues\n",
      "  (0, 14)\t0.11840360219295874\n",
      "  (0, 19)\t0.04652994124231601\n",
      "  (0, 25)\t0.2550733547873763\n",
      "  (0, 27)\t0.28723115235926744\n",
      "  (0, 29)\t0.03846178773916878\n",
      "  (0, 31)\t0.04804932351173231\n",
      "  (0, 40)\t0.05038233901296002\n",
      "  (0, 47)\t0.028406149992057456\n",
      "  (0, 50)\t0.0440547688112978\n",
      "  (0, 55)\t0.04996458719837494\n",
      "  (0, 59)\t0.07605603441123704\n",
      "  (0, 63)\t0.07150709512498088\n",
      "  (0, 70)\t0.05007287107864106\n",
      "  (0, 71)\t0.05038233901296002\n",
      "  (0, 72)\t0.05195485584236916\n",
      "  (0, 76)\t0.05937465818575072\n",
      "  (0, 80)\t0.013575862747900163\n",
      "  (0, 85)\t0.026896166035753028\n",
      "  (0, 97)\t0.03568152690154968\n",
      "  (0, 99)\t0.045163618549866225\n",
      "  (0, 102)\t0.12453963183325915\n",
      "  (0, 107)\t0.08461735388598048\n",
      "  (0, 109)\t0.0824169436890886\n",
      "  (0, 111)\t0.14634999806057375\n",
      "  (0, 112)\t0.2736080384269553\n",
      "  :\t:\n",
      "  (961, 358)\t0.1201836986931062\n",
      "  (961, 364)\t0.0327113401255411\n",
      "  (961, 370)\t0.040841179529759235\n",
      "  (961, 379)\t0.0337219082126757\n",
      "  (961, 380)\t0.08988500206796182\n",
      "  (961, 384)\t0.029015361316596773\n",
      "  (961, 388)\t0.029736629453543665\n",
      "  (961, 394)\t0.12973530632560537\n",
      "  (961, 405)\t0.04464727290685546\n",
      "  (961, 407)\t0.03861227812518517\n",
      "  (961, 409)\t0.04787405272926864\n",
      "  (961, 414)\t0.032375787238262656\n",
      "  (961, 417)\t0.09098897671286112\n",
      "  (961, 424)\t0.035067363480669404\n",
      "  (961, 427)\t0.04596739347792475\n",
      "  (961, 450)\t0.1017462726027539\n",
      "  (961, 452)\t0.027125211902093594\n",
      "  (961, 453)\t0.20734957309833854\n",
      "  (961, 454)\t0.4234158468702425\n",
      "  (961, 457)\t0.07260051097973642\n",
      "  (961, 462)\t0.1501069341236666\n",
      "  (961, 480)\t0.03630025548986821\n",
      "  (961, 488)\t0.19407525943291828\n",
      "  (961, 491)\t0.4871970445871859\n",
      "  (961, 498)\t0.24750229493326428\n"
     ]
    }
   ],
   "source": [
    "from sklearn.feature_extraction.text import TfidfVectorizer\n",
    "tfidf_1 = TfidfVectorizer(stop_words='english',max_features=500)\n",
    "\n",
    "tfidf_1.fit(df['Clean_Resume'][0:5000])\n",
    "requiredText  = tfidf_1.transform(df['Clean_Resume'][0:5000])\n",
    "print(requiredText)"
   ]
  },
  {
   "cell_type": "code",
   "execution_count": 88,
   "id": "0a846dd5",
   "metadata": {},
   "outputs": [
    {
     "name": "stdout",
     "output_type": "stream",
     "text": [
      "(962, 500)\n",
      "[0.         0.         0.         0.         0.         0.\n",
      " 0.         0.         0.         0.         0.         0.\n",
      " 0.         0.         0.1184036  0.         0.         0.\n",
      " 0.         0.04652994 0.         0.         0.         0.\n",
      " 0.         0.25507335 0.         0.28723115 0.         0.03846179\n",
      " 0.         0.04804932 0.         0.         0.         0.\n",
      " 0.         0.         0.         0.         0.05038234 0.\n",
      " 0.         0.         0.         0.         0.         0.02840615\n",
      " 0.         0.         0.04405477 0.         0.         0.\n",
      " 0.         0.04996459 0.         0.         0.         0.07605603\n",
      " 0.         0.         0.         0.0715071  0.         0.\n",
      " 0.         0.         0.         0.         0.05007287 0.05038234\n",
      " 0.05195486 0.         0.         0.         0.05937466 0.\n",
      " 0.         0.         0.01357586 0.         0.         0.\n",
      " 0.         0.02689617 0.         0.         0.         0.\n",
      " 0.         0.         0.         0.         0.         0.\n",
      " 0.         0.03568153 0.         0.04516362 0.         0.\n",
      " 0.12453963 0.         0.         0.         0.         0.08461735\n",
      " 0.         0.08241694 0.         0.14635    0.27360804 0.02584718\n",
      " 0.         0.         0.         0.09645828 0.         0.\n",
      " 0.         0.         0.         0.01357586 0.         0.\n",
      " 0.         0.         0.         0.07345268 0.         0.03418667\n",
      " 0.02581241 0.         0.         0.03150927 0.         0.\n",
      " 0.         0.         0.         0.         0.         0.\n",
      " 0.01629857 0.0426644  0.         0.         0.         0.\n",
      " 0.         0.06982707 0.         0.         0.         0.03760768\n",
      " 0.         0.         0.0897556  0.         0.         0.05017186\n",
      " 0.         0.         0.         0.         0.         0.\n",
      " 0.         0.         0.         0.         0.         0.05107192\n",
      " 0.         0.         0.         0.04045206 0.         0.\n",
      " 0.         0.04353256 0.0466906  0.         0.         0.\n",
      " 0.         0.         0.         0.04184843 0.05195486 0.\n",
      " 0.         0.         0.         0.         0.         0.\n",
      " 0.         0.         0.         0.         0.         0.03995105\n",
      " 0.         0.         0.         0.         0.         0.\n",
      " 0.         0.07179749 0.         0.08131551 0.04621421 0.\n",
      " 0.         0.         0.         0.         0.         0.\n",
      " 0.         0.         0.243935   0.         0.         0.\n",
      " 0.         0.         0.         0.         0.         0.\n",
      " 0.         0.         0.03109312 0.         0.03063971 0.15455701\n",
      " 0.         0.         0.16923471 0.         0.         0.\n",
      " 0.         0.         0.08849942 0.         0.         0.\n",
      " 0.         0.08215749 0.         0.         0.         0.\n",
      " 0.         0.         0.         0.         0.         0.04242622\n",
      " 0.         0.         0.         0.         0.03819987 0.\n",
      " 0.         0.03319439 0.         0.         0.         0.\n",
      " 0.         0.         0.         0.         0.         0.\n",
      " 0.03539721 0.         0.         0.         0.         0.09370638\n",
      " 0.         0.         0.         0.03477845 0.03786636 0.\n",
      " 0.01702397 0.         0.07554851 0.         0.         0.03380602\n",
      " 0.         0.         0.         0.04473712 0.         0.\n",
      " 0.         0.         0.         0.         0.         0.03412248\n",
      " 0.         0.         0.         0.03946787 0.07931816 0.\n",
      " 0.         0.         0.         0.         0.         0.\n",
      " 0.         0.04076179 0.         0.         0.         0.\n",
      " 0.         0.         0.17628623 0.         0.         0.\n",
      " 0.         0.         0.         0.         0.         0.\n",
      " 0.         0.         0.04366124 0.         0.         0.\n",
      " 0.         0.02763018 0.09003991 0.06533307 0.         0.\n",
      " 0.         0.         0.03641953 0.         0.02015824 0.\n",
      " 0.         0.         0.         0.         0.         0.\n",
      " 0.         0.2194324  0.04897321 0.         0.         0.\n",
      " 0.         0.         0.04996459 0.06761203 0.         0.\n",
      " 0.         0.02828064 0.07538142 0.         0.         0.\n",
      " 0.02433353 0.04302969 0.         0.         0.         0.\n",
      " 0.04140328 0.         0.34325463 0.04230868 0.         0.\n",
      " 0.         0.         0.         0.         0.09994359 0.\n",
      " 0.         0.         0.         0.03744312 0.         0.\n",
      " 0.02516824 0.         0.         0.         0.         0.\n",
      " 0.02715173 0.         0.         0.         0.02896385 0.\n",
      " 0.07818667 0.         0.         0.         0.029409   0.\n",
      " 0.         0.         0.         0.         0.03568153 0.\n",
      " 0.         0.         0.         0.04590565 0.         0.\n",
      " 0.         0.         0.         0.         0.         0.\n",
      " 0.         0.         0.         0.         0.         0.02130416\n",
      " 0.         0.         0.13649021 0.         0.         0.21177051\n",
      " 0.         0.06088591 0.         0.         0.21607565 0.\n",
      " 0.         0.         0.         0.         0.         0.\n",
      " 0.         0.         0.         0.04278507 0.03956314 0.\n",
      " 0.         0.         0.         0.         0.         0.0346447\n",
      " 0.09132886 0.0272004  0.02828064 0.         0.         0.\n",
      " 0.         0.         0.         0.         0.         0.\n",
      " 0.22727792 0.         0.02931879 0.         0.         0.\n",
      " 0.         0.02396493]\n"
     ]
    }
   ],
   "source": [
    "vectors = requiredText.toarray()\n",
    "print(vectors.shape)\n",
    "print(vectors[0])"
   ]
  },
  {
   "cell_type": "code",
   "execution_count": 89,
   "id": "42f95b50",
   "metadata": {},
   "outputs": [
    {
     "data": {
      "text/plain": [
       "array([[0.        , 0.        , 0.        , ..., 0.        , 0.        ,\n",
       "        0.02396493],\n",
       "       [0.        , 0.11056736, 0.        , ..., 0.        , 0.        ,\n",
       "        0.40667888],\n",
       "       [0.        , 0.        , 0.        , ..., 0.        , 0.        ,\n",
       "        0.41077046],\n",
       "       ...,\n",
       "       [0.02572716, 0.        , 0.        , ..., 0.        , 0.        ,\n",
       "        0.        ],\n",
       "       [0.        , 0.        , 0.        , ..., 0.        , 0.        ,\n",
       "        0.09660559],\n",
       "       [0.16587966, 0.        , 0.        , ..., 0.        , 0.24750229,\n",
       "        0.        ]])"
      ]
     },
     "execution_count": 89,
     "metadata": {},
     "output_type": "execute_result"
    }
   ],
   "source": [
    "vectors"
   ]
  },
  {
   "cell_type": "code",
   "execution_count": 90,
   "id": "19796ac8",
   "metadata": {},
   "outputs": [
    {
     "data": {
      "text/plain": [
       "500"
      ]
     },
     "execution_count": 90,
     "metadata": {},
     "output_type": "execute_result"
    }
   ],
   "source": [
    "len(tfidf_1.get_feature_names_out())"
   ]
  },
  {
   "cell_type": "code",
   "execution_count": 91,
   "id": "d6a6525f",
   "metadata": {},
   "outputs": [
    {
     "name": "stdout",
     "output_type": "stream",
     "text": [
      "['10' '12' '15' '20' '2008' '2010' '2011' '2012' '2013' '2014' '2015'\n",
      " '2016' '2017' '2018' '24' '48' 'ability' 'access' 'account' 'action'\n",
      " 'activity' 'administration' 'administrator' 'agile' 'ajax' 'analysis'\n",
      " 'analyst' 'analytics' 'analyze' 'analyzing' 'android' 'angular' 'api'\n",
      " 'application' 'architecture' 'area' 'art' 'asp' 'attending' 'audit'\n",
      " 'automated' 'automation' 'aws' 'bachelor' 'backup' 'bank' 'banking'\n",
      " 'based' 'basic' 'basis' 'best' 'billing' 'blockchain' 'bo' 'board'\n",
      " 'bootstrap' 'branch' 'budget' 'bug' 'build' 'building' 'business' 'card'\n",
      " 'case' 'center' 'certificate' 'change' 'check' 'cisco' 'civil' 'client'\n",
      " 'cloud' 'cluster' 'code' 'college' 'com' 'comment' 'commerce'\n",
      " 'commercial' 'communication' 'company' 'complete' 'completed'\n",
      " 'compliance' 'component' 'computer' 'conducted' 'configuration'\n",
      " 'construction' 'consultancy' 'consultant' 'contract' 'contribution'\n",
      " 'control' 'controller' 'coordinate' 'coordinating' 'core' 'corporate'\n",
      " 'cost' 'course' 'create' 'created' 'creating' 'creation' 'credit'\n",
      " 'critical' 'cs' 'css3' 'customer' 'daily' 'dashboard' 'data' 'database'\n",
      " 'date' 'day' 'db' 'decision' 'defect' 'deliverable' 'delivery'\n",
      " 'department' 'deployment' 'description' 'design' 'designed' 'designer'\n",
      " 'designing' 'develop' 'developed' 'developer' 'developing' 'development'\n",
      " 'device' 'devops' 'different' 'diploma' 'distribution' 'document'\n",
      " 'documentation' 'dr' 'drawing' 'duration' 'duty' 'education' 'effective'\n",
      " 'efficiency' 'electrical' 'electronics' 'email' 'employee' 'end'\n",
      " 'engineer' 'engineering' 'english' 'ensure' 'ensuring' 'enterprise'\n",
      " 'entire' 'environment' 'equipment' 'erp' 'estimation' 'ethereum' 'etl'\n",
      " 'event' 'excel' 'excellent' 'execution' 'existing' 'experience'\n",
      " 'expertise' 'export' 'exprience' 'fat' 'feature' 'field' 'file'\n",
      " 'financial' 'firewall' 'fitness' 'flow' 'following' 'framework' 'freight'\n",
      " 'function' 'functional' 'gathering' 'ge' 'generate' 'git' 'given'\n",
      " 'global' 'goal' 'good' 'graphic' 'group' 'hadoop' 'hana' 'handled'\n",
      " 'handling' 'hdfs' 'health' 'help' 'hibernate' 'high' 'hive' 'honeywell'\n",
      " 'hotel' 'hr' 'hsc' 'html' 'html5' 'identify' 'identifying'\n",
      " 'implementation' 'implemented' 'implementing' 'includes' 'including'\n",
      " 'india' 'industrial' 'industry' 'informatica' 'information'\n",
      " 'infrastructure' 'inspection' 'installation' 'institute' 'insurance'\n",
      " 'integration' 'interface' 'internal' 'international' 'inventory'\n",
      " 'involved' 'issue' 'january' 'java' 'javascript' 'jenkins' 'job' 'jquery'\n",
      " 'jsp' 'june' 'key' 'knowledge' 'korea' 'language' 'layer' 'lead' 'leader'\n",
      " 'leading' 'learning' 'level' 'life' 'like' 'limited' 'line' 'linux'\n",
      " 'load' 'loan' 'log' 'machine' 'maharashtra' 'maintain' 'maintaining'\n",
      " 'maintenance' 'make' 'manage' 'management' 'manager' 'managing' 'manual'\n",
      " 'manufacturing' 'mapping' 'marketing' 'master' 'material' 'mechanical'\n",
      " 'medium' 'meeting' 'member' 'methodology' 'mi' 'microsoft' 'migration'\n",
      " 'model' 'module' 'monitor' 'monitored' 'monitoring' 'month' 'monthly'\n",
      " 'monthscompany' 'multi' 'multiple' 'mumbai' 'mvc' 'mysql' 'nagpur'\n",
      " 'nashik' 'need' 'net' 'network' 'networking' 'new' 'offer' 'office'\n",
      " 'online' 'operating' 'operation' 'operational' 'opportunity' 'oracle'\n",
      " 'order' 'organization' 'overall' 'panel' 'participate' 'participated'\n",
      " 'payment' 'people' 'perform' 'performance' 'performed' 'personal'\n",
      " 'photoshop' 'php' 'plan' 'planning' 'plant' 'platform' 'plc' 'pmo'\n",
      " 'point' 'policy' 'portal' 'position' 'power' 'pre' 'preparation'\n",
      " 'prepare' 'preparing' 'present' 'presentation' 'private' 'problem'\n",
      " 'procedure' 'process' 'processing' 'product' 'production' 'professional'\n",
      " 'profile' 'program' 'programming' 'progress' 'project' 'proposal'\n",
      " 'provide' 'provided' 'provider' 'providing' 'pune' 'purchase' 'pvt'\n",
      " 'python' 'qa' 'qtp' 'quality' 'query' 'record' 'reduce' 'regression'\n",
      " 'related' 'relationship' 'release' 'replication' 'report' 'reporting'\n",
      " 'repository' 'request' 'required' 'requirement' 'research' 'resolve'\n",
      " 'resource' 'responsibility' 'responsible' 'result' 'revenue' 'review'\n",
      " 'risk' 'role' 'router' 'sale' 'sap' 'schedule' 'school' 'science' 'scope'\n",
      " 'script' 'scripting' 'secondary' 'security' 'senior' 'server' 'service'\n",
      " 'set' 'shell' 'shipment' 'site' 'size' 'skill' 'sla' 'smooth' 'software'\n",
      " 'solution' 'solving' 'source' 'spark' 'specification' 'spring' 'sql'\n",
      " 'sqoop' 'sr' 'ssc' 'staff' 'stakeholder' 'standard' 'state' 'station'\n",
      " 'status' 'stock' 'store' 'strategy' 'strong' 'student' 'studio'\n",
      " 'successfully' 'supplier' 'supply' 'support' 'table' 'talend' 'target'\n",
      " 'task' 'tata' 'team' 'tech' 'technical' 'technology' 'test' 'testing'\n",
      " 'text' 'till' 'time' 'timely' 'title' 'tool' 'track' 'tracking'\n",
      " 'training' 'transaction' 'transformer' 'troubleshooting' 'trust' 'type'\n",
      " 'uat' 'ui' 'understand' 'understanding' 'unit' 'university' 'unix'\n",
      " 'update' 'upgrade' 'use' 'used' 'user' 'using' 'various' 'vendor'\n",
      " 'version' 'view' 'visual' 'warehouse' 'web' 'website' 'weekly' 'window'\n",
      " 'word' 'work' 'worked' 'working' 'workshop' 'writing' 'xp' 'year']\n"
     ]
    }
   ],
   "source": [
    "print(tfidf_1.get_feature_names_out())"
   ]
  },
  {
   "cell_type": "code",
   "execution_count": 92,
   "id": "3771795f",
   "metadata": {},
   "outputs": [
    {
     "name": "stdout",
     "output_type": "stream",
     "text": [
      "automated\n",
      "activity\n",
      "2016\n",
      "administrator\n",
      "application\n",
      "backup\n"
     ]
    }
   ],
   "source": [
    "print(tfidf_1.get_feature_names_out()[40])\n",
    "print(tfidf_1.get_feature_names_out()[20])\n",
    "print(tfidf_1.get_feature_names_out()[11])\n",
    "print(tfidf_1.get_feature_names_out()[22])\n",
    "print(tfidf_1.get_feature_names_out()[33])\n",
    "print(tfidf_1.get_feature_names_out()[44])"
   ]
  },
  {
   "cell_type": "markdown",
   "id": "f87194f7",
   "metadata": {},
   "source": [
    "### Similarity Score (Cosine similarity method)\n",
    "- For recommending the similar job category we need to identify the nearest vectors of a particular job category vector.\n",
    "- In order to find out the nearest vectors, we use similarity score and it has two methods (1- Euclidean distance method) & (2- Cosine similarity method)\n",
    "- Here, I will be using cosine similarity method rather than euclidean distance method because euclidean distance does not perform well on higher dimensions\n",
    "- The similarity is inverse of distance. [0-1]\n",
    "- If 1 then similarity is high and if 0 then similarity is low"
   ]
  },
  {
   "cell_type": "code",
   "execution_count": 93,
   "id": "62991a91",
   "metadata": {},
   "outputs": [
    {
     "name": "stdout",
     "output_type": "stream",
     "text": [
      "[[1.         0.21148385 0.28948284 ... 0.04255453 0.0683294  0.09374585]\n",
      " [0.21148385 1.         0.50844088 ... 0.01732533 0.18809417 0.10409007]\n",
      " [0.28948284 0.50844088 1.         ... 0.03952149 0.28214179 0.19174322]\n",
      " ...\n",
      " [0.04255453 0.01732533 0.03952149 ... 1.         0.12282746 0.24562413]\n",
      " [0.0683294  0.18809417 0.28214179 ... 0.12282746 1.         0.18933751]\n",
      " [0.09374585 0.10409007 0.19174322 ... 0.24562413 0.18933751 1.        ]]\n"
     ]
    }
   ],
   "source": [
    "from sklearn.metrics.pairwise import cosine_similarity\n",
    "similarity = cosine_similarity(vectors)\n",
    "# This will create result with values as distance/similarity between each vectors\n",
    "print(similarity)"
   ]
  },
  {
   "cell_type": "code",
   "execution_count": 94,
   "id": "20307db1",
   "metadata": {},
   "outputs": [
    {
     "name": "stdout",
     "output_type": "stream",
     "text": [
      "(962, 962)\n",
      "[1.         0.21148385 0.28948284 0.3186018  0.24324377 0.22698037\n",
      " 0.39980916 0.37560754 0.32004228 0.4399432  1.         0.21148385\n",
      " 0.28948284 0.3186018  0.24324377 0.22698037 0.39980916 0.37560754\n",
      " 0.32004228 0.4399432  1.         0.21148385 0.28948284 0.3186018\n",
      " 0.24324377 0.22698037 0.39980916 0.37560754 0.32004228 0.4399432\n",
      " 1.         0.21148385 0.28948284 0.3186018  0.24324377 0.22698037\n",
      " 0.39980916 0.37560754 0.32004228 0.4399432  0.01804888 0.10764851\n",
      " 0.03075593 0.01698605 0.01698605 0.02553573 0.01117892 0.04609305\n",
      " 0.00803632 0.04988248 0.12621074 0.01804888 0.10764851 0.03075593\n",
      " 0.01698605 0.01698605 0.02553573 0.01117892 0.04609305 0.00803632\n",
      " 0.04988248 0.12621074 0.01804888 0.10764851 0.03075593 0.01698605\n",
      " 0.01698605 0.02553573 0.01117892 0.04609305 0.00803632 0.04988248\n",
      " 0.12621074 0.01804888 0.10764851 0.03075593 0.01698605 0.01698605\n",
      " 0.02553573 0.01117892 0.04609305 0.00803632 0.04988248 0.12621074\n",
      " 0.02942847 0.05210703 0.05583657 0.09580663 0.11440393 0.0067519\n",
      " 0.02821813 0.03238607 0.04066752 0.00407693 0.02942847 0.05210703\n",
      " 0.05583657 0.09580663 0.11440393 0.0067519  0.02821813 0.03238607\n",
      " 0.04066752 0.00407693 0.0327842  0.00562483 0.06399904 0.01498805\n",
      " 0.02835939 0.04440276 0.0327842  0.00562483 0.06399904 0.01498805\n",
      " 0.02835939 0.04440276 0.0327842  0.00562483 0.06399904 0.01498805\n",
      " 0.02835939 0.04440276 0.0327842  0.00562483 0.06399904 0.01498805\n",
      " 0.02835939 0.04440276 0.0327842  0.00562483 0.06399904 0.01498805\n",
      " 0.02835939 0.04440276 0.0327842  0.00562483 0.06399904 0.01498805\n",
      " 0.02835939 0.04440276 0.12964562 0.18744498 0.12964562 0.0718136\n",
      " 0.27118269 0.12964562 0.18744498 0.12964562 0.0718136  0.27118269\n",
      " 0.12964562 0.18744498 0.12964562 0.0718136  0.27118269 0.12964562\n",
      " 0.18744498 0.12964562 0.0718136  0.27118269 0.12964562 0.18744498\n",
      " 0.12964562 0.0718136  0.27118269 0.12964562 0.18744498 0.12964562\n",
      " 0.0718136  0.27118269 0.12964562 0.18744498 0.12964562 0.0718136\n",
      " 0.27118269 0.12964562 0.18744498 0.12964562 0.0718136  0.27118269\n",
      " 0.12964562 0.18744498 0.12964562 0.0718136  0.27118269 0.1683558\n",
      " 0.04210125 0.01754444 0.02703628 0.0687655  0.1683558  0.04210125\n",
      " 0.01754444 0.02703628 0.0687655  0.1683558  0.04210125 0.01754444\n",
      " 0.02703628 0.0687655  0.1683558  0.04210125 0.01754444 0.02703628\n",
      " 0.0687655  0.1683558  0.04210125 0.01754444 0.02703628 0.0687655\n",
      " 0.1683558  0.04210125 0.01754444 0.02703628 0.0687655  0.1683558\n",
      " 0.04210125 0.01754444 0.02703628 0.0687655  0.1683558  0.04210125\n",
      " 0.01754444 0.02703628 0.0687655  0.083989   0.0533222  0.0861408\n",
      " 0.057131   0.08076467 0.083989   0.0533222  0.0861408  0.057131\n",
      " 0.08076467 0.083989   0.0533222  0.0861408  0.057131   0.08076467\n",
      " 0.083989   0.0533222  0.0861408  0.057131   0.08076467 0.083989\n",
      " 0.0533222  0.0861408  0.057131   0.08076467 0.083989   0.0533222\n",
      " 0.0861408  0.057131   0.08076467 0.083989   0.0533222  0.0861408\n",
      " 0.057131   0.08076467 0.083989   0.0533222  0.0861408  0.057131\n",
      " 0.08076467 0.03832234 0.01595124 0.05830785 0.05129987 0.08948659\n",
      " 0.14709869 0.03832234 0.01595124 0.05830785 0.05129987 0.08948659\n",
      " 0.14709869 0.03832234 0.01595124 0.05830785 0.05129987 0.08948659\n",
      " 0.14709869 0.03832234 0.01595124 0.05830785 0.05129987 0.08948659\n",
      " 0.14709869 0.03832234 0.01595124 0.05830785 0.05129987 0.08948659\n",
      " 0.14709869 0.06792612 0.0251538  0.06515448 0.02877006 0.04026996\n",
      " 0.01635857 0.06792612 0.0251538  0.06515448 0.02877006 0.04026996\n",
      " 0.01635857 0.06792612 0.0251538  0.06515448 0.02877006 0.04026996\n",
      " 0.01635857 0.06792612 0.0251538  0.06515448 0.02877006 0.04026996\n",
      " 0.01635857 0.09637461 0.07766291 0.14534625 0.18554425 0.19502401\n",
      " 0.1298117  0.13705485 0.13705485 0.15251478 0.13296395 0.20789643\n",
      " 0.18777557 0.11457815 0.08664728 0.09637461 0.07766291 0.14534625\n",
      " 0.18554425 0.19502401 0.1298117  0.13705485 0.13705485 0.15251478\n",
      " 0.13296395 0.20789643 0.18777557 0.11457815 0.08664728 0.09637461\n",
      " 0.07766291 0.14534625 0.18554425 0.19502401 0.1298117  0.13705485\n",
      " 0.13705485 0.15251478 0.13296395 0.20789643 0.18777557 0.11457815\n",
      " 0.08664728 0.09637461 0.07766291 0.14534625 0.18554425 0.19502401\n",
      " 0.1298117  0.13705485 0.13705485 0.15251478 0.13296395 0.20789643\n",
      " 0.18777557 0.11457815 0.08664728 0.09637461 0.07766291 0.14534625\n",
      " 0.18554425 0.19502401 0.1298117  0.13705485 0.13705485 0.15251478\n",
      " 0.13296395 0.20789643 0.18777557 0.11457815 0.08664728 0.09637461\n",
      " 0.07766291 0.14534625 0.18554425 0.19502401 0.1298117  0.13705485\n",
      " 0.13705485 0.15251478 0.13296395 0.20789643 0.18777557 0.11457815\n",
      " 0.08664728 0.14106999 0.18635402 0.19324765 0.24158967 0.08932408\n",
      " 0.10161931 0.19324765 0.24158967 0.08932408 0.10161931 0.19324765\n",
      " 0.24158967 0.08932408 0.10161931 0.14106999 0.18635402 0.19324765\n",
      " 0.24158967 0.08932408 0.10161931 0.19324765 0.24158967 0.08932408\n",
      " 0.10161931 0.19324765 0.24158967 0.08932408 0.10161931 0.15570383\n",
      " 0.19406517 0.09775015 0.09266588 0.06689369 0.0874004  0.15570383\n",
      " 0.19406517 0.09775015 0.09266588 0.06689369 0.0874004  0.15570383\n",
      " 0.19406517 0.09775015 0.09266588 0.06689369 0.0874004  0.15570383\n",
      " 0.19406517 0.09775015 0.09266588 0.06689369 0.0874004  0.12136821\n",
      " 0.04576935 0.16322306 0.14437612 0.10920836 0.12311063 0.06958517\n",
      " 0.14437612 0.10920836 0.14437612 0.10920836 0.14437612 0.10920836\n",
      " 0.12136821 0.04576935 0.16322306 0.14437612 0.10920836 0.12311063\n",
      " 0.06958517 0.14437612 0.10920836 0.14437612 0.10920836 0.14437612\n",
      " 0.10920836 0.07349433 0.03097279 0.0837273  0.01388289 0.03651481\n",
      " 0.07349433 0.03097279 0.0837273  0.01388289 0.03651481 0.07349433\n",
      " 0.03097279 0.0837273  0.01388289 0.03651481 0.07349433 0.03097279\n",
      " 0.0837273  0.01388289 0.03651481 0.07349433 0.03097279 0.0837273\n",
      " 0.01388289 0.03651481 0.07349433 0.03097279 0.0837273  0.01388289\n",
      " 0.03651481 0.22672425 0.13306192 0.1072663  0.11670624 0.22672425\n",
      " 0.13306192 0.1072663  0.11670624 0.22672425 0.13306192 0.1072663\n",
      " 0.11670624 0.22672425 0.13306192 0.1072663  0.11670624 0.22672425\n",
      " 0.13306192 0.1072663  0.11670624 0.22672425 0.13306192 0.1072663\n",
      " 0.11670624 0.22672425 0.13306192 0.1072663  0.11670624 0.22672425\n",
      " 0.13306192 0.1072663  0.11670624 0.22672425 0.13306192 0.1072663\n",
      " 0.11670624 0.22672425 0.13306192 0.1072663  0.11670624 0.17520778\n",
      " 0.12592293 0.19870315 0.28423674 0.06809264 0.19988452 0.17520778\n",
      " 0.12592293 0.19870315 0.28423674 0.06809264 0.19988452 0.17520778\n",
      " 0.12592293 0.19870315 0.28423674 0.06809264 0.19988452 0.17520778\n",
      " 0.12592293 0.19870315 0.28423674 0.06809264 0.19988452 0.17520778\n",
      " 0.12592293 0.19870315 0.28423674 0.06809264 0.19988452 0.17520778\n",
      " 0.12592293 0.19870315 0.28423674 0.06809264 0.19988452 0.17520778\n",
      " 0.12592293 0.19870315 0.28423674 0.06809264 0.19988452 0.17520778\n",
      " 0.12592293 0.19870315 0.28423674 0.06809264 0.19988452 0.14996403\n",
      " 0.21536769 0.18304699 0.18421671 0.14201941 0.12949447 0.12397378\n",
      " 0.14996403 0.21536769 0.18304699 0.14996403 0.21536769 0.18304699\n",
      " 0.14996403 0.21536769 0.18304699 0.14996403 0.21536769 0.18304699\n",
      " 0.14996403 0.21536769 0.18304699 0.14996403 0.21536769 0.18304699\n",
      " 0.14996403 0.21536769 0.18304699 0.14996403 0.21536769 0.18304699\n",
      " 0.14996403 0.21536769 0.18304699 0.14996403 0.21536769 0.18304699\n",
      " 0.14996403 0.21536769 0.18304699 0.14996403 0.21536769 0.18304699\n",
      " 0.14996403 0.21536769 0.18304699 0.14996403 0.21536769 0.18304699\n",
      " 0.14996403 0.21536769 0.18304699 0.14996403 0.21536769 0.18304699\n",
      " 0.08500754 0.08844371 0.0991619  0.0742414  0.03925421 0.08500754\n",
      " 0.08844371 0.0991619  0.0742414  0.03925421 0.08500754 0.08844371\n",
      " 0.0991619  0.0742414  0.03925421 0.08500754 0.08844371 0.0991619\n",
      " 0.0742414  0.03925421 0.08500754 0.08844371 0.0991619  0.0742414\n",
      " 0.03925421 0.25746013 0.14804322 0.1195438  0.25746013 0.14804322\n",
      " 0.1195438  0.25746013 0.14804322 0.1195438  0.25746013 0.14804322\n",
      " 0.1195438  0.25746013 0.14804322 0.1195438  0.25746013 0.14804322\n",
      " 0.1195438  0.25746013 0.14804322 0.1195438  0.25746013 0.14804322\n",
      " 0.1195438  0.25746013 0.14804322 0.1195438  0.25746013 0.14804322\n",
      " 0.1195438  0.1025518  0.11194947 0.08758769 0.1345994  0.08192866\n",
      " 0.12698502 0.18562292 0.08908858 0.12621323 0.10331701 0.23483709\n",
      " 0.1025518  0.11194947 0.08758769 0.1345994  0.08192866 0.12698502\n",
      " 0.18562292 0.08908858 0.12621323 0.10331701 0.23483709 0.1025518\n",
      " 0.11194947 0.08758769 0.1345994  0.08192866 0.12698502 0.18562292\n",
      " 0.08908858 0.12621323 0.10331701 0.23483709 0.19362957 0.11080732\n",
      " 0.22858043 0.20796521 0.22329067 0.16533357 0.29968346 0.19362957\n",
      " 0.11080732 0.22858043 0.20796521 0.22329067 0.16533357 0.29968346\n",
      " 0.19362957 0.11080732 0.22858043 0.20796521 0.22329067 0.16533357\n",
      " 0.29968346 0.19362957 0.11080732 0.22858043 0.20796521 0.22329067\n",
      " 0.16533357 0.29968346 0.19362957 0.11080732 0.22858043 0.20796521\n",
      " 0.22329067 0.16533357 0.29968346 0.19362957 0.11080732 0.22858043\n",
      " 0.20796521 0.22329067 0.16533357 0.29968346 0.19894648 0.13922039\n",
      " 0.10320218 0.14902659 0.07836432 0.19894648 0.13922039 0.10320218\n",
      " 0.14902659 0.07836432 0.19894648 0.13922039 0.10320218 0.14902659\n",
      " 0.07836432 0.19894648 0.13922039 0.10320218 0.14902659 0.07836432\n",
      " 0.19894648 0.13922039 0.10320218 0.14902659 0.07836432 0.19894648\n",
      " 0.13922039 0.10320218 0.14902659 0.07836432 0.19894648 0.13922039\n",
      " 0.10320218 0.14902659 0.07836432 0.19894648 0.13922039 0.10320218\n",
      " 0.14902659 0.07836432 0.24178851 0.10663625 0.21374278 0.0810316\n",
      " 0.14882989 0.19923551 0.19286837 0.24178851 0.10663625 0.21374278\n",
      " 0.0810316  0.14882989 0.19923551 0.19286837 0.24178851 0.10663625\n",
      " 0.21374278 0.0810316  0.14882989 0.19923551 0.19286837 0.24178851\n",
      " 0.10663625 0.21374278 0.0810316  0.14882989 0.19923551 0.19286837\n",
      " 0.10362062 0.19570335 0.16145584 0.13227234 0.23128369 0.10362062\n",
      " 0.19570335 0.16145584 0.13227234 0.23128369 0.10362062 0.19570335\n",
      " 0.16145584 0.13227234 0.23128369 0.10362062 0.19570335 0.16145584\n",
      " 0.13227234 0.23128369 0.10362062 0.19570335 0.16145584 0.13227234\n",
      " 0.23128369 0.10362062 0.19570335 0.16145584 0.13227234 0.23128369\n",
      " 0.10362062 0.19570335 0.16145584 0.13227234 0.23128369 0.10362062\n",
      " 0.19570335 0.16145584 0.13227234 0.23128369 0.02182757 0.0939737\n",
      " 0.04307645 0.07208618 0.04255453 0.0683294  0.09374585 0.02182757\n",
      " 0.0939737  0.04307645 0.07208618 0.04255453 0.0683294  0.09374585\n",
      " 0.02182757 0.0939737  0.04307645 0.07208618 0.04255453 0.0683294\n",
      " 0.09374585 0.02182757 0.0939737  0.04307645 0.07208618 0.04255453\n",
      " 0.0683294  0.09374585 0.02182757 0.0939737  0.04307645 0.07208618\n",
      " 0.04255453 0.0683294  0.09374585 0.02182757 0.0939737  0.04307645\n",
      " 0.07208618 0.04255453 0.0683294  0.09374585 0.02182757 0.0939737\n",
      " 0.04307645 0.07208618 0.04255453 0.0683294  0.09374585 0.02182757\n",
      " 0.0939737  0.04307645 0.07208618 0.04255453 0.0683294  0.09374585\n",
      " 0.02182757 0.0939737  0.04307645 0.07208618 0.04255453 0.0683294\n",
      " 0.09374585 0.02182757 0.0939737  0.04307645 0.07208618 0.04255453\n",
      " 0.0683294  0.09374585]\n",
      "[0.21148385 1.         0.50844088 0.21963492 0.61228559 0.49563672\n",
      " 0.38882798 0.43934047 0.32243297 0.3218661  0.21148385 1.\n",
      " 0.50844088 0.21963492 0.61228559 0.49563672 0.38882798 0.43934047\n",
      " 0.32243297 0.3218661  0.21148385 1.         0.50844088 0.21963492\n",
      " 0.61228559 0.49563672 0.38882798 0.43934047 0.32243297 0.3218661\n",
      " 0.21148385 1.         0.50844088 0.21963492 0.61228559 0.49563672\n",
      " 0.38882798 0.43934047 0.32243297 0.3218661  0.14236688 0.04342433\n",
      " 0.15501927 0.03688998 0.03688998 0.18703014 0.04143422 0.21827383\n",
      " 0.05196214 0.18215105 0.22977675 0.14236688 0.04342433 0.15501927\n",
      " 0.03688998 0.03688998 0.18703014 0.04143422 0.21827383 0.05196214\n",
      " 0.18215105 0.22977675 0.14236688 0.04342433 0.15501927 0.03688998\n",
      " 0.03688998 0.18703014 0.04143422 0.21827383 0.05196214 0.18215105\n",
      " 0.22977675 0.14236688 0.04342433 0.15501927 0.03688998 0.03688998\n",
      " 0.18703014 0.04143422 0.21827383 0.05196214 0.18215105 0.22977675\n",
      " 0.03546243 0.37563007 0.40118208 0.49437736 0.21585139 0.02445695\n",
      " 0.023912   0.0652418  0.16286869 0.08458692 0.03546243 0.37563007\n",
      " 0.40118208 0.49437736 0.21585139 0.02445695 0.023912   0.0652418\n",
      " 0.16286869 0.08458692 0.05790579 0.13395544 0.14223628 0.23388653\n",
      " 0.19780815 0.23460892 0.05790579 0.13395544 0.14223628 0.23388653\n",
      " 0.19780815 0.23460892 0.05790579 0.13395544 0.14223628 0.23388653\n",
      " 0.19780815 0.23460892 0.05790579 0.13395544 0.14223628 0.23388653\n",
      " 0.19780815 0.23460892 0.05790579 0.13395544 0.14223628 0.23388653\n",
      " 0.19780815 0.23460892 0.05790579 0.13395544 0.14223628 0.23388653\n",
      " 0.19780815 0.23460892 0.16464487 0.01015612 0.16464487 0.12821692\n",
      " 0.19303411 0.16464487 0.01015612 0.16464487 0.12821692 0.19303411\n",
      " 0.16464487 0.01015612 0.16464487 0.12821692 0.19303411 0.16464487\n",
      " 0.01015612 0.16464487 0.12821692 0.19303411 0.16464487 0.01015612\n",
      " 0.16464487 0.12821692 0.19303411 0.16464487 0.01015612 0.16464487\n",
      " 0.12821692 0.19303411 0.16464487 0.01015612 0.16464487 0.12821692\n",
      " 0.19303411 0.16464487 0.01015612 0.16464487 0.12821692 0.19303411\n",
      " 0.16464487 0.01015612 0.16464487 0.12821692 0.19303411 0.03516213\n",
      " 0.26757562 0.02639495 0.06964269 0.20614995 0.03516213 0.26757562\n",
      " 0.02639495 0.06964269 0.20614995 0.03516213 0.26757562 0.02639495\n",
      " 0.06964269 0.20614995 0.03516213 0.26757562 0.02639495 0.06964269\n",
      " 0.20614995 0.03516213 0.26757562 0.02639495 0.06964269 0.20614995\n",
      " 0.03516213 0.26757562 0.02639495 0.06964269 0.20614995 0.03516213\n",
      " 0.26757562 0.02639495 0.06964269 0.20614995 0.03516213 0.26757562\n",
      " 0.02639495 0.06964269 0.20614995 0.4827482  0.21731308 0.09700844\n",
      " 0.18580623 0.09293609 0.4827482  0.21731308 0.09700844 0.18580623\n",
      " 0.09293609 0.4827482  0.21731308 0.09700844 0.18580623 0.09293609\n",
      " 0.4827482  0.21731308 0.09700844 0.18580623 0.09293609 0.4827482\n",
      " 0.21731308 0.09700844 0.18580623 0.09293609 0.4827482  0.21731308\n",
      " 0.09700844 0.18580623 0.09293609 0.4827482  0.21731308 0.09700844\n",
      " 0.18580623 0.09293609 0.4827482  0.21731308 0.09700844 0.18580623\n",
      " 0.09293609 0.05190906 0.03501754 0.04981015 0.06024772 0.08783437\n",
      " 0.07398163 0.05190906 0.03501754 0.04981015 0.06024772 0.08783437\n",
      " 0.07398163 0.05190906 0.03501754 0.04981015 0.06024772 0.08783437\n",
      " 0.07398163 0.05190906 0.03501754 0.04981015 0.06024772 0.08783437\n",
      " 0.07398163 0.05190906 0.03501754 0.04981015 0.06024772 0.08783437\n",
      " 0.07398163 0.03585125 0.03997846 0.11390875 0.02382121 0.1206959\n",
      " 0.046705   0.03585125 0.03997846 0.11390875 0.02382121 0.1206959\n",
      " 0.046705   0.03585125 0.03997846 0.11390875 0.02382121 0.1206959\n",
      " 0.046705   0.03585125 0.03997846 0.11390875 0.02382121 0.1206959\n",
      " 0.046705   0.08832085 0.12610524 0.05355048 0.11886885 0.0620971\n",
      " 0.37765483 0.28260184 0.28260184 0.1416759  0.23370233 0.00944908\n",
      " 0.21190892 0.05938698 0.18086012 0.08832085 0.12610524 0.05355048\n",
      " 0.11886885 0.0620971  0.37765483 0.28260184 0.28260184 0.1416759\n",
      " 0.23370233 0.00944908 0.21190892 0.05938698 0.18086012 0.08832085\n",
      " 0.12610524 0.05355048 0.11886885 0.0620971  0.37765483 0.28260184\n",
      " 0.28260184 0.1416759  0.23370233 0.00944908 0.21190892 0.05938698\n",
      " 0.18086012 0.08832085 0.12610524 0.05355048 0.11886885 0.0620971\n",
      " 0.37765483 0.28260184 0.28260184 0.1416759  0.23370233 0.00944908\n",
      " 0.21190892 0.05938698 0.18086012 0.08832085 0.12610524 0.05355048\n",
      " 0.11886885 0.0620971  0.37765483 0.28260184 0.28260184 0.1416759\n",
      " 0.23370233 0.00944908 0.21190892 0.05938698 0.18086012 0.08832085\n",
      " 0.12610524 0.05355048 0.11886885 0.0620971  0.37765483 0.28260184\n",
      " 0.28260184 0.1416759  0.23370233 0.00944908 0.21190892 0.05938698\n",
      " 0.18086012 0.04746504 0.13390386 0.15332329 0.11732047 0.14901642\n",
      " 0.07018709 0.15332329 0.11732047 0.14901642 0.07018709 0.15332329\n",
      " 0.11732047 0.14901642 0.07018709 0.04746504 0.13390386 0.15332329\n",
      " 0.11732047 0.14901642 0.07018709 0.15332329 0.11732047 0.14901642\n",
      " 0.07018709 0.15332329 0.11732047 0.14901642 0.07018709 0.17087833\n",
      " 0.07749024 0.094492   0.05246626 0.03287622 0.15726262 0.17087833\n",
      " 0.07749024 0.094492   0.05246626 0.03287622 0.15726262 0.17087833\n",
      " 0.07749024 0.094492   0.05246626 0.03287622 0.15726262 0.17087833\n",
      " 0.07749024 0.094492   0.05246626 0.03287622 0.15726262 0.07528401\n",
      " 0.04502282 0.14252916 0.08009184 0.119981   0.10435156 0.19190334\n",
      " 0.08009184 0.119981   0.08009184 0.119981   0.08009184 0.119981\n",
      " 0.07528401 0.04502282 0.14252916 0.08009184 0.119981   0.10435156\n",
      " 0.19190334 0.08009184 0.119981   0.08009184 0.119981   0.08009184\n",
      " 0.119981   0.07321614 0.0449286  0.04108771 0.08453299 0.08264786\n",
      " 0.07321614 0.0449286  0.04108771 0.08453299 0.08264786 0.07321614\n",
      " 0.0449286  0.04108771 0.08453299 0.08264786 0.07321614 0.0449286\n",
      " 0.04108771 0.08453299 0.08264786 0.07321614 0.0449286  0.04108771\n",
      " 0.08453299 0.08264786 0.07321614 0.0449286  0.04108771 0.08453299\n",
      " 0.08264786 0.08440694 0.09574757 0.08151455 0.01914823 0.08440694\n",
      " 0.09574757 0.08151455 0.01914823 0.08440694 0.09574757 0.08151455\n",
      " 0.01914823 0.08440694 0.09574757 0.08151455 0.01914823 0.08440694\n",
      " 0.09574757 0.08151455 0.01914823 0.08440694 0.09574757 0.08151455\n",
      " 0.01914823 0.08440694 0.09574757 0.08151455 0.01914823 0.08440694\n",
      " 0.09574757 0.08151455 0.01914823 0.08440694 0.09574757 0.08151455\n",
      " 0.01914823 0.08440694 0.09574757 0.08151455 0.01914823 0.16117036\n",
      " 0.09929837 0.19660281 0.29765905 0.14382968 0.27084527 0.16117036\n",
      " 0.09929837 0.19660281 0.29765905 0.14382968 0.27084527 0.16117036\n",
      " 0.09929837 0.19660281 0.29765905 0.14382968 0.27084527 0.16117036\n",
      " 0.09929837 0.19660281 0.29765905 0.14382968 0.27084527 0.16117036\n",
      " 0.09929837 0.19660281 0.29765905 0.14382968 0.27084527 0.16117036\n",
      " 0.09929837 0.19660281 0.29765905 0.14382968 0.27084527 0.16117036\n",
      " 0.09929837 0.19660281 0.29765905 0.14382968 0.27084527 0.16117036\n",
      " 0.09929837 0.19660281 0.29765905 0.14382968 0.27084527 0.14024968\n",
      " 0.41835857 0.10508444 0.11349909 0.13929957 0.24442816 0.11788831\n",
      " 0.14024968 0.41835857 0.10508444 0.14024968 0.41835857 0.10508444\n",
      " 0.14024968 0.41835857 0.10508444 0.14024968 0.41835857 0.10508444\n",
      " 0.14024968 0.41835857 0.10508444 0.14024968 0.41835857 0.10508444\n",
      " 0.14024968 0.41835857 0.10508444 0.14024968 0.41835857 0.10508444\n",
      " 0.14024968 0.41835857 0.10508444 0.14024968 0.41835857 0.10508444\n",
      " 0.14024968 0.41835857 0.10508444 0.14024968 0.41835857 0.10508444\n",
      " 0.14024968 0.41835857 0.10508444 0.14024968 0.41835857 0.10508444\n",
      " 0.14024968 0.41835857 0.10508444 0.14024968 0.41835857 0.10508444\n",
      " 0.20655481 0.37066976 0.0604242  0.04780808 0.04073927 0.20655481\n",
      " 0.37066976 0.0604242  0.04780808 0.04073927 0.20655481 0.37066976\n",
      " 0.0604242  0.04780808 0.04073927 0.20655481 0.37066976 0.0604242\n",
      " 0.04780808 0.04073927 0.20655481 0.37066976 0.0604242  0.04780808\n",
      " 0.04073927 0.11528215 0.07812129 0.11788441 0.11528215 0.07812129\n",
      " 0.11788441 0.11528215 0.07812129 0.11788441 0.11528215 0.07812129\n",
      " 0.11788441 0.11528215 0.07812129 0.11788441 0.11528215 0.07812129\n",
      " 0.11788441 0.11528215 0.07812129 0.11788441 0.11528215 0.07812129\n",
      " 0.11788441 0.11528215 0.07812129 0.11788441 0.11528215 0.07812129\n",
      " 0.11788441 0.08836725 0.0364693  0.10770936 0.08537227 0.03707008\n",
      " 0.14617684 0.0887084  0.10053761 0.11939815 0.01797863 0.33322858\n",
      " 0.08836725 0.0364693  0.10770936 0.08537227 0.03707008 0.14617684\n",
      " 0.0887084  0.10053761 0.11939815 0.01797863 0.33322858 0.08836725\n",
      " 0.0364693  0.10770936 0.08537227 0.03707008 0.14617684 0.0887084\n",
      " 0.10053761 0.11939815 0.01797863 0.33322858 0.06581834 0.12573427\n",
      " 0.09714035 0.14047372 0.21514917 0.15911452 0.08837929 0.06581834\n",
      " 0.12573427 0.09714035 0.14047372 0.21514917 0.15911452 0.08837929\n",
      " 0.06581834 0.12573427 0.09714035 0.14047372 0.21514917 0.15911452\n",
      " 0.08837929 0.06581834 0.12573427 0.09714035 0.14047372 0.21514917\n",
      " 0.15911452 0.08837929 0.06581834 0.12573427 0.09714035 0.14047372\n",
      " 0.21514917 0.15911452 0.08837929 0.06581834 0.12573427 0.09714035\n",
      " 0.14047372 0.21514917 0.15911452 0.08837929 0.11442482 0.10221321\n",
      " 0.05984902 0.09677368 0.17465092 0.11442482 0.10221321 0.05984902\n",
      " 0.09677368 0.17465092 0.11442482 0.10221321 0.05984902 0.09677368\n",
      " 0.17465092 0.11442482 0.10221321 0.05984902 0.09677368 0.17465092\n",
      " 0.11442482 0.10221321 0.05984902 0.09677368 0.17465092 0.11442482\n",
      " 0.10221321 0.05984902 0.09677368 0.17465092 0.11442482 0.10221321\n",
      " 0.05984902 0.09677368 0.17465092 0.11442482 0.10221321 0.05984902\n",
      " 0.09677368 0.17465092 0.28248938 0.16046795 0.16834372 0.07755662\n",
      " 0.05557874 0.18151386 0.16771326 0.28248938 0.16046795 0.16834372\n",
      " 0.07755662 0.05557874 0.18151386 0.16771326 0.28248938 0.16046795\n",
      " 0.16834372 0.07755662 0.05557874 0.18151386 0.16771326 0.28248938\n",
      " 0.16046795 0.16834372 0.07755662 0.05557874 0.18151386 0.16771326\n",
      " 0.12514122 0.21034439 0.26621585 0.08821044 0.2750134  0.12514122\n",
      " 0.21034439 0.26621585 0.08821044 0.2750134  0.12514122 0.21034439\n",
      " 0.26621585 0.08821044 0.2750134  0.12514122 0.21034439 0.26621585\n",
      " 0.08821044 0.2750134  0.12514122 0.21034439 0.26621585 0.08821044\n",
      " 0.2750134  0.12514122 0.21034439 0.26621585 0.08821044 0.2750134\n",
      " 0.12514122 0.21034439 0.26621585 0.08821044 0.2750134  0.12514122\n",
      " 0.21034439 0.26621585 0.08821044 0.2750134  0.04959349 0.25916717\n",
      " 0.04811029 0.0952153  0.01732533 0.18809417 0.10409007 0.04959349\n",
      " 0.25916717 0.04811029 0.0952153  0.01732533 0.18809417 0.10409007\n",
      " 0.04959349 0.25916717 0.04811029 0.0952153  0.01732533 0.18809417\n",
      " 0.10409007 0.04959349 0.25916717 0.04811029 0.0952153  0.01732533\n",
      " 0.18809417 0.10409007 0.04959349 0.25916717 0.04811029 0.0952153\n",
      " 0.01732533 0.18809417 0.10409007 0.04959349 0.25916717 0.04811029\n",
      " 0.0952153  0.01732533 0.18809417 0.10409007 0.04959349 0.25916717\n",
      " 0.04811029 0.0952153  0.01732533 0.18809417 0.10409007 0.04959349\n",
      " 0.25916717 0.04811029 0.0952153  0.01732533 0.18809417 0.10409007\n",
      " 0.04959349 0.25916717 0.04811029 0.0952153  0.01732533 0.18809417\n",
      " 0.10409007 0.04959349 0.25916717 0.04811029 0.0952153  0.01732533\n",
      " 0.18809417 0.10409007]\n"
     ]
    }
   ],
   "source": [
    "print(similarity.shape)\n",
    "# It finds out distance of each job with every job, and that is the reason why the shape of the similarity shape is (5000,5000)\n",
    "print(similarity[0])\n",
    "# Gives similarity score of first job with every job, it can also be seen that the first value is 1 which indicates that the value is the\n",
    "# similarity score of first job with itself.\n",
    "print(similarity[1])"
   ]
  },
  {
   "cell_type": "code",
   "execution_count": 95,
   "id": "55ee5ce3",
   "metadata": {},
   "outputs": [
    {
     "data": {
      "text/html": [
       "<div>\n",
       "<style scoped>\n",
       "    .dataframe tbody tr th:only-of-type {\n",
       "        vertical-align: middle;\n",
       "    }\n",
       "\n",
       "    .dataframe tbody tr th {\n",
       "        vertical-align: top;\n",
       "    }\n",
       "\n",
       "    .dataframe thead th {\n",
       "        text-align: right;\n",
       "    }\n",
       "</style>\n",
       "<table border=\"1\" class=\"dataframe\">\n",
       "  <thead>\n",
       "    <tr style=\"text-align: right;\">\n",
       "      <th></th>\n",
       "      <th>Category</th>\n",
       "      <th>Resume</th>\n",
       "      <th>Clean_Resume</th>\n",
       "      <th>Encoded_Category</th>\n",
       "    </tr>\n",
       "  </thead>\n",
       "  <tbody>\n",
       "    <tr>\n",
       "      <th>0</th>\n",
       "      <td>Data Science</td>\n",
       "      <td>Skills * Programming Languages: Python (pandas...</td>\n",
       "      <td>skill programming language python panda numpy ...</td>\n",
       "      <td>6</td>\n",
       "    </tr>\n",
       "    <tr>\n",
       "      <th>1</th>\n",
       "      <td>Data Science</td>\n",
       "      <td>Education Details \\r\\nMay 2013 to May 2017 B.E...</td>\n",
       "      <td>education detail may 2013 may 2017 b e uit rgp...</td>\n",
       "      <td>6</td>\n",
       "    </tr>\n",
       "    <tr>\n",
       "      <th>2</th>\n",
       "      <td>Data Science</td>\n",
       "      <td>Areas of Interest Deep Learning, Control Syste...</td>\n",
       "      <td>area interest deep learning control system des...</td>\n",
       "      <td>6</td>\n",
       "    </tr>\n",
       "    <tr>\n",
       "      <th>3</th>\n",
       "      <td>Data Science</td>\n",
       "      <td>Skills â¢ R â¢ Python â¢ SAP HANA â¢ Table...</td>\n",
       "      <td>skill r python sap hana tableau sap hana sql s...</td>\n",
       "      <td>6</td>\n",
       "    </tr>\n",
       "    <tr>\n",
       "      <th>4</th>\n",
       "      <td>Data Science</td>\n",
       "      <td>Education Details \\r\\n MCA   YMCAUST,  Faridab...</td>\n",
       "      <td>education detail mca ymcaust faridabad haryana...</td>\n",
       "      <td>6</td>\n",
       "    </tr>\n",
       "  </tbody>\n",
       "</table>\n",
       "</div>"
      ],
      "text/plain": [
       "       Category                                             Resume  \\\n",
       "0  Data Science  Skills * Programming Languages: Python (pandas...   \n",
       "1  Data Science  Education Details \\r\\nMay 2013 to May 2017 B.E...   \n",
       "2  Data Science  Areas of Interest Deep Learning, Control Syste...   \n",
       "3  Data Science  Skills â¢ R â¢ Python â¢ SAP HANA â¢ Table...   \n",
       "4  Data Science  Education Details \\r\\n MCA   YMCAUST,  Faridab...   \n",
       "\n",
       "                                        Clean_Resume  Encoded_Category  \n",
       "0  skill programming language python panda numpy ...                 6  \n",
       "1  education detail may 2013 may 2017 b e uit rgp...                 6  \n",
       "2  area interest deep learning control system des...                 6  \n",
       "3  skill r python sap hana tableau sap hana sql s...                 6  \n",
       "4  education detail mca ymcaust faridabad haryana...                 6  "
      ]
     },
     "execution_count": 95,
     "metadata": {},
     "output_type": "execute_result"
    }
   ],
   "source": [
    "df2 = df\n",
    "df2 = df2[['Category','Resume','Clean_Resume','Encoded_Category']][0:5000]\n",
    "df2.head()"
   ]
  },
  {
   "cell_type": "code",
   "execution_count": 96,
   "id": "bf1dd723",
   "metadata": {},
   "outputs": [
    {
     "data": {
      "text/plain": [
       "Encoded_Category\n",
       "15    84\n",
       "23    70\n",
       "8     55\n",
       "20    48\n",
       "24    45\n",
       "12    44\n",
       "13    42\n",
       "3     40\n",
       "10    40\n",
       "18    40\n",
       "6     40\n",
       "22    40\n",
       "16    40\n",
       "1     36\n",
       "7     33\n",
       "11    30\n",
       "14    30\n",
       "19    30\n",
       "4     28\n",
       "9     28\n",
       "2     26\n",
       "17    25\n",
       "21    24\n",
       "5     24\n",
       "0     20\n",
       "Name: count, dtype: int64"
      ]
     },
     "execution_count": 96,
     "metadata": {},
     "output_type": "execute_result"
    }
   ],
   "source": [
    "df2['Encoded_Category'].value_counts()"
   ]
  },
  {
   "cell_type": "markdown",
   "id": "09125ef0",
   "metadata": {},
   "source": [
    "### Creating function which will recommend top 5 job categories based on the predicted job category \n",
    "\n",
    "1) Initially, if the predicted job category id is given, I will need to find out the index of that job category in my dataset\n",
    "2) Based on index value, I will be able to know the list of similarity scores of that particular job category with every job category\n",
    "3) Using Enumerate function to align index and values together while sorting the similarity score in descending order to get top-5 job category"
   ]
  },
  {
   "cell_type": "markdown",
   "id": "98c91654",
   "metadata": {},
   "source": [
    "1) Based on given predicted job category id getting the index of that job category in my dataset "
   ]
  },
  {
   "cell_type": "code",
   "execution_count": 97,
   "id": "09724a3d",
   "metadata": {},
   "outputs": [
    {
     "name": "stdout",
     "output_type": "stream",
     "text": [
      "84\n",
      "319\n",
      "551\n"
     ]
    }
   ],
   "source": [
    "print(df2[df2['Encoded_Category'] == 0].index[0])\n",
    "print(df2[df2['Encoded_Category'] == 15].index[0])\n",
    "print(df2[df2['Encoded_Category'] == 20].index[0])"
   ]
  },
  {
   "cell_type": "markdown",
   "id": "4ba12005",
   "metadata": {},
   "source": [
    "2) Based on the fetched index getting the similarity score list of that job"
   ]
  },
  {
   "cell_type": "markdown",
   "id": "7c7e128d",
   "metadata": {},
   "source": [
    "3) Now as I need the top 5 similar job categories I will need to sort the data in descending order to get top-5.\n",
    "- However, there is a problem if I am sorting, the index position is getting lost. So, to solve this problem I am using enumerate function (which prints index with value)\n",
    "- Applying lambda function in that to sort in descending order according to the similarity score and not based on the index value.\n"
   ]
  },
  {
   "cell_type": "code",
   "execution_count": 98,
   "id": "72f44b2b",
   "metadata": {},
   "outputs": [
    {
     "name": "stdout",
     "output_type": "stream",
     "text": [
      "[1.         0.21148385 0.28948284 0.3186018  0.24324377 0.22698037\n",
      " 0.39980916 0.37560754 0.32004228 0.4399432  1.         0.21148385\n",
      " 0.28948284 0.3186018  0.24324377 0.22698037 0.39980916 0.37560754\n",
      " 0.32004228 0.4399432  1.         0.21148385 0.28948284 0.3186018\n",
      " 0.24324377 0.22698037 0.39980916 0.37560754 0.32004228 0.4399432\n",
      " 1.         0.21148385 0.28948284 0.3186018  0.24324377 0.22698037\n",
      " 0.39980916 0.37560754 0.32004228 0.4399432  0.01804888 0.10764851\n",
      " 0.03075593 0.01698605 0.01698605 0.02553573 0.01117892 0.04609305\n",
      " 0.00803632 0.04988248 0.12621074 0.01804888 0.10764851 0.03075593\n",
      " 0.01698605 0.01698605 0.02553573 0.01117892 0.04609305 0.00803632\n",
      " 0.04988248 0.12621074 0.01804888 0.10764851 0.03075593 0.01698605\n",
      " 0.01698605 0.02553573 0.01117892 0.04609305 0.00803632 0.04988248\n",
      " 0.12621074 0.01804888 0.10764851 0.03075593 0.01698605 0.01698605\n",
      " 0.02553573 0.01117892 0.04609305 0.00803632 0.04988248 0.12621074\n",
      " 0.02942847 0.05210703 0.05583657 0.09580663 0.11440393 0.0067519\n",
      " 0.02821813 0.03238607 0.04066752 0.00407693 0.02942847 0.05210703\n",
      " 0.05583657 0.09580663 0.11440393 0.0067519  0.02821813 0.03238607\n",
      " 0.04066752 0.00407693 0.0327842  0.00562483 0.06399904 0.01498805\n",
      " 0.02835939 0.04440276 0.0327842  0.00562483 0.06399904 0.01498805\n",
      " 0.02835939 0.04440276 0.0327842  0.00562483 0.06399904 0.01498805\n",
      " 0.02835939 0.04440276 0.0327842  0.00562483 0.06399904 0.01498805\n",
      " 0.02835939 0.04440276 0.0327842  0.00562483 0.06399904 0.01498805\n",
      " 0.02835939 0.04440276 0.0327842  0.00562483 0.06399904 0.01498805\n",
      " 0.02835939 0.04440276 0.12964562 0.18744498 0.12964562 0.0718136\n",
      " 0.27118269 0.12964562 0.18744498 0.12964562 0.0718136  0.27118269\n",
      " 0.12964562 0.18744498 0.12964562 0.0718136  0.27118269 0.12964562\n",
      " 0.18744498 0.12964562 0.0718136  0.27118269 0.12964562 0.18744498\n",
      " 0.12964562 0.0718136  0.27118269 0.12964562 0.18744498 0.12964562\n",
      " 0.0718136  0.27118269 0.12964562 0.18744498 0.12964562 0.0718136\n",
      " 0.27118269 0.12964562 0.18744498 0.12964562 0.0718136  0.27118269\n",
      " 0.12964562 0.18744498 0.12964562 0.0718136  0.27118269 0.1683558\n",
      " 0.04210125 0.01754444 0.02703628 0.0687655  0.1683558  0.04210125\n",
      " 0.01754444 0.02703628 0.0687655  0.1683558  0.04210125 0.01754444\n",
      " 0.02703628 0.0687655  0.1683558  0.04210125 0.01754444 0.02703628\n",
      " 0.0687655  0.1683558  0.04210125 0.01754444 0.02703628 0.0687655\n",
      " 0.1683558  0.04210125 0.01754444 0.02703628 0.0687655  0.1683558\n",
      " 0.04210125 0.01754444 0.02703628 0.0687655  0.1683558  0.04210125\n",
      " 0.01754444 0.02703628 0.0687655  0.083989   0.0533222  0.0861408\n",
      " 0.057131   0.08076467 0.083989   0.0533222  0.0861408  0.057131\n",
      " 0.08076467 0.083989   0.0533222  0.0861408  0.057131   0.08076467\n",
      " 0.083989   0.0533222  0.0861408  0.057131   0.08076467 0.083989\n",
      " 0.0533222  0.0861408  0.057131   0.08076467 0.083989   0.0533222\n",
      " 0.0861408  0.057131   0.08076467 0.083989   0.0533222  0.0861408\n",
      " 0.057131   0.08076467 0.083989   0.0533222  0.0861408  0.057131\n",
      " 0.08076467 0.03832234 0.01595124 0.05830785 0.05129987 0.08948659\n",
      " 0.14709869 0.03832234 0.01595124 0.05830785 0.05129987 0.08948659\n",
      " 0.14709869 0.03832234 0.01595124 0.05830785 0.05129987 0.08948659\n",
      " 0.14709869 0.03832234 0.01595124 0.05830785 0.05129987 0.08948659\n",
      " 0.14709869 0.03832234 0.01595124 0.05830785 0.05129987 0.08948659\n",
      " 0.14709869 0.06792612 0.0251538  0.06515448 0.02877006 0.04026996\n",
      " 0.01635857 0.06792612 0.0251538  0.06515448 0.02877006 0.04026996\n",
      " 0.01635857 0.06792612 0.0251538  0.06515448 0.02877006 0.04026996\n",
      " 0.01635857 0.06792612 0.0251538  0.06515448 0.02877006 0.04026996\n",
      " 0.01635857 0.09637461 0.07766291 0.14534625 0.18554425 0.19502401\n",
      " 0.1298117  0.13705485 0.13705485 0.15251478 0.13296395 0.20789643\n",
      " 0.18777557 0.11457815 0.08664728 0.09637461 0.07766291 0.14534625\n",
      " 0.18554425 0.19502401 0.1298117  0.13705485 0.13705485 0.15251478\n",
      " 0.13296395 0.20789643 0.18777557 0.11457815 0.08664728 0.09637461\n",
      " 0.07766291 0.14534625 0.18554425 0.19502401 0.1298117  0.13705485\n",
      " 0.13705485 0.15251478 0.13296395 0.20789643 0.18777557 0.11457815\n",
      " 0.08664728 0.09637461 0.07766291 0.14534625 0.18554425 0.19502401\n",
      " 0.1298117  0.13705485 0.13705485 0.15251478 0.13296395 0.20789643\n",
      " 0.18777557 0.11457815 0.08664728 0.09637461 0.07766291 0.14534625\n",
      " 0.18554425 0.19502401 0.1298117  0.13705485 0.13705485 0.15251478\n",
      " 0.13296395 0.20789643 0.18777557 0.11457815 0.08664728 0.09637461\n",
      " 0.07766291 0.14534625 0.18554425 0.19502401 0.1298117  0.13705485\n",
      " 0.13705485 0.15251478 0.13296395 0.20789643 0.18777557 0.11457815\n",
      " 0.08664728 0.14106999 0.18635402 0.19324765 0.24158967 0.08932408\n",
      " 0.10161931 0.19324765 0.24158967 0.08932408 0.10161931 0.19324765\n",
      " 0.24158967 0.08932408 0.10161931 0.14106999 0.18635402 0.19324765\n",
      " 0.24158967 0.08932408 0.10161931 0.19324765 0.24158967 0.08932408\n",
      " 0.10161931 0.19324765 0.24158967 0.08932408 0.10161931 0.15570383\n",
      " 0.19406517 0.09775015 0.09266588 0.06689369 0.0874004  0.15570383\n",
      " 0.19406517 0.09775015 0.09266588 0.06689369 0.0874004  0.15570383\n",
      " 0.19406517 0.09775015 0.09266588 0.06689369 0.0874004  0.15570383\n",
      " 0.19406517 0.09775015 0.09266588 0.06689369 0.0874004  0.12136821\n",
      " 0.04576935 0.16322306 0.14437612 0.10920836 0.12311063 0.06958517\n",
      " 0.14437612 0.10920836 0.14437612 0.10920836 0.14437612 0.10920836\n",
      " 0.12136821 0.04576935 0.16322306 0.14437612 0.10920836 0.12311063\n",
      " 0.06958517 0.14437612 0.10920836 0.14437612 0.10920836 0.14437612\n",
      " 0.10920836 0.07349433 0.03097279 0.0837273  0.01388289 0.03651481\n",
      " 0.07349433 0.03097279 0.0837273  0.01388289 0.03651481 0.07349433\n",
      " 0.03097279 0.0837273  0.01388289 0.03651481 0.07349433 0.03097279\n",
      " 0.0837273  0.01388289 0.03651481 0.07349433 0.03097279 0.0837273\n",
      " 0.01388289 0.03651481 0.07349433 0.03097279 0.0837273  0.01388289\n",
      " 0.03651481 0.22672425 0.13306192 0.1072663  0.11670624 0.22672425\n",
      " 0.13306192 0.1072663  0.11670624 0.22672425 0.13306192 0.1072663\n",
      " 0.11670624 0.22672425 0.13306192 0.1072663  0.11670624 0.22672425\n",
      " 0.13306192 0.1072663  0.11670624 0.22672425 0.13306192 0.1072663\n",
      " 0.11670624 0.22672425 0.13306192 0.1072663  0.11670624 0.22672425\n",
      " 0.13306192 0.1072663  0.11670624 0.22672425 0.13306192 0.1072663\n",
      " 0.11670624 0.22672425 0.13306192 0.1072663  0.11670624 0.17520778\n",
      " 0.12592293 0.19870315 0.28423674 0.06809264 0.19988452 0.17520778\n",
      " 0.12592293 0.19870315 0.28423674 0.06809264 0.19988452 0.17520778\n",
      " 0.12592293 0.19870315 0.28423674 0.06809264 0.19988452 0.17520778\n",
      " 0.12592293 0.19870315 0.28423674 0.06809264 0.19988452 0.17520778\n",
      " 0.12592293 0.19870315 0.28423674 0.06809264 0.19988452 0.17520778\n",
      " 0.12592293 0.19870315 0.28423674 0.06809264 0.19988452 0.17520778\n",
      " 0.12592293 0.19870315 0.28423674 0.06809264 0.19988452 0.17520778\n",
      " 0.12592293 0.19870315 0.28423674 0.06809264 0.19988452 0.14996403\n",
      " 0.21536769 0.18304699 0.18421671 0.14201941 0.12949447 0.12397378\n",
      " 0.14996403 0.21536769 0.18304699 0.14996403 0.21536769 0.18304699\n",
      " 0.14996403 0.21536769 0.18304699 0.14996403 0.21536769 0.18304699\n",
      " 0.14996403 0.21536769 0.18304699 0.14996403 0.21536769 0.18304699\n",
      " 0.14996403 0.21536769 0.18304699 0.14996403 0.21536769 0.18304699\n",
      " 0.14996403 0.21536769 0.18304699 0.14996403 0.21536769 0.18304699\n",
      " 0.14996403 0.21536769 0.18304699 0.14996403 0.21536769 0.18304699\n",
      " 0.14996403 0.21536769 0.18304699 0.14996403 0.21536769 0.18304699\n",
      " 0.14996403 0.21536769 0.18304699 0.14996403 0.21536769 0.18304699\n",
      " 0.08500754 0.08844371 0.0991619  0.0742414  0.03925421 0.08500754\n",
      " 0.08844371 0.0991619  0.0742414  0.03925421 0.08500754 0.08844371\n",
      " 0.0991619  0.0742414  0.03925421 0.08500754 0.08844371 0.0991619\n",
      " 0.0742414  0.03925421 0.08500754 0.08844371 0.0991619  0.0742414\n",
      " 0.03925421 0.25746013 0.14804322 0.1195438  0.25746013 0.14804322\n",
      " 0.1195438  0.25746013 0.14804322 0.1195438  0.25746013 0.14804322\n",
      " 0.1195438  0.25746013 0.14804322 0.1195438  0.25746013 0.14804322\n",
      " 0.1195438  0.25746013 0.14804322 0.1195438  0.25746013 0.14804322\n",
      " 0.1195438  0.25746013 0.14804322 0.1195438  0.25746013 0.14804322\n",
      " 0.1195438  0.1025518  0.11194947 0.08758769 0.1345994  0.08192866\n",
      " 0.12698502 0.18562292 0.08908858 0.12621323 0.10331701 0.23483709\n",
      " 0.1025518  0.11194947 0.08758769 0.1345994  0.08192866 0.12698502\n",
      " 0.18562292 0.08908858 0.12621323 0.10331701 0.23483709 0.1025518\n",
      " 0.11194947 0.08758769 0.1345994  0.08192866 0.12698502 0.18562292\n",
      " 0.08908858 0.12621323 0.10331701 0.23483709 0.19362957 0.11080732\n",
      " 0.22858043 0.20796521 0.22329067 0.16533357 0.29968346 0.19362957\n",
      " 0.11080732 0.22858043 0.20796521 0.22329067 0.16533357 0.29968346\n",
      " 0.19362957 0.11080732 0.22858043 0.20796521 0.22329067 0.16533357\n",
      " 0.29968346 0.19362957 0.11080732 0.22858043 0.20796521 0.22329067\n",
      " 0.16533357 0.29968346 0.19362957 0.11080732 0.22858043 0.20796521\n",
      " 0.22329067 0.16533357 0.29968346 0.19362957 0.11080732 0.22858043\n",
      " 0.20796521 0.22329067 0.16533357 0.29968346 0.19894648 0.13922039\n",
      " 0.10320218 0.14902659 0.07836432 0.19894648 0.13922039 0.10320218\n",
      " 0.14902659 0.07836432 0.19894648 0.13922039 0.10320218 0.14902659\n",
      " 0.07836432 0.19894648 0.13922039 0.10320218 0.14902659 0.07836432\n",
      " 0.19894648 0.13922039 0.10320218 0.14902659 0.07836432 0.19894648\n",
      " 0.13922039 0.10320218 0.14902659 0.07836432 0.19894648 0.13922039\n",
      " 0.10320218 0.14902659 0.07836432 0.19894648 0.13922039 0.10320218\n",
      " 0.14902659 0.07836432 0.24178851 0.10663625 0.21374278 0.0810316\n",
      " 0.14882989 0.19923551 0.19286837 0.24178851 0.10663625 0.21374278\n",
      " 0.0810316  0.14882989 0.19923551 0.19286837 0.24178851 0.10663625\n",
      " 0.21374278 0.0810316  0.14882989 0.19923551 0.19286837 0.24178851\n",
      " 0.10663625 0.21374278 0.0810316  0.14882989 0.19923551 0.19286837\n",
      " 0.10362062 0.19570335 0.16145584 0.13227234 0.23128369 0.10362062\n",
      " 0.19570335 0.16145584 0.13227234 0.23128369 0.10362062 0.19570335\n",
      " 0.16145584 0.13227234 0.23128369 0.10362062 0.19570335 0.16145584\n",
      " 0.13227234 0.23128369 0.10362062 0.19570335 0.16145584 0.13227234\n",
      " 0.23128369 0.10362062 0.19570335 0.16145584 0.13227234 0.23128369\n",
      " 0.10362062 0.19570335 0.16145584 0.13227234 0.23128369 0.10362062\n",
      " 0.19570335 0.16145584 0.13227234 0.23128369 0.02182757 0.0939737\n",
      " 0.04307645 0.07208618 0.04255453 0.0683294  0.09374585 0.02182757\n",
      " 0.0939737  0.04307645 0.07208618 0.04255453 0.0683294  0.09374585\n",
      " 0.02182757 0.0939737  0.04307645 0.07208618 0.04255453 0.0683294\n",
      " 0.09374585 0.02182757 0.0939737  0.04307645 0.07208618 0.04255453\n",
      " 0.0683294  0.09374585 0.02182757 0.0939737  0.04307645 0.07208618\n",
      " 0.04255453 0.0683294  0.09374585 0.02182757 0.0939737  0.04307645\n",
      " 0.07208618 0.04255453 0.0683294  0.09374585 0.02182757 0.0939737\n",
      " 0.04307645 0.07208618 0.04255453 0.0683294  0.09374585 0.02182757\n",
      " 0.0939737  0.04307645 0.07208618 0.04255453 0.0683294  0.09374585\n",
      " 0.02182757 0.0939737  0.04307645 0.07208618 0.04255453 0.0683294\n",
      " 0.09374585 0.02182757 0.0939737  0.04307645 0.07208618 0.04255453\n",
      " 0.0683294  0.09374585]\n",
      "[0.32004228 0.32243297 0.4446582  0.22563688 0.1994529  0.4221218\n",
      " 0.51335666 0.66045681 1.         0.41641447 0.32004228 0.32243297\n",
      " 0.4446582  0.22563688 0.1994529  0.4221218  0.51335666 0.66045681\n",
      " 1.         0.41641447 0.32004228 0.32243297 0.4446582  0.22563688\n",
      " 0.1994529  0.4221218  0.51335666 0.66045681 1.         0.41641447\n",
      " 0.32004228 0.32243297 0.4446582  0.22563688 0.1994529  0.4221218\n",
      " 0.51335666 0.66045681 1.         0.41641447 0.20095076 0.0621254\n",
      " 0.03718635 0.04032236 0.04032236 0.04389651 0.0950852  0.12472334\n",
      " 0.07094113 0.11748352 0.31367214 0.20095076 0.0621254  0.03718635\n",
      " 0.04032236 0.04032236 0.04389651 0.0950852  0.12472334 0.07094113\n",
      " 0.11748352 0.31367214 0.20095076 0.0621254  0.03718635 0.04032236\n",
      " 0.04032236 0.04389651 0.0950852  0.12472334 0.07094113 0.11748352\n",
      " 0.31367214 0.20095076 0.0621254  0.03718635 0.04032236 0.04032236\n",
      " 0.04389651 0.0950852  0.12472334 0.07094113 0.11748352 0.31367214\n",
      " 0.14822402 0.04784662 0.09623641 0.14899157 0.08142415 0.1821574\n",
      " 0.12381678 0.04306542 0.10638021 0.06611166 0.14822402 0.04784662\n",
      " 0.09623641 0.14899157 0.08142415 0.1821574  0.12381678 0.04306542\n",
      " 0.10638021 0.06611166 0.12003247 0.13511365 0.09292429 0.10621866\n",
      " 0.07483025 0.17737816 0.12003247 0.13511365 0.09292429 0.10621866\n",
      " 0.07483025 0.17737816 0.12003247 0.13511365 0.09292429 0.10621866\n",
      " 0.07483025 0.17737816 0.12003247 0.13511365 0.09292429 0.10621866\n",
      " 0.07483025 0.17737816 0.12003247 0.13511365 0.09292429 0.10621866\n",
      " 0.07483025 0.17737816 0.12003247 0.13511365 0.09292429 0.10621866\n",
      " 0.07483025 0.17737816 0.09427187 0.11685547 0.09427187 0.19281611\n",
      " 0.16624182 0.09427187 0.11685547 0.09427187 0.19281611 0.16624182\n",
      " 0.09427187 0.11685547 0.09427187 0.19281611 0.16624182 0.09427187\n",
      " 0.11685547 0.09427187 0.19281611 0.16624182 0.09427187 0.11685547\n",
      " 0.09427187 0.19281611 0.16624182 0.09427187 0.11685547 0.09427187\n",
      " 0.19281611 0.16624182 0.09427187 0.11685547 0.09427187 0.19281611\n",
      " 0.16624182 0.09427187 0.11685547 0.09427187 0.19281611 0.16624182\n",
      " 0.09427187 0.11685547 0.09427187 0.19281611 0.16624182 0.08844179\n",
      " 0.20842753 0.13129333 0.1200645  0.2689542  0.08844179 0.20842753\n",
      " 0.13129333 0.1200645  0.2689542  0.08844179 0.20842753 0.13129333\n",
      " 0.1200645  0.2689542  0.08844179 0.20842753 0.13129333 0.1200645\n",
      " 0.2689542  0.08844179 0.20842753 0.13129333 0.1200645  0.2689542\n",
      " 0.08844179 0.20842753 0.13129333 0.1200645  0.2689542  0.08844179\n",
      " 0.20842753 0.13129333 0.1200645  0.2689542  0.08844179 0.20842753\n",
      " 0.13129333 0.1200645  0.2689542  0.1059123  0.0494256  0.10354376\n",
      " 0.08658398 0.11555536 0.1059123  0.0494256  0.10354376 0.08658398\n",
      " 0.11555536 0.1059123  0.0494256  0.10354376 0.08658398 0.11555536\n",
      " 0.1059123  0.0494256  0.10354376 0.08658398 0.11555536 0.1059123\n",
      " 0.0494256  0.10354376 0.08658398 0.11555536 0.1059123  0.0494256\n",
      " 0.10354376 0.08658398 0.11555536 0.1059123  0.0494256  0.10354376\n",
      " 0.08658398 0.11555536 0.1059123  0.0494256  0.10354376 0.08658398\n",
      " 0.11555536 0.17572513 0.11046156 0.04433437 0.04011959 0.23630473\n",
      " 0.16270052 0.17572513 0.11046156 0.04433437 0.04011959 0.23630473\n",
      " 0.16270052 0.17572513 0.11046156 0.04433437 0.04011959 0.23630473\n",
      " 0.16270052 0.17572513 0.11046156 0.04433437 0.04011959 0.23630473\n",
      " 0.16270052 0.17572513 0.11046156 0.04433437 0.04011959 0.23630473\n",
      " 0.16270052 0.04365818 0.08419829 0.04757165 0.0264464  0.12119248\n",
      " 0.14096681 0.04365818 0.08419829 0.04757165 0.0264464  0.12119248\n",
      " 0.14096681 0.04365818 0.08419829 0.04757165 0.0264464  0.12119248\n",
      " 0.14096681 0.04365818 0.08419829 0.04757165 0.0264464  0.12119248\n",
      " 0.14096681 0.10076046 0.11471524 0.22727976 0.12193554 0.18765322\n",
      " 0.07723596 0.0892955  0.0892955  0.16955077 0.12810873 0.10829974\n",
      " 0.15105954 0.16315034 0.08627322 0.10076046 0.11471524 0.22727976\n",
      " 0.12193554 0.18765322 0.07723596 0.0892955  0.0892955  0.16955077\n",
      " 0.12810873 0.10829974 0.15105954 0.16315034 0.08627322 0.10076046\n",
      " 0.11471524 0.22727976 0.12193554 0.18765322 0.07723596 0.0892955\n",
      " 0.0892955  0.16955077 0.12810873 0.10829974 0.15105954 0.16315034\n",
      " 0.08627322 0.10076046 0.11471524 0.22727976 0.12193554 0.18765322\n",
      " 0.07723596 0.0892955  0.0892955  0.16955077 0.12810873 0.10829974\n",
      " 0.15105954 0.16315034 0.08627322 0.10076046 0.11471524 0.22727976\n",
      " 0.12193554 0.18765322 0.07723596 0.0892955  0.0892955  0.16955077\n",
      " 0.12810873 0.10829974 0.15105954 0.16315034 0.08627322 0.10076046\n",
      " 0.11471524 0.22727976 0.12193554 0.18765322 0.07723596 0.0892955\n",
      " 0.0892955  0.16955077 0.12810873 0.10829974 0.15105954 0.16315034\n",
      " 0.08627322 0.06224881 0.15185368 0.09545973 0.11687553 0.16112236\n",
      " 0.03789982 0.09545973 0.11687553 0.16112236 0.03789982 0.09545973\n",
      " 0.11687553 0.16112236 0.03789982 0.06224881 0.15185368 0.09545973\n",
      " 0.11687553 0.16112236 0.03789982 0.09545973 0.11687553 0.16112236\n",
      " 0.03789982 0.09545973 0.11687553 0.16112236 0.03789982 0.15242629\n",
      " 0.04325578 0.07117779 0.09480733 0.1316223  0.10574131 0.15242629\n",
      " 0.04325578 0.07117779 0.09480733 0.1316223  0.10574131 0.15242629\n",
      " 0.04325578 0.07117779 0.09480733 0.1316223  0.10574131 0.15242629\n",
      " 0.04325578 0.07117779 0.09480733 0.1316223  0.10574131 0.17186242\n",
      " 0.13233985 0.1714681  0.11159227 0.20652733 0.07943949 0.0914286\n",
      " 0.11159227 0.20652733 0.11159227 0.20652733 0.11159227 0.20652733\n",
      " 0.17186242 0.13233985 0.1714681  0.11159227 0.20652733 0.07943949\n",
      " 0.0914286  0.11159227 0.20652733 0.11159227 0.20652733 0.11159227\n",
      " 0.20652733 0.08850557 0.05680889 0.09761378 0.09041506 0.10584671\n",
      " 0.08850557 0.05680889 0.09761378 0.09041506 0.10584671 0.08850557\n",
      " 0.05680889 0.09761378 0.09041506 0.10584671 0.08850557 0.05680889\n",
      " 0.09761378 0.09041506 0.10584671 0.08850557 0.05680889 0.09761378\n",
      " 0.09041506 0.10584671 0.08850557 0.05680889 0.09761378 0.09041506\n",
      " 0.10584671 0.08835352 0.08377933 0.08707273 0.05222159 0.08835352\n",
      " 0.08377933 0.08707273 0.05222159 0.08835352 0.08377933 0.08707273\n",
      " 0.05222159 0.08835352 0.08377933 0.08707273 0.05222159 0.08835352\n",
      " 0.08377933 0.08707273 0.05222159 0.08835352 0.08377933 0.08707273\n",
      " 0.05222159 0.08835352 0.08377933 0.08707273 0.05222159 0.08835352\n",
      " 0.08377933 0.08707273 0.05222159 0.08835352 0.08377933 0.08707273\n",
      " 0.05222159 0.08835352 0.08377933 0.08707273 0.05222159 0.26008758\n",
      " 0.30369676 0.35752719 0.29583655 0.12488349 0.26083536 0.26008758\n",
      " 0.30369676 0.35752719 0.29583655 0.12488349 0.26083536 0.26008758\n",
      " 0.30369676 0.35752719 0.29583655 0.12488349 0.26083536 0.26008758\n",
      " 0.30369676 0.35752719 0.29583655 0.12488349 0.26083536 0.26008758\n",
      " 0.30369676 0.35752719 0.29583655 0.12488349 0.26083536 0.26008758\n",
      " 0.30369676 0.35752719 0.29583655 0.12488349 0.26083536 0.26008758\n",
      " 0.30369676 0.35752719 0.29583655 0.12488349 0.26083536 0.26008758\n",
      " 0.30369676 0.35752719 0.29583655 0.12488349 0.26083536 0.10865513\n",
      " 0.1762726  0.10353898 0.19916338 0.12412445 0.07851371 0.10284127\n",
      " 0.10865513 0.1762726  0.10353898 0.10865513 0.1762726  0.10353898\n",
      " 0.10865513 0.1762726  0.10353898 0.10865513 0.1762726  0.10353898\n",
      " 0.10865513 0.1762726  0.10353898 0.10865513 0.1762726  0.10353898\n",
      " 0.10865513 0.1762726  0.10353898 0.10865513 0.1762726  0.10353898\n",
      " 0.10865513 0.1762726  0.10353898 0.10865513 0.1762726  0.10353898\n",
      " 0.10865513 0.1762726  0.10353898 0.10865513 0.1762726  0.10353898\n",
      " 0.10865513 0.1762726  0.10353898 0.10865513 0.1762726  0.10353898\n",
      " 0.10865513 0.1762726  0.10353898 0.10865513 0.1762726  0.10353898\n",
      " 0.15482023 0.10479658 0.16201032 0.06142427 0.05145031 0.15482023\n",
      " 0.10479658 0.16201032 0.06142427 0.05145031 0.15482023 0.10479658\n",
      " 0.16201032 0.06142427 0.05145031 0.15482023 0.10479658 0.16201032\n",
      " 0.06142427 0.05145031 0.15482023 0.10479658 0.16201032 0.06142427\n",
      " 0.05145031 0.14254665 0.0749866  0.06574014 0.14254665 0.0749866\n",
      " 0.06574014 0.14254665 0.0749866  0.06574014 0.14254665 0.0749866\n",
      " 0.06574014 0.14254665 0.0749866  0.06574014 0.14254665 0.0749866\n",
      " 0.06574014 0.14254665 0.0749866  0.06574014 0.14254665 0.0749866\n",
      " 0.06574014 0.14254665 0.0749866  0.06574014 0.14254665 0.0749866\n",
      " 0.06574014 0.14956382 0.11687817 0.12153532 0.08262841 0.1009284\n",
      " 0.08332432 0.1109843  0.11842843 0.12553125 0.05398496 0.3414907\n",
      " 0.14956382 0.11687817 0.12153532 0.08262841 0.1009284  0.08332432\n",
      " 0.1109843  0.11842843 0.12553125 0.05398496 0.3414907  0.14956382\n",
      " 0.11687817 0.12153532 0.08262841 0.1009284  0.08332432 0.1109843\n",
      " 0.11842843 0.12553125 0.05398496 0.3414907  0.11423885 0.05457436\n",
      " 0.13246611 0.17506679 0.15151122 0.15500776 0.16320192 0.11423885\n",
      " 0.05457436 0.13246611 0.17506679 0.15151122 0.15500776 0.16320192\n",
      " 0.11423885 0.05457436 0.13246611 0.17506679 0.15151122 0.15500776\n",
      " 0.16320192 0.11423885 0.05457436 0.13246611 0.17506679 0.15151122\n",
      " 0.15500776 0.16320192 0.11423885 0.05457436 0.13246611 0.17506679\n",
      " 0.15151122 0.15500776 0.16320192 0.11423885 0.05457436 0.13246611\n",
      " 0.17506679 0.15151122 0.15500776 0.16320192 0.1320362  0.11239965\n",
      " 0.15242939 0.11565348 0.21578142 0.1320362  0.11239965 0.15242939\n",
      " 0.11565348 0.21578142 0.1320362  0.11239965 0.15242939 0.11565348\n",
      " 0.21578142 0.1320362  0.11239965 0.15242939 0.11565348 0.21578142\n",
      " 0.1320362  0.11239965 0.15242939 0.11565348 0.21578142 0.1320362\n",
      " 0.11239965 0.15242939 0.11565348 0.21578142 0.1320362  0.11239965\n",
      " 0.15242939 0.11565348 0.21578142 0.1320362  0.11239965 0.15242939\n",
      " 0.11565348 0.21578142 0.21488991 0.15139216 0.16299594 0.13811135\n",
      " 0.10296397 0.12494927 0.13205555 0.21488991 0.15139216 0.16299594\n",
      " 0.13811135 0.10296397 0.12494927 0.13205555 0.21488991 0.15139216\n",
      " 0.16299594 0.13811135 0.10296397 0.12494927 0.13205555 0.21488991\n",
      " 0.15139216 0.16299594 0.13811135 0.10296397 0.12494927 0.13205555\n",
      " 0.12746742 0.17195144 0.2675666  0.11199799 0.30881416 0.12746742\n",
      " 0.17195144 0.2675666  0.11199799 0.30881416 0.12746742 0.17195144\n",
      " 0.2675666  0.11199799 0.30881416 0.12746742 0.17195144 0.2675666\n",
      " 0.11199799 0.30881416 0.12746742 0.17195144 0.2675666  0.11199799\n",
      " 0.30881416 0.12746742 0.17195144 0.2675666  0.11199799 0.30881416\n",
      " 0.12746742 0.17195144 0.2675666  0.11199799 0.30881416 0.12746742\n",
      " 0.17195144 0.2675666  0.11199799 0.30881416 0.12410656 0.07401102\n",
      " 0.0582032  0.0865778  0.04894483 0.21044322 0.11264556 0.12410656\n",
      " 0.07401102 0.0582032  0.0865778  0.04894483 0.21044322 0.11264556\n",
      " 0.12410656 0.07401102 0.0582032  0.0865778  0.04894483 0.21044322\n",
      " 0.11264556 0.12410656 0.07401102 0.0582032  0.0865778  0.04894483\n",
      " 0.21044322 0.11264556 0.12410656 0.07401102 0.0582032  0.0865778\n",
      " 0.04894483 0.21044322 0.11264556 0.12410656 0.07401102 0.0582032\n",
      " 0.0865778  0.04894483 0.21044322 0.11264556 0.12410656 0.07401102\n",
      " 0.0582032  0.0865778  0.04894483 0.21044322 0.11264556 0.12410656\n",
      " 0.07401102 0.0582032  0.0865778  0.04894483 0.21044322 0.11264556\n",
      " 0.12410656 0.07401102 0.0582032  0.0865778  0.04894483 0.21044322\n",
      " 0.11264556 0.12410656 0.07401102 0.0582032  0.0865778  0.04894483\n",
      " 0.21044322 0.11264556]\n",
      "[0.39980916 0.38882798 0.44144895 0.28870417 0.40501709 0.50102273\n",
      " 1.         0.50956091 0.51335666 0.72158855 0.39980916 0.38882798\n",
      " 0.44144895 0.28870417 0.40501709 0.50102273 1.         0.50956091\n",
      " 0.51335666 0.72158855 0.39980916 0.38882798 0.44144895 0.28870417\n",
      " 0.40501709 0.50102273 1.         0.50956091 0.51335666 0.72158855\n",
      " 0.39980916 0.38882798 0.44144895 0.28870417 0.40501709 0.50102273\n",
      " 1.         0.50956091 0.51335666 0.72158855 0.09864386 0.04312776\n",
      " 0.04787542 0.08675716 0.08675716 0.06135123 0.05292133 0.10856987\n",
      " 0.02262652 0.0987112  0.22462985 0.09864386 0.04312776 0.04787542\n",
      " 0.08675716 0.08675716 0.06135123 0.05292133 0.10856987 0.02262652\n",
      " 0.0987112  0.22462985 0.09864386 0.04312776 0.04787542 0.08675716\n",
      " 0.08675716 0.06135123 0.05292133 0.10856987 0.02262652 0.0987112\n",
      " 0.22462985 0.09864386 0.04312776 0.04787542 0.08675716 0.08675716\n",
      " 0.06135123 0.05292133 0.10856987 0.02262652 0.0987112  0.22462985\n",
      " 0.03746694 0.08629533 0.12389919 0.15906812 0.09845072 0.03550135\n",
      " 0.04212325 0.05051112 0.04768454 0.03255249 0.03746694 0.08629533\n",
      " 0.12389919 0.15906812 0.09845072 0.03550135 0.04212325 0.05051112\n",
      " 0.04768454 0.03255249 0.09597928 0.0513625  0.07393471 0.07900914\n",
      " 0.02254977 0.11997879 0.09597928 0.0513625  0.07393471 0.07900914\n",
      " 0.02254977 0.11997879 0.09597928 0.0513625  0.07393471 0.07900914\n",
      " 0.02254977 0.11997879 0.09597928 0.0513625  0.07393471 0.07900914\n",
      " 0.02254977 0.11997879 0.09597928 0.0513625  0.07393471 0.07900914\n",
      " 0.02254977 0.11997879 0.09597928 0.0513625  0.07393471 0.07900914\n",
      " 0.02254977 0.11997879 0.09368383 0.07587184 0.09368383 0.05984028\n",
      " 0.21295692 0.09368383 0.07587184 0.09368383 0.05984028 0.21295692\n",
      " 0.09368383 0.07587184 0.09368383 0.05984028 0.21295692 0.09368383\n",
      " 0.07587184 0.09368383 0.05984028 0.21295692 0.09368383 0.07587184\n",
      " 0.09368383 0.05984028 0.21295692 0.09368383 0.07587184 0.09368383\n",
      " 0.05984028 0.21295692 0.09368383 0.07587184 0.09368383 0.05984028\n",
      " 0.21295692 0.09368383 0.07587184 0.09368383 0.05984028 0.21295692\n",
      " 0.09368383 0.07587184 0.09368383 0.05984028 0.21295692 0.09964434\n",
      " 0.22019235 0.06084215 0.05491775 0.20207045 0.09964434 0.22019235\n",
      " 0.06084215 0.05491775 0.20207045 0.09964434 0.22019235 0.06084215\n",
      " 0.05491775 0.20207045 0.09964434 0.22019235 0.06084215 0.05491775\n",
      " 0.20207045 0.09964434 0.22019235 0.06084215 0.05491775 0.20207045\n",
      " 0.09964434 0.22019235 0.06084215 0.05491775 0.20207045 0.09964434\n",
      " 0.22019235 0.06084215 0.05491775 0.20207045 0.09964434 0.22019235\n",
      " 0.06084215 0.05491775 0.20207045 0.1810819  0.0860154  0.08896823\n",
      " 0.11395004 0.17968673 0.1810819  0.0860154  0.08896823 0.11395004\n",
      " 0.17968673 0.1810819  0.0860154  0.08896823 0.11395004 0.17968673\n",
      " 0.1810819  0.0860154  0.08896823 0.11395004 0.17968673 0.1810819\n",
      " 0.0860154  0.08896823 0.11395004 0.17968673 0.1810819  0.0860154\n",
      " 0.08896823 0.11395004 0.17968673 0.1810819  0.0860154  0.08896823\n",
      " 0.11395004 0.17968673 0.1810819  0.0860154  0.08896823 0.11395004\n",
      " 0.17968673 0.13631612 0.02675061 0.02787521 0.05148863 0.15185213\n",
      " 0.11090129 0.13631612 0.02675061 0.02787521 0.05148863 0.15185213\n",
      " 0.11090129 0.13631612 0.02675061 0.02787521 0.05148863 0.15185213\n",
      " 0.11090129 0.13631612 0.02675061 0.02787521 0.05148863 0.15185213\n",
      " 0.11090129 0.13631612 0.02675061 0.02787521 0.05148863 0.15185213\n",
      " 0.11090129 0.0503855  0.05101947 0.09028203 0.08929037 0.09074107\n",
      " 0.06070007 0.0503855  0.05101947 0.09028203 0.08929037 0.09074107\n",
      " 0.06070007 0.0503855  0.05101947 0.09028203 0.08929037 0.09074107\n",
      " 0.06070007 0.0503855  0.05101947 0.09028203 0.08929037 0.09074107\n",
      " 0.06070007 0.05435328 0.0893224  0.15081099 0.13513503 0.17383148\n",
      " 0.17695167 0.19994822 0.19994822 0.12008652 0.12455017 0.03605915\n",
      " 0.10865808 0.0537736  0.12786113 0.05435328 0.0893224  0.15081099\n",
      " 0.13513503 0.17383148 0.17695167 0.19994822 0.19994822 0.12008652\n",
      " 0.12455017 0.03605915 0.10865808 0.0537736  0.12786113 0.05435328\n",
      " 0.0893224  0.15081099 0.13513503 0.17383148 0.17695167 0.19994822\n",
      " 0.19994822 0.12008652 0.12455017 0.03605915 0.10865808 0.0537736\n",
      " 0.12786113 0.05435328 0.0893224  0.15081099 0.13513503 0.17383148\n",
      " 0.17695167 0.19994822 0.19994822 0.12008652 0.12455017 0.03605915\n",
      " 0.10865808 0.0537736  0.12786113 0.05435328 0.0893224  0.15081099\n",
      " 0.13513503 0.17383148 0.17695167 0.19994822 0.19994822 0.12008652\n",
      " 0.12455017 0.03605915 0.10865808 0.0537736  0.12786113 0.05435328\n",
      " 0.0893224  0.15081099 0.13513503 0.17383148 0.17695167 0.19994822\n",
      " 0.19994822 0.12008652 0.12455017 0.03605915 0.10865808 0.0537736\n",
      " 0.12786113 0.07003423 0.18928179 0.14009786 0.14471963 0.14859616\n",
      " 0.08774702 0.14009786 0.14471963 0.14859616 0.08774702 0.14009786\n",
      " 0.14471963 0.14859616 0.08774702 0.07003423 0.18928179 0.14009786\n",
      " 0.14471963 0.14859616 0.08774702 0.14009786 0.14471963 0.14859616\n",
      " 0.08774702 0.14009786 0.14471963 0.14859616 0.08774702 0.17043901\n",
      " 0.14540453 0.10438543 0.11811269 0.09860497 0.12191277 0.17043901\n",
      " 0.14540453 0.10438543 0.11811269 0.09860497 0.12191277 0.17043901\n",
      " 0.14540453 0.10438543 0.11811269 0.09860497 0.12191277 0.17043901\n",
      " 0.14540453 0.10438543 0.11811269 0.09860497 0.12191277 0.10919047\n",
      " 0.06061241 0.14238505 0.08409542 0.11837238 0.0730369  0.12367629\n",
      " 0.08409542 0.11837238 0.08409542 0.11837238 0.08409542 0.11837238\n",
      " 0.10919047 0.06061241 0.14238505 0.08409542 0.11837238 0.0730369\n",
      " 0.12367629 0.08409542 0.11837238 0.08409542 0.11837238 0.08409542\n",
      " 0.11837238 0.08390369 0.09499753 0.07181213 0.08301701 0.09421783\n",
      " 0.08390369 0.09499753 0.07181213 0.08301701 0.09421783 0.08390369\n",
      " 0.09499753 0.07181213 0.08301701 0.09421783 0.08390369 0.09499753\n",
      " 0.07181213 0.08301701 0.09421783 0.08390369 0.09499753 0.07181213\n",
      " 0.08301701 0.09421783 0.08390369 0.09499753 0.07181213 0.08301701\n",
      " 0.09421783 0.10735886 0.12629337 0.09138794 0.05234657 0.10735886\n",
      " 0.12629337 0.09138794 0.05234657 0.10735886 0.12629337 0.09138794\n",
      " 0.05234657 0.10735886 0.12629337 0.09138794 0.05234657 0.10735886\n",
      " 0.12629337 0.09138794 0.05234657 0.10735886 0.12629337 0.09138794\n",
      " 0.05234657 0.10735886 0.12629337 0.09138794 0.05234657 0.10735886\n",
      " 0.12629337 0.09138794 0.05234657 0.10735886 0.12629337 0.09138794\n",
      " 0.05234657 0.10735886 0.12629337 0.09138794 0.05234657 0.18097248\n",
      " 0.19569825 0.23829831 0.25089187 0.11655585 0.2466522  0.18097248\n",
      " 0.19569825 0.23829831 0.25089187 0.11655585 0.2466522  0.18097248\n",
      " 0.19569825 0.23829831 0.25089187 0.11655585 0.2466522  0.18097248\n",
      " 0.19569825 0.23829831 0.25089187 0.11655585 0.2466522  0.18097248\n",
      " 0.19569825 0.23829831 0.25089187 0.11655585 0.2466522  0.18097248\n",
      " 0.19569825 0.23829831 0.25089187 0.11655585 0.2466522  0.18097248\n",
      " 0.19569825 0.23829831 0.25089187 0.11655585 0.2466522  0.18097248\n",
      " 0.19569825 0.23829831 0.25089187 0.11655585 0.2466522  0.07767095\n",
      " 0.22048302 0.0905789  0.11669621 0.1561699  0.08505441 0.14635938\n",
      " 0.07767095 0.22048302 0.0905789  0.07767095 0.22048302 0.0905789\n",
      " 0.07767095 0.22048302 0.0905789  0.07767095 0.22048302 0.0905789\n",
      " 0.07767095 0.22048302 0.0905789  0.07767095 0.22048302 0.0905789\n",
      " 0.07767095 0.22048302 0.0905789  0.07767095 0.22048302 0.0905789\n",
      " 0.07767095 0.22048302 0.0905789  0.07767095 0.22048302 0.0905789\n",
      " 0.07767095 0.22048302 0.0905789  0.07767095 0.22048302 0.0905789\n",
      " 0.07767095 0.22048302 0.0905789  0.07767095 0.22048302 0.0905789\n",
      " 0.07767095 0.22048302 0.0905789  0.07767095 0.22048302 0.0905789\n",
      " 0.1789395  0.1336862  0.11588259 0.04618971 0.02472283 0.1789395\n",
      " 0.1336862  0.11588259 0.04618971 0.02472283 0.1789395  0.1336862\n",
      " 0.11588259 0.04618971 0.02472283 0.1789395  0.1336862  0.11588259\n",
      " 0.04618971 0.02472283 0.1789395  0.1336862  0.11588259 0.04618971\n",
      " 0.02472283 0.17173619 0.11736116 0.13886146 0.17173619 0.11736116\n",
      " 0.13886146 0.17173619 0.11736116 0.13886146 0.17173619 0.11736116\n",
      " 0.13886146 0.17173619 0.11736116 0.13886146 0.17173619 0.11736116\n",
      " 0.13886146 0.17173619 0.11736116 0.13886146 0.17173619 0.11736116\n",
      " 0.13886146 0.17173619 0.11736116 0.13886146 0.17173619 0.11736116\n",
      " 0.13886146 0.08163775 0.07067359 0.07275359 0.11836814 0.06857215\n",
      " 0.11106205 0.2313181  0.08309868 0.121688   0.08587125 0.45575793\n",
      " 0.08163775 0.07067359 0.07275359 0.11836814 0.06857215 0.11106205\n",
      " 0.2313181  0.08309868 0.121688   0.08587125 0.45575793 0.08163775\n",
      " 0.07067359 0.07275359 0.11836814 0.06857215 0.11106205 0.2313181\n",
      " 0.08309868 0.121688   0.08587125 0.45575793 0.22814663 0.10850169\n",
      " 0.31782747 0.29340269 0.31088997 0.19227609 0.29304548 0.22814663\n",
      " 0.10850169 0.31782747 0.29340269 0.31088997 0.19227609 0.29304548\n",
      " 0.22814663 0.10850169 0.31782747 0.29340269 0.31088997 0.19227609\n",
      " 0.29304548 0.22814663 0.10850169 0.31782747 0.29340269 0.31088997\n",
      " 0.19227609 0.29304548 0.22814663 0.10850169 0.31782747 0.29340269\n",
      " 0.31088997 0.19227609 0.29304548 0.22814663 0.10850169 0.31782747\n",
      " 0.29340269 0.31088997 0.19227609 0.29304548 0.26688613 0.18434976\n",
      " 0.12627695 0.21253958 0.13452037 0.26688613 0.18434976 0.12627695\n",
      " 0.21253958 0.13452037 0.26688613 0.18434976 0.12627695 0.21253958\n",
      " 0.13452037 0.26688613 0.18434976 0.12627695 0.21253958 0.13452037\n",
      " 0.26688613 0.18434976 0.12627695 0.21253958 0.13452037 0.26688613\n",
      " 0.18434976 0.12627695 0.21253958 0.13452037 0.26688613 0.18434976\n",
      " 0.12627695 0.21253958 0.13452037 0.26688613 0.18434976 0.12627695\n",
      " 0.21253958 0.13452037 0.25055664 0.1178437  0.18495056 0.06419278\n",
      " 0.07600824 0.09851943 0.11594049 0.25055664 0.1178437  0.18495056\n",
      " 0.06419278 0.07600824 0.09851943 0.11594049 0.25055664 0.1178437\n",
      " 0.18495056 0.06419278 0.07600824 0.09851943 0.11594049 0.25055664\n",
      " 0.1178437  0.18495056 0.06419278 0.07600824 0.09851943 0.11594049\n",
      " 0.10993329 0.10650166 0.19988947 0.06411583 0.3106196  0.10993329\n",
      " 0.10650166 0.19988947 0.06411583 0.3106196  0.10993329 0.10650166\n",
      " 0.19988947 0.06411583 0.3106196  0.10993329 0.10650166 0.19988947\n",
      " 0.06411583 0.3106196  0.10993329 0.10650166 0.19988947 0.06411583\n",
      " 0.3106196  0.10993329 0.10650166 0.19988947 0.06411583 0.3106196\n",
      " 0.10993329 0.10650166 0.19988947 0.06411583 0.3106196  0.10993329\n",
      " 0.10650166 0.19988947 0.06411583 0.3106196  0.03383621 0.11535471\n",
      " 0.07141683 0.05957889 0.01691318 0.12533218 0.09518934 0.03383621\n",
      " 0.11535471 0.07141683 0.05957889 0.01691318 0.12533218 0.09518934\n",
      " 0.03383621 0.11535471 0.07141683 0.05957889 0.01691318 0.12533218\n",
      " 0.09518934 0.03383621 0.11535471 0.07141683 0.05957889 0.01691318\n",
      " 0.12533218 0.09518934 0.03383621 0.11535471 0.07141683 0.05957889\n",
      " 0.01691318 0.12533218 0.09518934 0.03383621 0.11535471 0.07141683\n",
      " 0.05957889 0.01691318 0.12533218 0.09518934 0.03383621 0.11535471\n",
      " 0.07141683 0.05957889 0.01691318 0.12533218 0.09518934 0.03383621\n",
      " 0.11535471 0.07141683 0.05957889 0.01691318 0.12533218 0.09518934\n",
      " 0.03383621 0.11535471 0.07141683 0.05957889 0.01691318 0.12533218\n",
      " 0.09518934 0.03383621 0.11535471 0.07141683 0.05957889 0.01691318\n",
      " 0.12533218 0.09518934]\n",
      "-------------------------------------------------------------------------------------------------------------------------------------\n",
      "[(0, 1.0000000000000004), (1, 0.2114838452731591), (2, 0.2894828395806281), (3, 0.31860179607065264), (4, 0.24324376552749624), (5, 0.22698036578960393), (6, 0.39980916193489746), (7, 0.37560753877173086), (8, 0.3200422825190449), (9, 0.4399431969767362), (10, 1.0000000000000004), (11, 0.2114838452731591), (12, 0.2894828395806281), (13, 0.31860179607065264), (14, 0.24324376552749624), (15, 0.22698036578960393), (16, 0.39980916193489746), (17, 0.37560753877173086), (18, 0.3200422825190449), (19, 0.4399431969767362), (20, 1.0000000000000004), (21, 0.2114838452731591), (22, 0.2894828395806281), (23, 0.31860179607065264), (24, 0.24324376552749624), (25, 0.22698036578960393), (26, 0.39980916193489746), (27, 0.37560753877173086), (28, 0.3200422825190449), (29, 0.4399431969767362), (30, 1.0000000000000004), (31, 0.2114838452731591), (32, 0.2894828395806281), (33, 0.31860179607065264), (34, 0.24324376552749624), (35, 0.22698036578960393), (36, 0.39980916193489746), (37, 0.37560753877173086), (38, 0.3200422825190449), (39, 0.4399431969767362), (40, 0.01804887772894309), (41, 0.10764850572525585), (42, 0.030755929715721372), (43, 0.01698605055701382), (44, 0.01698605055701382), (45, 0.025535731100162527), (46, 0.011178916111853933), (47, 0.04609305163811689), (48, 0.008036323981292995), (49, 0.049882478442297706), (50, 0.12621073532248953), (51, 0.01804887772894309), (52, 0.10764850572525585), (53, 0.030755929715721372), (54, 0.01698605055701382), (55, 0.01698605055701382), (56, 0.025535731100162527), (57, 0.011178916111853933), (58, 0.04609305163811689), (59, 0.008036323981292995), (60, 0.049882478442297706), (61, 0.12621073532248953), (62, 0.01804887772894309), (63, 0.10764850572525585), (64, 0.030755929715721372), (65, 0.01698605055701382), (66, 0.01698605055701382), (67, 0.025535731100162527), (68, 0.011178916111853933), (69, 0.04609305163811689), (70, 0.008036323981292995), (71, 0.049882478442297706), (72, 0.12621073532248953), (73, 0.01804887772894309), (74, 0.10764850572525585), (75, 0.030755929715721372), (76, 0.01698605055701382), (77, 0.01698605055701382), (78, 0.025535731100162527), (79, 0.011178916111853933), (80, 0.04609305163811689), (81, 0.008036323981292995), (82, 0.049882478442297706), (83, 0.12621073532248953), (84, 0.029428472592646727), (85, 0.05210702823907451), (86, 0.055836571424547676), (87, 0.09580663343258766), (88, 0.1144039253028595), (89, 0.006751898431601369), (90, 0.028218129358105512), (91, 0.0323860746154756), (92, 0.04066751867743806), (93, 0.0040769343569353935), (94, 0.029428472592646727), (95, 0.05210702823907451), (96, 0.055836571424547676), (97, 0.09580663343258766), (98, 0.1144039253028595), (99, 0.006751898431601369), (100, 0.028218129358105512), (101, 0.0323860746154756), (102, 0.04066751867743806), (103, 0.0040769343569353935), (104, 0.03278420257073488), (105, 0.005624831425604977), (106, 0.06399903857319808), (107, 0.014988050352457115), (108, 0.028359389468642374), (109, 0.04440275630817194), (110, 0.03278420257073488), (111, 0.005624831425604977), (112, 0.06399903857319808), (113, 0.014988050352457115), (114, 0.028359389468642374), (115, 0.04440275630817194), (116, 0.03278420257073488), (117, 0.005624831425604977), (118, 0.06399903857319808), (119, 0.014988050352457115), (120, 0.028359389468642374), (121, 0.04440275630817194), (122, 0.03278420257073488), (123, 0.005624831425604977), (124, 0.06399903857319808), (125, 0.014988050352457115), (126, 0.028359389468642374), (127, 0.04440275630817194), (128, 0.03278420257073488), (129, 0.005624831425604977), (130, 0.06399903857319808), (131, 0.014988050352457115), (132, 0.028359389468642374), (133, 0.04440275630817194), (134, 0.03278420257073488), (135, 0.005624831425604977), (136, 0.06399903857319808), (137, 0.014988050352457115), (138, 0.028359389468642374), (139, 0.04440275630817194), (140, 0.12964561767371413), (141, 0.18744497897097862), (142, 0.12964561767371413), (143, 0.07181359926845568), (144, 0.27118269361266684), (145, 0.12964561767371413), (146, 0.18744497897097862), (147, 0.12964561767371413), (148, 0.07181359926845568), (149, 0.27118269361266684), (150, 0.12964561767371413), (151, 0.18744497897097862), (152, 0.12964561767371413), (153, 0.07181359926845568), (154, 0.27118269361266684), (155, 0.12964561767371413), (156, 0.18744497897097862), (157, 0.12964561767371413), (158, 0.07181359926845568), (159, 0.27118269361266684), (160, 0.12964561767371413), (161, 0.18744497897097862), (162, 0.12964561767371413), (163, 0.07181359926845568), (164, 0.27118269361266684), (165, 0.12964561767371413), (166, 0.18744497897097862), (167, 0.12964561767371413), (168, 0.07181359926845568), (169, 0.27118269361266684), (170, 0.12964561767371413), (171, 0.18744497897097862), (172, 0.12964561767371413), (173, 0.07181359926845568), (174, 0.27118269361266684), (175, 0.12964561767371413), (176, 0.18744497897097862), (177, 0.12964561767371413), (178, 0.07181359926845568), (179, 0.27118269361266684), (180, 0.12964561767371413), (181, 0.18744497897097862), (182, 0.12964561767371413), (183, 0.07181359926845568), (184, 0.27118269361266684), (185, 0.1683557978824015), (186, 0.042101248197497464), (187, 0.017544444055599497), (188, 0.027036281143635738), (189, 0.06876550279772238), (190, 0.1683557978824015), (191, 0.042101248197497464), (192, 0.017544444055599497), (193, 0.027036281143635738), (194, 0.06876550279772238), (195, 0.1683557978824015), (196, 0.042101248197497464), (197, 0.017544444055599497), (198, 0.027036281143635738), (199, 0.06876550279772238), (200, 0.1683557978824015), (201, 0.042101248197497464), (202, 0.017544444055599497), (203, 0.027036281143635738), (204, 0.06876550279772238), (205, 0.1683557978824015), (206, 0.042101248197497464), (207, 0.017544444055599497), (208, 0.027036281143635738), (209, 0.06876550279772238), (210, 0.1683557978824015), (211, 0.042101248197497464), (212, 0.017544444055599497), (213, 0.027036281143635738), (214, 0.06876550279772238), (215, 0.1683557978824015), (216, 0.042101248197497464), (217, 0.017544444055599497), (218, 0.027036281143635738), (219, 0.06876550279772238), (220, 0.1683557978824015), (221, 0.042101248197497464), (222, 0.017544444055599497), (223, 0.027036281143635738), (224, 0.06876550279772238), (225, 0.08398900486216249), (226, 0.05332220130301657), (227, 0.08614079514982326), (228, 0.057131000374298746), (229, 0.08076466667354901), (230, 0.08398900486216249), (231, 0.05332220130301657), (232, 0.08614079514982326), (233, 0.057131000374298746), (234, 0.08076466667354901), (235, 0.08398900486216249), (236, 0.05332220130301657), (237, 0.08614079514982326), (238, 0.057131000374298746), (239, 0.08076466667354901), (240, 0.08398900486216249), (241, 0.05332220130301657), (242, 0.08614079514982326), (243, 0.057131000374298746), (244, 0.08076466667354901), (245, 0.08398900486216249), (246, 0.05332220130301657), (247, 0.08614079514982326), (248, 0.057131000374298746), (249, 0.08076466667354901), (250, 0.08398900486216249), (251, 0.05332220130301657), (252, 0.08614079514982326), (253, 0.057131000374298746), (254, 0.08076466667354901), (255, 0.08398900486216249), (256, 0.05332220130301657), (257, 0.08614079514982326), (258, 0.057131000374298746), (259, 0.08076466667354901), (260, 0.08398900486216249), (261, 0.05332220130301657), (262, 0.08614079514982326), (263, 0.057131000374298746), (264, 0.08076466667354901), (265, 0.038322339842809375), (266, 0.015951235923309208), (267, 0.05830784857186379), (268, 0.051299867834191513), (269, 0.08948659187436053), (270, 0.1470986900196809), (271, 0.038322339842809375), (272, 0.015951235923309208), (273, 0.05830784857186379), (274, 0.051299867834191513), (275, 0.08948659187436053), (276, 0.1470986900196809), (277, 0.038322339842809375), (278, 0.015951235923309208), (279, 0.05830784857186379), (280, 0.051299867834191513), (281, 0.08948659187436053), (282, 0.1470986900196809), (283, 0.038322339842809375), (284, 0.015951235923309208), (285, 0.05830784857186379), (286, 0.051299867834191513), (287, 0.08948659187436053), (288, 0.1470986900196809), (289, 0.038322339842809375), (290, 0.015951235923309208), (291, 0.05830784857186379), (292, 0.051299867834191513), (293, 0.08948659187436053), (294, 0.1470986900196809), (295, 0.06792611996348906), (296, 0.025153799693536677), (297, 0.06515447843560915), (298, 0.02877005970481691), (299, 0.04026995878778965), (300, 0.01635856806806179), (301, 0.06792611996348906), (302, 0.025153799693536677), (303, 0.06515447843560915), (304, 0.02877005970481691), (305, 0.04026995878778965), (306, 0.01635856806806179), (307, 0.06792611996348906), (308, 0.025153799693536677), (309, 0.06515447843560915), (310, 0.02877005970481691), (311, 0.04026995878778965), (312, 0.01635856806806179), (313, 0.06792611996348906), (314, 0.025153799693536677), (315, 0.06515447843560915), (316, 0.02877005970481691), (317, 0.04026995878778965), (318, 0.01635856806806179), (319, 0.09637460597355907), (320, 0.07766290632972932), (321, 0.14534624950929972), (322, 0.1855442510628375), (323, 0.19502400746066767), (324, 0.1298117035069461), (325, 0.13705484650139677), (326, 0.13705484650139677), (327, 0.15251477727428103), (328, 0.13296394620220203), (329, 0.20789642668755068), (330, 0.18777556577659515), (331, 0.11457814581132714), (332, 0.0866472816405996), (333, 0.09637460597355907), (334, 0.07766290632972932), (335, 0.14534624950929972), (336, 0.1855442510628375), (337, 0.19502400746066767), (338, 0.1298117035069461), (339, 0.13705484650139677), (340, 0.13705484650139677), (341, 0.15251477727428103), (342, 0.13296394620220203), (343, 0.20789642668755068), (344, 0.18777556577659515), (345, 0.11457814581132714), (346, 0.0866472816405996), (347, 0.09637460597355907), (348, 0.07766290632972932), (349, 0.14534624950929972), (350, 0.1855442510628375), (351, 0.19502400746066767), (352, 0.1298117035069461), (353, 0.13705484650139677), (354, 0.13705484650139677), (355, 0.15251477727428103), (356, 0.13296394620220203), (357, 0.20789642668755068), (358, 0.18777556577659515), (359, 0.11457814581132714), (360, 0.0866472816405996), (361, 0.09637460597355907), (362, 0.07766290632972932), (363, 0.14534624950929972), (364, 0.1855442510628375), (365, 0.19502400746066767), (366, 0.1298117035069461), (367, 0.13705484650139677), (368, 0.13705484650139677), (369, 0.15251477727428103), (370, 0.13296394620220203), (371, 0.20789642668755068), (372, 0.18777556577659515), (373, 0.11457814581132714), (374, 0.0866472816405996), (375, 0.09637460597355907), (376, 0.07766290632972932), (377, 0.14534624950929972), (378, 0.1855442510628375), (379, 0.19502400746066767), (380, 0.1298117035069461), (381, 0.13705484650139677), (382, 0.13705484650139677), (383, 0.15251477727428103), (384, 0.13296394620220203), (385, 0.20789642668755068), (386, 0.18777556577659515), (387, 0.11457814581132714), (388, 0.0866472816405996), (389, 0.09637460597355907), (390, 0.07766290632972932), (391, 0.14534624950929972), (392, 0.1855442510628375), (393, 0.19502400746066767), (394, 0.1298117035069461), (395, 0.13705484650139677), (396, 0.13705484650139677), (397, 0.15251477727428103), (398, 0.13296394620220203), (399, 0.20789642668755068), (400, 0.18777556577659515), (401, 0.11457814581132714), (402, 0.0866472816405996), (403, 0.14106999156572042), (404, 0.18635402444681723), (405, 0.19324764756919066), (406, 0.24158966714916952), (407, 0.08932408059744676), (408, 0.10161930539076583), (409, 0.19324764756919066), (410, 0.24158966714916952), (411, 0.08932408059744676), (412, 0.10161930539076583), (413, 0.19324764756919066), (414, 0.24158966714916952), (415, 0.08932408059744676), (416, 0.10161930539076583), (417, 0.14106999156572042), (418, 0.18635402444681723), (419, 0.19324764756919066), (420, 0.24158966714916952), (421, 0.08932408059744676), (422, 0.10161930539076583), (423, 0.19324764756919066), (424, 0.24158966714916952), (425, 0.08932408059744676), (426, 0.10161930539076583), (427, 0.19324764756919066), (428, 0.24158966714916952), (429, 0.08932408059744676), (430, 0.10161930539076583), (431, 0.15570383296188167), (432, 0.19406517442761456), (433, 0.09775014548100192), (434, 0.09266588252145658), (435, 0.06689368610613172), (436, 0.08740039795589878), (437, 0.15570383296188167), (438, 0.19406517442761456), (439, 0.09775014548100192), (440, 0.09266588252145658), (441, 0.06689368610613172), (442, 0.08740039795589878), (443, 0.15570383296188167), (444, 0.19406517442761456), (445, 0.09775014548100192), (446, 0.09266588252145658), (447, 0.06689368610613172), (448, 0.08740039795589878), (449, 0.15570383296188167), (450, 0.19406517442761456), (451, 0.09775014548100192), (452, 0.09266588252145658), (453, 0.06689368610613172), (454, 0.08740039795589878), (455, 0.12136821132670796), (456, 0.045769353138875195), (457, 0.1632230572016889), (458, 0.14437611896644123), (459, 0.10920835865567635), (460, 0.12311062556751558), (461, 0.0695851684769069), (462, 0.14437611896644123), (463, 0.10920835865567635), (464, 0.14437611896644123), (465, 0.10920835865567635), (466, 0.14437611896644123), (467, 0.10920835865567635), (468, 0.12136821132670796), (469, 0.045769353138875195), (470, 0.1632230572016889), (471, 0.14437611896644123), (472, 0.10920835865567635), (473, 0.12311062556751558), (474, 0.0695851684769069), (475, 0.14437611896644123), (476, 0.10920835865567635), (477, 0.14437611896644123), (478, 0.10920835865567635), (479, 0.14437611896644123), (480, 0.10920835865567635), (481, 0.07349433065353793), (482, 0.030972793934456497), (483, 0.08372729928057923), (484, 0.013882886258748301), (485, 0.036514808399017204), (486, 0.07349433065353793), (487, 0.030972793934456497), (488, 0.08372729928057923), (489, 0.013882886258748301), (490, 0.036514808399017204), (491, 0.07349433065353793), (492, 0.030972793934456497), (493, 0.08372729928057923), (494, 0.013882886258748301), (495, 0.036514808399017204), (496, 0.07349433065353793), (497, 0.030972793934456497), (498, 0.08372729928057923), (499, 0.013882886258748301), (500, 0.036514808399017204), (501, 0.07349433065353793), (502, 0.030972793934456497), (503, 0.08372729928057923), (504, 0.013882886258748301), (505, 0.036514808399017204), (506, 0.07349433065353793), (507, 0.030972793934456497), (508, 0.08372729928057923), (509, 0.013882886258748301), (510, 0.036514808399017204), (511, 0.22672425222361217), (512, 0.1330619177983175), (513, 0.10726630486473235), (514, 0.11670624010248459), (515, 0.22672425222361217), (516, 0.1330619177983175), (517, 0.10726630486473235), (518, 0.11670624010248459), (519, 0.22672425222361217), (520, 0.1330619177983175), (521, 0.10726630486473235), (522, 0.11670624010248459), (523, 0.22672425222361217), (524, 0.1330619177983175), (525, 0.10726630486473235), (526, 0.11670624010248459), (527, 0.22672425222361217), (528, 0.1330619177983175), (529, 0.10726630486473235), (530, 0.11670624010248459), (531, 0.22672425222361217), (532, 0.1330619177983175), (533, 0.10726630486473235), (534, 0.11670624010248459), (535, 0.22672425222361217), (536, 0.1330619177983175), (537, 0.10726630486473235), (538, 0.11670624010248459), (539, 0.22672425222361217), (540, 0.1330619177983175), (541, 0.10726630486473235), (542, 0.11670624010248459), (543, 0.22672425222361217), (544, 0.1330619177983175), (545, 0.10726630486473235), (546, 0.11670624010248459), (547, 0.22672425222361217), (548, 0.1330619177983175), (549, 0.10726630486473235), (550, 0.11670624010248459), (551, 0.17520777812951532), (552, 0.12592293075846192), (553, 0.19870314855574167), (554, 0.2842367428669129), (555, 0.06809264224848867), (556, 0.19988451881203892), (557, 0.17520777812951532), (558, 0.12592293075846192), (559, 0.19870314855574167), (560, 0.2842367428669129), (561, 0.06809264224848867), (562, 0.19988451881203892), (563, 0.17520777812951532), (564, 0.12592293075846192), (565, 0.19870314855574167), (566, 0.2842367428669129), (567, 0.06809264224848867), (568, 0.19988451881203892), (569, 0.17520777812951532), (570, 0.12592293075846192), (571, 0.19870314855574167), (572, 0.2842367428669129), (573, 0.06809264224848867), (574, 0.19988451881203892), (575, 0.17520777812951532), (576, 0.12592293075846192), (577, 0.19870314855574167), (578, 0.2842367428669129), (579, 0.06809264224848867), (580, 0.19988451881203892), (581, 0.17520777812951532), (582, 0.12592293075846192), (583, 0.19870314855574167), (584, 0.2842367428669129), (585, 0.06809264224848867), (586, 0.19988451881203892), (587, 0.17520777812951532), (588, 0.12592293075846192), (589, 0.19870314855574167), (590, 0.2842367428669129), (591, 0.06809264224848867), (592, 0.19988451881203892), (593, 0.17520777812951532), (594, 0.12592293075846192), (595, 0.19870314855574167), (596, 0.2842367428669129), (597, 0.06809264224848867), (598, 0.19988451881203892), (599, 0.14996403091773966), (600, 0.21536769067609943), (601, 0.18304698567264777), (602, 0.1842167134062243), (603, 0.14201941253838096), (604, 0.12949446791701175), (605, 0.12397378097985248), (606, 0.14996403091773966), (607, 0.21536769067609943), (608, 0.18304698567264777), (609, 0.14996403091773966), (610, 0.21536769067609943), (611, 0.18304698567264777), (612, 0.14996403091773966), (613, 0.21536769067609943), (614, 0.18304698567264777), (615, 0.14996403091773966), (616, 0.21536769067609943), (617, 0.18304698567264777), (618, 0.14996403091773966), (619, 0.21536769067609943), (620, 0.18304698567264777), (621, 0.14996403091773966), (622, 0.21536769067609943), (623, 0.18304698567264777), (624, 0.14996403091773966), (625, 0.21536769067609943), (626, 0.18304698567264777), (627, 0.14996403091773966), (628, 0.21536769067609943), (629, 0.18304698567264777), (630, 0.14996403091773966), (631, 0.21536769067609943), (632, 0.18304698567264777), (633, 0.14996403091773966), (634, 0.21536769067609943), (635, 0.18304698567264777), (636, 0.14996403091773966), (637, 0.21536769067609943), (638, 0.18304698567264777), (639, 0.14996403091773966), (640, 0.21536769067609943), (641, 0.18304698567264777), (642, 0.14996403091773966), (643, 0.21536769067609943), (644, 0.18304698567264777), (645, 0.14996403091773966), (646, 0.21536769067609943), (647, 0.18304698567264777), (648, 0.14996403091773966), (649, 0.21536769067609943), (650, 0.18304698567264777), (651, 0.14996403091773966), (652, 0.21536769067609943), (653, 0.18304698567264777), (654, 0.08500754194218124), (655, 0.08844370915967603), (656, 0.09916189562342567), (657, 0.07424140162655893), (658, 0.03925420562130797), (659, 0.08500754194218124), (660, 0.08844370915967603), (661, 0.09916189562342567), (662, 0.07424140162655893), (663, 0.03925420562130797), (664, 0.08500754194218124), (665, 0.08844370915967603), (666, 0.09916189562342567), (667, 0.07424140162655893), (668, 0.03925420562130797), (669, 0.08500754194218124), (670, 0.08844370915967603), (671, 0.09916189562342567), (672, 0.07424140162655893), (673, 0.03925420562130797), (674, 0.08500754194218124), (675, 0.08844370915967603), (676, 0.09916189562342567), (677, 0.07424140162655893), (678, 0.03925420562130797), (679, 0.2574601280661709), (680, 0.14804321932043696), (681, 0.11954380115068058), (682, 0.2574601280661709), (683, 0.14804321932043696), (684, 0.11954380115068058), (685, 0.2574601280661709), (686, 0.14804321932043696), (687, 0.11954380115068058), (688, 0.2574601280661709), (689, 0.14804321932043696), (690, 0.11954380115068058), (691, 0.2574601280661709), (692, 0.14804321932043696), (693, 0.11954380115068058), (694, 0.2574601280661709), (695, 0.14804321932043696), (696, 0.11954380115068058), (697, 0.2574601280661709), (698, 0.14804321932043696), (699, 0.11954380115068058), (700, 0.2574601280661709), (701, 0.14804321932043696), (702, 0.11954380115068058), (703, 0.2574601280661709), (704, 0.14804321932043696), (705, 0.11954380115068058), (706, 0.2574601280661709), (707, 0.14804321932043696), (708, 0.11954380115068058), (709, 0.10255179848543632), (710, 0.1119494670879297), (711, 0.08758768837988334), (712, 0.1345994006809063), (713, 0.0819286637816081), (714, 0.1269850234546625), (715, 0.1856229234365144), (716, 0.0890885822605201), (717, 0.12621323109027183), (718, 0.1033170063728179), (719, 0.2348370928076175), (720, 0.10255179848543632), (721, 0.1119494670879297), (722, 0.08758768837988334), (723, 0.1345994006809063), (724, 0.0819286637816081), (725, 0.1269850234546625), (726, 0.1856229234365144), (727, 0.0890885822605201), (728, 0.12621323109027183), (729, 0.1033170063728179), (730, 0.2348370928076175), (731, 0.10255179848543632), (732, 0.1119494670879297), (733, 0.08758768837988334), (734, 0.1345994006809063), (735, 0.0819286637816081), (736, 0.1269850234546625), (737, 0.1856229234365144), (738, 0.0890885822605201), (739, 0.12621323109027183), (740, 0.1033170063728179), (741, 0.2348370928076175), (742, 0.19362957172066775), (743, 0.11080731959096579), (744, 0.22858043103765505), (745, 0.20796520989953154), (746, 0.2232906673599536), (747, 0.16533356875902128), (748, 0.2996834550295296), (749, 0.19362957172066775), (750, 0.11080731959096579), (751, 0.22858043103765505), (752, 0.20796520989953154), (753, 0.2232906673599536), (754, 0.16533356875902128), (755, 0.2996834550295296), (756, 0.19362957172066775), (757, 0.11080731959096579), (758, 0.22858043103765505), (759, 0.20796520989953154), (760, 0.2232906673599536), (761, 0.16533356875902128), (762, 0.2996834550295296), (763, 0.19362957172066775), (764, 0.11080731959096579), (765, 0.22858043103765505), (766, 0.20796520989953154), (767, 0.2232906673599536), (768, 0.16533356875902128), (769, 0.2996834550295296), (770, 0.19362957172066775), (771, 0.11080731959096579), (772, 0.22858043103765505), (773, 0.20796520989953154), (774, 0.2232906673599536), (775, 0.16533356875902128), (776, 0.2996834550295296), (777, 0.19362957172066775), (778, 0.11080731959096579), (779, 0.22858043103765505), (780, 0.20796520989953154), (781, 0.2232906673599536), (782, 0.16533356875902128), (783, 0.2996834550295296), (784, 0.19894647901745344), (785, 0.139220390330789), (786, 0.10320217893904723), (787, 0.14902658953559186), (788, 0.07836432139689524), (789, 0.19894647901745344), (790, 0.139220390330789), (791, 0.10320217893904723), (792, 0.14902658953559186), (793, 0.07836432139689524), (794, 0.19894647901745344), (795, 0.139220390330789), (796, 0.10320217893904723), (797, 0.14902658953559186), (798, 0.07836432139689524), (799, 0.19894647901745344), (800, 0.139220390330789), (801, 0.10320217893904723), (802, 0.14902658953559186), (803, 0.07836432139689524), (804, 0.19894647901745344), (805, 0.139220390330789), (806, 0.10320217893904723), (807, 0.14902658953559186), (808, 0.07836432139689524), (809, 0.19894647901745344), (810, 0.139220390330789), (811, 0.10320217893904723), (812, 0.14902658953559186), (813, 0.07836432139689524), (814, 0.19894647901745344), (815, 0.139220390330789), (816, 0.10320217893904723), (817, 0.14902658953559186), (818, 0.07836432139689524), (819, 0.19894647901745344), (820, 0.139220390330789), (821, 0.10320217893904723), (822, 0.14902658953559186), (823, 0.07836432139689524), (824, 0.24178851269721063), (825, 0.1066362512005157), (826, 0.21374277924126261), (827, 0.08103159623337297), (828, 0.14882989435553107), (829, 0.1992355050850313), (830, 0.19286836637150206), (831, 0.24178851269721063), (832, 0.1066362512005157), (833, 0.21374277924126261), (834, 0.08103159623337297), (835, 0.14882989435553107), (836, 0.1992355050850313), (837, 0.19286836637150206), (838, 0.24178851269721063), (839, 0.1066362512005157), (840, 0.21374277924126261), (841, 0.08103159623337297), (842, 0.14882989435553107), (843, 0.1992355050850313), (844, 0.19286836637150206), (845, 0.24178851269721063), (846, 0.1066362512005157), (847, 0.21374277924126261), (848, 0.08103159623337297), (849, 0.14882989435553107), (850, 0.1992355050850313), (851, 0.19286836637150206), (852, 0.10362062030019353), (853, 0.19570334717582694), (854, 0.16145583717902212), (855, 0.13227234107026206), (856, 0.2312836863550111), (857, 0.10362062030019353), (858, 0.19570334717582694), (859, 0.16145583717902212), (860, 0.13227234107026206), (861, 0.2312836863550111), (862, 0.10362062030019353), (863, 0.19570334717582694), (864, 0.16145583717902212), (865, 0.13227234107026206), (866, 0.2312836863550111), (867, 0.10362062030019353), (868, 0.19570334717582694), (869, 0.16145583717902212), (870, 0.13227234107026206), (871, 0.2312836863550111), (872, 0.10362062030019353), (873, 0.19570334717582694), (874, 0.16145583717902212), (875, 0.13227234107026206), (876, 0.2312836863550111), (877, 0.10362062030019353), (878, 0.19570334717582694), (879, 0.16145583717902212), (880, 0.13227234107026206), (881, 0.2312836863550111), (882, 0.10362062030019353), (883, 0.19570334717582694), (884, 0.16145583717902212), (885, 0.13227234107026206), (886, 0.2312836863550111), (887, 0.10362062030019353), (888, 0.19570334717582694), (889, 0.16145583717902212), (890, 0.13227234107026206), (891, 0.2312836863550111), (892, 0.02182756947718853), (893, 0.09397370348216534), (894, 0.04307644607137582), (895, 0.07208617723744216), (896, 0.04255453194408375), (897, 0.068329395481558), (898, 0.09374584652125229), (899, 0.02182756947718853), (900, 0.09397370348216534), (901, 0.04307644607137582), (902, 0.07208617723744216), (903, 0.04255453194408375), (904, 0.068329395481558), (905, 0.09374584652125229), (906, 0.02182756947718853), (907, 0.09397370348216534), (908, 0.04307644607137582), (909, 0.07208617723744216), (910, 0.04255453194408375), (911, 0.068329395481558), (912, 0.09374584652125229), (913, 0.02182756947718853), (914, 0.09397370348216534), (915, 0.04307644607137582), (916, 0.07208617723744216), (917, 0.04255453194408375), (918, 0.068329395481558), (919, 0.09374584652125229), (920, 0.02182756947718853), (921, 0.09397370348216534), (922, 0.04307644607137582), (923, 0.07208617723744216), (924, 0.04255453194408375), (925, 0.068329395481558), (926, 0.09374584652125229), (927, 0.02182756947718853), (928, 0.09397370348216534), (929, 0.04307644607137582), (930, 0.07208617723744216), (931, 0.04255453194408375), (932, 0.068329395481558), (933, 0.09374584652125229), (934, 0.02182756947718853), (935, 0.09397370348216534), (936, 0.04307644607137582), (937, 0.07208617723744216), (938, 0.04255453194408375), (939, 0.068329395481558), (940, 0.09374584652125229), (941, 0.02182756947718853), (942, 0.09397370348216534), (943, 0.04307644607137582), (944, 0.07208617723744216), (945, 0.04255453194408375), (946, 0.068329395481558), (947, 0.09374584652125229), (948, 0.02182756947718853), (949, 0.09397370348216534), (950, 0.04307644607137582), (951, 0.07208617723744216), (952, 0.04255453194408375), (953, 0.068329395481558), (954, 0.09374584652125229), (955, 0.02182756947718853), (956, 0.09397370348216534), (957, 0.04307644607137582), (958, 0.07208617723744216), (959, 0.04255453194408375), (960, 0.068329395481558), (961, 0.09374584652125229)]\n",
      "[(0, 0.3200422825190449), (1, 0.32243296907567587), (2, 0.44465820482108287), (3, 0.22563687723709397), (4, 0.19945289948875264), (5, 0.42212180324927095), (6, 0.5133566649308652), (7, 0.6604568109054777), (8, 1.0000000000000004), (9, 0.41641447074325816), (10, 0.3200422825190449), (11, 0.32243296907567587), (12, 0.44465820482108287), (13, 0.22563687723709397), (14, 0.19945289948875264), (15, 0.42212180324927095), (16, 0.5133566649308652), (17, 0.6604568109054777), (18, 1.0000000000000004), (19, 0.41641447074325816), (20, 0.3200422825190449), (21, 0.32243296907567587), (22, 0.44465820482108287), (23, 0.22563687723709397), (24, 0.19945289948875264), (25, 0.42212180324927095), (26, 0.5133566649308652), (27, 0.6604568109054777), (28, 1.0000000000000004), (29, 0.41641447074325816), (30, 0.3200422825190449), (31, 0.32243296907567587), (32, 0.44465820482108287), (33, 0.22563687723709397), (34, 0.19945289948875264), (35, 0.42212180324927095), (36, 0.5133566649308652), (37, 0.6604568109054777), (38, 1.0000000000000004), (39, 0.41641447074325816), (40, 0.20095075938790397), (41, 0.06212540078134302), (42, 0.03718634991466446), (43, 0.040322361982547114), (44, 0.040322361982547114), (45, 0.043896506228200974), (46, 0.09508519993441891), (47, 0.1247233364025998), (48, 0.07094113271200922), (49, 0.11748352492338968), (50, 0.31367213677065775), (51, 0.20095075938790397), (52, 0.06212540078134302), (53, 0.03718634991466446), (54, 0.040322361982547114), (55, 0.040322361982547114), (56, 0.043896506228200974), (57, 0.09508519993441891), (58, 0.1247233364025998), (59, 0.07094113271200922), (60, 0.11748352492338968), (61, 0.31367213677065775), (62, 0.20095075938790397), (63, 0.06212540078134302), (64, 0.03718634991466446), (65, 0.040322361982547114), (66, 0.040322361982547114), (67, 0.043896506228200974), (68, 0.09508519993441891), (69, 0.1247233364025998), (70, 0.07094113271200922), (71, 0.11748352492338968), (72, 0.31367213677065775), (73, 0.20095075938790397), (74, 0.06212540078134302), (75, 0.03718634991466446), (76, 0.040322361982547114), (77, 0.040322361982547114), (78, 0.043896506228200974), (79, 0.09508519993441891), (80, 0.1247233364025998), (81, 0.07094113271200922), (82, 0.11748352492338968), (83, 0.31367213677065775), (84, 0.1482240204923324), (85, 0.047846624280965096), (86, 0.09623640707513688), (87, 0.14899156737039237), (88, 0.08142414998610789), (89, 0.18215740253174376), (90, 0.12381677531146107), (91, 0.04306542291617004), (92, 0.10638021083346598), (93, 0.06611165811978419), (94, 0.1482240204923324), (95, 0.047846624280965096), (96, 0.09623640707513688), (97, 0.14899156737039237), (98, 0.08142414998610789), (99, 0.18215740253174376), (100, 0.12381677531146107), (101, 0.04306542291617004), (102, 0.10638021083346598), (103, 0.06611165811978419), (104, 0.1200324656985315), (105, 0.13511364927405234), (106, 0.09292428719965896), (107, 0.10621865676334745), (108, 0.07483025364457876), (109, 0.1773781612090897), (110, 0.1200324656985315), (111, 0.13511364927405234), (112, 0.09292428719965896), (113, 0.10621865676334745), (114, 0.07483025364457876), (115, 0.1773781612090897), (116, 0.1200324656985315), (117, 0.13511364927405234), (118, 0.09292428719965896), (119, 0.10621865676334745), (120, 0.07483025364457876), (121, 0.1773781612090897), (122, 0.1200324656985315), (123, 0.13511364927405234), (124, 0.09292428719965896), (125, 0.10621865676334745), (126, 0.07483025364457876), (127, 0.1773781612090897), (128, 0.1200324656985315), (129, 0.13511364927405234), (130, 0.09292428719965896), (131, 0.10621865676334745), (132, 0.07483025364457876), (133, 0.1773781612090897), (134, 0.1200324656985315), (135, 0.13511364927405234), (136, 0.09292428719965896), (137, 0.10621865676334745), (138, 0.07483025364457876), (139, 0.1773781612090897), (140, 0.09427187343831663), (141, 0.11685546512506247), (142, 0.09427187343831663), (143, 0.19281611379835809), (144, 0.16624182444453542), (145, 0.09427187343831663), (146, 0.11685546512506247), (147, 0.09427187343831663), (148, 0.19281611379835809), (149, 0.16624182444453542), (150, 0.09427187343831663), (151, 0.11685546512506247), (152, 0.09427187343831663), (153, 0.19281611379835809), (154, 0.16624182444453542), (155, 0.09427187343831663), (156, 0.11685546512506247), (157, 0.09427187343831663), (158, 0.19281611379835809), (159, 0.16624182444453542), (160, 0.09427187343831663), (161, 0.11685546512506247), (162, 0.09427187343831663), (163, 0.19281611379835809), (164, 0.16624182444453542), (165, 0.09427187343831663), (166, 0.11685546512506247), (167, 0.09427187343831663), (168, 0.19281611379835809), (169, 0.16624182444453542), (170, 0.09427187343831663), (171, 0.11685546512506247), (172, 0.09427187343831663), (173, 0.19281611379835809), (174, 0.16624182444453542), (175, 0.09427187343831663), (176, 0.11685546512506247), (177, 0.09427187343831663), (178, 0.19281611379835809), (179, 0.16624182444453542), (180, 0.09427187343831663), (181, 0.11685546512506247), (182, 0.09427187343831663), (183, 0.19281611379835809), (184, 0.16624182444453542), (185, 0.08844178999277787), (186, 0.20842752916269747), (187, 0.1312933317098282), (188, 0.12006450190990108), (189, 0.26895419893587835), (190, 0.08844178999277787), (191, 0.20842752916269747), (192, 0.1312933317098282), (193, 0.12006450190990108), (194, 0.26895419893587835), (195, 0.08844178999277787), (196, 0.20842752916269747), (197, 0.1312933317098282), (198, 0.12006450190990108), (199, 0.26895419893587835), (200, 0.08844178999277787), (201, 0.20842752916269747), (202, 0.1312933317098282), (203, 0.12006450190990108), (204, 0.26895419893587835), (205, 0.08844178999277787), (206, 0.20842752916269747), (207, 0.1312933317098282), (208, 0.12006450190990108), (209, 0.26895419893587835), (210, 0.08844178999277787), (211, 0.20842752916269747), (212, 0.1312933317098282), (213, 0.12006450190990108), (214, 0.26895419893587835), (215, 0.08844178999277787), (216, 0.20842752916269747), (217, 0.1312933317098282), (218, 0.12006450190990108), (219, 0.26895419893587835), (220, 0.08844178999277787), (221, 0.20842752916269747), (222, 0.1312933317098282), (223, 0.12006450190990108), (224, 0.26895419893587835), (225, 0.10591230430924373), (226, 0.04942560491411427), (227, 0.10354376267013328), (228, 0.08658398377373258), (229, 0.11555536003605622), (230, 0.10591230430924373), (231, 0.04942560491411427), (232, 0.10354376267013328), (233, 0.08658398377373258), (234, 0.11555536003605622), (235, 0.10591230430924373), (236, 0.04942560491411427), (237, 0.10354376267013328), (238, 0.08658398377373258), (239, 0.11555536003605622), (240, 0.10591230430924373), (241, 0.04942560491411427), (242, 0.10354376267013328), (243, 0.08658398377373258), (244, 0.11555536003605622), (245, 0.10591230430924373), (246, 0.04942560491411427), (247, 0.10354376267013328), (248, 0.08658398377373258), (249, 0.11555536003605622), (250, 0.10591230430924373), (251, 0.04942560491411427), (252, 0.10354376267013328), (253, 0.08658398377373258), (254, 0.11555536003605622), (255, 0.10591230430924373), (256, 0.04942560491411427), (257, 0.10354376267013328), (258, 0.08658398377373258), (259, 0.11555536003605622), (260, 0.10591230430924373), (261, 0.04942560491411427), (262, 0.10354376267013328), (263, 0.08658398377373258), (264, 0.11555536003605622), (265, 0.17572512697683884), (266, 0.11046156165579563), (267, 0.04433436769750814), (268, 0.040119586596511166), (269, 0.23630472824840654), (270, 0.16270051729595186), (271, 0.17572512697683884), (272, 0.11046156165579563), (273, 0.04433436769750814), (274, 0.040119586596511166), (275, 0.23630472824840654), (276, 0.16270051729595186), (277, 0.17572512697683884), (278, 0.11046156165579563), (279, 0.04433436769750814), (280, 0.040119586596511166), (281, 0.23630472824840654), (282, 0.16270051729595186), (283, 0.17572512697683884), (284, 0.11046156165579563), (285, 0.04433436769750814), (286, 0.040119586596511166), (287, 0.23630472824840654), (288, 0.16270051729595186), (289, 0.17572512697683884), (290, 0.11046156165579563), (291, 0.04433436769750814), (292, 0.040119586596511166), (293, 0.23630472824840654), (294, 0.16270051729595186), (295, 0.04365817820234191), (296, 0.08419829314855296), (297, 0.047571649345547265), (298, 0.026446401692164563), (299, 0.12119247736113023), (300, 0.14096681281912846), (301, 0.04365817820234191), (302, 0.08419829314855296), (303, 0.047571649345547265), (304, 0.026446401692164563), (305, 0.12119247736113023), (306, 0.14096681281912846), (307, 0.04365817820234191), (308, 0.08419829314855296), (309, 0.047571649345547265), (310, 0.026446401692164563), (311, 0.12119247736113023), (312, 0.14096681281912846), (313, 0.04365817820234191), (314, 0.08419829314855296), (315, 0.047571649345547265), (316, 0.026446401692164563), (317, 0.12119247736113023), (318, 0.14096681281912846), (319, 0.10076046454924137), (320, 0.11471524110784061), (321, 0.22727975787730187), (322, 0.12193553663309793), (323, 0.18765322379202642), (324, 0.07723596285298603), (325, 0.08929550258039788), (326, 0.08929550258039788), (327, 0.16955076980075812), (328, 0.12810872893631634), (329, 0.108299743950827), (330, 0.151059540428631), (331, 0.1631503350190576), (332, 0.08627321860195328), (333, 0.10076046454924137), (334, 0.11471524110784061), (335, 0.22727975787730187), (336, 0.12193553663309793), (337, 0.18765322379202642), (338, 0.07723596285298603), (339, 0.08929550258039788), (340, 0.08929550258039788), (341, 0.16955076980075812), (342, 0.12810872893631634), (343, 0.108299743950827), (344, 0.151059540428631), (345, 0.1631503350190576), (346, 0.08627321860195328), (347, 0.10076046454924137), (348, 0.11471524110784061), (349, 0.22727975787730187), (350, 0.12193553663309793), (351, 0.18765322379202642), (352, 0.07723596285298603), (353, 0.08929550258039788), (354, 0.08929550258039788), (355, 0.16955076980075812), (356, 0.12810872893631634), (357, 0.108299743950827), (358, 0.151059540428631), (359, 0.1631503350190576), (360, 0.08627321860195328), (361, 0.10076046454924137), (362, 0.11471524110784061), (363, 0.22727975787730187), (364, 0.12193553663309793), (365, 0.18765322379202642), (366, 0.07723596285298603), (367, 0.08929550258039788), (368, 0.08929550258039788), (369, 0.16955076980075812), (370, 0.12810872893631634), (371, 0.108299743950827), (372, 0.151059540428631), (373, 0.1631503350190576), (374, 0.08627321860195328), (375, 0.10076046454924137), (376, 0.11471524110784061), (377, 0.22727975787730187), (378, 0.12193553663309793), (379, 0.18765322379202642), (380, 0.07723596285298603), (381, 0.08929550258039788), (382, 0.08929550258039788), (383, 0.16955076980075812), (384, 0.12810872893631634), (385, 0.108299743950827), (386, 0.151059540428631), (387, 0.1631503350190576), (388, 0.08627321860195328), (389, 0.10076046454924137), (390, 0.11471524110784061), (391, 0.22727975787730187), (392, 0.12193553663309793), (393, 0.18765322379202642), (394, 0.07723596285298603), (395, 0.08929550258039788), (396, 0.08929550258039788), (397, 0.16955076980075812), (398, 0.12810872893631634), (399, 0.108299743950827), (400, 0.151059540428631), (401, 0.1631503350190576), (402, 0.08627321860195328), (403, 0.0622488127842309), (404, 0.1518536849233637), (405, 0.0954597267317408), (406, 0.11687552907460909), (407, 0.16112236378808958), (408, 0.03789981514034256), (409, 0.0954597267317408), (410, 0.11687552907460909), (411, 0.16112236378808958), (412, 0.03789981514034256), (413, 0.0954597267317408), (414, 0.11687552907460909), (415, 0.16112236378808958), (416, 0.03789981514034256), (417, 0.0622488127842309), (418, 0.1518536849233637), (419, 0.0954597267317408), (420, 0.11687552907460909), (421, 0.16112236378808958), (422, 0.03789981514034256), (423, 0.0954597267317408), (424, 0.11687552907460909), (425, 0.16112236378808958), (426, 0.03789981514034256), (427, 0.0954597267317408), (428, 0.11687552907460909), (429, 0.16112236378808958), (430, 0.03789981514034256), (431, 0.15242628692808047), (432, 0.04325578005236665), (433, 0.07117779094326471), (434, 0.09480732956352805), (435, 0.13162230085128923), (436, 0.10574131362634652), (437, 0.15242628692808047), (438, 0.04325578005236665), (439, 0.07117779094326471), (440, 0.09480732956352805), (441, 0.13162230085128923), (442, 0.10574131362634652), (443, 0.15242628692808047), (444, 0.04325578005236665), (445, 0.07117779094326471), (446, 0.09480732956352805), (447, 0.13162230085128923), (448, 0.10574131362634652), (449, 0.15242628692808047), (450, 0.04325578005236665), (451, 0.07117779094326471), (452, 0.09480732956352805), (453, 0.13162230085128923), (454, 0.10574131362634652), (455, 0.17186242218980397), (456, 0.13233985145014926), (457, 0.17146809779355332), (458, 0.11159227032128406), (459, 0.20652733143894586), (460, 0.07943949333831704), (461, 0.09142859931045902), (462, 0.11159227032128406), (463, 0.20652733143894586), (464, 0.11159227032128406), (465, 0.20652733143894586), (466, 0.11159227032128406), (467, 0.20652733143894586), (468, 0.17186242218980397), (469, 0.13233985145014926), (470, 0.17146809779355332), (471, 0.11159227032128406), (472, 0.20652733143894586), (473, 0.07943949333831704), (474, 0.09142859931045902), (475, 0.11159227032128406), (476, 0.20652733143894586), (477, 0.11159227032128406), (478, 0.20652733143894586), (479, 0.11159227032128406), (480, 0.20652733143894586), (481, 0.08850556548347346), (482, 0.05680889343244663), (483, 0.09761377577068509), (484, 0.09041506316191131), (485, 0.10584670766059787), (486, 0.08850556548347346), (487, 0.05680889343244663), (488, 0.09761377577068509), (489, 0.09041506316191131), (490, 0.10584670766059787), (491, 0.08850556548347346), (492, 0.05680889343244663), (493, 0.09761377577068509), (494, 0.09041506316191131), (495, 0.10584670766059787), (496, 0.08850556548347346), (497, 0.05680889343244663), (498, 0.09761377577068509), (499, 0.09041506316191131), (500, 0.10584670766059787), (501, 0.08850556548347346), (502, 0.05680889343244663), (503, 0.09761377577068509), (504, 0.09041506316191131), (505, 0.10584670766059787), (506, 0.08850556548347346), (507, 0.05680889343244663), (508, 0.09761377577068509), (509, 0.09041506316191131), (510, 0.10584670766059787), (511, 0.08835352492555912), (512, 0.08377933175443622), (513, 0.08707273032871936), (514, 0.05222158866008254), (515, 0.08835352492555912), (516, 0.08377933175443622), (517, 0.08707273032871936), (518, 0.05222158866008254), (519, 0.08835352492555912), (520, 0.08377933175443622), (521, 0.08707273032871936), (522, 0.05222158866008254), (523, 0.08835352492555912), (524, 0.08377933175443622), (525, 0.08707273032871936), (526, 0.05222158866008254), (527, 0.08835352492555912), (528, 0.08377933175443622), (529, 0.08707273032871936), (530, 0.05222158866008254), (531, 0.08835352492555912), (532, 0.08377933175443622), (533, 0.08707273032871936), (534, 0.05222158866008254), (535, 0.08835352492555912), (536, 0.08377933175443622), (537, 0.08707273032871936), (538, 0.05222158866008254), (539, 0.08835352492555912), (540, 0.08377933175443622), (541, 0.08707273032871936), (542, 0.05222158866008254), (543, 0.08835352492555912), (544, 0.08377933175443622), (545, 0.08707273032871936), (546, 0.05222158866008254), (547, 0.08835352492555912), (548, 0.08377933175443622), (549, 0.08707273032871936), (550, 0.05222158866008254), (551, 0.26008758326182274), (552, 0.3036967582399561), (553, 0.35752719337446426), (554, 0.2958365506690275), (555, 0.12488348809439628), (556, 0.2608353584095581), (557, 0.26008758326182274), (558, 0.3036967582399561), (559, 0.35752719337446426), (560, 0.2958365506690275), (561, 0.12488348809439628), (562, 0.2608353584095581), (563, 0.26008758326182274), (564, 0.3036967582399561), (565, 0.35752719337446426), (566, 0.2958365506690275), (567, 0.12488348809439628), (568, 0.2608353584095581), (569, 0.26008758326182274), (570, 0.3036967582399561), (571, 0.35752719337446426), (572, 0.2958365506690275), (573, 0.12488348809439628), (574, 0.2608353584095581), (575, 0.26008758326182274), (576, 0.3036967582399561), (577, 0.35752719337446426), (578, 0.2958365506690275), (579, 0.12488348809439628), (580, 0.2608353584095581), (581, 0.26008758326182274), (582, 0.3036967582399561), (583, 0.35752719337446426), (584, 0.2958365506690275), (585, 0.12488348809439628), (586, 0.2608353584095581), (587, 0.26008758326182274), (588, 0.3036967582399561), (589, 0.35752719337446426), (590, 0.2958365506690275), (591, 0.12488348809439628), (592, 0.2608353584095581), (593, 0.26008758326182274), (594, 0.3036967582399561), (595, 0.35752719337446426), (596, 0.2958365506690275), (597, 0.12488348809439628), (598, 0.2608353584095581), (599, 0.10865513280483374), (600, 0.1762725975680886), (601, 0.10353898199619924), (602, 0.19916338415965684), (603, 0.12412445243406381), (604, 0.07851370977178729), (605, 0.10284127493670125), (606, 0.10865513280483374), (607, 0.1762725975680886), (608, 0.10353898199619924), (609, 0.10865513280483374), (610, 0.1762725975680886), (611, 0.10353898199619924), (612, 0.10865513280483374), (613, 0.1762725975680886), (614, 0.10353898199619924), (615, 0.10865513280483374), (616, 0.1762725975680886), (617, 0.10353898199619924), (618, 0.10865513280483374), (619, 0.1762725975680886), (620, 0.10353898199619924), (621, 0.10865513280483374), (622, 0.1762725975680886), (623, 0.10353898199619924), (624, 0.10865513280483374), (625, 0.1762725975680886), (626, 0.10353898199619924), (627, 0.10865513280483374), (628, 0.1762725975680886), (629, 0.10353898199619924), (630, 0.10865513280483374), (631, 0.1762725975680886), (632, 0.10353898199619924), (633, 0.10865513280483374), (634, 0.1762725975680886), (635, 0.10353898199619924), (636, 0.10865513280483374), (637, 0.1762725975680886), (638, 0.10353898199619924), (639, 0.10865513280483374), (640, 0.1762725975680886), (641, 0.10353898199619924), (642, 0.10865513280483374), (643, 0.1762725975680886), (644, 0.10353898199619924), (645, 0.10865513280483374), (646, 0.1762725975680886), (647, 0.10353898199619924), (648, 0.10865513280483374), (649, 0.1762725975680886), (650, 0.10353898199619924), (651, 0.10865513280483374), (652, 0.1762725975680886), (653, 0.10353898199619924), (654, 0.15482022668184767), (655, 0.10479658412621509), (656, 0.16201031968702434), (657, 0.06142426520201966), (658, 0.05145030755418715), (659, 0.15482022668184767), (660, 0.10479658412621509), (661, 0.16201031968702434), (662, 0.06142426520201966), (663, 0.05145030755418715), (664, 0.15482022668184767), (665, 0.10479658412621509), (666, 0.16201031968702434), (667, 0.06142426520201966), (668, 0.05145030755418715), (669, 0.15482022668184767), (670, 0.10479658412621509), (671, 0.16201031968702434), (672, 0.06142426520201966), (673, 0.05145030755418715), (674, 0.15482022668184767), (675, 0.10479658412621509), (676, 0.16201031968702434), (677, 0.06142426520201966), (678, 0.05145030755418715), (679, 0.14254665362586647), (680, 0.07498660352182748), (681, 0.06574014433004614), (682, 0.14254665362586647), (683, 0.07498660352182748), (684, 0.06574014433004614), (685, 0.14254665362586647), (686, 0.07498660352182748), (687, 0.06574014433004614), (688, 0.14254665362586647), (689, 0.07498660352182748), (690, 0.06574014433004614), (691, 0.14254665362586647), (692, 0.07498660352182748), (693, 0.06574014433004614), (694, 0.14254665362586647), (695, 0.07498660352182748), (696, 0.06574014433004614), (697, 0.14254665362586647), (698, 0.07498660352182748), (699, 0.06574014433004614), (700, 0.14254665362586647), (701, 0.07498660352182748), (702, 0.06574014433004614), (703, 0.14254665362586647), (704, 0.07498660352182748), (705, 0.06574014433004614), (706, 0.14254665362586647), (707, 0.07498660352182748), (708, 0.06574014433004614), (709, 0.14956381925932188), (710, 0.11687817365602125), (711, 0.12153532049175703), (712, 0.08262840924639703), (713, 0.10092839570674327), (714, 0.0833243172508667), (715, 0.11098430367282539), (716, 0.11842842921332894), (717, 0.12553124938758253), (718, 0.053984964938906775), (719, 0.34149069868458615), (720, 0.14956381925932188), (721, 0.11687817365602125), (722, 0.12153532049175703), (723, 0.08262840924639703), (724, 0.10092839570674327), (725, 0.0833243172508667), (726, 0.11098430367282539), (727, 0.11842842921332894), (728, 0.12553124938758253), (729, 0.053984964938906775), (730, 0.34149069868458615), (731, 0.14956381925932188), (732, 0.11687817365602125), (733, 0.12153532049175703), (734, 0.08262840924639703), (735, 0.10092839570674327), (736, 0.0833243172508667), (737, 0.11098430367282539), (738, 0.11842842921332894), (739, 0.12553124938758253), (740, 0.053984964938906775), (741, 0.34149069868458615), (742, 0.11423884820371241), (743, 0.054574359211553417), (744, 0.13246610809328302), (745, 0.17506678580435556), (746, 0.1515112177661494), (747, 0.15500775974394387), (748, 0.16320191993146604), (749, 0.11423884820371241), (750, 0.054574359211553417), (751, 0.13246610809328302), (752, 0.17506678580435556), (753, 0.1515112177661494), (754, 0.15500775974394387), (755, 0.16320191993146604), (756, 0.11423884820371241), (757, 0.054574359211553417), (758, 0.13246610809328302), (759, 0.17506678580435556), (760, 0.1515112177661494), (761, 0.15500775974394387), (762, 0.16320191993146604), (763, 0.11423884820371241), (764, 0.054574359211553417), (765, 0.13246610809328302), (766, 0.17506678580435556), (767, 0.1515112177661494), (768, 0.15500775974394387), (769, 0.16320191993146604), (770, 0.11423884820371241), (771, 0.054574359211553417), (772, 0.13246610809328302), (773, 0.17506678580435556), (774, 0.1515112177661494), (775, 0.15500775974394387), (776, 0.16320191993146604), (777, 0.11423884820371241), (778, 0.054574359211553417), (779, 0.13246610809328302), (780, 0.17506678580435556), (781, 0.1515112177661494), (782, 0.15500775974394387), (783, 0.16320191993146604), (784, 0.13203620131259847), (785, 0.11239964718492089), (786, 0.152429389640114), (787, 0.11565347900349088), (788, 0.2157814231855803), (789, 0.13203620131259847), (790, 0.11239964718492089), (791, 0.152429389640114), (792, 0.11565347900349088), (793, 0.2157814231855803), (794, 0.13203620131259847), (795, 0.11239964718492089), (796, 0.152429389640114), (797, 0.11565347900349088), (798, 0.2157814231855803), (799, 0.13203620131259847), (800, 0.11239964718492089), (801, 0.152429389640114), (802, 0.11565347900349088), (803, 0.2157814231855803), (804, 0.13203620131259847), (805, 0.11239964718492089), (806, 0.152429389640114), (807, 0.11565347900349088), (808, 0.2157814231855803), (809, 0.13203620131259847), (810, 0.11239964718492089), (811, 0.152429389640114), (812, 0.11565347900349088), (813, 0.2157814231855803), (814, 0.13203620131259847), (815, 0.11239964718492089), (816, 0.152429389640114), (817, 0.11565347900349088), (818, 0.2157814231855803), (819, 0.13203620131259847), (820, 0.11239964718492089), (821, 0.152429389640114), (822, 0.11565347900349088), (823, 0.2157814231855803), (824, 0.2148899087945798), (825, 0.1513921636586415), (826, 0.1629959361878469), (827, 0.13811135058963042), (828, 0.10296396893638954), (829, 0.12494927197757297), (830, 0.13205554555935317), (831, 0.2148899087945798), (832, 0.1513921636586415), (833, 0.1629959361878469), (834, 0.13811135058963042), (835, 0.10296396893638954), (836, 0.12494927197757297), (837, 0.13205554555935317), (838, 0.2148899087945798), (839, 0.1513921636586415), (840, 0.1629959361878469), (841, 0.13811135058963042), (842, 0.10296396893638954), (843, 0.12494927197757297), (844, 0.13205554555935317), (845, 0.2148899087945798), (846, 0.1513921636586415), (847, 0.1629959361878469), (848, 0.13811135058963042), (849, 0.10296396893638954), (850, 0.12494927197757297), (851, 0.13205554555935317), (852, 0.12746742204190428), (853, 0.17195144087595082), (854, 0.2675666032714166), (855, 0.11199799084850445), (856, 0.3088141642543289), (857, 0.12746742204190428), (858, 0.17195144087595082), (859, 0.2675666032714166), (860, 0.11199799084850445), (861, 0.3088141642543289), (862, 0.12746742204190428), (863, 0.17195144087595082), (864, 0.2675666032714166), (865, 0.11199799084850445), (866, 0.3088141642543289), (867, 0.12746742204190428), (868, 0.17195144087595082), (869, 0.2675666032714166), (870, 0.11199799084850445), (871, 0.3088141642543289), (872, 0.12746742204190428), (873, 0.17195144087595082), (874, 0.2675666032714166), (875, 0.11199799084850445), (876, 0.3088141642543289), (877, 0.12746742204190428), (878, 0.17195144087595082), (879, 0.2675666032714166), (880, 0.11199799084850445), (881, 0.3088141642543289), (882, 0.12746742204190428), (883, 0.17195144087595082), (884, 0.2675666032714166), (885, 0.11199799084850445), (886, 0.3088141642543289), (887, 0.12746742204190428), (888, 0.17195144087595082), (889, 0.2675666032714166), (890, 0.11199799084850445), (891, 0.3088141642543289), (892, 0.12410655579773777), (893, 0.07401102013245396), (894, 0.058203204934585286), (895, 0.08657779583719676), (896, 0.04894482705737685), (897, 0.2104432215000155), (898, 0.11264556262989663), (899, 0.12410655579773777), (900, 0.07401102013245396), (901, 0.058203204934585286), (902, 0.08657779583719676), (903, 0.04894482705737685), (904, 0.2104432215000155), (905, 0.11264556262989663), (906, 0.12410655579773777), (907, 0.07401102013245396), (908, 0.058203204934585286), (909, 0.08657779583719676), (910, 0.04894482705737685), (911, 0.2104432215000155), (912, 0.11264556262989663), (913, 0.12410655579773777), (914, 0.07401102013245396), (915, 0.058203204934585286), (916, 0.08657779583719676), (917, 0.04894482705737685), (918, 0.2104432215000155), (919, 0.11264556262989663), (920, 0.12410655579773777), (921, 0.07401102013245396), (922, 0.058203204934585286), (923, 0.08657779583719676), (924, 0.04894482705737685), (925, 0.2104432215000155), (926, 0.11264556262989663), (927, 0.12410655579773777), (928, 0.07401102013245396), (929, 0.058203204934585286), (930, 0.08657779583719676), (931, 0.04894482705737685), (932, 0.2104432215000155), (933, 0.11264556262989663), (934, 0.12410655579773777), (935, 0.07401102013245396), (936, 0.058203204934585286), (937, 0.08657779583719676), (938, 0.04894482705737685), (939, 0.2104432215000155), (940, 0.11264556262989663), (941, 0.12410655579773777), (942, 0.07401102013245396), (943, 0.058203204934585286), (944, 0.08657779583719676), (945, 0.04894482705737685), (946, 0.2104432215000155), (947, 0.11264556262989663), (948, 0.12410655579773777), (949, 0.07401102013245396), (950, 0.058203204934585286), (951, 0.08657779583719676), (952, 0.04894482705737685), (953, 0.2104432215000155), (954, 0.11264556262989663), (955, 0.12410655579773777), (956, 0.07401102013245396), (957, 0.058203204934585286), (958, 0.08657779583719676), (959, 0.04894482705737685), (960, 0.2104432215000155), (961, 0.11264556262989663)]\n",
      "[(0, 0.39980916193489746), (1, 0.38882798475661884), (2, 0.4414489513429678), (3, 0.28870416854788195), (4, 0.40501709221771187), (5, 0.5010227311752404), (6, 1.0000000000000002), (7, 0.5095609115427873), (8, 0.5133566649308652), (9, 0.7215885510805311), (10, 0.39980916193489746), (11, 0.38882798475661884), (12, 0.4414489513429678), (13, 0.28870416854788195), (14, 0.40501709221771187), (15, 0.5010227311752404), (16, 1.0000000000000002), (17, 0.5095609115427873), (18, 0.5133566649308652), (19, 0.7215885510805311), (20, 0.39980916193489746), (21, 0.38882798475661884), (22, 0.4414489513429678), (23, 0.28870416854788195), (24, 0.40501709221771187), (25, 0.5010227311752404), (26, 1.0000000000000002), (27, 0.5095609115427873), (28, 0.5133566649308652), (29, 0.7215885510805311), (30, 0.39980916193489746), (31, 0.38882798475661884), (32, 0.4414489513429678), (33, 0.28870416854788195), (34, 0.40501709221771187), (35, 0.5010227311752404), (36, 1.0000000000000002), (37, 0.5095609115427873), (38, 0.5133566649308652), (39, 0.7215885510805311), (40, 0.09864385590286776), (41, 0.04312776128750226), (42, 0.04787542093082413), (43, 0.08675716250609353), (44, 0.08675716250609353), (45, 0.061351233650025774), (46, 0.05292133341113295), (47, 0.10856986722972128), (48, 0.022626523981177146), (49, 0.09871120164294045), (50, 0.22462985279973952), (51, 0.09864385590286776), (52, 0.04312776128750226), (53, 0.04787542093082413), (54, 0.08675716250609353), (55, 0.08675716250609353), (56, 0.061351233650025774), (57, 0.05292133341113295), (58, 0.10856986722972128), (59, 0.022626523981177146), (60, 0.09871120164294045), (61, 0.22462985279973952), (62, 0.09864385590286776), (63, 0.04312776128750226), (64, 0.04787542093082413), (65, 0.08675716250609353), (66, 0.08675716250609353), (67, 0.061351233650025774), (68, 0.05292133341113295), (69, 0.10856986722972128), (70, 0.022626523981177146), (71, 0.09871120164294045), (72, 0.22462985279973952), (73, 0.09864385590286776), (74, 0.04312776128750226), (75, 0.04787542093082413), (76, 0.08675716250609353), (77, 0.08675716250609353), (78, 0.061351233650025774), (79, 0.05292133341113295), (80, 0.10856986722972128), (81, 0.022626523981177146), (82, 0.09871120164294045), (83, 0.22462985279973952), (84, 0.03746693701266591), (85, 0.08629532757252312), (86, 0.12389918634567046), (87, 0.1590681204765826), (88, 0.09845072120648485), (89, 0.0355013476518106), (90, 0.042123249554621885), (91, 0.050511120944484164), (92, 0.04768453950523431), (93, 0.03255248596279459), (94, 0.03746693701266591), (95, 0.08629532757252312), (96, 0.12389918634567046), (97, 0.1590681204765826), (98, 0.09845072120648485), (99, 0.0355013476518106), (100, 0.042123249554621885), (101, 0.050511120944484164), (102, 0.04768453950523431), (103, 0.03255248596279459), (104, 0.09597927504309155), (105, 0.051362498231337206), (106, 0.07393470854292893), (107, 0.07900913985147777), (108, 0.022549774399152966), (109, 0.11997879137621378), (110, 0.09597927504309155), (111, 0.051362498231337206), (112, 0.07393470854292893), (113, 0.07900913985147777), (114, 0.022549774399152966), (115, 0.11997879137621378), (116, 0.09597927504309155), (117, 0.051362498231337206), (118, 0.07393470854292893), (119, 0.07900913985147777), (120, 0.022549774399152966), (121, 0.11997879137621378), (122, 0.09597927504309155), (123, 0.051362498231337206), (124, 0.07393470854292893), (125, 0.07900913985147777), (126, 0.022549774399152966), (127, 0.11997879137621378), (128, 0.09597927504309155), (129, 0.051362498231337206), (130, 0.07393470854292893), (131, 0.07900913985147777), (132, 0.022549774399152966), (133, 0.11997879137621378), (134, 0.09597927504309155), (135, 0.051362498231337206), (136, 0.07393470854292893), (137, 0.07900913985147777), (138, 0.022549774399152966), (139, 0.11997879137621378), (140, 0.0936838333256502), (141, 0.07587184298058648), (142, 0.0936838333256502), (143, 0.05984027671971921), (144, 0.21295692389463383), (145, 0.0936838333256502), (146, 0.07587184298058648), (147, 0.0936838333256502), (148, 0.05984027671971921), (149, 0.21295692389463383), (150, 0.0936838333256502), (151, 0.07587184298058648), (152, 0.0936838333256502), (153, 0.05984027671971921), (154, 0.21295692389463383), (155, 0.0936838333256502), (156, 0.07587184298058648), (157, 0.0936838333256502), (158, 0.05984027671971921), (159, 0.21295692389463383), (160, 0.0936838333256502), (161, 0.07587184298058648), (162, 0.0936838333256502), (163, 0.05984027671971921), (164, 0.21295692389463383), (165, 0.0936838333256502), (166, 0.07587184298058648), (167, 0.0936838333256502), (168, 0.05984027671971921), (169, 0.21295692389463383), (170, 0.0936838333256502), (171, 0.07587184298058648), (172, 0.0936838333256502), (173, 0.05984027671971921), (174, 0.21295692389463383), (175, 0.0936838333256502), (176, 0.07587184298058648), (177, 0.0936838333256502), (178, 0.05984027671971921), (179, 0.21295692389463383), (180, 0.0936838333256502), (181, 0.07587184298058648), (182, 0.0936838333256502), (183, 0.05984027671971921), (184, 0.21295692389463383), (185, 0.09964433758223369), (186, 0.22019234895552953), (187, 0.060842147599590224), (188, 0.05491775215241744), (189, 0.2020704538733043), (190, 0.09964433758223369), (191, 0.22019234895552953), (192, 0.060842147599590224), (193, 0.05491775215241744), (194, 0.2020704538733043), (195, 0.09964433758223369), (196, 0.22019234895552953), (197, 0.060842147599590224), (198, 0.05491775215241744), (199, 0.2020704538733043), (200, 0.09964433758223369), (201, 0.22019234895552953), (202, 0.060842147599590224), (203, 0.05491775215241744), (204, 0.2020704538733043), (205, 0.09964433758223369), (206, 0.22019234895552953), (207, 0.060842147599590224), (208, 0.05491775215241744), (209, 0.2020704538733043), (210, 0.09964433758223369), (211, 0.22019234895552953), (212, 0.060842147599590224), (213, 0.05491775215241744), (214, 0.2020704538733043), (215, 0.09964433758223369), (216, 0.22019234895552953), (217, 0.060842147599590224), (218, 0.05491775215241744), (219, 0.2020704538733043), (220, 0.09964433758223369), (221, 0.22019234895552953), (222, 0.060842147599590224), (223, 0.05491775215241744), (224, 0.2020704538733043), (225, 0.18108190136067798), (226, 0.08601539894303536), (227, 0.08896823097776649), (228, 0.11395004371761594), (229, 0.17968672567321592), (230, 0.18108190136067798), (231, 0.08601539894303536), (232, 0.08896823097776649), (233, 0.11395004371761594), (234, 0.17968672567321592), (235, 0.18108190136067798), (236, 0.08601539894303536), (237, 0.08896823097776649), (238, 0.11395004371761594), (239, 0.17968672567321592), (240, 0.18108190136067798), (241, 0.08601539894303536), (242, 0.08896823097776649), (243, 0.11395004371761594), (244, 0.17968672567321592), (245, 0.18108190136067798), (246, 0.08601539894303536), (247, 0.08896823097776649), (248, 0.11395004371761594), (249, 0.17968672567321592), (250, 0.18108190136067798), (251, 0.08601539894303536), (252, 0.08896823097776649), (253, 0.11395004371761594), (254, 0.17968672567321592), (255, 0.18108190136067798), (256, 0.08601539894303536), (257, 0.08896823097776649), (258, 0.11395004371761594), (259, 0.17968672567321592), (260, 0.18108190136067798), (261, 0.08601539894303536), (262, 0.08896823097776649), (263, 0.11395004371761594), (264, 0.17968672567321592), (265, 0.1363161190121781), (266, 0.02675061273454555), (267, 0.0278752056111422), (268, 0.05148863138211293), (269, 0.15185212582420898), (270, 0.11090128901661896), (271, 0.1363161190121781), (272, 0.02675061273454555), (273, 0.0278752056111422), (274, 0.05148863138211293), (275, 0.15185212582420898), (276, 0.11090128901661896), (277, 0.1363161190121781), (278, 0.02675061273454555), (279, 0.0278752056111422), (280, 0.05148863138211293), (281, 0.15185212582420898), (282, 0.11090128901661896), (283, 0.1363161190121781), (284, 0.02675061273454555), (285, 0.0278752056111422), (286, 0.05148863138211293), (287, 0.15185212582420898), (288, 0.11090128901661896), (289, 0.1363161190121781), (290, 0.02675061273454555), (291, 0.0278752056111422), (292, 0.05148863138211293), (293, 0.15185212582420898), (294, 0.11090128901661896), (295, 0.05038549705594129), (296, 0.05101946546206033), (297, 0.09028202686860248), (298, 0.08929036796777079), (299, 0.09074106674598786), (300, 0.060700065497432024), (301, 0.05038549705594129), (302, 0.05101946546206033), (303, 0.09028202686860248), (304, 0.08929036796777079), (305, 0.09074106674598786), (306, 0.060700065497432024), (307, 0.05038549705594129), (308, 0.05101946546206033), (309, 0.09028202686860248), (310, 0.08929036796777079), (311, 0.09074106674598786), (312, 0.060700065497432024), (313, 0.05038549705594129), (314, 0.05101946546206033), (315, 0.09028202686860248), (316, 0.08929036796777079), (317, 0.09074106674598786), (318, 0.060700065497432024), (319, 0.05435328055659917), (320, 0.08932239587565674), (321, 0.15081099324272723), (322, 0.13513502798500382), (323, 0.17383148325537898), (324, 0.176951674792086), (325, 0.19994822129445006), (326, 0.19994822129445006), (327, 0.12008652476009771), (328, 0.12455017132143026), (329, 0.03605915362764055), (330, 0.10865807790641882), (331, 0.05377359874677662), (332, 0.12786112642047792), (333, 0.05435328055659917), (334, 0.08932239587565674), (335, 0.15081099324272723), (336, 0.13513502798500382), (337, 0.17383148325537898), (338, 0.176951674792086), (339, 0.19994822129445006), (340, 0.19994822129445006), (341, 0.12008652476009771), (342, 0.12455017132143026), (343, 0.03605915362764055), (344, 0.10865807790641882), (345, 0.05377359874677662), (346, 0.12786112642047792), (347, 0.05435328055659917), (348, 0.08932239587565674), (349, 0.15081099324272723), (350, 0.13513502798500382), (351, 0.17383148325537898), (352, 0.176951674792086), (353, 0.19994822129445006), (354, 0.19994822129445006), (355, 0.12008652476009771), (356, 0.12455017132143026), (357, 0.03605915362764055), (358, 0.10865807790641882), (359, 0.05377359874677662), (360, 0.12786112642047792), (361, 0.05435328055659917), (362, 0.08932239587565674), (363, 0.15081099324272723), (364, 0.13513502798500382), (365, 0.17383148325537898), (366, 0.176951674792086), (367, 0.19994822129445006), (368, 0.19994822129445006), (369, 0.12008652476009771), (370, 0.12455017132143026), (371, 0.03605915362764055), (372, 0.10865807790641882), (373, 0.05377359874677662), (374, 0.12786112642047792), (375, 0.05435328055659917), (376, 0.08932239587565674), (377, 0.15081099324272723), (378, 0.13513502798500382), (379, 0.17383148325537898), (380, 0.176951674792086), (381, 0.19994822129445006), (382, 0.19994822129445006), (383, 0.12008652476009771), (384, 0.12455017132143026), (385, 0.03605915362764055), (386, 0.10865807790641882), (387, 0.05377359874677662), (388, 0.12786112642047792), (389, 0.05435328055659917), (390, 0.08932239587565674), (391, 0.15081099324272723), (392, 0.13513502798500382), (393, 0.17383148325537898), (394, 0.176951674792086), (395, 0.19994822129445006), (396, 0.19994822129445006), (397, 0.12008652476009771), (398, 0.12455017132143026), (399, 0.03605915362764055), (400, 0.10865807790641882), (401, 0.05377359874677662), (402, 0.12786112642047792), (403, 0.07003422661930031), (404, 0.18928179193377676), (405, 0.14009786196852783), (406, 0.14471963411012229), (407, 0.14859615571161783), (408, 0.08774702208016488), (409, 0.14009786196852783), (410, 0.14471963411012229), (411, 0.14859615571161783), (412, 0.08774702208016488), (413, 0.14009786196852783), (414, 0.14471963411012229), (415, 0.14859615571161783), (416, 0.08774702208016488), (417, 0.07003422661930031), (418, 0.18928179193377676), (419, 0.14009786196852783), (420, 0.14471963411012229), (421, 0.14859615571161783), (422, 0.08774702208016488), (423, 0.14009786196852783), (424, 0.14471963411012229), (425, 0.14859615571161783), (426, 0.08774702208016488), (427, 0.14009786196852783), (428, 0.14471963411012229), (429, 0.14859615571161783), (430, 0.08774702208016488), (431, 0.1704390085654327), (432, 0.14540452804976667), (433, 0.10438543230258494), (434, 0.11811268569970929), (435, 0.0986049729528889), (436, 0.12191277295037001), (437, 0.1704390085654327), (438, 0.14540452804976667), (439, 0.10438543230258494), (440, 0.11811268569970929), (441, 0.0986049729528889), (442, 0.12191277295037001), (443, 0.1704390085654327), (444, 0.14540452804976667), (445, 0.10438543230258494), (446, 0.11811268569970929), (447, 0.0986049729528889), (448, 0.12191277295037001), (449, 0.1704390085654327), (450, 0.14540452804976667), (451, 0.10438543230258494), (452, 0.11811268569970929), (453, 0.0986049729528889), (454, 0.12191277295037001), (455, 0.10919047376778576), (456, 0.060612406110059976), (457, 0.14238504812019231), (458, 0.084095421017195), (459, 0.11837238096901564), (460, 0.07303689598327384), (461, 0.12367628765141536), (462, 0.084095421017195), (463, 0.11837238096901564), (464, 0.084095421017195), (465, 0.11837238096901564), (466, 0.084095421017195), (467, 0.11837238096901564), (468, 0.10919047376778576), (469, 0.060612406110059976), (470, 0.14238504812019231), (471, 0.084095421017195), (472, 0.11837238096901564), (473, 0.07303689598327384), (474, 0.12367628765141536), (475, 0.084095421017195), (476, 0.11837238096901564), (477, 0.084095421017195), (478, 0.11837238096901564), (479, 0.084095421017195), (480, 0.11837238096901564), (481, 0.0839036911455188), (482, 0.09499753336072071), (483, 0.0718121271496838), (484, 0.08301701114924395), (485, 0.09421782871517295), (486, 0.0839036911455188), (487, 0.09499753336072071), (488, 0.0718121271496838), (489, 0.08301701114924395), (490, 0.09421782871517295), (491, 0.0839036911455188), (492, 0.09499753336072071), (493, 0.0718121271496838), (494, 0.08301701114924395), (495, 0.09421782871517295), (496, 0.0839036911455188), (497, 0.09499753336072071), (498, 0.0718121271496838), (499, 0.08301701114924395), (500, 0.09421782871517295), (501, 0.0839036911455188), (502, 0.09499753336072071), (503, 0.0718121271496838), (504, 0.08301701114924395), (505, 0.09421782871517295), (506, 0.0839036911455188), (507, 0.09499753336072071), (508, 0.0718121271496838), (509, 0.08301701114924395), (510, 0.09421782871517295), (511, 0.10735885680477397), (512, 0.12629336547708334), (513, 0.09138793999337465), (514, 0.05234657104789195), (515, 0.10735885680477397), (516, 0.12629336547708334), (517, 0.09138793999337465), (518, 0.05234657104789195), (519, 0.10735885680477397), (520, 0.12629336547708334), (521, 0.09138793999337465), (522, 0.05234657104789195), (523, 0.10735885680477397), (524, 0.12629336547708334), (525, 0.09138793999337465), (526, 0.05234657104789195), (527, 0.10735885680477397), (528, 0.12629336547708334), (529, 0.09138793999337465), (530, 0.05234657104789195), (531, 0.10735885680477397), (532, 0.12629336547708334), (533, 0.09138793999337465), (534, 0.05234657104789195), (535, 0.10735885680477397), (536, 0.12629336547708334), (537, 0.09138793999337465), (538, 0.05234657104789195), (539, 0.10735885680477397), (540, 0.12629336547708334), (541, 0.09138793999337465), (542, 0.05234657104789195), (543, 0.10735885680477397), (544, 0.12629336547708334), (545, 0.09138793999337465), (546, 0.05234657104789195), (547, 0.10735885680477397), (548, 0.12629336547708334), (549, 0.09138793999337465), (550, 0.05234657104789195), (551, 0.18097247812984563), (552, 0.1956982469092938), (553, 0.23829831016195618), (554, 0.25089187306254), (555, 0.11655585386002862), (556, 0.24665220090507198), (557, 0.18097247812984563), (558, 0.1956982469092938), (559, 0.23829831016195618), (560, 0.25089187306254), (561, 0.11655585386002862), (562, 0.24665220090507198), (563, 0.18097247812984563), (564, 0.1956982469092938), (565, 0.23829831016195618), (566, 0.25089187306254), (567, 0.11655585386002862), (568, 0.24665220090507198), (569, 0.18097247812984563), (570, 0.1956982469092938), (571, 0.23829831016195618), (572, 0.25089187306254), (573, 0.11655585386002862), (574, 0.24665220090507198), (575, 0.18097247812984563), (576, 0.1956982469092938), (577, 0.23829831016195618), (578, 0.25089187306254), (579, 0.11655585386002862), (580, 0.24665220090507198), (581, 0.18097247812984563), (582, 0.1956982469092938), (583, 0.23829831016195618), (584, 0.25089187306254), (585, 0.11655585386002862), (586, 0.24665220090507198), (587, 0.18097247812984563), (588, 0.1956982469092938), (589, 0.23829831016195618), (590, 0.25089187306254), (591, 0.11655585386002862), (592, 0.24665220090507198), (593, 0.18097247812984563), (594, 0.1956982469092938), (595, 0.23829831016195618), (596, 0.25089187306254), (597, 0.11655585386002862), (598, 0.24665220090507198), (599, 0.0776709475898795), (600, 0.22048301624899588), (601, 0.09057889518634799), (602, 0.11669620732221186), (603, 0.1561699044952873), (604, 0.08505440821327628), (605, 0.14635938318459119), (606, 0.0776709475898795), (607, 0.22048301624899588), (608, 0.09057889518634799), (609, 0.0776709475898795), (610, 0.22048301624899588), (611, 0.09057889518634799), (612, 0.0776709475898795), (613, 0.22048301624899588), (614, 0.09057889518634799), (615, 0.0776709475898795), (616, 0.22048301624899588), (617, 0.09057889518634799), (618, 0.0776709475898795), (619, 0.22048301624899588), (620, 0.09057889518634799), (621, 0.0776709475898795), (622, 0.22048301624899588), (623, 0.09057889518634799), (624, 0.0776709475898795), (625, 0.22048301624899588), (626, 0.09057889518634799), (627, 0.0776709475898795), (628, 0.22048301624899588), (629, 0.09057889518634799), (630, 0.0776709475898795), (631, 0.22048301624899588), (632, 0.09057889518634799), (633, 0.0776709475898795), (634, 0.22048301624899588), (635, 0.09057889518634799), (636, 0.0776709475898795), (637, 0.22048301624899588), (638, 0.09057889518634799), (639, 0.0776709475898795), (640, 0.22048301624899588), (641, 0.09057889518634799), (642, 0.0776709475898795), (643, 0.22048301624899588), (644, 0.09057889518634799), (645, 0.0776709475898795), (646, 0.22048301624899588), (647, 0.09057889518634799), (648, 0.0776709475898795), (649, 0.22048301624899588), (650, 0.09057889518634799), (651, 0.0776709475898795), (652, 0.22048301624899588), (653, 0.09057889518634799), (654, 0.17893949870359055), (655, 0.13368619569560358), (656, 0.11588259022933617), (657, 0.04618970537139447), (658, 0.024722834909588348), (659, 0.17893949870359055), (660, 0.13368619569560358), (661, 0.11588259022933617), (662, 0.04618970537139447), (663, 0.024722834909588348), (664, 0.17893949870359055), (665, 0.13368619569560358), (666, 0.11588259022933617), (667, 0.04618970537139447), (668, 0.024722834909588348), (669, 0.17893949870359055), (670, 0.13368619569560358), (671, 0.11588259022933617), (672, 0.04618970537139447), (673, 0.024722834909588348), (674, 0.17893949870359055), (675, 0.13368619569560358), (676, 0.11588259022933617), (677, 0.04618970537139447), (678, 0.024722834909588348), (679, 0.17173618674317379), (680, 0.11736115715637536), (681, 0.13886145629440233), (682, 0.17173618674317379), (683, 0.11736115715637536), (684, 0.13886145629440233), (685, 0.17173618674317379), (686, 0.11736115715637536), (687, 0.13886145629440233), (688, 0.17173618674317379), (689, 0.11736115715637536), (690, 0.13886145629440233), (691, 0.17173618674317379), (692, 0.11736115715637536), (693, 0.13886145629440233), (694, 0.17173618674317379), (695, 0.11736115715637536), (696, 0.13886145629440233), (697, 0.17173618674317379), (698, 0.11736115715637536), (699, 0.13886145629440233), (700, 0.17173618674317379), (701, 0.11736115715637536), (702, 0.13886145629440233), (703, 0.17173618674317379), (704, 0.11736115715637536), (705, 0.13886145629440233), (706, 0.17173618674317379), (707, 0.11736115715637536), (708, 0.13886145629440233), (709, 0.08163774831822065), (710, 0.07067358748994104), (711, 0.0727535861502199), (712, 0.11836814329279378), (713, 0.06857215112838916), (714, 0.1110620535345368), (715, 0.23131810441196332), (716, 0.08309868184378502), (717, 0.12168800113057598), (718, 0.08587124609836161), (719, 0.45575792903718054), (720, 0.08163774831822065), (721, 0.07067358748994104), (722, 0.0727535861502199), (723, 0.11836814329279378), (724, 0.06857215112838916), (725, 0.1110620535345368), (726, 0.23131810441196332), (727, 0.08309868184378502), (728, 0.12168800113057598), (729, 0.08587124609836161), (730, 0.45575792903718054), (731, 0.08163774831822065), (732, 0.07067358748994104), (733, 0.0727535861502199), (734, 0.11836814329279378), (735, 0.06857215112838916), (736, 0.1110620535345368), (737, 0.23131810441196332), (738, 0.08309868184378502), (739, 0.12168800113057598), (740, 0.08587124609836161), (741, 0.45575792903718054), (742, 0.2281466312396957), (743, 0.10850168517925565), (744, 0.31782747209313217), (745, 0.2934026865390108), (746, 0.31088997476041275), (747, 0.19227608715901576), (748, 0.29304547653604185), (749, 0.2281466312396957), (750, 0.10850168517925565), (751, 0.31782747209313217), (752, 0.2934026865390108), (753, 0.31088997476041275), (754, 0.19227608715901576), (755, 0.29304547653604185), (756, 0.2281466312396957), (757, 0.10850168517925565), (758, 0.31782747209313217), (759, 0.2934026865390108), (760, 0.31088997476041275), (761, 0.19227608715901576), (762, 0.29304547653604185), (763, 0.2281466312396957), (764, 0.10850168517925565), (765, 0.31782747209313217), (766, 0.2934026865390108), (767, 0.31088997476041275), (768, 0.19227608715901576), (769, 0.29304547653604185), (770, 0.2281466312396957), (771, 0.10850168517925565), (772, 0.31782747209313217), (773, 0.2934026865390108), (774, 0.31088997476041275), (775, 0.19227608715901576), (776, 0.29304547653604185), (777, 0.2281466312396957), (778, 0.10850168517925565), (779, 0.31782747209313217), (780, 0.2934026865390108), (781, 0.31088997476041275), (782, 0.19227608715901576), (783, 0.29304547653604185), (784, 0.2668861317955717), (785, 0.18434976256460045), (786, 0.12627694511895893), (787, 0.21253957955086253), (788, 0.13452036543697118), (789, 0.2668861317955717), (790, 0.18434976256460045), (791, 0.12627694511895893), (792, 0.21253957955086253), (793, 0.13452036543697118), (794, 0.2668861317955717), (795, 0.18434976256460045), (796, 0.12627694511895893), (797, 0.21253957955086253), (798, 0.13452036543697118), (799, 0.2668861317955717), (800, 0.18434976256460045), (801, 0.12627694511895893), (802, 0.21253957955086253), (803, 0.13452036543697118), (804, 0.2668861317955717), (805, 0.18434976256460045), (806, 0.12627694511895893), (807, 0.21253957955086253), (808, 0.13452036543697118), (809, 0.2668861317955717), (810, 0.18434976256460045), (811, 0.12627694511895893), (812, 0.21253957955086253), (813, 0.13452036543697118), (814, 0.2668861317955717), (815, 0.18434976256460045), (816, 0.12627694511895893), (817, 0.21253957955086253), (818, 0.13452036543697118), (819, 0.2668861317955717), (820, 0.18434976256460045), (821, 0.12627694511895893), (822, 0.21253957955086253), (823, 0.13452036543697118), (824, 0.25055663887241747), (825, 0.1178436996946492), (826, 0.18495056344711042), (827, 0.06419277540052278), (828, 0.07600824173254819), (829, 0.09851942624351015), (830, 0.11594049069492549), (831, 0.25055663887241747), (832, 0.1178436996946492), (833, 0.18495056344711042), (834, 0.06419277540052278), (835, 0.07600824173254819), (836, 0.09851942624351015), (837, 0.11594049069492549), (838, 0.25055663887241747), (839, 0.1178436996946492), (840, 0.18495056344711042), (841, 0.06419277540052278), (842, 0.07600824173254819), (843, 0.09851942624351015), (844, 0.11594049069492549), (845, 0.25055663887241747), (846, 0.1178436996946492), (847, 0.18495056344711042), (848, 0.06419277540052278), (849, 0.07600824173254819), (850, 0.09851942624351015), (851, 0.11594049069492549), (852, 0.10993329328235733), (853, 0.10650165748498597), (854, 0.19988946523178897), (855, 0.06411583203095866), (856, 0.31061959946707124), (857, 0.10993329328235733), (858, 0.10650165748498597), (859, 0.19988946523178897), (860, 0.06411583203095866), (861, 0.31061959946707124), (862, 0.10993329328235733), (863, 0.10650165748498597), (864, 0.19988946523178897), (865, 0.06411583203095866), (866, 0.31061959946707124), (867, 0.10993329328235733), (868, 0.10650165748498597), (869, 0.19988946523178897), (870, 0.06411583203095866), (871, 0.31061959946707124), (872, 0.10993329328235733), (873, 0.10650165748498597), (874, 0.19988946523178897), (875, 0.06411583203095866), (876, 0.31061959946707124), (877, 0.10993329328235733), (878, 0.10650165748498597), (879, 0.19988946523178897), (880, 0.06411583203095866), (881, 0.31061959946707124), (882, 0.10993329328235733), (883, 0.10650165748498597), (884, 0.19988946523178897), (885, 0.06411583203095866), (886, 0.31061959946707124), (887, 0.10993329328235733), (888, 0.10650165748498597), (889, 0.19988946523178897), (890, 0.06411583203095866), (891, 0.31061959946707124), (892, 0.03383621150125246), (893, 0.11535471135653153), (894, 0.07141682871768962), (895, 0.059578887674501854), (896, 0.016913184873449172), (897, 0.12533218390634446), (898, 0.09518933692496691), (899, 0.03383621150125246), (900, 0.11535471135653153), (901, 0.07141682871768962), (902, 0.059578887674501854), (903, 0.016913184873449172), (904, 0.12533218390634446), (905, 0.09518933692496691), (906, 0.03383621150125246), (907, 0.11535471135653153), (908, 0.07141682871768962), (909, 0.059578887674501854), (910, 0.016913184873449172), (911, 0.12533218390634446), (912, 0.09518933692496691), (913, 0.03383621150125246), (914, 0.11535471135653153), (915, 0.07141682871768962), (916, 0.059578887674501854), (917, 0.016913184873449172), (918, 0.12533218390634446), (919, 0.09518933692496691), (920, 0.03383621150125246), (921, 0.11535471135653153), (922, 0.07141682871768962), (923, 0.059578887674501854), (924, 0.016913184873449172), (925, 0.12533218390634446), (926, 0.09518933692496691), (927, 0.03383621150125246), (928, 0.11535471135653153), (929, 0.07141682871768962), (930, 0.059578887674501854), (931, 0.016913184873449172), (932, 0.12533218390634446), (933, 0.09518933692496691), (934, 0.03383621150125246), (935, 0.11535471135653153), (936, 0.07141682871768962), (937, 0.059578887674501854), (938, 0.016913184873449172), (939, 0.12533218390634446), (940, 0.09518933692496691), (941, 0.03383621150125246), (942, 0.11535471135653153), (943, 0.07141682871768962), (944, 0.059578887674501854), (945, 0.016913184873449172), (946, 0.12533218390634446), (947, 0.09518933692496691), (948, 0.03383621150125246), (949, 0.11535471135653153), (950, 0.07141682871768962), (951, 0.059578887674501854), (952, 0.016913184873449172), (953, 0.12533218390634446), (954, 0.09518933692496691), (955, 0.03383621150125246), (956, 0.11535471135653153), (957, 0.07141682871768962), (958, 0.059578887674501854), (959, 0.016913184873449172), (960, 0.12533218390634446), (961, 0.09518933692496691)]\n",
      "-------------------------------------------------------------------------------------------------------------------------------------\n",
      "[(0, 1.0000000000000004), (10, 1.0000000000000004), (20, 1.0000000000000004), (30, 1.0000000000000004), (9, 0.4399431969767362), (19, 0.4399431969767362), (29, 0.4399431969767362), (39, 0.4399431969767362), (6, 0.39980916193489746), (16, 0.39980916193489746), (26, 0.39980916193489746), (36, 0.39980916193489746), (7, 0.37560753877173086), (17, 0.37560753877173086), (27, 0.37560753877173086), (37, 0.37560753877173086), (8, 0.3200422825190449), (18, 0.3200422825190449), (28, 0.3200422825190449), (38, 0.3200422825190449), (3, 0.31860179607065264), (13, 0.31860179607065264), (23, 0.31860179607065264), (33, 0.31860179607065264), (748, 0.2996834550295296), (755, 0.2996834550295296), (762, 0.2996834550295296), (769, 0.2996834550295296), (776, 0.2996834550295296), (783, 0.2996834550295296), (2, 0.2894828395806281), (12, 0.2894828395806281), (22, 0.2894828395806281), (32, 0.2894828395806281), (554, 0.2842367428669129), (560, 0.2842367428669129), (566, 0.2842367428669129), (572, 0.2842367428669129), (578, 0.2842367428669129), (584, 0.2842367428669129), (590, 0.2842367428669129), (596, 0.2842367428669129), (144, 0.27118269361266684), (149, 0.27118269361266684), (154, 0.27118269361266684), (159, 0.27118269361266684), (164, 0.27118269361266684), (169, 0.27118269361266684), (174, 0.27118269361266684), (179, 0.27118269361266684), (184, 0.27118269361266684), (679, 0.2574601280661709), (682, 0.2574601280661709), (685, 0.2574601280661709), (688, 0.2574601280661709), (691, 0.2574601280661709), (694, 0.2574601280661709), (697, 0.2574601280661709), (700, 0.2574601280661709), (703, 0.2574601280661709), (706, 0.2574601280661709), (4, 0.24324376552749624), (14, 0.24324376552749624), (24, 0.24324376552749624), (34, 0.24324376552749624), (824, 0.24178851269721063), (831, 0.24178851269721063), (838, 0.24178851269721063), (845, 0.24178851269721063), (406, 0.24158966714916952), (410, 0.24158966714916952), (414, 0.24158966714916952), (420, 0.24158966714916952), (424, 0.24158966714916952), (428, 0.24158966714916952), (719, 0.2348370928076175), (730, 0.2348370928076175), (741, 0.2348370928076175), (856, 0.2312836863550111), (861, 0.2312836863550111), (866, 0.2312836863550111), (871, 0.2312836863550111), (876, 0.2312836863550111), (881, 0.2312836863550111), (886, 0.2312836863550111), (891, 0.2312836863550111), (744, 0.22858043103765505), (751, 0.22858043103765505), (758, 0.22858043103765505), (765, 0.22858043103765505), (772, 0.22858043103765505), (779, 0.22858043103765505), (5, 0.22698036578960393), (15, 0.22698036578960393), (25, 0.22698036578960393), (35, 0.22698036578960393), (511, 0.22672425222361217), (515, 0.22672425222361217), (519, 0.22672425222361217), (523, 0.22672425222361217), (527, 0.22672425222361217), (531, 0.22672425222361217), (535, 0.22672425222361217), (539, 0.22672425222361217), (543, 0.22672425222361217), (547, 0.22672425222361217), (746, 0.2232906673599536), (753, 0.2232906673599536), (760, 0.2232906673599536), (767, 0.2232906673599536), (774, 0.2232906673599536), (781, 0.2232906673599536), (600, 0.21536769067609943), (607, 0.21536769067609943), (610, 0.21536769067609943), (613, 0.21536769067609943), (616, 0.21536769067609943), (619, 0.21536769067609943), (622, 0.21536769067609943), (625, 0.21536769067609943), (628, 0.21536769067609943), (631, 0.21536769067609943), (634, 0.21536769067609943), (637, 0.21536769067609943), (640, 0.21536769067609943), (643, 0.21536769067609943), (646, 0.21536769067609943), (649, 0.21536769067609943), (652, 0.21536769067609943), (826, 0.21374277924126261), (833, 0.21374277924126261), (840, 0.21374277924126261), (847, 0.21374277924126261), (1, 0.2114838452731591), (11, 0.2114838452731591), (21, 0.2114838452731591), (31, 0.2114838452731591), (745, 0.20796520989953154), (752, 0.20796520989953154), (759, 0.20796520989953154), (766, 0.20796520989953154), (773, 0.20796520989953154), (780, 0.20796520989953154), (329, 0.20789642668755068), (343, 0.20789642668755068), (357, 0.20789642668755068), (371, 0.20789642668755068), (385, 0.20789642668755068), (399, 0.20789642668755068), (556, 0.19988451881203892), (562, 0.19988451881203892), (568, 0.19988451881203892), (574, 0.19988451881203892), (580, 0.19988451881203892), (586, 0.19988451881203892), (592, 0.19988451881203892), (598, 0.19988451881203892), (829, 0.1992355050850313), (836, 0.1992355050850313), (843, 0.1992355050850313), (850, 0.1992355050850313), (784, 0.19894647901745344), (789, 0.19894647901745344), (794, 0.19894647901745344), (799, 0.19894647901745344), (804, 0.19894647901745344), (809, 0.19894647901745344), (814, 0.19894647901745344), (819, 0.19894647901745344), (553, 0.19870314855574167), (559, 0.19870314855574167), (565, 0.19870314855574167), (571, 0.19870314855574167), (577, 0.19870314855574167), (583, 0.19870314855574167), (589, 0.19870314855574167), (595, 0.19870314855574167), (853, 0.19570334717582694), (858, 0.19570334717582694), (863, 0.19570334717582694), (868, 0.19570334717582694), (873, 0.19570334717582694), (878, 0.19570334717582694), (883, 0.19570334717582694), (888, 0.19570334717582694), (323, 0.19502400746066767), (337, 0.19502400746066767), (351, 0.19502400746066767), (365, 0.19502400746066767), (379, 0.19502400746066767), (393, 0.19502400746066767), (432, 0.19406517442761456), (438, 0.19406517442761456), (444, 0.19406517442761456), (450, 0.19406517442761456), (742, 0.19362957172066775), (749, 0.19362957172066775), (756, 0.19362957172066775), (763, 0.19362957172066775), (770, 0.19362957172066775), (777, 0.19362957172066775), (405, 0.19324764756919066), (409, 0.19324764756919066), (413, 0.19324764756919066), (419, 0.19324764756919066), (423, 0.19324764756919066), (427, 0.19324764756919066), (830, 0.19286836637150206), (837, 0.19286836637150206), (844, 0.19286836637150206), (851, 0.19286836637150206), (330, 0.18777556577659515), (344, 0.18777556577659515), (358, 0.18777556577659515), (372, 0.18777556577659515), (386, 0.18777556577659515), (400, 0.18777556577659515), (141, 0.18744497897097862), (146, 0.18744497897097862), (151, 0.18744497897097862), (156, 0.18744497897097862), (161, 0.18744497897097862), (166, 0.18744497897097862), (171, 0.18744497897097862), (176, 0.18744497897097862), (181, 0.18744497897097862), (404, 0.18635402444681723), (418, 0.18635402444681723), (715, 0.1856229234365144), (726, 0.1856229234365144), (737, 0.1856229234365144), (322, 0.1855442510628375), (336, 0.1855442510628375), (350, 0.1855442510628375), (364, 0.1855442510628375), (378, 0.1855442510628375), (392, 0.1855442510628375), (602, 0.1842167134062243), (601, 0.18304698567264777), (608, 0.18304698567264777), (611, 0.18304698567264777), (614, 0.18304698567264777), (617, 0.18304698567264777), (620, 0.18304698567264777), (623, 0.18304698567264777), (626, 0.18304698567264777), (629, 0.18304698567264777), (632, 0.18304698567264777), (635, 0.18304698567264777), (638, 0.18304698567264777), (641, 0.18304698567264777), (644, 0.18304698567264777), (647, 0.18304698567264777), (650, 0.18304698567264777), (653, 0.18304698567264777), (551, 0.17520777812951532), (557, 0.17520777812951532), (563, 0.17520777812951532), (569, 0.17520777812951532), (575, 0.17520777812951532), (581, 0.17520777812951532), (587, 0.17520777812951532), (593, 0.17520777812951532), (185, 0.1683557978824015), (190, 0.1683557978824015), (195, 0.1683557978824015), (200, 0.1683557978824015), (205, 0.1683557978824015), (210, 0.1683557978824015), (215, 0.1683557978824015), (220, 0.1683557978824015), (747, 0.16533356875902128), (754, 0.16533356875902128), (761, 0.16533356875902128), (768, 0.16533356875902128), (775, 0.16533356875902128), (782, 0.16533356875902128), (457, 0.1632230572016889), (470, 0.1632230572016889), (854, 0.16145583717902212), (859, 0.16145583717902212), (864, 0.16145583717902212), (869, 0.16145583717902212), (874, 0.16145583717902212), (879, 0.16145583717902212), (884, 0.16145583717902212), (889, 0.16145583717902212), (431, 0.15570383296188167), (437, 0.15570383296188167), (443, 0.15570383296188167), (449, 0.15570383296188167), (327, 0.15251477727428103), (341, 0.15251477727428103), (355, 0.15251477727428103), (369, 0.15251477727428103), (383, 0.15251477727428103), (397, 0.15251477727428103), (599, 0.14996403091773966), (606, 0.14996403091773966), (609, 0.14996403091773966), (612, 0.14996403091773966), (615, 0.14996403091773966), (618, 0.14996403091773966), (621, 0.14996403091773966), (624, 0.14996403091773966), (627, 0.14996403091773966), (630, 0.14996403091773966), (633, 0.14996403091773966), (636, 0.14996403091773966), (639, 0.14996403091773966), (642, 0.14996403091773966), (645, 0.14996403091773966), (648, 0.14996403091773966), (651, 0.14996403091773966), (787, 0.14902658953559186), (792, 0.14902658953559186), (797, 0.14902658953559186), (802, 0.14902658953559186), (807, 0.14902658953559186), (812, 0.14902658953559186), (817, 0.14902658953559186), (822, 0.14902658953559186), (828, 0.14882989435553107), (835, 0.14882989435553107), (842, 0.14882989435553107), (849, 0.14882989435553107), (680, 0.14804321932043696), (683, 0.14804321932043696), (686, 0.14804321932043696), (689, 0.14804321932043696), (692, 0.14804321932043696), (695, 0.14804321932043696), (698, 0.14804321932043696), (701, 0.14804321932043696), (704, 0.14804321932043696), (707, 0.14804321932043696), (270, 0.1470986900196809), (276, 0.1470986900196809), (282, 0.1470986900196809), (288, 0.1470986900196809), (294, 0.1470986900196809), (321, 0.14534624950929972), (335, 0.14534624950929972), (349, 0.14534624950929972), (363, 0.14534624950929972), (377, 0.14534624950929972), (391, 0.14534624950929972), (458, 0.14437611896644123), (462, 0.14437611896644123), (464, 0.14437611896644123), (466, 0.14437611896644123), (471, 0.14437611896644123), (475, 0.14437611896644123), (477, 0.14437611896644123), (479, 0.14437611896644123), (603, 0.14201941253838096), (403, 0.14106999156572042), (417, 0.14106999156572042), (785, 0.139220390330789), (790, 0.139220390330789), (795, 0.139220390330789), (800, 0.139220390330789), (805, 0.139220390330789), (810, 0.139220390330789), (815, 0.139220390330789), (820, 0.139220390330789), (325, 0.13705484650139677), (326, 0.13705484650139677), (339, 0.13705484650139677), (340, 0.13705484650139677), (353, 0.13705484650139677), (354, 0.13705484650139677), (367, 0.13705484650139677), (368, 0.13705484650139677), (381, 0.13705484650139677), (382, 0.13705484650139677), (395, 0.13705484650139677), (396, 0.13705484650139677), (712, 0.1345994006809063), (723, 0.1345994006809063), (734, 0.1345994006809063), (512, 0.1330619177983175), (516, 0.1330619177983175), (520, 0.1330619177983175), (524, 0.1330619177983175), (528, 0.1330619177983175), (532, 0.1330619177983175), (536, 0.1330619177983175), (540, 0.1330619177983175), (544, 0.1330619177983175), (548, 0.1330619177983175), (328, 0.13296394620220203), (342, 0.13296394620220203), (356, 0.13296394620220203), (370, 0.13296394620220203), (384, 0.13296394620220203), (398, 0.13296394620220203), (855, 0.13227234107026206), (860, 0.13227234107026206), (865, 0.13227234107026206), (870, 0.13227234107026206), (875, 0.13227234107026206), (880, 0.13227234107026206), (885, 0.13227234107026206), (890, 0.13227234107026206), (324, 0.1298117035069461), (338, 0.1298117035069461), (352, 0.1298117035069461), (366, 0.1298117035069461), (380, 0.1298117035069461), (394, 0.1298117035069461), (140, 0.12964561767371413), (142, 0.12964561767371413), (145, 0.12964561767371413), (147, 0.12964561767371413), (150, 0.12964561767371413), (152, 0.12964561767371413), (155, 0.12964561767371413), (157, 0.12964561767371413), (160, 0.12964561767371413), (162, 0.12964561767371413), (165, 0.12964561767371413), (167, 0.12964561767371413), (170, 0.12964561767371413), (172, 0.12964561767371413), (175, 0.12964561767371413), (177, 0.12964561767371413), (180, 0.12964561767371413), (182, 0.12964561767371413), (604, 0.12949446791701175), (714, 0.1269850234546625), (725, 0.1269850234546625), (736, 0.1269850234546625), (717, 0.12621323109027183), (728, 0.12621323109027183), (739, 0.12621323109027183), (50, 0.12621073532248953), (61, 0.12621073532248953), (72, 0.12621073532248953), (83, 0.12621073532248953), (552, 0.12592293075846192), (558, 0.12592293075846192), (564, 0.12592293075846192), (570, 0.12592293075846192), (576, 0.12592293075846192), (582, 0.12592293075846192), (588, 0.12592293075846192), (594, 0.12592293075846192), (605, 0.12397378097985248), (460, 0.12311062556751558), (473, 0.12311062556751558), (455, 0.12136821132670796), (468, 0.12136821132670796), (681, 0.11954380115068058), (684, 0.11954380115068058), (687, 0.11954380115068058), (690, 0.11954380115068058), (693, 0.11954380115068058), (696, 0.11954380115068058), (699, 0.11954380115068058), (702, 0.11954380115068058), (705, 0.11954380115068058), (708, 0.11954380115068058), (514, 0.11670624010248459), (518, 0.11670624010248459), (522, 0.11670624010248459), (526, 0.11670624010248459), (530, 0.11670624010248459), (534, 0.11670624010248459), (538, 0.11670624010248459), (542, 0.11670624010248459), (546, 0.11670624010248459), (550, 0.11670624010248459), (331, 0.11457814581132714), (345, 0.11457814581132714), (359, 0.11457814581132714), (373, 0.11457814581132714), (387, 0.11457814581132714), (401, 0.11457814581132714), (88, 0.1144039253028595), (98, 0.1144039253028595), (710, 0.1119494670879297), (721, 0.1119494670879297), (732, 0.1119494670879297), (743, 0.11080731959096579), (750, 0.11080731959096579), (757, 0.11080731959096579), (764, 0.11080731959096579), (771, 0.11080731959096579), (778, 0.11080731959096579), (459, 0.10920835865567635), (463, 0.10920835865567635), (465, 0.10920835865567635), (467, 0.10920835865567635), (472, 0.10920835865567635), (476, 0.10920835865567635), (478, 0.10920835865567635), (480, 0.10920835865567635), (41, 0.10764850572525585), (52, 0.10764850572525585), (63, 0.10764850572525585), (74, 0.10764850572525585), (513, 0.10726630486473235), (517, 0.10726630486473235), (521, 0.10726630486473235), (525, 0.10726630486473235), (529, 0.10726630486473235), (533, 0.10726630486473235), (537, 0.10726630486473235), (541, 0.10726630486473235), (545, 0.10726630486473235), (549, 0.10726630486473235), (825, 0.1066362512005157), (832, 0.1066362512005157), (839, 0.1066362512005157), (846, 0.1066362512005157), (852, 0.10362062030019353), (857, 0.10362062030019353), (862, 0.10362062030019353), (867, 0.10362062030019353), (872, 0.10362062030019353), (877, 0.10362062030019353), (882, 0.10362062030019353), (887, 0.10362062030019353), (718, 0.1033170063728179), (729, 0.1033170063728179), (740, 0.1033170063728179), (786, 0.10320217893904723), (791, 0.10320217893904723), (796, 0.10320217893904723), (801, 0.10320217893904723), (806, 0.10320217893904723), (811, 0.10320217893904723), (816, 0.10320217893904723), (821, 0.10320217893904723), (709, 0.10255179848543632), (720, 0.10255179848543632), (731, 0.10255179848543632), (408, 0.10161930539076583), (412, 0.10161930539076583), (416, 0.10161930539076583), (422, 0.10161930539076583), (426, 0.10161930539076583), (430, 0.10161930539076583), (656, 0.09916189562342567), (661, 0.09916189562342567), (666, 0.09916189562342567), (671, 0.09916189562342567), (676, 0.09916189562342567), (433, 0.09775014548100192), (439, 0.09775014548100192), (445, 0.09775014548100192), (451, 0.09775014548100192), (319, 0.09637460597355907), (333, 0.09637460597355907), (347, 0.09637460597355907), (361, 0.09637460597355907), (375, 0.09637460597355907), (389, 0.09637460597355907), (87, 0.09580663343258766), (97, 0.09580663343258766), (893, 0.09397370348216534), (900, 0.09397370348216534), (907, 0.09397370348216534), (914, 0.09397370348216534), (921, 0.09397370348216534), (928, 0.09397370348216534), (935, 0.09397370348216534), (942, 0.09397370348216534), (949, 0.09397370348216534), (956, 0.09397370348216534), (898, 0.09374584652125229), (905, 0.09374584652125229), (912, 0.09374584652125229), (919, 0.09374584652125229), (926, 0.09374584652125229), (933, 0.09374584652125229), (940, 0.09374584652125229), (947, 0.09374584652125229), (954, 0.09374584652125229), (961, 0.09374584652125229), (434, 0.09266588252145658), (440, 0.09266588252145658), (446, 0.09266588252145658), (452, 0.09266588252145658), (269, 0.08948659187436053), (275, 0.08948659187436053), (281, 0.08948659187436053), (287, 0.08948659187436053), (293, 0.08948659187436053), (407, 0.08932408059744676), (411, 0.08932408059744676), (415, 0.08932408059744676), (421, 0.08932408059744676), (425, 0.08932408059744676), (429, 0.08932408059744676), (716, 0.0890885822605201), (727, 0.0890885822605201), (738, 0.0890885822605201), (655, 0.08844370915967603), (660, 0.08844370915967603), (665, 0.08844370915967603), (670, 0.08844370915967603), (675, 0.08844370915967603), (711, 0.08758768837988334), (722, 0.08758768837988334), (733, 0.08758768837988334), (436, 0.08740039795589878), (442, 0.08740039795589878), (448, 0.08740039795589878), (454, 0.08740039795589878), (332, 0.0866472816405996), (346, 0.0866472816405996), (360, 0.0866472816405996), (374, 0.0866472816405996), (388, 0.0866472816405996), (402, 0.0866472816405996), (227, 0.08614079514982326), (232, 0.08614079514982326), (237, 0.08614079514982326), (242, 0.08614079514982326), (247, 0.08614079514982326), (252, 0.08614079514982326), (257, 0.08614079514982326), (262, 0.08614079514982326), (654, 0.08500754194218124), (659, 0.08500754194218124), (664, 0.08500754194218124), (669, 0.08500754194218124), (674, 0.08500754194218124), (225, 0.08398900486216249), (230, 0.08398900486216249), (235, 0.08398900486216249), (240, 0.08398900486216249), (245, 0.08398900486216249), (250, 0.08398900486216249), (255, 0.08398900486216249), (260, 0.08398900486216249), (483, 0.08372729928057923), (488, 0.08372729928057923), (493, 0.08372729928057923), (498, 0.08372729928057923), (503, 0.08372729928057923), (508, 0.08372729928057923), (713, 0.0819286637816081), (724, 0.0819286637816081), (735, 0.0819286637816081), (827, 0.08103159623337297), (834, 0.08103159623337297), (841, 0.08103159623337297), (848, 0.08103159623337297), (229, 0.08076466667354901), (234, 0.08076466667354901), (239, 0.08076466667354901), (244, 0.08076466667354901), (249, 0.08076466667354901), (254, 0.08076466667354901), (259, 0.08076466667354901), (264, 0.08076466667354901), (788, 0.07836432139689524), (793, 0.07836432139689524), (798, 0.07836432139689524), (803, 0.07836432139689524), (808, 0.07836432139689524), (813, 0.07836432139689524), (818, 0.07836432139689524), (823, 0.07836432139689524), (320, 0.07766290632972932), (334, 0.07766290632972932), (348, 0.07766290632972932), (362, 0.07766290632972932), (376, 0.07766290632972932), (390, 0.07766290632972932), (657, 0.07424140162655893), (662, 0.07424140162655893), (667, 0.07424140162655893), (672, 0.07424140162655893), (677, 0.07424140162655893), (481, 0.07349433065353793), (486, 0.07349433065353793), (491, 0.07349433065353793), (496, 0.07349433065353793), (501, 0.07349433065353793), (506, 0.07349433065353793), (895, 0.07208617723744216), (902, 0.07208617723744216), (909, 0.07208617723744216), (916, 0.07208617723744216), (923, 0.07208617723744216), (930, 0.07208617723744216), (937, 0.07208617723744216), (944, 0.07208617723744216), (951, 0.07208617723744216), (958, 0.07208617723744216), (143, 0.07181359926845568), (148, 0.07181359926845568), (153, 0.07181359926845568), (158, 0.07181359926845568), (163, 0.07181359926845568), (168, 0.07181359926845568), (173, 0.07181359926845568), (178, 0.07181359926845568), (183, 0.07181359926845568), (461, 0.0695851684769069), (474, 0.0695851684769069), (189, 0.06876550279772238), (194, 0.06876550279772238), (199, 0.06876550279772238), (204, 0.06876550279772238), (209, 0.06876550279772238), (214, 0.06876550279772238), (219, 0.06876550279772238), (224, 0.06876550279772238), (897, 0.068329395481558), (904, 0.068329395481558), (911, 0.068329395481558), (918, 0.068329395481558), (925, 0.068329395481558), (932, 0.068329395481558), (939, 0.068329395481558), (946, 0.068329395481558), (953, 0.068329395481558), (960, 0.068329395481558), (555, 0.06809264224848867), (561, 0.06809264224848867), (567, 0.06809264224848867), (573, 0.06809264224848867), (579, 0.06809264224848867), (585, 0.06809264224848867), (591, 0.06809264224848867), (597, 0.06809264224848867), (295, 0.06792611996348906), (301, 0.06792611996348906), (307, 0.06792611996348906), (313, 0.06792611996348906), (435, 0.06689368610613172), (441, 0.06689368610613172), (447, 0.06689368610613172), (453, 0.06689368610613172), (297, 0.06515447843560915), (303, 0.06515447843560915), (309, 0.06515447843560915), (315, 0.06515447843560915), (106, 0.06399903857319808), (112, 0.06399903857319808), (118, 0.06399903857319808), (124, 0.06399903857319808), (130, 0.06399903857319808), (136, 0.06399903857319808), (267, 0.05830784857186379), (273, 0.05830784857186379), (279, 0.05830784857186379), (285, 0.05830784857186379), (291, 0.05830784857186379), (228, 0.057131000374298746), (233, 0.057131000374298746), (238, 0.057131000374298746), (243, 0.057131000374298746), (248, 0.057131000374298746), (253, 0.057131000374298746), (258, 0.057131000374298746), (263, 0.057131000374298746), (86, 0.055836571424547676), (96, 0.055836571424547676), (226, 0.05332220130301657), (231, 0.05332220130301657), (236, 0.05332220130301657), (241, 0.05332220130301657), (246, 0.05332220130301657), (251, 0.05332220130301657), (256, 0.05332220130301657), (261, 0.05332220130301657), (85, 0.05210702823907451), (95, 0.05210702823907451), (268, 0.051299867834191513), (274, 0.051299867834191513), (280, 0.051299867834191513), (286, 0.051299867834191513), (292, 0.051299867834191513), (49, 0.049882478442297706), (60, 0.049882478442297706), (71, 0.049882478442297706), (82, 0.049882478442297706), (47, 0.04609305163811689), (58, 0.04609305163811689), (69, 0.04609305163811689), (80, 0.04609305163811689), (456, 0.045769353138875195), (469, 0.045769353138875195), (109, 0.04440275630817194), (115, 0.04440275630817194), (121, 0.04440275630817194), (127, 0.04440275630817194), (133, 0.04440275630817194), (139, 0.04440275630817194), (894, 0.04307644607137582), (901, 0.04307644607137582), (908, 0.04307644607137582), (915, 0.04307644607137582), (922, 0.04307644607137582), (929, 0.04307644607137582), (936, 0.04307644607137582), (943, 0.04307644607137582), (950, 0.04307644607137582), (957, 0.04307644607137582), (896, 0.04255453194408375), (903, 0.04255453194408375), (910, 0.04255453194408375), (917, 0.04255453194408375), (924, 0.04255453194408375), (931, 0.04255453194408375), (938, 0.04255453194408375), (945, 0.04255453194408375), (952, 0.04255453194408375), (959, 0.04255453194408375), (186, 0.042101248197497464), (191, 0.042101248197497464), (196, 0.042101248197497464), (201, 0.042101248197497464), (206, 0.042101248197497464), (211, 0.042101248197497464), (216, 0.042101248197497464), (221, 0.042101248197497464), (92, 0.04066751867743806), (102, 0.04066751867743806), (299, 0.04026995878778965), (305, 0.04026995878778965), (311, 0.04026995878778965), (317, 0.04026995878778965), (658, 0.03925420562130797), (663, 0.03925420562130797), (668, 0.03925420562130797), (673, 0.03925420562130797), (678, 0.03925420562130797), (265, 0.038322339842809375), (271, 0.038322339842809375), (277, 0.038322339842809375), (283, 0.038322339842809375), (289, 0.038322339842809375), (485, 0.036514808399017204), (490, 0.036514808399017204), (495, 0.036514808399017204), (500, 0.036514808399017204), (505, 0.036514808399017204), (510, 0.036514808399017204), (104, 0.03278420257073488), (110, 0.03278420257073488), (116, 0.03278420257073488), (122, 0.03278420257073488), (128, 0.03278420257073488), (134, 0.03278420257073488), (91, 0.0323860746154756), (101, 0.0323860746154756), (482, 0.030972793934456497), (487, 0.030972793934456497), (492, 0.030972793934456497), (497, 0.030972793934456497), (502, 0.030972793934456497), (507, 0.030972793934456497), (42, 0.030755929715721372), (53, 0.030755929715721372), (64, 0.030755929715721372), (75, 0.030755929715721372), (84, 0.029428472592646727), (94, 0.029428472592646727), (298, 0.02877005970481691), (304, 0.02877005970481691), (310, 0.02877005970481691), (316, 0.02877005970481691), (108, 0.028359389468642374), (114, 0.028359389468642374), (120, 0.028359389468642374), (126, 0.028359389468642374), (132, 0.028359389468642374), (138, 0.028359389468642374), (90, 0.028218129358105512), (100, 0.028218129358105512), (188, 0.027036281143635738), (193, 0.027036281143635738), (198, 0.027036281143635738), (203, 0.027036281143635738), (208, 0.027036281143635738), (213, 0.027036281143635738), (218, 0.027036281143635738), (223, 0.027036281143635738), (45, 0.025535731100162527), (56, 0.025535731100162527), (67, 0.025535731100162527), (78, 0.025535731100162527), (296, 0.025153799693536677), (302, 0.025153799693536677), (308, 0.025153799693536677), (314, 0.025153799693536677), (892, 0.02182756947718853), (899, 0.02182756947718853), (906, 0.02182756947718853), (913, 0.02182756947718853), (920, 0.02182756947718853), (927, 0.02182756947718853), (934, 0.02182756947718853), (941, 0.02182756947718853), (948, 0.02182756947718853), (955, 0.02182756947718853), (40, 0.01804887772894309), (51, 0.01804887772894309), (62, 0.01804887772894309), (73, 0.01804887772894309), (187, 0.017544444055599497), (192, 0.017544444055599497), (197, 0.017544444055599497), (202, 0.017544444055599497), (207, 0.017544444055599497), (212, 0.017544444055599497), (217, 0.017544444055599497), (222, 0.017544444055599497), (43, 0.01698605055701382), (44, 0.01698605055701382), (54, 0.01698605055701382), (55, 0.01698605055701382), (65, 0.01698605055701382), (66, 0.01698605055701382), (76, 0.01698605055701382), (77, 0.01698605055701382), (300, 0.01635856806806179), (306, 0.01635856806806179), (312, 0.01635856806806179), (318, 0.01635856806806179), (266, 0.015951235923309208), (272, 0.015951235923309208), (278, 0.015951235923309208), (284, 0.015951235923309208), (290, 0.015951235923309208), (107, 0.014988050352457115), (113, 0.014988050352457115), (119, 0.014988050352457115), (125, 0.014988050352457115), (131, 0.014988050352457115), (137, 0.014988050352457115), (484, 0.013882886258748301), (489, 0.013882886258748301), (494, 0.013882886258748301), (499, 0.013882886258748301), (504, 0.013882886258748301), (509, 0.013882886258748301), (46, 0.011178916111853933), (57, 0.011178916111853933), (68, 0.011178916111853933), (79, 0.011178916111853933), (48, 0.008036323981292995), (59, 0.008036323981292995), (70, 0.008036323981292995), (81, 0.008036323981292995), (89, 0.006751898431601369), (99, 0.006751898431601369), (105, 0.005624831425604977), (111, 0.005624831425604977), (117, 0.005624831425604977), (123, 0.005624831425604977), (129, 0.005624831425604977), (135, 0.005624831425604977), (93, 0.0040769343569353935), (103, 0.0040769343569353935)]\n",
      "[(8, 1.0000000000000004), (18, 1.0000000000000004), (28, 1.0000000000000004), (38, 1.0000000000000004), (7, 0.6604568109054777), (17, 0.6604568109054777), (27, 0.6604568109054777), (37, 0.6604568109054777), (6, 0.5133566649308652), (16, 0.5133566649308652), (26, 0.5133566649308652), (36, 0.5133566649308652), (2, 0.44465820482108287), (12, 0.44465820482108287), (22, 0.44465820482108287), (32, 0.44465820482108287), (5, 0.42212180324927095), (15, 0.42212180324927095), (25, 0.42212180324927095), (35, 0.42212180324927095), (9, 0.41641447074325816), (19, 0.41641447074325816), (29, 0.41641447074325816), (39, 0.41641447074325816), (553, 0.35752719337446426), (559, 0.35752719337446426), (565, 0.35752719337446426), (571, 0.35752719337446426), (577, 0.35752719337446426), (583, 0.35752719337446426), (589, 0.35752719337446426), (595, 0.35752719337446426), (719, 0.34149069868458615), (730, 0.34149069868458615), (741, 0.34149069868458615), (1, 0.32243296907567587), (11, 0.32243296907567587), (21, 0.32243296907567587), (31, 0.32243296907567587), (0, 0.3200422825190449), (10, 0.3200422825190449), (20, 0.3200422825190449), (30, 0.3200422825190449), (50, 0.31367213677065775), (61, 0.31367213677065775), (72, 0.31367213677065775), (83, 0.31367213677065775), (856, 0.3088141642543289), (861, 0.3088141642543289), (866, 0.3088141642543289), (871, 0.3088141642543289), (876, 0.3088141642543289), (881, 0.3088141642543289), (886, 0.3088141642543289), (891, 0.3088141642543289), (552, 0.3036967582399561), (558, 0.3036967582399561), (564, 0.3036967582399561), (570, 0.3036967582399561), (576, 0.3036967582399561), (582, 0.3036967582399561), (588, 0.3036967582399561), (594, 0.3036967582399561), (554, 0.2958365506690275), (560, 0.2958365506690275), (566, 0.2958365506690275), (572, 0.2958365506690275), (578, 0.2958365506690275), (584, 0.2958365506690275), (590, 0.2958365506690275), (596, 0.2958365506690275), (189, 0.26895419893587835), (194, 0.26895419893587835), (199, 0.26895419893587835), (204, 0.26895419893587835), (209, 0.26895419893587835), (214, 0.26895419893587835), (219, 0.26895419893587835), (224, 0.26895419893587835), (854, 0.2675666032714166), (859, 0.2675666032714166), (864, 0.2675666032714166), (869, 0.2675666032714166), (874, 0.2675666032714166), (879, 0.2675666032714166), (884, 0.2675666032714166), (889, 0.2675666032714166), (556, 0.2608353584095581), (562, 0.2608353584095581), (568, 0.2608353584095581), (574, 0.2608353584095581), (580, 0.2608353584095581), (586, 0.2608353584095581), (592, 0.2608353584095581), (598, 0.2608353584095581), (551, 0.26008758326182274), (557, 0.26008758326182274), (563, 0.26008758326182274), (569, 0.26008758326182274), (575, 0.26008758326182274), (581, 0.26008758326182274), (587, 0.26008758326182274), (593, 0.26008758326182274), (269, 0.23630472824840654), (275, 0.23630472824840654), (281, 0.23630472824840654), (287, 0.23630472824840654), (293, 0.23630472824840654), (321, 0.22727975787730187), (335, 0.22727975787730187), (349, 0.22727975787730187), (363, 0.22727975787730187), (377, 0.22727975787730187), (391, 0.22727975787730187), (3, 0.22563687723709397), (13, 0.22563687723709397), (23, 0.22563687723709397), (33, 0.22563687723709397), (788, 0.2157814231855803), (793, 0.2157814231855803), (798, 0.2157814231855803), (803, 0.2157814231855803), (808, 0.2157814231855803), (813, 0.2157814231855803), (818, 0.2157814231855803), (823, 0.2157814231855803), (824, 0.2148899087945798), (831, 0.2148899087945798), (838, 0.2148899087945798), (845, 0.2148899087945798), (897, 0.2104432215000155), (904, 0.2104432215000155), (911, 0.2104432215000155), (918, 0.2104432215000155), (925, 0.2104432215000155), (932, 0.2104432215000155), (939, 0.2104432215000155), (946, 0.2104432215000155), (953, 0.2104432215000155), (960, 0.2104432215000155), (186, 0.20842752916269747), (191, 0.20842752916269747), (196, 0.20842752916269747), (201, 0.20842752916269747), (206, 0.20842752916269747), (211, 0.20842752916269747), (216, 0.20842752916269747), (221, 0.20842752916269747), (459, 0.20652733143894586), (463, 0.20652733143894586), (465, 0.20652733143894586), (467, 0.20652733143894586), (472, 0.20652733143894586), (476, 0.20652733143894586), (478, 0.20652733143894586), (480, 0.20652733143894586), (40, 0.20095075938790397), (51, 0.20095075938790397), (62, 0.20095075938790397), (73, 0.20095075938790397), (4, 0.19945289948875264), (14, 0.19945289948875264), (24, 0.19945289948875264), (34, 0.19945289948875264), (602, 0.19916338415965684), (143, 0.19281611379835809), (148, 0.19281611379835809), (153, 0.19281611379835809), (158, 0.19281611379835809), (163, 0.19281611379835809), (168, 0.19281611379835809), (173, 0.19281611379835809), (178, 0.19281611379835809), (183, 0.19281611379835809), (323, 0.18765322379202642), (337, 0.18765322379202642), (351, 0.18765322379202642), (365, 0.18765322379202642), (379, 0.18765322379202642), (393, 0.18765322379202642), (89, 0.18215740253174376), (99, 0.18215740253174376), (109, 0.1773781612090897), (115, 0.1773781612090897), (121, 0.1773781612090897), (127, 0.1773781612090897), (133, 0.1773781612090897), (139, 0.1773781612090897), (600, 0.1762725975680886), (607, 0.1762725975680886), (610, 0.1762725975680886), (613, 0.1762725975680886), (616, 0.1762725975680886), (619, 0.1762725975680886), (622, 0.1762725975680886), (625, 0.1762725975680886), (628, 0.1762725975680886), (631, 0.1762725975680886), (634, 0.1762725975680886), (637, 0.1762725975680886), (640, 0.1762725975680886), (643, 0.1762725975680886), (646, 0.1762725975680886), (649, 0.1762725975680886), (652, 0.1762725975680886), (265, 0.17572512697683884), (271, 0.17572512697683884), (277, 0.17572512697683884), (283, 0.17572512697683884), (289, 0.17572512697683884), (745, 0.17506678580435556), (752, 0.17506678580435556), (759, 0.17506678580435556), (766, 0.17506678580435556), (773, 0.17506678580435556), (780, 0.17506678580435556), (853, 0.17195144087595082), (858, 0.17195144087595082), (863, 0.17195144087595082), (868, 0.17195144087595082), (873, 0.17195144087595082), (878, 0.17195144087595082), (883, 0.17195144087595082), (888, 0.17195144087595082), (455, 0.17186242218980397), (468, 0.17186242218980397), (457, 0.17146809779355332), (470, 0.17146809779355332), (327, 0.16955076980075812), (341, 0.16955076980075812), (355, 0.16955076980075812), (369, 0.16955076980075812), (383, 0.16955076980075812), (397, 0.16955076980075812), (144, 0.16624182444453542), (149, 0.16624182444453542), (154, 0.16624182444453542), (159, 0.16624182444453542), (164, 0.16624182444453542), (169, 0.16624182444453542), (174, 0.16624182444453542), (179, 0.16624182444453542), (184, 0.16624182444453542), (748, 0.16320191993146604), (755, 0.16320191993146604), (762, 0.16320191993146604), (769, 0.16320191993146604), (776, 0.16320191993146604), (783, 0.16320191993146604), (331, 0.1631503350190576), (345, 0.1631503350190576), (359, 0.1631503350190576), (373, 0.1631503350190576), (387, 0.1631503350190576), (401, 0.1631503350190576), (826, 0.1629959361878469), (833, 0.1629959361878469), (840, 0.1629959361878469), (847, 0.1629959361878469), (270, 0.16270051729595186), (276, 0.16270051729595186), (282, 0.16270051729595186), (288, 0.16270051729595186), (294, 0.16270051729595186), (656, 0.16201031968702434), (661, 0.16201031968702434), (666, 0.16201031968702434), (671, 0.16201031968702434), (676, 0.16201031968702434), (407, 0.16112236378808958), (411, 0.16112236378808958), (415, 0.16112236378808958), (421, 0.16112236378808958), (425, 0.16112236378808958), (429, 0.16112236378808958), (747, 0.15500775974394387), (754, 0.15500775974394387), (761, 0.15500775974394387), (768, 0.15500775974394387), (775, 0.15500775974394387), (782, 0.15500775974394387), (654, 0.15482022668184767), (659, 0.15482022668184767), (664, 0.15482022668184767), (669, 0.15482022668184767), (674, 0.15482022668184767), (786, 0.152429389640114), (791, 0.152429389640114), (796, 0.152429389640114), (801, 0.152429389640114), (806, 0.152429389640114), (811, 0.152429389640114), (816, 0.152429389640114), (821, 0.152429389640114), (431, 0.15242628692808047), (437, 0.15242628692808047), (443, 0.15242628692808047), (449, 0.15242628692808047), (404, 0.1518536849233637), (418, 0.1518536849233637), (746, 0.1515112177661494), (753, 0.1515112177661494), (760, 0.1515112177661494), (767, 0.1515112177661494), (774, 0.1515112177661494), (781, 0.1515112177661494), (825, 0.1513921636586415), (832, 0.1513921636586415), (839, 0.1513921636586415), (846, 0.1513921636586415), (330, 0.151059540428631), (344, 0.151059540428631), (358, 0.151059540428631), (372, 0.151059540428631), (386, 0.151059540428631), (400, 0.151059540428631), (709, 0.14956381925932188), (720, 0.14956381925932188), (731, 0.14956381925932188), (87, 0.14899156737039237), (97, 0.14899156737039237), (84, 0.1482240204923324), (94, 0.1482240204923324), (679, 0.14254665362586647), (682, 0.14254665362586647), (685, 0.14254665362586647), (688, 0.14254665362586647), (691, 0.14254665362586647), (694, 0.14254665362586647), (697, 0.14254665362586647), (700, 0.14254665362586647), (703, 0.14254665362586647), (706, 0.14254665362586647), (300, 0.14096681281912846), (306, 0.14096681281912846), (312, 0.14096681281912846), (318, 0.14096681281912846), (827, 0.13811135058963042), (834, 0.13811135058963042), (841, 0.13811135058963042), (848, 0.13811135058963042), (105, 0.13511364927405234), (111, 0.13511364927405234), (117, 0.13511364927405234), (123, 0.13511364927405234), (129, 0.13511364927405234), (135, 0.13511364927405234), (744, 0.13246610809328302), (751, 0.13246610809328302), (758, 0.13246610809328302), (765, 0.13246610809328302), (772, 0.13246610809328302), (779, 0.13246610809328302), (456, 0.13233985145014926), (469, 0.13233985145014926), (830, 0.13205554555935317), (837, 0.13205554555935317), (844, 0.13205554555935317), (851, 0.13205554555935317), (784, 0.13203620131259847), (789, 0.13203620131259847), (794, 0.13203620131259847), (799, 0.13203620131259847), (804, 0.13203620131259847), (809, 0.13203620131259847), (814, 0.13203620131259847), (819, 0.13203620131259847), (435, 0.13162230085128923), (441, 0.13162230085128923), (447, 0.13162230085128923), (453, 0.13162230085128923), (187, 0.1312933317098282), (192, 0.1312933317098282), (197, 0.1312933317098282), (202, 0.1312933317098282), (207, 0.1312933317098282), (212, 0.1312933317098282), (217, 0.1312933317098282), (222, 0.1312933317098282), (328, 0.12810872893631634), (342, 0.12810872893631634), (356, 0.12810872893631634), (370, 0.12810872893631634), (384, 0.12810872893631634), (398, 0.12810872893631634), (852, 0.12746742204190428), (857, 0.12746742204190428), (862, 0.12746742204190428), (867, 0.12746742204190428), (872, 0.12746742204190428), (877, 0.12746742204190428), (882, 0.12746742204190428), (887, 0.12746742204190428), (717, 0.12553124938758253), (728, 0.12553124938758253), (739, 0.12553124938758253), (829, 0.12494927197757297), (836, 0.12494927197757297), (843, 0.12494927197757297), (850, 0.12494927197757297), (555, 0.12488348809439628), (561, 0.12488348809439628), (567, 0.12488348809439628), (573, 0.12488348809439628), (579, 0.12488348809439628), (585, 0.12488348809439628), (591, 0.12488348809439628), (597, 0.12488348809439628), (47, 0.1247233364025998), (58, 0.1247233364025998), (69, 0.1247233364025998), (80, 0.1247233364025998), (603, 0.12412445243406381), (892, 0.12410655579773777), (899, 0.12410655579773777), (906, 0.12410655579773777), (913, 0.12410655579773777), (920, 0.12410655579773777), (927, 0.12410655579773777), (934, 0.12410655579773777), (941, 0.12410655579773777), (948, 0.12410655579773777), (955, 0.12410655579773777), (90, 0.12381677531146107), (100, 0.12381677531146107), (322, 0.12193553663309793), (336, 0.12193553663309793), (350, 0.12193553663309793), (364, 0.12193553663309793), (378, 0.12193553663309793), (392, 0.12193553663309793), (711, 0.12153532049175703), (722, 0.12153532049175703), (733, 0.12153532049175703), (299, 0.12119247736113023), (305, 0.12119247736113023), (311, 0.12119247736113023), (317, 0.12119247736113023), (188, 0.12006450190990108), (193, 0.12006450190990108), (198, 0.12006450190990108), (203, 0.12006450190990108), (208, 0.12006450190990108), (213, 0.12006450190990108), (218, 0.12006450190990108), (223, 0.12006450190990108), (104, 0.1200324656985315), (110, 0.1200324656985315), (116, 0.1200324656985315), (122, 0.1200324656985315), (128, 0.1200324656985315), (134, 0.1200324656985315), (716, 0.11842842921332894), (727, 0.11842842921332894), (738, 0.11842842921332894), (49, 0.11748352492338968), (60, 0.11748352492338968), (71, 0.11748352492338968), (82, 0.11748352492338968), (710, 0.11687817365602125), (721, 0.11687817365602125), (732, 0.11687817365602125), (406, 0.11687552907460909), (410, 0.11687552907460909), (414, 0.11687552907460909), (420, 0.11687552907460909), (424, 0.11687552907460909), (428, 0.11687552907460909), (141, 0.11685546512506247), (146, 0.11685546512506247), (151, 0.11685546512506247), (156, 0.11685546512506247), (161, 0.11685546512506247), (166, 0.11685546512506247), (171, 0.11685546512506247), (176, 0.11685546512506247), (181, 0.11685546512506247), (787, 0.11565347900349088), (792, 0.11565347900349088), (797, 0.11565347900349088), (802, 0.11565347900349088), (807, 0.11565347900349088), (812, 0.11565347900349088), (817, 0.11565347900349088), (822, 0.11565347900349088), (229, 0.11555536003605622), (234, 0.11555536003605622), (239, 0.11555536003605622), (244, 0.11555536003605622), (249, 0.11555536003605622), (254, 0.11555536003605622), (259, 0.11555536003605622), (264, 0.11555536003605622), (320, 0.11471524110784061), (334, 0.11471524110784061), (348, 0.11471524110784061), (362, 0.11471524110784061), (376, 0.11471524110784061), (390, 0.11471524110784061), (742, 0.11423884820371241), (749, 0.11423884820371241), (756, 0.11423884820371241), (763, 0.11423884820371241), (770, 0.11423884820371241), (777, 0.11423884820371241), (898, 0.11264556262989663), (905, 0.11264556262989663), (912, 0.11264556262989663), (919, 0.11264556262989663), (926, 0.11264556262989663), (933, 0.11264556262989663), (940, 0.11264556262989663), (947, 0.11264556262989663), (954, 0.11264556262989663), (961, 0.11264556262989663), (785, 0.11239964718492089), (790, 0.11239964718492089), (795, 0.11239964718492089), (800, 0.11239964718492089), (805, 0.11239964718492089), (810, 0.11239964718492089), (815, 0.11239964718492089), (820, 0.11239964718492089), (855, 0.11199799084850445), (860, 0.11199799084850445), (865, 0.11199799084850445), (870, 0.11199799084850445), (875, 0.11199799084850445), (880, 0.11199799084850445), (885, 0.11199799084850445), (890, 0.11199799084850445), (458, 0.11159227032128406), (462, 0.11159227032128406), (464, 0.11159227032128406), (466, 0.11159227032128406), (471, 0.11159227032128406), (475, 0.11159227032128406), (477, 0.11159227032128406), (479, 0.11159227032128406), (715, 0.11098430367282539), (726, 0.11098430367282539), (737, 0.11098430367282539), (266, 0.11046156165579563), (272, 0.11046156165579563), (278, 0.11046156165579563), (284, 0.11046156165579563), (290, 0.11046156165579563), (599, 0.10865513280483374), (606, 0.10865513280483374), (609, 0.10865513280483374), (612, 0.10865513280483374), (615, 0.10865513280483374), (618, 0.10865513280483374), (621, 0.10865513280483374), (624, 0.10865513280483374), (627, 0.10865513280483374), (630, 0.10865513280483374), (633, 0.10865513280483374), (636, 0.10865513280483374), (639, 0.10865513280483374), (642, 0.10865513280483374), (645, 0.10865513280483374), (648, 0.10865513280483374), (651, 0.10865513280483374), (329, 0.108299743950827), (343, 0.108299743950827), (357, 0.108299743950827), (371, 0.108299743950827), (385, 0.108299743950827), (399, 0.108299743950827), (92, 0.10638021083346598), (102, 0.10638021083346598), (107, 0.10621865676334745), (113, 0.10621865676334745), (119, 0.10621865676334745), (125, 0.10621865676334745), (131, 0.10621865676334745), (137, 0.10621865676334745), (225, 0.10591230430924373), (230, 0.10591230430924373), (235, 0.10591230430924373), (240, 0.10591230430924373), (245, 0.10591230430924373), (250, 0.10591230430924373), (255, 0.10591230430924373), (260, 0.10591230430924373), (485, 0.10584670766059787), (490, 0.10584670766059787), (495, 0.10584670766059787), (500, 0.10584670766059787), (505, 0.10584670766059787), (510, 0.10584670766059787), (436, 0.10574131362634652), (442, 0.10574131362634652), (448, 0.10574131362634652), (454, 0.10574131362634652), (655, 0.10479658412621509), (660, 0.10479658412621509), (665, 0.10479658412621509), (670, 0.10479658412621509), (675, 0.10479658412621509), (227, 0.10354376267013328), (232, 0.10354376267013328), (237, 0.10354376267013328), (242, 0.10354376267013328), (247, 0.10354376267013328), (252, 0.10354376267013328), (257, 0.10354376267013328), (262, 0.10354376267013328), (601, 0.10353898199619924), (608, 0.10353898199619924), (611, 0.10353898199619924), (614, 0.10353898199619924), (617, 0.10353898199619924), (620, 0.10353898199619924), (623, 0.10353898199619924), (626, 0.10353898199619924), (629, 0.10353898199619924), (632, 0.10353898199619924), (635, 0.10353898199619924), (638, 0.10353898199619924), (641, 0.10353898199619924), (644, 0.10353898199619924), (647, 0.10353898199619924), (650, 0.10353898199619924), (653, 0.10353898199619924), (828, 0.10296396893638954), (835, 0.10296396893638954), (842, 0.10296396893638954), (849, 0.10296396893638954), (605, 0.10284127493670125), (713, 0.10092839570674327), (724, 0.10092839570674327), (735, 0.10092839570674327), (319, 0.10076046454924137), (333, 0.10076046454924137), (347, 0.10076046454924137), (361, 0.10076046454924137), (375, 0.10076046454924137), (389, 0.10076046454924137), (483, 0.09761377577068509), (488, 0.09761377577068509), (493, 0.09761377577068509), (498, 0.09761377577068509), (503, 0.09761377577068509), (508, 0.09761377577068509), (86, 0.09623640707513688), (96, 0.09623640707513688), (405, 0.0954597267317408), (409, 0.0954597267317408), (413, 0.0954597267317408), (419, 0.0954597267317408), (423, 0.0954597267317408), (427, 0.0954597267317408), (46, 0.09508519993441891), (57, 0.09508519993441891), (68, 0.09508519993441891), (79, 0.09508519993441891), (434, 0.09480732956352805), (440, 0.09480732956352805), (446, 0.09480732956352805), (452, 0.09480732956352805), (140, 0.09427187343831663), (142, 0.09427187343831663), (145, 0.09427187343831663), (147, 0.09427187343831663), (150, 0.09427187343831663), (152, 0.09427187343831663), (155, 0.09427187343831663), (157, 0.09427187343831663), (160, 0.09427187343831663), (162, 0.09427187343831663), (165, 0.09427187343831663), (167, 0.09427187343831663), (170, 0.09427187343831663), (172, 0.09427187343831663), (175, 0.09427187343831663), (177, 0.09427187343831663), (180, 0.09427187343831663), (182, 0.09427187343831663), (106, 0.09292428719965896), (112, 0.09292428719965896), (118, 0.09292428719965896), (124, 0.09292428719965896), (130, 0.09292428719965896), (136, 0.09292428719965896), (461, 0.09142859931045902), (474, 0.09142859931045902), (484, 0.09041506316191131), (489, 0.09041506316191131), (494, 0.09041506316191131), (499, 0.09041506316191131), (504, 0.09041506316191131), (509, 0.09041506316191131), (325, 0.08929550258039788), (326, 0.08929550258039788), (339, 0.08929550258039788), (340, 0.08929550258039788), (353, 0.08929550258039788), (354, 0.08929550258039788), (367, 0.08929550258039788), (368, 0.08929550258039788), (381, 0.08929550258039788), (382, 0.08929550258039788), (395, 0.08929550258039788), (396, 0.08929550258039788), (481, 0.08850556548347346), (486, 0.08850556548347346), (491, 0.08850556548347346), (496, 0.08850556548347346), (501, 0.08850556548347346), (506, 0.08850556548347346), (185, 0.08844178999277787), (190, 0.08844178999277787), (195, 0.08844178999277787), (200, 0.08844178999277787), (205, 0.08844178999277787), (210, 0.08844178999277787), (215, 0.08844178999277787), (220, 0.08844178999277787), (511, 0.08835352492555912), (515, 0.08835352492555912), (519, 0.08835352492555912), (523, 0.08835352492555912), (527, 0.08835352492555912), (531, 0.08835352492555912), (535, 0.08835352492555912), (539, 0.08835352492555912), (543, 0.08835352492555912), (547, 0.08835352492555912), (513, 0.08707273032871936), (517, 0.08707273032871936), (521, 0.08707273032871936), (525, 0.08707273032871936), (529, 0.08707273032871936), (533, 0.08707273032871936), (537, 0.08707273032871936), (541, 0.08707273032871936), (545, 0.08707273032871936), (549, 0.08707273032871936), (228, 0.08658398377373258), (233, 0.08658398377373258), (238, 0.08658398377373258), (243, 0.08658398377373258), (248, 0.08658398377373258), (253, 0.08658398377373258), (258, 0.08658398377373258), (263, 0.08658398377373258), (895, 0.08657779583719676), (902, 0.08657779583719676), (909, 0.08657779583719676), (916, 0.08657779583719676), (923, 0.08657779583719676), (930, 0.08657779583719676), (937, 0.08657779583719676), (944, 0.08657779583719676), (951, 0.08657779583719676), (958, 0.08657779583719676), (332, 0.08627321860195328), (346, 0.08627321860195328), (360, 0.08627321860195328), (374, 0.08627321860195328), (388, 0.08627321860195328), (402, 0.08627321860195328), (296, 0.08419829314855296), (302, 0.08419829314855296), (308, 0.08419829314855296), (314, 0.08419829314855296), (512, 0.08377933175443622), (516, 0.08377933175443622), (520, 0.08377933175443622), (524, 0.08377933175443622), (528, 0.08377933175443622), (532, 0.08377933175443622), (536, 0.08377933175443622), (540, 0.08377933175443622), (544, 0.08377933175443622), (548, 0.08377933175443622), (714, 0.0833243172508667), (725, 0.0833243172508667), (736, 0.0833243172508667), (712, 0.08262840924639703), (723, 0.08262840924639703), (734, 0.08262840924639703), (88, 0.08142414998610789), (98, 0.08142414998610789), (460, 0.07943949333831704), (473, 0.07943949333831704), (604, 0.07851370977178729), (324, 0.07723596285298603), (338, 0.07723596285298603), (352, 0.07723596285298603), (366, 0.07723596285298603), (380, 0.07723596285298603), (394, 0.07723596285298603), (680, 0.07498660352182748), (683, 0.07498660352182748), (686, 0.07498660352182748), (689, 0.07498660352182748), (692, 0.07498660352182748), (695, 0.07498660352182748), (698, 0.07498660352182748), (701, 0.07498660352182748), (704, 0.07498660352182748), (707, 0.07498660352182748), (108, 0.07483025364457876), (114, 0.07483025364457876), (120, 0.07483025364457876), (126, 0.07483025364457876), (132, 0.07483025364457876), (138, 0.07483025364457876), (893, 0.07401102013245396), (900, 0.07401102013245396), (907, 0.07401102013245396), (914, 0.07401102013245396), (921, 0.07401102013245396), (928, 0.07401102013245396), (935, 0.07401102013245396), (942, 0.07401102013245396), (949, 0.07401102013245396), (956, 0.07401102013245396), (433, 0.07117779094326471), (439, 0.07117779094326471), (445, 0.07117779094326471), (451, 0.07117779094326471), (48, 0.07094113271200922), (59, 0.07094113271200922), (70, 0.07094113271200922), (81, 0.07094113271200922), (93, 0.06611165811978419), (103, 0.06611165811978419), (681, 0.06574014433004614), (684, 0.06574014433004614), (687, 0.06574014433004614), (690, 0.06574014433004614), (693, 0.06574014433004614), (696, 0.06574014433004614), (699, 0.06574014433004614), (702, 0.06574014433004614), (705, 0.06574014433004614), (708, 0.06574014433004614), (403, 0.0622488127842309), (417, 0.0622488127842309), (41, 0.06212540078134302), (52, 0.06212540078134302), (63, 0.06212540078134302), (74, 0.06212540078134302), (657, 0.06142426520201966), (662, 0.06142426520201966), (667, 0.06142426520201966), (672, 0.06142426520201966), (677, 0.06142426520201966), (894, 0.058203204934585286), (901, 0.058203204934585286), (908, 0.058203204934585286), (915, 0.058203204934585286), (922, 0.058203204934585286), (929, 0.058203204934585286), (936, 0.058203204934585286), (943, 0.058203204934585286), (950, 0.058203204934585286), (957, 0.058203204934585286), (482, 0.05680889343244663), (487, 0.05680889343244663), (492, 0.05680889343244663), (497, 0.05680889343244663), (502, 0.05680889343244663), (507, 0.05680889343244663), (743, 0.054574359211553417), (750, 0.054574359211553417), (757, 0.054574359211553417), (764, 0.054574359211553417), (771, 0.054574359211553417), (778, 0.054574359211553417), (718, 0.053984964938906775), (729, 0.053984964938906775), (740, 0.053984964938906775), (514, 0.05222158866008254), (518, 0.05222158866008254), (522, 0.05222158866008254), (526, 0.05222158866008254), (530, 0.05222158866008254), (534, 0.05222158866008254), (538, 0.05222158866008254), (542, 0.05222158866008254), (546, 0.05222158866008254), (550, 0.05222158866008254), (658, 0.05145030755418715), (663, 0.05145030755418715), (668, 0.05145030755418715), (673, 0.05145030755418715), (678, 0.05145030755418715), (226, 0.04942560491411427), (231, 0.04942560491411427), (236, 0.04942560491411427), (241, 0.04942560491411427), (246, 0.04942560491411427), (251, 0.04942560491411427), (256, 0.04942560491411427), (261, 0.04942560491411427), (896, 0.04894482705737685), (903, 0.04894482705737685), (910, 0.04894482705737685), (917, 0.04894482705737685), (924, 0.04894482705737685), (931, 0.04894482705737685), (938, 0.04894482705737685), (945, 0.04894482705737685), (952, 0.04894482705737685), (959, 0.04894482705737685), (85, 0.047846624280965096), (95, 0.047846624280965096), (297, 0.047571649345547265), (303, 0.047571649345547265), (309, 0.047571649345547265), (315, 0.047571649345547265), (267, 0.04433436769750814), (273, 0.04433436769750814), (279, 0.04433436769750814), (285, 0.04433436769750814), (291, 0.04433436769750814), (45, 0.043896506228200974), (56, 0.043896506228200974), (67, 0.043896506228200974), (78, 0.043896506228200974), (295, 0.04365817820234191), (301, 0.04365817820234191), (307, 0.04365817820234191), (313, 0.04365817820234191), (432, 0.04325578005236665), (438, 0.04325578005236665), (444, 0.04325578005236665), (450, 0.04325578005236665), (91, 0.04306542291617004), (101, 0.04306542291617004), (43, 0.040322361982547114), (44, 0.040322361982547114), (54, 0.040322361982547114), (55, 0.040322361982547114), (65, 0.040322361982547114), (66, 0.040322361982547114), (76, 0.040322361982547114), (77, 0.040322361982547114), (268, 0.040119586596511166), (274, 0.040119586596511166), (280, 0.040119586596511166), (286, 0.040119586596511166), (292, 0.040119586596511166), (408, 0.03789981514034256), (412, 0.03789981514034256), (416, 0.03789981514034256), (422, 0.03789981514034256), (426, 0.03789981514034256), (430, 0.03789981514034256), (42, 0.03718634991466446), (53, 0.03718634991466446), (64, 0.03718634991466446), (75, 0.03718634991466446), (298, 0.026446401692164563), (304, 0.026446401692164563), (310, 0.026446401692164563), (316, 0.026446401692164563)]\n",
      "[(6, 1.0000000000000002), (16, 1.0000000000000002), (26, 1.0000000000000002), (36, 1.0000000000000002), (9, 0.7215885510805311), (19, 0.7215885510805311), (29, 0.7215885510805311), (39, 0.7215885510805311), (8, 0.5133566649308652), (18, 0.5133566649308652), (28, 0.5133566649308652), (38, 0.5133566649308652), (7, 0.5095609115427873), (17, 0.5095609115427873), (27, 0.5095609115427873), (37, 0.5095609115427873), (5, 0.5010227311752404), (15, 0.5010227311752404), (25, 0.5010227311752404), (35, 0.5010227311752404), (719, 0.45575792903718054), (730, 0.45575792903718054), (741, 0.45575792903718054), (2, 0.4414489513429678), (12, 0.4414489513429678), (22, 0.4414489513429678), (32, 0.4414489513429678), (4, 0.40501709221771187), (14, 0.40501709221771187), (24, 0.40501709221771187), (34, 0.40501709221771187), (0, 0.39980916193489746), (10, 0.39980916193489746), (20, 0.39980916193489746), (30, 0.39980916193489746), (1, 0.38882798475661884), (11, 0.38882798475661884), (21, 0.38882798475661884), (31, 0.38882798475661884), (744, 0.31782747209313217), (751, 0.31782747209313217), (758, 0.31782747209313217), (765, 0.31782747209313217), (772, 0.31782747209313217), (779, 0.31782747209313217), (746, 0.31088997476041275), (753, 0.31088997476041275), (760, 0.31088997476041275), (767, 0.31088997476041275), (774, 0.31088997476041275), (781, 0.31088997476041275), (856, 0.31061959946707124), (861, 0.31061959946707124), (866, 0.31061959946707124), (871, 0.31061959946707124), (876, 0.31061959946707124), (881, 0.31061959946707124), (886, 0.31061959946707124), (891, 0.31061959946707124), (745, 0.2934026865390108), (752, 0.2934026865390108), (759, 0.2934026865390108), (766, 0.2934026865390108), (773, 0.2934026865390108), (780, 0.2934026865390108), (748, 0.29304547653604185), (755, 0.29304547653604185), (762, 0.29304547653604185), (769, 0.29304547653604185), (776, 0.29304547653604185), (783, 0.29304547653604185), (3, 0.28870416854788195), (13, 0.28870416854788195), (23, 0.28870416854788195), (33, 0.28870416854788195), (784, 0.2668861317955717), (789, 0.2668861317955717), (794, 0.2668861317955717), (799, 0.2668861317955717), (804, 0.2668861317955717), (809, 0.2668861317955717), (814, 0.2668861317955717), (819, 0.2668861317955717), (554, 0.25089187306254), (560, 0.25089187306254), (566, 0.25089187306254), (572, 0.25089187306254), (578, 0.25089187306254), (584, 0.25089187306254), (590, 0.25089187306254), (596, 0.25089187306254), (824, 0.25055663887241747), (831, 0.25055663887241747), (838, 0.25055663887241747), (845, 0.25055663887241747), (556, 0.24665220090507198), (562, 0.24665220090507198), (568, 0.24665220090507198), (574, 0.24665220090507198), (580, 0.24665220090507198), (586, 0.24665220090507198), (592, 0.24665220090507198), (598, 0.24665220090507198), (553, 0.23829831016195618), (559, 0.23829831016195618), (565, 0.23829831016195618), (571, 0.23829831016195618), (577, 0.23829831016195618), (583, 0.23829831016195618), (589, 0.23829831016195618), (595, 0.23829831016195618), (715, 0.23131810441196332), (726, 0.23131810441196332), (737, 0.23131810441196332), (742, 0.2281466312396957), (749, 0.2281466312396957), (756, 0.2281466312396957), (763, 0.2281466312396957), (770, 0.2281466312396957), (777, 0.2281466312396957), (50, 0.22462985279973952), (61, 0.22462985279973952), (72, 0.22462985279973952), (83, 0.22462985279973952), (600, 0.22048301624899588), (607, 0.22048301624899588), (610, 0.22048301624899588), (613, 0.22048301624899588), (616, 0.22048301624899588), (619, 0.22048301624899588), (622, 0.22048301624899588), (625, 0.22048301624899588), (628, 0.22048301624899588), (631, 0.22048301624899588), (634, 0.22048301624899588), (637, 0.22048301624899588), (640, 0.22048301624899588), (643, 0.22048301624899588), (646, 0.22048301624899588), (649, 0.22048301624899588), (652, 0.22048301624899588), (186, 0.22019234895552953), (191, 0.22019234895552953), (196, 0.22019234895552953), (201, 0.22019234895552953), (206, 0.22019234895552953), (211, 0.22019234895552953), (216, 0.22019234895552953), (221, 0.22019234895552953), (144, 0.21295692389463383), (149, 0.21295692389463383), (154, 0.21295692389463383), (159, 0.21295692389463383), (164, 0.21295692389463383), (169, 0.21295692389463383), (174, 0.21295692389463383), (179, 0.21295692389463383), (184, 0.21295692389463383), (787, 0.21253957955086253), (792, 0.21253957955086253), (797, 0.21253957955086253), (802, 0.21253957955086253), (807, 0.21253957955086253), (812, 0.21253957955086253), (817, 0.21253957955086253), (822, 0.21253957955086253), (189, 0.2020704538733043), (194, 0.2020704538733043), (199, 0.2020704538733043), (204, 0.2020704538733043), (209, 0.2020704538733043), (214, 0.2020704538733043), (219, 0.2020704538733043), (224, 0.2020704538733043), (325, 0.19994822129445006), (326, 0.19994822129445006), (339, 0.19994822129445006), (340, 0.19994822129445006), (353, 0.19994822129445006), (354, 0.19994822129445006), (367, 0.19994822129445006), (368, 0.19994822129445006), (381, 0.19994822129445006), (382, 0.19994822129445006), (395, 0.19994822129445006), (396, 0.19994822129445006), (854, 0.19988946523178897), (859, 0.19988946523178897), (864, 0.19988946523178897), (869, 0.19988946523178897), (874, 0.19988946523178897), (879, 0.19988946523178897), (884, 0.19988946523178897), (889, 0.19988946523178897), (552, 0.1956982469092938), (558, 0.1956982469092938), (564, 0.1956982469092938), (570, 0.1956982469092938), (576, 0.1956982469092938), (582, 0.1956982469092938), (588, 0.1956982469092938), (594, 0.1956982469092938), (747, 0.19227608715901576), (754, 0.19227608715901576), (761, 0.19227608715901576), (768, 0.19227608715901576), (775, 0.19227608715901576), (782, 0.19227608715901576), (404, 0.18928179193377676), (418, 0.18928179193377676), (826, 0.18495056344711042), (833, 0.18495056344711042), (840, 0.18495056344711042), (847, 0.18495056344711042), (785, 0.18434976256460045), (790, 0.18434976256460045), (795, 0.18434976256460045), (800, 0.18434976256460045), (805, 0.18434976256460045), (810, 0.18434976256460045), (815, 0.18434976256460045), (820, 0.18434976256460045), (225, 0.18108190136067798), (230, 0.18108190136067798), (235, 0.18108190136067798), (240, 0.18108190136067798), (245, 0.18108190136067798), (250, 0.18108190136067798), (255, 0.18108190136067798), (260, 0.18108190136067798), (551, 0.18097247812984563), (557, 0.18097247812984563), (563, 0.18097247812984563), (569, 0.18097247812984563), (575, 0.18097247812984563), (581, 0.18097247812984563), (587, 0.18097247812984563), (593, 0.18097247812984563), (229, 0.17968672567321592), (234, 0.17968672567321592), (239, 0.17968672567321592), (244, 0.17968672567321592), (249, 0.17968672567321592), (254, 0.17968672567321592), (259, 0.17968672567321592), (264, 0.17968672567321592), (654, 0.17893949870359055), (659, 0.17893949870359055), (664, 0.17893949870359055), (669, 0.17893949870359055), (674, 0.17893949870359055), (324, 0.176951674792086), (338, 0.176951674792086), (352, 0.176951674792086), (366, 0.176951674792086), (380, 0.176951674792086), (394, 0.176951674792086), (323, 0.17383148325537898), (337, 0.17383148325537898), (351, 0.17383148325537898), (365, 0.17383148325537898), (379, 0.17383148325537898), (393, 0.17383148325537898), (679, 0.17173618674317379), (682, 0.17173618674317379), (685, 0.17173618674317379), (688, 0.17173618674317379), (691, 0.17173618674317379), (694, 0.17173618674317379), (697, 0.17173618674317379), (700, 0.17173618674317379), (703, 0.17173618674317379), (706, 0.17173618674317379), (431, 0.1704390085654327), (437, 0.1704390085654327), (443, 0.1704390085654327), (449, 0.1704390085654327), (87, 0.1590681204765826), (97, 0.1590681204765826), (603, 0.1561699044952873), (269, 0.15185212582420898), (275, 0.15185212582420898), (281, 0.15185212582420898), (287, 0.15185212582420898), (293, 0.15185212582420898), (321, 0.15081099324272723), (335, 0.15081099324272723), (349, 0.15081099324272723), (363, 0.15081099324272723), (377, 0.15081099324272723), (391, 0.15081099324272723), (407, 0.14859615571161783), (411, 0.14859615571161783), (415, 0.14859615571161783), (421, 0.14859615571161783), (425, 0.14859615571161783), (429, 0.14859615571161783), (605, 0.14635938318459119), (432, 0.14540452804976667), (438, 0.14540452804976667), (444, 0.14540452804976667), (450, 0.14540452804976667), (406, 0.14471963411012229), (410, 0.14471963411012229), (414, 0.14471963411012229), (420, 0.14471963411012229), (424, 0.14471963411012229), (428, 0.14471963411012229), (457, 0.14238504812019231), (470, 0.14238504812019231), (405, 0.14009786196852783), (409, 0.14009786196852783), (413, 0.14009786196852783), (419, 0.14009786196852783), (423, 0.14009786196852783), (427, 0.14009786196852783), (681, 0.13886145629440233), (684, 0.13886145629440233), (687, 0.13886145629440233), (690, 0.13886145629440233), (693, 0.13886145629440233), (696, 0.13886145629440233), (699, 0.13886145629440233), (702, 0.13886145629440233), (705, 0.13886145629440233), (708, 0.13886145629440233), (265, 0.1363161190121781), (271, 0.1363161190121781), (277, 0.1363161190121781), (283, 0.1363161190121781), (289, 0.1363161190121781), (322, 0.13513502798500382), (336, 0.13513502798500382), (350, 0.13513502798500382), (364, 0.13513502798500382), (378, 0.13513502798500382), (392, 0.13513502798500382), (788, 0.13452036543697118), (793, 0.13452036543697118), (798, 0.13452036543697118), (803, 0.13452036543697118), (808, 0.13452036543697118), (813, 0.13452036543697118), (818, 0.13452036543697118), (823, 0.13452036543697118), (655, 0.13368619569560358), (660, 0.13368619569560358), (665, 0.13368619569560358), (670, 0.13368619569560358), (675, 0.13368619569560358), (332, 0.12786112642047792), (346, 0.12786112642047792), (360, 0.12786112642047792), (374, 0.12786112642047792), (388, 0.12786112642047792), (402, 0.12786112642047792), (512, 0.12629336547708334), (516, 0.12629336547708334), (520, 0.12629336547708334), (524, 0.12629336547708334), (528, 0.12629336547708334), (532, 0.12629336547708334), (536, 0.12629336547708334), (540, 0.12629336547708334), (544, 0.12629336547708334), (548, 0.12629336547708334), (786, 0.12627694511895893), (791, 0.12627694511895893), (796, 0.12627694511895893), (801, 0.12627694511895893), (806, 0.12627694511895893), (811, 0.12627694511895893), (816, 0.12627694511895893), (821, 0.12627694511895893), (897, 0.12533218390634446), (904, 0.12533218390634446), (911, 0.12533218390634446), (918, 0.12533218390634446), (925, 0.12533218390634446), (932, 0.12533218390634446), (939, 0.12533218390634446), (946, 0.12533218390634446), (953, 0.12533218390634446), (960, 0.12533218390634446), (328, 0.12455017132143026), (342, 0.12455017132143026), (356, 0.12455017132143026), (370, 0.12455017132143026), (384, 0.12455017132143026), (398, 0.12455017132143026), (86, 0.12389918634567046), (96, 0.12389918634567046), (461, 0.12367628765141536), (474, 0.12367628765141536), (436, 0.12191277295037001), (442, 0.12191277295037001), (448, 0.12191277295037001), (454, 0.12191277295037001), (717, 0.12168800113057598), (728, 0.12168800113057598), (739, 0.12168800113057598), (327, 0.12008652476009771), (341, 0.12008652476009771), (355, 0.12008652476009771), (369, 0.12008652476009771), (383, 0.12008652476009771), (397, 0.12008652476009771), (109, 0.11997879137621378), (115, 0.11997879137621378), (121, 0.11997879137621378), (127, 0.11997879137621378), (133, 0.11997879137621378), (139, 0.11997879137621378), (459, 0.11837238096901564), (463, 0.11837238096901564), (465, 0.11837238096901564), (467, 0.11837238096901564), (472, 0.11837238096901564), (476, 0.11837238096901564), (478, 0.11837238096901564), (480, 0.11837238096901564), (712, 0.11836814329279378), (723, 0.11836814329279378), (734, 0.11836814329279378), (434, 0.11811268569970929), (440, 0.11811268569970929), (446, 0.11811268569970929), (452, 0.11811268569970929), (825, 0.1178436996946492), (832, 0.1178436996946492), (839, 0.1178436996946492), (846, 0.1178436996946492), (680, 0.11736115715637536), (683, 0.11736115715637536), (686, 0.11736115715637536), (689, 0.11736115715637536), (692, 0.11736115715637536), (695, 0.11736115715637536), (698, 0.11736115715637536), (701, 0.11736115715637536), (704, 0.11736115715637536), (707, 0.11736115715637536), (602, 0.11669620732221186), (555, 0.11655585386002862), (561, 0.11655585386002862), (567, 0.11655585386002862), (573, 0.11655585386002862), (579, 0.11655585386002862), (585, 0.11655585386002862), (591, 0.11655585386002862), (597, 0.11655585386002862), (830, 0.11594049069492549), (837, 0.11594049069492549), (844, 0.11594049069492549), (851, 0.11594049069492549), (656, 0.11588259022933617), (661, 0.11588259022933617), (666, 0.11588259022933617), (671, 0.11588259022933617), (676, 0.11588259022933617), (893, 0.11535471135653153), (900, 0.11535471135653153), (907, 0.11535471135653153), (914, 0.11535471135653153), (921, 0.11535471135653153), (928, 0.11535471135653153), (935, 0.11535471135653153), (942, 0.11535471135653153), (949, 0.11535471135653153), (956, 0.11535471135653153), (228, 0.11395004371761594), (233, 0.11395004371761594), (238, 0.11395004371761594), (243, 0.11395004371761594), (248, 0.11395004371761594), (253, 0.11395004371761594), (258, 0.11395004371761594), (263, 0.11395004371761594), (714, 0.1110620535345368), (725, 0.1110620535345368), (736, 0.1110620535345368), (270, 0.11090128901661896), (276, 0.11090128901661896), (282, 0.11090128901661896), (288, 0.11090128901661896), (294, 0.11090128901661896), (852, 0.10993329328235733), (857, 0.10993329328235733), (862, 0.10993329328235733), (867, 0.10993329328235733), (872, 0.10993329328235733), (877, 0.10993329328235733), (882, 0.10993329328235733), (887, 0.10993329328235733), (455, 0.10919047376778576), (468, 0.10919047376778576), (330, 0.10865807790641882), (344, 0.10865807790641882), (358, 0.10865807790641882), (372, 0.10865807790641882), (386, 0.10865807790641882), (400, 0.10865807790641882), (47, 0.10856986722972128), (58, 0.10856986722972128), (69, 0.10856986722972128), (80, 0.10856986722972128), (743, 0.10850168517925565), (750, 0.10850168517925565), (757, 0.10850168517925565), (764, 0.10850168517925565), (771, 0.10850168517925565), (778, 0.10850168517925565), (511, 0.10735885680477397), (515, 0.10735885680477397), (519, 0.10735885680477397), (523, 0.10735885680477397), (527, 0.10735885680477397), (531, 0.10735885680477397), (535, 0.10735885680477397), (539, 0.10735885680477397), (543, 0.10735885680477397), (547, 0.10735885680477397), (853, 0.10650165748498597), (858, 0.10650165748498597), (863, 0.10650165748498597), (868, 0.10650165748498597), (873, 0.10650165748498597), (878, 0.10650165748498597), (883, 0.10650165748498597), (888, 0.10650165748498597), (433, 0.10438543230258494), (439, 0.10438543230258494), (445, 0.10438543230258494), (451, 0.10438543230258494), (185, 0.09964433758223369), (190, 0.09964433758223369), (195, 0.09964433758223369), (200, 0.09964433758223369), (205, 0.09964433758223369), (210, 0.09964433758223369), (215, 0.09964433758223369), (220, 0.09964433758223369), (49, 0.09871120164294045), (60, 0.09871120164294045), (71, 0.09871120164294045), (82, 0.09871120164294045), (40, 0.09864385590286776), (51, 0.09864385590286776), (62, 0.09864385590286776), (73, 0.09864385590286776), (435, 0.0986049729528889), (441, 0.0986049729528889), (447, 0.0986049729528889), (453, 0.0986049729528889), (829, 0.09851942624351015), (836, 0.09851942624351015), (843, 0.09851942624351015), (850, 0.09851942624351015), (88, 0.09845072120648485), (98, 0.09845072120648485), (104, 0.09597927504309155), (110, 0.09597927504309155), (116, 0.09597927504309155), (122, 0.09597927504309155), (128, 0.09597927504309155), (134, 0.09597927504309155), (898, 0.09518933692496691), (905, 0.09518933692496691), (912, 0.09518933692496691), (919, 0.09518933692496691), (926, 0.09518933692496691), (933, 0.09518933692496691), (940, 0.09518933692496691), (947, 0.09518933692496691), (954, 0.09518933692496691), (961, 0.09518933692496691), (482, 0.09499753336072071), (487, 0.09499753336072071), (492, 0.09499753336072071), (497, 0.09499753336072071), (502, 0.09499753336072071), (507, 0.09499753336072071), (485, 0.09421782871517295), (490, 0.09421782871517295), (495, 0.09421782871517295), (500, 0.09421782871517295), (505, 0.09421782871517295), (510, 0.09421782871517295), (140, 0.0936838333256502), (142, 0.0936838333256502), (145, 0.0936838333256502), (147, 0.0936838333256502), (150, 0.0936838333256502), (152, 0.0936838333256502), (155, 0.0936838333256502), (157, 0.0936838333256502), (160, 0.0936838333256502), (162, 0.0936838333256502), (165, 0.0936838333256502), (167, 0.0936838333256502), (170, 0.0936838333256502), (172, 0.0936838333256502), (175, 0.0936838333256502), (177, 0.0936838333256502), (180, 0.0936838333256502), (182, 0.0936838333256502), (513, 0.09138793999337465), (517, 0.09138793999337465), (521, 0.09138793999337465), (525, 0.09138793999337465), (529, 0.09138793999337465), (533, 0.09138793999337465), (537, 0.09138793999337465), (541, 0.09138793999337465), (545, 0.09138793999337465), (549, 0.09138793999337465), (299, 0.09074106674598786), (305, 0.09074106674598786), (311, 0.09074106674598786), (317, 0.09074106674598786), (601, 0.09057889518634799), (608, 0.09057889518634799), (611, 0.09057889518634799), (614, 0.09057889518634799), (617, 0.09057889518634799), (620, 0.09057889518634799), (623, 0.09057889518634799), (626, 0.09057889518634799), (629, 0.09057889518634799), (632, 0.09057889518634799), (635, 0.09057889518634799), (638, 0.09057889518634799), (641, 0.09057889518634799), (644, 0.09057889518634799), (647, 0.09057889518634799), (650, 0.09057889518634799), (653, 0.09057889518634799), (297, 0.09028202686860248), (303, 0.09028202686860248), (309, 0.09028202686860248), (315, 0.09028202686860248), (320, 0.08932239587565674), (334, 0.08932239587565674), (348, 0.08932239587565674), (362, 0.08932239587565674), (376, 0.08932239587565674), (390, 0.08932239587565674), (298, 0.08929036796777079), (304, 0.08929036796777079), (310, 0.08929036796777079), (316, 0.08929036796777079), (227, 0.08896823097776649), (232, 0.08896823097776649), (237, 0.08896823097776649), (242, 0.08896823097776649), (247, 0.08896823097776649), (252, 0.08896823097776649), (257, 0.08896823097776649), (262, 0.08896823097776649), (408, 0.08774702208016488), (412, 0.08774702208016488), (416, 0.08774702208016488), (422, 0.08774702208016488), (426, 0.08774702208016488), (430, 0.08774702208016488), (43, 0.08675716250609353), (44, 0.08675716250609353), (54, 0.08675716250609353), (55, 0.08675716250609353), (65, 0.08675716250609353), (66, 0.08675716250609353), (76, 0.08675716250609353), (77, 0.08675716250609353), (85, 0.08629532757252312), (95, 0.08629532757252312), (226, 0.08601539894303536), (231, 0.08601539894303536), (236, 0.08601539894303536), (241, 0.08601539894303536), (246, 0.08601539894303536), (251, 0.08601539894303536), (256, 0.08601539894303536), (261, 0.08601539894303536), (718, 0.08587124609836161), (729, 0.08587124609836161), (740, 0.08587124609836161), (604, 0.08505440821327628), (458, 0.084095421017195), (462, 0.084095421017195), (464, 0.084095421017195), (466, 0.084095421017195), (471, 0.084095421017195), (475, 0.084095421017195), (477, 0.084095421017195), (479, 0.084095421017195), (481, 0.0839036911455188), (486, 0.0839036911455188), (491, 0.0839036911455188), (496, 0.0839036911455188), (501, 0.0839036911455188), (506, 0.0839036911455188), (716, 0.08309868184378502), (727, 0.08309868184378502), (738, 0.08309868184378502), (484, 0.08301701114924395), (489, 0.08301701114924395), (494, 0.08301701114924395), (499, 0.08301701114924395), (504, 0.08301701114924395), (509, 0.08301701114924395), (709, 0.08163774831822065), (720, 0.08163774831822065), (731, 0.08163774831822065), (107, 0.07900913985147777), (113, 0.07900913985147777), (119, 0.07900913985147777), (125, 0.07900913985147777), (131, 0.07900913985147777), (137, 0.07900913985147777), (599, 0.0776709475898795), (606, 0.0776709475898795), (609, 0.0776709475898795), (612, 0.0776709475898795), (615, 0.0776709475898795), (618, 0.0776709475898795), (621, 0.0776709475898795), (624, 0.0776709475898795), (627, 0.0776709475898795), (630, 0.0776709475898795), (633, 0.0776709475898795), (636, 0.0776709475898795), (639, 0.0776709475898795), (642, 0.0776709475898795), (645, 0.0776709475898795), (648, 0.0776709475898795), (651, 0.0776709475898795), (828, 0.07600824173254819), (835, 0.07600824173254819), (842, 0.07600824173254819), (849, 0.07600824173254819), (141, 0.07587184298058648), (146, 0.07587184298058648), (151, 0.07587184298058648), (156, 0.07587184298058648), (161, 0.07587184298058648), (166, 0.07587184298058648), (171, 0.07587184298058648), (176, 0.07587184298058648), (181, 0.07587184298058648), (106, 0.07393470854292893), (112, 0.07393470854292893), (118, 0.07393470854292893), (124, 0.07393470854292893), (130, 0.07393470854292893), (136, 0.07393470854292893), (460, 0.07303689598327384), (473, 0.07303689598327384), (711, 0.0727535861502199), (722, 0.0727535861502199), (733, 0.0727535861502199), (483, 0.0718121271496838), (488, 0.0718121271496838), (493, 0.0718121271496838), (498, 0.0718121271496838), (503, 0.0718121271496838), (508, 0.0718121271496838), (894, 0.07141682871768962), (901, 0.07141682871768962), (908, 0.07141682871768962), (915, 0.07141682871768962), (922, 0.07141682871768962), (929, 0.07141682871768962), (936, 0.07141682871768962), (943, 0.07141682871768962), (950, 0.07141682871768962), (957, 0.07141682871768962), (710, 0.07067358748994104), (721, 0.07067358748994104), (732, 0.07067358748994104), (403, 0.07003422661930031), (417, 0.07003422661930031), (713, 0.06857215112838916), (724, 0.06857215112838916), (735, 0.06857215112838916), (827, 0.06419277540052278), (834, 0.06419277540052278), (841, 0.06419277540052278), (848, 0.06419277540052278), (855, 0.06411583203095866), (860, 0.06411583203095866), (865, 0.06411583203095866), (870, 0.06411583203095866), (875, 0.06411583203095866), (880, 0.06411583203095866), (885, 0.06411583203095866), (890, 0.06411583203095866), (45, 0.061351233650025774), (56, 0.061351233650025774), (67, 0.061351233650025774), (78, 0.061351233650025774), (187, 0.060842147599590224), (192, 0.060842147599590224), (197, 0.060842147599590224), (202, 0.060842147599590224), (207, 0.060842147599590224), (212, 0.060842147599590224), (217, 0.060842147599590224), (222, 0.060842147599590224), (300, 0.060700065497432024), (306, 0.060700065497432024), (312, 0.060700065497432024), (318, 0.060700065497432024), (456, 0.060612406110059976), (469, 0.060612406110059976), (143, 0.05984027671971921), (148, 0.05984027671971921), (153, 0.05984027671971921), (158, 0.05984027671971921), (163, 0.05984027671971921), (168, 0.05984027671971921), (173, 0.05984027671971921), (178, 0.05984027671971921), (183, 0.05984027671971921), (895, 0.059578887674501854), (902, 0.059578887674501854), (909, 0.059578887674501854), (916, 0.059578887674501854), (923, 0.059578887674501854), (930, 0.059578887674501854), (937, 0.059578887674501854), (944, 0.059578887674501854), (951, 0.059578887674501854), (958, 0.059578887674501854), (188, 0.05491775215241744), (193, 0.05491775215241744), (198, 0.05491775215241744), (203, 0.05491775215241744), (208, 0.05491775215241744), (213, 0.05491775215241744), (218, 0.05491775215241744), (223, 0.05491775215241744), (319, 0.05435328055659917), (333, 0.05435328055659917), (347, 0.05435328055659917), (361, 0.05435328055659917), (375, 0.05435328055659917), (389, 0.05435328055659917), (331, 0.05377359874677662), (345, 0.05377359874677662), (359, 0.05377359874677662), (373, 0.05377359874677662), (387, 0.05377359874677662), (401, 0.05377359874677662), (46, 0.05292133341113295), (57, 0.05292133341113295), (68, 0.05292133341113295), (79, 0.05292133341113295), (514, 0.05234657104789195), (518, 0.05234657104789195), (522, 0.05234657104789195), (526, 0.05234657104789195), (530, 0.05234657104789195), (534, 0.05234657104789195), (538, 0.05234657104789195), (542, 0.05234657104789195), (546, 0.05234657104789195), (550, 0.05234657104789195), (268, 0.05148863138211293), (274, 0.05148863138211293), (280, 0.05148863138211293), (286, 0.05148863138211293), (292, 0.05148863138211293), (105, 0.051362498231337206), (111, 0.051362498231337206), (117, 0.051362498231337206), (123, 0.051362498231337206), (129, 0.051362498231337206), (135, 0.051362498231337206), (296, 0.05101946546206033), (302, 0.05101946546206033), (308, 0.05101946546206033), (314, 0.05101946546206033), (91, 0.050511120944484164), (101, 0.050511120944484164), (295, 0.05038549705594129), (301, 0.05038549705594129), (307, 0.05038549705594129), (313, 0.05038549705594129), (42, 0.04787542093082413), (53, 0.04787542093082413), (64, 0.04787542093082413), (75, 0.04787542093082413), (92, 0.04768453950523431), (102, 0.04768453950523431), (657, 0.04618970537139447), (662, 0.04618970537139447), (667, 0.04618970537139447), (672, 0.04618970537139447), (677, 0.04618970537139447), (41, 0.04312776128750226), (52, 0.04312776128750226), (63, 0.04312776128750226), (74, 0.04312776128750226), (90, 0.042123249554621885), (100, 0.042123249554621885), (84, 0.03746693701266591), (94, 0.03746693701266591), (329, 0.03605915362764055), (343, 0.03605915362764055), (357, 0.03605915362764055), (371, 0.03605915362764055), (385, 0.03605915362764055), (399, 0.03605915362764055), (89, 0.0355013476518106), (99, 0.0355013476518106), (892, 0.03383621150125246), (899, 0.03383621150125246), (906, 0.03383621150125246), (913, 0.03383621150125246), (920, 0.03383621150125246), (927, 0.03383621150125246), (934, 0.03383621150125246), (941, 0.03383621150125246), (948, 0.03383621150125246), (955, 0.03383621150125246), (93, 0.03255248596279459), (103, 0.03255248596279459), (267, 0.0278752056111422), (273, 0.0278752056111422), (279, 0.0278752056111422), (285, 0.0278752056111422), (291, 0.0278752056111422), (266, 0.02675061273454555), (272, 0.02675061273454555), (278, 0.02675061273454555), (284, 0.02675061273454555), (290, 0.02675061273454555), (658, 0.024722834909588348), (663, 0.024722834909588348), (668, 0.024722834909588348), (673, 0.024722834909588348), (678, 0.024722834909588348), (48, 0.022626523981177146), (59, 0.022626523981177146), (70, 0.022626523981177146), (81, 0.022626523981177146), (108, 0.022549774399152966), (114, 0.022549774399152966), (120, 0.022549774399152966), (126, 0.022549774399152966), (132, 0.022549774399152966), (138, 0.022549774399152966), (896, 0.016913184873449172), (903, 0.016913184873449172), (910, 0.016913184873449172), (917, 0.016913184873449172), (924, 0.016913184873449172), (931, 0.016913184873449172), (938, 0.016913184873449172), (945, 0.016913184873449172), (952, 0.016913184873449172), (959, 0.016913184873449172)]\n"
     ]
    }
   ],
   "source": [
    "# 2.------------------------------- \n",
    "print(similarity[0])\n",
    "print(similarity[38]) \n",
    "print(similarity[26]) \n",
    "# 3.------------------------------- \n",
    "print(\"-------------------------------------------------------------------------------------------------------------------------------------\")\n",
    "print(list(enumerate(similarity[0]))) \n",
    "print(list(enumerate(similarity[38]))) \n",
    "print(list(enumerate(similarity[26]))) \n",
    "print(\"-------------------------------------------------------------------------------------------------------------------------------------\")\n",
    "print(sorted(list(enumerate(similarity[0])),reverse = True, key=lambda x:x[1])) \n",
    "print(sorted(list(enumerate(similarity[38])),reverse = True, key=lambda x:x[1])) \n",
    "print(sorted(list(enumerate(similarity[26])),reverse = True, key=lambda x:x[1])) "
   ]
  },
  {
   "cell_type": "markdown",
   "id": "02452d61",
   "metadata": {},
   "source": [
    "- Final Custom function"
   ]
  },
  {
   "cell_type": "code",
   "execution_count": 99,
   "id": "7895cd45",
   "metadata": {},
   "outputs": [],
   "source": [
    "def recommend(category):\n",
    "    #Based on given predicted job category id getting the index of that job category in my dataset \n",
    "    index = df2[df2['Encoded_Category'] == category].index[0] \n",
    "\n",
    "    #Based on the fetched index getting the similarity score list of that job\n",
    "    distances = sorted(list(enumerate(similarity[index])), reverse=True, key=lambda x: x[1]) \n",
    "    # print(distances) # For testing purpose\n",
    "    \n",
    "    unique_set = set([])\n",
    "    similarity_score = []\n",
    "    \n",
    "    for i in distances[0:100]: \n",
    "        if len(unique_set) < 5:\n",
    "            job = df2.iloc[i[0]].Category\n",
    "            score = \"{:.2f}\".format(i[1])\n",
    "            if job not in unique_set and score != \"1.00\":\n",
    "                unique_set.add(job)\n",
    "                similarity_score.append(i[1])\n",
    "                print(f\"{job}, {score}\") # Print each unique value and its corresponding similarity score\n",
    "        else:\n",
    "            break"
   ]
  },
  {
   "cell_type": "code",
   "execution_count": 100,
   "id": "7c51ee9e",
   "metadata": {},
   "outputs": [
    {
     "name": "stdout",
     "output_type": "stream",
     "text": [
      "Advocate\n",
      "Civil Engineer, 0.42\n",
      "Advocate, 0.33\n",
      "Health and fitness, 0.28\n",
      "Business Analyst, 0.19\n",
      "Database, 0.17\n"
     ]
    }
   ],
   "source": [
    "print(category_mapping.get(0))\n",
    "recommend(0)"
   ]
  },
  {
   "cell_type": "code",
   "execution_count": 101,
   "id": "ddbc9d78",
   "metadata": {},
   "outputs": [
    {
     "name": "stdout",
     "output_type": "stream",
     "text": [
      "Mechanical Engineer\n",
      "Operations Manager, 0.36\n",
      "DevOps Engineer, 0.34\n",
      "Business Analyst, 0.33\n",
      "Electrical Engineering, 0.30\n",
      "Civil Engineer, 0.29\n"
     ]
    }
   ],
   "source": [
    "print(category_mapping.get(16))\n",
    "recommend(16)"
   ]
  },
  {
   "cell_type": "code",
   "execution_count": 102,
   "id": "280ca711",
   "metadata": {},
   "outputs": [
    {
     "name": "stdout",
     "output_type": "stream",
     "text": [
      "Mechanical Engineer\n",
      "Operations Manager, 0.36\n",
      "DevOps Engineer, 0.34\n",
      "Business Analyst, 0.33\n",
      "Electrical Engineering, 0.30\n",
      "Civil Engineer, 0.29\n"
     ]
    }
   ],
   "source": [
    "print(category_mapping.get(16))\n",
    "recommend(16)"
   ]
  },
  {
   "cell_type": "code",
   "execution_count": null,
   "id": "a1f0b169",
   "metadata": {},
   "outputs": [],
   "source": []
  }
 ],
 "metadata": {
  "kernelspec": {
   "display_name": "Python 3",
   "language": "python",
   "name": "python3"
  },
  "language_info": {
   "codemirror_mode": {
    "name": "ipython",
    "version": 3
   },
   "file_extension": ".py",
   "mimetype": "text/x-python",
   "name": "python",
   "nbconvert_exporter": "python",
   "pygments_lexer": "ipython3",
   "version": "3.11.9"
  }
 },
 "nbformat": 4,
 "nbformat_minor": 5
}
